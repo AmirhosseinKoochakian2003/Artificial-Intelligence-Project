{
 "cells": [
  {
   "cell_type": "markdown",
   "metadata": {
    "id": "IcCtmUUGjBgC"
   },
   "source": [
    "# AI Project - Phase 2 (Destination Suggestion)\n",
    "<div style=\"text-align: center\">\n",
    "<h1 style = \"color: red\"> Sharif University Of Technology</h1>\n",
    "<h2 style = \"color: green\"> DR. Mahdieh Soleymani | DR. MohammadHossein Rohban </h2>\n",
    "<h3 style = \"color: cyan\"> Head of Project: AmirHossein Razlighi <h3>\n",
    "<h3 style = \"color: cyan\"> Designed By: AmirHossein Razlighi, Javad Hezareh, Payam Taebi, Alireza Sakhaei, Ali Banayeean, Yalda Shabanzadeh, Hamidreza Yaghoubi, Alireza Heidari <h3>\n",
    "<h4 style = \"color: white\"> Ask your questions via quera</h4>\n",
    "<h5> Save your file with format: STUDENT NUMBER_Phase2.ipynb or .zip </h5>\n",
    "</div>"
   ]
  },
  {
   "cell_type": "markdown",
   "metadata": {
    "id": "ZvOWC9_njBgD"
   },
   "source": [
    "## Overview"
   ]
  },
  {
   "cell_type": "markdown",
   "metadata": {
    "id": "IsQ2uxfIjBgE"
   },
   "source": [
    "<div style=\"text-align: center\">\n",
    "<img src=\"./Images/Uber_research.jpg\" width=\"100%\" height=\"auto\" />\n",
    "</div>"
   ]
  },
  {
   "cell_type": "markdown",
   "metadata": {
    "id": "C7_-XfdwjBgE"
   },
   "source": [
    "Suppose you are a research engineer at Uber and you are asked to design a system that suggests destinations to the passengers. The system should be able to suggest destinations based on the passenger's history. For example, one passenger may save a variety of locations (like home, work, gym, etc.). This passenger may go to gym, often on weekends and when he/she requests a car from Home.\n",
    "\n",
    "So, for example, if I am a student, going to university usually from Saturday to Wednesday on 8:00 from \"home\", the next time I request a car from \"home\" on 8:00, the system should suggest \"university\" as the destination. Now, it's not that simple always, so we should seek for smart ways to solve this problem!\n",
    "\n",
    "As you may understood by now, we should engineer some of features from the data we have and try to predict the next destination of the passenger.\n",
    "\n",
    "Let's begin!"
   ]
  },
  {
   "cell_type": "markdown",
   "metadata": {
    "id": "Ag8iI1rrjBgE"
   },
   "source": [
    "## Setup"
   ]
  },
  {
   "cell_type": "code",
   "execution_count": null,
   "metadata": {
    "id": "gaYTUgeNjBgE"
   },
   "outputs": [],
   "source": [
    "import random\n",
    "import json\n",
    "import pandas as pd\n",
    "import numpy as np\n",
    "import matplotlib.pyplot as plt\n",
    "import torch\n",
    "import torch.nn as nn\n",
    "\n",
    "random.seed(2024)\n",
    "np.random.seed(2024)"
   ]
  },
  {
   "cell_type": "code",
   "execution_count": null,
   "metadata": {
    "colab": {
     "base_uri": "https://localhost:8080/"
    },
    "id": "7Ys-8aZojO5m",
    "outputId": "71553ebd-974e-4514-fcc2-2f21d85933f8"
   },
   "outputs": [
    {
     "name": "stdout",
     "output_type": "stream",
     "text": [
      "Mounted at /content/drive/\n"
     ]
    }
   ],
   "source": [
    "from google.colab import drive\n",
    "drive.mount('/content/drive/', force_remount=True)\n",
    "import os"
   ]
  },
  {
   "cell_type": "code",
   "execution_count": null,
   "metadata": {
    "colab": {
     "base_uri": "https://localhost:8080/"
    },
    "id": "B56uFv_9jaKI",
    "outputId": "0b0d50ce-f8c8-410c-a7c3-d3329f2c1cc0"
   },
   "outputs": [
    {
     "name": "stdout",
     "output_type": "stream",
     "text": [
      "/content/drive/MyDrive/AI_ph2\n"
     ]
    }
   ],
   "source": [
    "%cd /content/drive/MyDrive/AI_ph2"
   ]
  },
  {
   "cell_type": "markdown",
   "metadata": {
    "id": "lr84nCFDjBgF"
   },
   "source": [
    "# First Approach: Using KNN"
   ]
  },
  {
   "cell_type": "markdown",
   "metadata": {
    "id": "dLUIy3OfjBgF"
   },
   "source": [
    "## Data Preparation for KNN"
   ]
  },
  {
   "cell_type": "markdown",
   "metadata": {
    "id": "3hXWEgPrjBgF"
   },
   "source": [
    "In this part, you should prepare the data for KNN. You should load the dataset file that we provided, named `Data/output.json` and then clean it, do all the required preprocessings and then split into train-test-val sets if necessary. Note that we provided a splitted test set for you, named `Data/output_test.json`. You should not use this file for training or validation. You should only use it for testing your model."
   ]
  },
  {
   "cell_type": "code",
   "execution_count": null,
   "metadata": {
    "colab": {
     "base_uri": "https://localhost:8080/",
     "height": 423
    },
    "id": "2wODq4ipjBgF",
    "outputId": "bec0ac60-e217-43c1-c7ed-54f1b6ea0e70"
   },
   "outputs": [
    {
     "data": {
      "text/html": [
       "\n",
       "  <div id=\"df-17474682-22ef-45ed-ad6e-9c61ad429d15\" class=\"colab-df-container\">\n",
       "    <div>\n",
       "<style scoped>\n",
       "    .dataframe tbody tr th:only-of-type {\n",
       "        vertical-align: middle;\n",
       "    }\n",
       "\n",
       "    .dataframe tbody tr th {\n",
       "        vertical-align: top;\n",
       "    }\n",
       "\n",
       "    .dataframe thead th {\n",
       "        text-align: right;\n",
       "    }\n",
       "</style>\n",
       "<table border=\"1\" class=\"dataframe\">\n",
       "  <thead>\n",
       "    <tr style=\"text-align: right;\">\n",
       "      <th></th>\n",
       "      <th>user_id</th>\n",
       "      <th>Day</th>\n",
       "      <th>origin lat</th>\n",
       "      <th>origin lon</th>\n",
       "      <th>dest lat</th>\n",
       "      <th>dest lon</th>\n",
       "      <th>start_time</th>\n",
       "      <th>end_time</th>\n",
       "      <th>price</th>\n",
       "    </tr>\n",
       "  </thead>\n",
       "  <tbody>\n",
       "    <tr>\n",
       "      <th>0</th>\n",
       "      <td>0</td>\n",
       "      <td>0</td>\n",
       "      <td>35.625</td>\n",
       "      <td>51.375</td>\n",
       "      <td>36.000</td>\n",
       "      <td>51.085</td>\n",
       "      <td>2024-01-30 13:07:00</td>\n",
       "      <td>2024-01-30 14:43:00</td>\n",
       "      <td>43.99</td>\n",
       "    </tr>\n",
       "    <tr>\n",
       "      <th>1</th>\n",
       "      <td>0</td>\n",
       "      <td>0</td>\n",
       "      <td>36.000</td>\n",
       "      <td>51.085</td>\n",
       "      <td>35.625</td>\n",
       "      <td>51.375</td>\n",
       "      <td>2024-01-30 15:13:00</td>\n",
       "      <td>2024-01-30 16:49:00</td>\n",
       "      <td>36.66</td>\n",
       "    </tr>\n",
       "    <tr>\n",
       "      <th>2</th>\n",
       "      <td>0</td>\n",
       "      <td>0</td>\n",
       "      <td>35.680</td>\n",
       "      <td>51.445</td>\n",
       "      <td>35.745</td>\n",
       "      <td>51.465</td>\n",
       "      <td>2024-01-30 20:41:00</td>\n",
       "      <td>2024-01-30 20:54:00</td>\n",
       "      <td>15.08</td>\n",
       "    </tr>\n",
       "    <tr>\n",
       "      <th>3</th>\n",
       "      <td>0</td>\n",
       "      <td>0</td>\n",
       "      <td>35.745</td>\n",
       "      <td>51.465</td>\n",
       "      <td>35.680</td>\n",
       "      <td>51.445</td>\n",
       "      <td>2024-01-30 21:24:00</td>\n",
       "      <td>2024-01-30 21:37:00</td>\n",
       "      <td>10.00</td>\n",
       "    </tr>\n",
       "    <tr>\n",
       "      <th>4</th>\n",
       "      <td>0</td>\n",
       "      <td>1</td>\n",
       "      <td>35.625</td>\n",
       "      <td>51.375</td>\n",
       "      <td>35.680</td>\n",
       "      <td>51.445</td>\n",
       "      <td>2024-01-30 23:38:00</td>\n",
       "      <td>2024-01-30 23:58:00</td>\n",
       "      <td>19.48</td>\n",
       "    </tr>\n",
       "    <tr>\n",
       "      <th>...</th>\n",
       "      <td>...</td>\n",
       "      <td>...</td>\n",
       "      <td>...</td>\n",
       "      <td>...</td>\n",
       "      <td>...</td>\n",
       "      <td>...</td>\n",
       "      <td>...</td>\n",
       "      <td>...</td>\n",
       "      <td>...</td>\n",
       "    </tr>\n",
       "    <tr>\n",
       "      <th>17989</th>\n",
       "      <td>59</td>\n",
       "      <td>0</td>\n",
       "      <td>35.950</td>\n",
       "      <td>51.225</td>\n",
       "      <td>35.875</td>\n",
       "      <td>51.125</td>\n",
       "      <td>2024-01-30 06:41:00</td>\n",
       "      <td>2024-01-30 07:07:00</td>\n",
       "      <td>10.92</td>\n",
       "    </tr>\n",
       "    <tr>\n",
       "      <th>17990</th>\n",
       "      <td>59</td>\n",
       "      <td>0</td>\n",
       "      <td>35.875</td>\n",
       "      <td>51.125</td>\n",
       "      <td>35.690</td>\n",
       "      <td>51.295</td>\n",
       "      <td>2024-01-30 12:46:00</td>\n",
       "      <td>2024-01-30 13:35:00</td>\n",
       "      <td>17.35</td>\n",
       "    </tr>\n",
       "    <tr>\n",
       "      <th>17991</th>\n",
       "      <td>59</td>\n",
       "      <td>0</td>\n",
       "      <td>35.875</td>\n",
       "      <td>51.125</td>\n",
       "      <td>35.525</td>\n",
       "      <td>51.100</td>\n",
       "      <td>2024-01-30 17:39:00</td>\n",
       "      <td>2024-01-30 18:48:00</td>\n",
       "      <td>34.56</td>\n",
       "    </tr>\n",
       "    <tr>\n",
       "      <th>17992</th>\n",
       "      <td>59</td>\n",
       "      <td>0</td>\n",
       "      <td>35.525</td>\n",
       "      <td>51.100</td>\n",
       "      <td>35.815</td>\n",
       "      <td>51.320</td>\n",
       "      <td>2024-01-30 20:09:00</td>\n",
       "      <td>2024-01-30 21:19:00</td>\n",
       "      <td>36.80</td>\n",
       "    </tr>\n",
       "    <tr>\n",
       "      <th>17993</th>\n",
       "      <td>59</td>\n",
       "      <td>0</td>\n",
       "      <td>35.815</td>\n",
       "      <td>51.320</td>\n",
       "      <td>35.950</td>\n",
       "      <td>51.225</td>\n",
       "      <td>2024-01-30 21:49:00</td>\n",
       "      <td>2024-01-30 22:21:00</td>\n",
       "      <td>11.22</td>\n",
       "    </tr>\n",
       "  </tbody>\n",
       "</table>\n",
       "<p>17994 rows × 9 columns</p>\n",
       "</div>\n",
       "    <div class=\"colab-df-buttons\">\n",
       "\n",
       "  <div class=\"colab-df-container\">\n",
       "    <button class=\"colab-df-convert\" onclick=\"convertToInteractive('df-17474682-22ef-45ed-ad6e-9c61ad429d15')\"\n",
       "            title=\"Convert this dataframe to an interactive table.\"\n",
       "            style=\"display:none;\">\n",
       "\n",
       "  <svg xmlns=\"http://www.w3.org/2000/svg\" height=\"24px\" viewBox=\"0 -960 960 960\">\n",
       "    <path d=\"M120-120v-720h720v720H120Zm60-500h600v-160H180v160Zm220 220h160v-160H400v160Zm0 220h160v-160H400v160ZM180-400h160v-160H180v160Zm440 0h160v-160H620v160ZM180-180h160v-160H180v160Zm440 0h160v-160H620v160Z\"/>\n",
       "  </svg>\n",
       "    </button>\n",
       "\n",
       "  <style>\n",
       "    .colab-df-container {\n",
       "      display:flex;\n",
       "      gap: 12px;\n",
       "    }\n",
       "\n",
       "    .colab-df-convert {\n",
       "      background-color: #E8F0FE;\n",
       "      border: none;\n",
       "      border-radius: 50%;\n",
       "      cursor: pointer;\n",
       "      display: none;\n",
       "      fill: #1967D2;\n",
       "      height: 32px;\n",
       "      padding: 0 0 0 0;\n",
       "      width: 32px;\n",
       "    }\n",
       "\n",
       "    .colab-df-convert:hover {\n",
       "      background-color: #E2EBFA;\n",
       "      box-shadow: 0px 1px 2px rgba(60, 64, 67, 0.3), 0px 1px 3px 1px rgba(60, 64, 67, 0.15);\n",
       "      fill: #174EA6;\n",
       "    }\n",
       "\n",
       "    .colab-df-buttons div {\n",
       "      margin-bottom: 4px;\n",
       "    }\n",
       "\n",
       "    [theme=dark] .colab-df-convert {\n",
       "      background-color: #3B4455;\n",
       "      fill: #D2E3FC;\n",
       "    }\n",
       "\n",
       "    [theme=dark] .colab-df-convert:hover {\n",
       "      background-color: #434B5C;\n",
       "      box-shadow: 0px 1px 3px 1px rgba(0, 0, 0, 0.15);\n",
       "      filter: drop-shadow(0px 1px 2px rgba(0, 0, 0, 0.3));\n",
       "      fill: #FFFFFF;\n",
       "    }\n",
       "  </style>\n",
       "\n",
       "    <script>\n",
       "      const buttonEl =\n",
       "        document.querySelector('#df-17474682-22ef-45ed-ad6e-9c61ad429d15 button.colab-df-convert');\n",
       "      buttonEl.style.display =\n",
       "        google.colab.kernel.accessAllowed ? 'block' : 'none';\n",
       "\n",
       "      async function convertToInteractive(key) {\n",
       "        const element = document.querySelector('#df-17474682-22ef-45ed-ad6e-9c61ad429d15');\n",
       "        const dataTable =\n",
       "          await google.colab.kernel.invokeFunction('convertToInteractive',\n",
       "                                                    [key], {});\n",
       "        if (!dataTable) return;\n",
       "\n",
       "        const docLinkHtml = 'Like what you see? Visit the ' +\n",
       "          '<a target=\"_blank\" href=https://colab.research.google.com/notebooks/data_table.ipynb>data table notebook</a>'\n",
       "          + ' to learn more about interactive tables.';\n",
       "        element.innerHTML = '';\n",
       "        dataTable['output_type'] = 'display_data';\n",
       "        await google.colab.output.renderOutput(dataTable, element);\n",
       "        const docLink = document.createElement('div');\n",
       "        docLink.innerHTML = docLinkHtml;\n",
       "        element.appendChild(docLink);\n",
       "      }\n",
       "    </script>\n",
       "  </div>\n",
       "\n",
       "\n",
       "<div id=\"df-2be9aeba-b1e1-4102-881c-d69504550905\">\n",
       "  <button class=\"colab-df-quickchart\" onclick=\"quickchart('df-2be9aeba-b1e1-4102-881c-d69504550905')\"\n",
       "            title=\"Suggest charts\"\n",
       "            style=\"display:none;\">\n",
       "\n",
       "<svg xmlns=\"http://www.w3.org/2000/svg\" height=\"24px\"viewBox=\"0 0 24 24\"\n",
       "     width=\"24px\">\n",
       "    <g>\n",
       "        <path d=\"M19 3H5c-1.1 0-2 .9-2 2v14c0 1.1.9 2 2 2h14c1.1 0 2-.9 2-2V5c0-1.1-.9-2-2-2zM9 17H7v-7h2v7zm4 0h-2V7h2v10zm4 0h-2v-4h2v4z\"/>\n",
       "    </g>\n",
       "</svg>\n",
       "  </button>\n",
       "\n",
       "<style>\n",
       "  .colab-df-quickchart {\n",
       "      --bg-color: #E8F0FE;\n",
       "      --fill-color: #1967D2;\n",
       "      --hover-bg-color: #E2EBFA;\n",
       "      --hover-fill-color: #174EA6;\n",
       "      --disabled-fill-color: #AAA;\n",
       "      --disabled-bg-color: #DDD;\n",
       "  }\n",
       "\n",
       "  [theme=dark] .colab-df-quickchart {\n",
       "      --bg-color: #3B4455;\n",
       "      --fill-color: #D2E3FC;\n",
       "      --hover-bg-color: #434B5C;\n",
       "      --hover-fill-color: #FFFFFF;\n",
       "      --disabled-bg-color: #3B4455;\n",
       "      --disabled-fill-color: #666;\n",
       "  }\n",
       "\n",
       "  .colab-df-quickchart {\n",
       "    background-color: var(--bg-color);\n",
       "    border: none;\n",
       "    border-radius: 50%;\n",
       "    cursor: pointer;\n",
       "    display: none;\n",
       "    fill: var(--fill-color);\n",
       "    height: 32px;\n",
       "    padding: 0;\n",
       "    width: 32px;\n",
       "  }\n",
       "\n",
       "  .colab-df-quickchart:hover {\n",
       "    background-color: var(--hover-bg-color);\n",
       "    box-shadow: 0 1px 2px rgba(60, 64, 67, 0.3), 0 1px 3px 1px rgba(60, 64, 67, 0.15);\n",
       "    fill: var(--button-hover-fill-color);\n",
       "  }\n",
       "\n",
       "  .colab-df-quickchart-complete:disabled,\n",
       "  .colab-df-quickchart-complete:disabled:hover {\n",
       "    background-color: var(--disabled-bg-color);\n",
       "    fill: var(--disabled-fill-color);\n",
       "    box-shadow: none;\n",
       "  }\n",
       "\n",
       "  .colab-df-spinner {\n",
       "    border: 2px solid var(--fill-color);\n",
       "    border-color: transparent;\n",
       "    border-bottom-color: var(--fill-color);\n",
       "    animation:\n",
       "      spin 1s steps(1) infinite;\n",
       "  }\n",
       "\n",
       "  @keyframes spin {\n",
       "    0% {\n",
       "      border-color: transparent;\n",
       "      border-bottom-color: var(--fill-color);\n",
       "      border-left-color: var(--fill-color);\n",
       "    }\n",
       "    20% {\n",
       "      border-color: transparent;\n",
       "      border-left-color: var(--fill-color);\n",
       "      border-top-color: var(--fill-color);\n",
       "    }\n",
       "    30% {\n",
       "      border-color: transparent;\n",
       "      border-left-color: var(--fill-color);\n",
       "      border-top-color: var(--fill-color);\n",
       "      border-right-color: var(--fill-color);\n",
       "    }\n",
       "    40% {\n",
       "      border-color: transparent;\n",
       "      border-right-color: var(--fill-color);\n",
       "      border-top-color: var(--fill-color);\n",
       "    }\n",
       "    60% {\n",
       "      border-color: transparent;\n",
       "      border-right-color: var(--fill-color);\n",
       "    }\n",
       "    80% {\n",
       "      border-color: transparent;\n",
       "      border-right-color: var(--fill-color);\n",
       "      border-bottom-color: var(--fill-color);\n",
       "    }\n",
       "    90% {\n",
       "      border-color: transparent;\n",
       "      border-bottom-color: var(--fill-color);\n",
       "    }\n",
       "  }\n",
       "</style>\n",
       "\n",
       "  <script>\n",
       "    async function quickchart(key) {\n",
       "      const quickchartButtonEl =\n",
       "        document.querySelector('#' + key + ' button');\n",
       "      quickchartButtonEl.disabled = true;  // To prevent multiple clicks.\n",
       "      quickchartButtonEl.classList.add('colab-df-spinner');\n",
       "      try {\n",
       "        const charts = await google.colab.kernel.invokeFunction(\n",
       "            'suggestCharts', [key], {});\n",
       "      } catch (error) {\n",
       "        console.error('Error during call to suggestCharts:', error);\n",
       "      }\n",
       "      quickchartButtonEl.classList.remove('colab-df-spinner');\n",
       "      quickchartButtonEl.classList.add('colab-df-quickchart-complete');\n",
       "    }\n",
       "    (() => {\n",
       "      let quickchartButtonEl =\n",
       "        document.querySelector('#df-2be9aeba-b1e1-4102-881c-d69504550905 button');\n",
       "      quickchartButtonEl.style.display =\n",
       "        google.colab.kernel.accessAllowed ? 'block' : 'none';\n",
       "    })();\n",
       "  </script>\n",
       "</div>\n",
       "    </div>\n",
       "  </div>\n"
      ],
      "text/plain": [
       "       user_id  Day  origin lat  origin lon  dest lat  dest lon  \\\n",
       "0            0    0      35.625      51.375    36.000    51.085   \n",
       "1            0    0      36.000      51.085    35.625    51.375   \n",
       "2            0    0      35.680      51.445    35.745    51.465   \n",
       "3            0    0      35.745      51.465    35.680    51.445   \n",
       "4            0    1      35.625      51.375    35.680    51.445   \n",
       "...        ...  ...         ...         ...       ...       ...   \n",
       "17989       59    0      35.950      51.225    35.875    51.125   \n",
       "17990       59    0      35.875      51.125    35.690    51.295   \n",
       "17991       59    0      35.875      51.125    35.525    51.100   \n",
       "17992       59    0      35.525      51.100    35.815    51.320   \n",
       "17993       59    0      35.815      51.320    35.950    51.225   \n",
       "\n",
       "               start_time            end_time  price  \n",
       "0     2024-01-30 13:07:00 2024-01-30 14:43:00  43.99  \n",
       "1     2024-01-30 15:13:00 2024-01-30 16:49:00  36.66  \n",
       "2     2024-01-30 20:41:00 2024-01-30 20:54:00  15.08  \n",
       "3     2024-01-30 21:24:00 2024-01-30 21:37:00  10.00  \n",
       "4     2024-01-30 23:38:00 2024-01-30 23:58:00  19.48  \n",
       "...                   ...                 ...    ...  \n",
       "17989 2024-01-30 06:41:00 2024-01-30 07:07:00  10.92  \n",
       "17990 2024-01-30 12:46:00 2024-01-30 13:35:00  17.35  \n",
       "17991 2024-01-30 17:39:00 2024-01-30 18:48:00  34.56  \n",
       "17992 2024-01-30 20:09:00 2024-01-30 21:19:00  36.80  \n",
       "17993 2024-01-30 21:49:00 2024-01-30 22:21:00  11.22  \n",
       "\n",
       "[17994 rows x 9 columns]"
      ]
     },
     "execution_count": 4,
     "metadata": {},
     "output_type": "execute_result"
    }
   ],
   "source": [
    "# Load the dataset for training\n",
    "train_df = pd.read_json('Data/output.json')\n",
    "train_df"
   ]
  },
  {
   "cell_type": "code",
   "execution_count": null,
   "metadata": {
    "colab": {
     "base_uri": "https://localhost:8080/",
     "height": 423
    },
    "id": "Y5J1C5pfjBgG",
    "outputId": "781eafe6-d5e1-44a1-f7a1-ea2008aa0566"
   },
   "outputs": [
    {
     "data": {
      "text/html": [
       "\n",
       "  <div id=\"df-4400ef46-f299-41cf-9e1b-7470b2a9ea59\" class=\"colab-df-container\">\n",
       "    <div>\n",
       "<style scoped>\n",
       "    .dataframe tbody tr th:only-of-type {\n",
       "        vertical-align: middle;\n",
       "    }\n",
       "\n",
       "    .dataframe tbody tr th {\n",
       "        vertical-align: top;\n",
       "    }\n",
       "\n",
       "    .dataframe thead th {\n",
       "        text-align: right;\n",
       "    }\n",
       "</style>\n",
       "<table border=\"1\" class=\"dataframe\">\n",
       "  <thead>\n",
       "    <tr style=\"text-align: right;\">\n",
       "      <th></th>\n",
       "      <th>user_id</th>\n",
       "      <th>Day</th>\n",
       "      <th>origin lat</th>\n",
       "      <th>origin lon</th>\n",
       "      <th>dest lat</th>\n",
       "      <th>dest lon</th>\n",
       "      <th>start_time</th>\n",
       "      <th>end_time</th>\n",
       "      <th>price</th>\n",
       "    </tr>\n",
       "  </thead>\n",
       "  <tbody>\n",
       "    <tr>\n",
       "      <th>0</th>\n",
       "      <td>24</td>\n",
       "      <td>6</td>\n",
       "      <td>35.650</td>\n",
       "      <td>51.225</td>\n",
       "      <td>35.640</td>\n",
       "      <td>51.270</td>\n",
       "      <td>2024-01-30 11:58:00</td>\n",
       "      <td>2024-01-30 12:12:00</td>\n",
       "      <td>10.00</td>\n",
       "    </tr>\n",
       "    <tr>\n",
       "      <th>1</th>\n",
       "      <td>46</td>\n",
       "      <td>2</td>\n",
       "      <td>35.625</td>\n",
       "      <td>51.250</td>\n",
       "      <td>35.690</td>\n",
       "      <td>51.295</td>\n",
       "      <td>2024-01-30 21:58:00</td>\n",
       "      <td>2024-01-30 22:18:00</td>\n",
       "      <td>11.84</td>\n",
       "    </tr>\n",
       "    <tr>\n",
       "      <th>2</th>\n",
       "      <td>27</td>\n",
       "      <td>5</td>\n",
       "      <td>35.650</td>\n",
       "      <td>51.225</td>\n",
       "      <td>35.865</td>\n",
       "      <td>51.045</td>\n",
       "      <td>2024-01-30 20:05:00</td>\n",
       "      <td>2024-01-30 20:58:00</td>\n",
       "      <td>23.36</td>\n",
       "    </tr>\n",
       "    <tr>\n",
       "      <th>3</th>\n",
       "      <td>7</td>\n",
       "      <td>4</td>\n",
       "      <td>35.875</td>\n",
       "      <td>51.375</td>\n",
       "      <td>35.890</td>\n",
       "      <td>51.315</td>\n",
       "      <td>2024-01-30 17:39:00</td>\n",
       "      <td>2024-01-30 18:17:00</td>\n",
       "      <td>13.74</td>\n",
       "    </tr>\n",
       "    <tr>\n",
       "      <th>4</th>\n",
       "      <td>27</td>\n",
       "      <td>3</td>\n",
       "      <td>35.625</td>\n",
       "      <td>51.375</td>\n",
       "      <td>35.650</td>\n",
       "      <td>51.385</td>\n",
       "      <td>2024-01-30 13:16:00</td>\n",
       "      <td>2024-01-30 13:19:00</td>\n",
       "      <td>15.08</td>\n",
       "    </tr>\n",
       "    <tr>\n",
       "      <th>...</th>\n",
       "      <td>...</td>\n",
       "      <td>...</td>\n",
       "      <td>...</td>\n",
       "      <td>...</td>\n",
       "      <td>...</td>\n",
       "      <td>...</td>\n",
       "      <td>...</td>\n",
       "      <td>...</td>\n",
       "      <td>...</td>\n",
       "    </tr>\n",
       "    <tr>\n",
       "      <th>4494</th>\n",
       "      <td>32</td>\n",
       "      <td>3</td>\n",
       "      <td>35.775</td>\n",
       "      <td>51.400</td>\n",
       "      <td>35.875</td>\n",
       "      <td>51.250</td>\n",
       "      <td>2024-01-30 07:11:00</td>\n",
       "      <td>2024-01-30 07:51:00</td>\n",
       "      <td>27.15</td>\n",
       "    </tr>\n",
       "    <tr>\n",
       "      <th>4495</th>\n",
       "      <td>36</td>\n",
       "      <td>1</td>\n",
       "      <td>35.625</td>\n",
       "      <td>51.125</td>\n",
       "      <td>35.735</td>\n",
       "      <td>51.200</td>\n",
       "      <td>2024-01-30 17:08:00</td>\n",
       "      <td>2024-01-30 17:38:00</td>\n",
       "      <td>10.78</td>\n",
       "    </tr>\n",
       "    <tr>\n",
       "      <th>4496</th>\n",
       "      <td>40</td>\n",
       "      <td>2</td>\n",
       "      <td>36.000</td>\n",
       "      <td>51.085</td>\n",
       "      <td>35.545</td>\n",
       "      <td>51.145</td>\n",
       "      <td>2024-01-30 22:13:00</td>\n",
       "      <td>2024-01-30 23:43:00</td>\n",
       "      <td>43.47</td>\n",
       "    </tr>\n",
       "    <tr>\n",
       "      <th>4497</th>\n",
       "      <td>19</td>\n",
       "      <td>3</td>\n",
       "      <td>35.875</td>\n",
       "      <td>51.125</td>\n",
       "      <td>35.840</td>\n",
       "      <td>51.130</td>\n",
       "      <td>2024-01-30 17:33:00</td>\n",
       "      <td>2024-01-30 18:03:00</td>\n",
       "      <td>19.37</td>\n",
       "    </tr>\n",
       "    <tr>\n",
       "      <th>4498</th>\n",
       "      <td>19</td>\n",
       "      <td>4</td>\n",
       "      <td>35.875</td>\n",
       "      <td>51.125</td>\n",
       "      <td>35.840</td>\n",
       "      <td>51.130</td>\n",
       "      <td>2024-01-30 17:30:00</td>\n",
       "      <td>2024-01-30 18:01:00</td>\n",
       "      <td>12.36</td>\n",
       "    </tr>\n",
       "  </tbody>\n",
       "</table>\n",
       "<p>4499 rows × 9 columns</p>\n",
       "</div>\n",
       "    <div class=\"colab-df-buttons\">\n",
       "\n",
       "  <div class=\"colab-df-container\">\n",
       "    <button class=\"colab-df-convert\" onclick=\"convertToInteractive('df-4400ef46-f299-41cf-9e1b-7470b2a9ea59')\"\n",
       "            title=\"Convert this dataframe to an interactive table.\"\n",
       "            style=\"display:none;\">\n",
       "\n",
       "  <svg xmlns=\"http://www.w3.org/2000/svg\" height=\"24px\" viewBox=\"0 -960 960 960\">\n",
       "    <path d=\"M120-120v-720h720v720H120Zm60-500h600v-160H180v160Zm220 220h160v-160H400v160Zm0 220h160v-160H400v160ZM180-400h160v-160H180v160Zm440 0h160v-160H620v160ZM180-180h160v-160H180v160Zm440 0h160v-160H620v160Z\"/>\n",
       "  </svg>\n",
       "    </button>\n",
       "\n",
       "  <style>\n",
       "    .colab-df-container {\n",
       "      display:flex;\n",
       "      gap: 12px;\n",
       "    }\n",
       "\n",
       "    .colab-df-convert {\n",
       "      background-color: #E8F0FE;\n",
       "      border: none;\n",
       "      border-radius: 50%;\n",
       "      cursor: pointer;\n",
       "      display: none;\n",
       "      fill: #1967D2;\n",
       "      height: 32px;\n",
       "      padding: 0 0 0 0;\n",
       "      width: 32px;\n",
       "    }\n",
       "\n",
       "    .colab-df-convert:hover {\n",
       "      background-color: #E2EBFA;\n",
       "      box-shadow: 0px 1px 2px rgba(60, 64, 67, 0.3), 0px 1px 3px 1px rgba(60, 64, 67, 0.15);\n",
       "      fill: #174EA6;\n",
       "    }\n",
       "\n",
       "    .colab-df-buttons div {\n",
       "      margin-bottom: 4px;\n",
       "    }\n",
       "\n",
       "    [theme=dark] .colab-df-convert {\n",
       "      background-color: #3B4455;\n",
       "      fill: #D2E3FC;\n",
       "    }\n",
       "\n",
       "    [theme=dark] .colab-df-convert:hover {\n",
       "      background-color: #434B5C;\n",
       "      box-shadow: 0px 1px 3px 1px rgba(0, 0, 0, 0.15);\n",
       "      filter: drop-shadow(0px 1px 2px rgba(0, 0, 0, 0.3));\n",
       "      fill: #FFFFFF;\n",
       "    }\n",
       "  </style>\n",
       "\n",
       "    <script>\n",
       "      const buttonEl =\n",
       "        document.querySelector('#df-4400ef46-f299-41cf-9e1b-7470b2a9ea59 button.colab-df-convert');\n",
       "      buttonEl.style.display =\n",
       "        google.colab.kernel.accessAllowed ? 'block' : 'none';\n",
       "\n",
       "      async function convertToInteractive(key) {\n",
       "        const element = document.querySelector('#df-4400ef46-f299-41cf-9e1b-7470b2a9ea59');\n",
       "        const dataTable =\n",
       "          await google.colab.kernel.invokeFunction('convertToInteractive',\n",
       "                                                    [key], {});\n",
       "        if (!dataTable) return;\n",
       "\n",
       "        const docLinkHtml = 'Like what you see? Visit the ' +\n",
       "          '<a target=\"_blank\" href=https://colab.research.google.com/notebooks/data_table.ipynb>data table notebook</a>'\n",
       "          + ' to learn more about interactive tables.';\n",
       "        element.innerHTML = '';\n",
       "        dataTable['output_type'] = 'display_data';\n",
       "        await google.colab.output.renderOutput(dataTable, element);\n",
       "        const docLink = document.createElement('div');\n",
       "        docLink.innerHTML = docLinkHtml;\n",
       "        element.appendChild(docLink);\n",
       "      }\n",
       "    </script>\n",
       "  </div>\n",
       "\n",
       "\n",
       "<div id=\"df-82642999-9d4a-4441-95dd-9e5659996310\">\n",
       "  <button class=\"colab-df-quickchart\" onclick=\"quickchart('df-82642999-9d4a-4441-95dd-9e5659996310')\"\n",
       "            title=\"Suggest charts\"\n",
       "            style=\"display:none;\">\n",
       "\n",
       "<svg xmlns=\"http://www.w3.org/2000/svg\" height=\"24px\"viewBox=\"0 0 24 24\"\n",
       "     width=\"24px\">\n",
       "    <g>\n",
       "        <path d=\"M19 3H5c-1.1 0-2 .9-2 2v14c0 1.1.9 2 2 2h14c1.1 0 2-.9 2-2V5c0-1.1-.9-2-2-2zM9 17H7v-7h2v7zm4 0h-2V7h2v10zm4 0h-2v-4h2v4z\"/>\n",
       "    </g>\n",
       "</svg>\n",
       "  </button>\n",
       "\n",
       "<style>\n",
       "  .colab-df-quickchart {\n",
       "      --bg-color: #E8F0FE;\n",
       "      --fill-color: #1967D2;\n",
       "      --hover-bg-color: #E2EBFA;\n",
       "      --hover-fill-color: #174EA6;\n",
       "      --disabled-fill-color: #AAA;\n",
       "      --disabled-bg-color: #DDD;\n",
       "  }\n",
       "\n",
       "  [theme=dark] .colab-df-quickchart {\n",
       "      --bg-color: #3B4455;\n",
       "      --fill-color: #D2E3FC;\n",
       "      --hover-bg-color: #434B5C;\n",
       "      --hover-fill-color: #FFFFFF;\n",
       "      --disabled-bg-color: #3B4455;\n",
       "      --disabled-fill-color: #666;\n",
       "  }\n",
       "\n",
       "  .colab-df-quickchart {\n",
       "    background-color: var(--bg-color);\n",
       "    border: none;\n",
       "    border-radius: 50%;\n",
       "    cursor: pointer;\n",
       "    display: none;\n",
       "    fill: var(--fill-color);\n",
       "    height: 32px;\n",
       "    padding: 0;\n",
       "    width: 32px;\n",
       "  }\n",
       "\n",
       "  .colab-df-quickchart:hover {\n",
       "    background-color: var(--hover-bg-color);\n",
       "    box-shadow: 0 1px 2px rgba(60, 64, 67, 0.3), 0 1px 3px 1px rgba(60, 64, 67, 0.15);\n",
       "    fill: var(--button-hover-fill-color);\n",
       "  }\n",
       "\n",
       "  .colab-df-quickchart-complete:disabled,\n",
       "  .colab-df-quickchart-complete:disabled:hover {\n",
       "    background-color: var(--disabled-bg-color);\n",
       "    fill: var(--disabled-fill-color);\n",
       "    box-shadow: none;\n",
       "  }\n",
       "\n",
       "  .colab-df-spinner {\n",
       "    border: 2px solid var(--fill-color);\n",
       "    border-color: transparent;\n",
       "    border-bottom-color: var(--fill-color);\n",
       "    animation:\n",
       "      spin 1s steps(1) infinite;\n",
       "  }\n",
       "\n",
       "  @keyframes spin {\n",
       "    0% {\n",
       "      border-color: transparent;\n",
       "      border-bottom-color: var(--fill-color);\n",
       "      border-left-color: var(--fill-color);\n",
       "    }\n",
       "    20% {\n",
       "      border-color: transparent;\n",
       "      border-left-color: var(--fill-color);\n",
       "      border-top-color: var(--fill-color);\n",
       "    }\n",
       "    30% {\n",
       "      border-color: transparent;\n",
       "      border-left-color: var(--fill-color);\n",
       "      border-top-color: var(--fill-color);\n",
       "      border-right-color: var(--fill-color);\n",
       "    }\n",
       "    40% {\n",
       "      border-color: transparent;\n",
       "      border-right-color: var(--fill-color);\n",
       "      border-top-color: var(--fill-color);\n",
       "    }\n",
       "    60% {\n",
       "      border-color: transparent;\n",
       "      border-right-color: var(--fill-color);\n",
       "    }\n",
       "    80% {\n",
       "      border-color: transparent;\n",
       "      border-right-color: var(--fill-color);\n",
       "      border-bottom-color: var(--fill-color);\n",
       "    }\n",
       "    90% {\n",
       "      border-color: transparent;\n",
       "      border-bottom-color: var(--fill-color);\n",
       "    }\n",
       "  }\n",
       "</style>\n",
       "\n",
       "  <script>\n",
       "    async function quickchart(key) {\n",
       "      const quickchartButtonEl =\n",
       "        document.querySelector('#' + key + ' button');\n",
       "      quickchartButtonEl.disabled = true;  // To prevent multiple clicks.\n",
       "      quickchartButtonEl.classList.add('colab-df-spinner');\n",
       "      try {\n",
       "        const charts = await google.colab.kernel.invokeFunction(\n",
       "            'suggestCharts', [key], {});\n",
       "      } catch (error) {\n",
       "        console.error('Error during call to suggestCharts:', error);\n",
       "      }\n",
       "      quickchartButtonEl.classList.remove('colab-df-spinner');\n",
       "      quickchartButtonEl.classList.add('colab-df-quickchart-complete');\n",
       "    }\n",
       "    (() => {\n",
       "      let quickchartButtonEl =\n",
       "        document.querySelector('#df-82642999-9d4a-4441-95dd-9e5659996310 button');\n",
       "      quickchartButtonEl.style.display =\n",
       "        google.colab.kernel.accessAllowed ? 'block' : 'none';\n",
       "    })();\n",
       "  </script>\n",
       "</div>\n",
       "    </div>\n",
       "  </div>\n"
      ],
      "text/plain": [
       "      user_id  Day  origin lat  origin lon  dest lat  dest lon  \\\n",
       "0          24    6      35.650      51.225    35.640    51.270   \n",
       "1          46    2      35.625      51.250    35.690    51.295   \n",
       "2          27    5      35.650      51.225    35.865    51.045   \n",
       "3           7    4      35.875      51.375    35.890    51.315   \n",
       "4          27    3      35.625      51.375    35.650    51.385   \n",
       "...       ...  ...         ...         ...       ...       ...   \n",
       "4494       32    3      35.775      51.400    35.875    51.250   \n",
       "4495       36    1      35.625      51.125    35.735    51.200   \n",
       "4496       40    2      36.000      51.085    35.545    51.145   \n",
       "4497       19    3      35.875      51.125    35.840    51.130   \n",
       "4498       19    4      35.875      51.125    35.840    51.130   \n",
       "\n",
       "              start_time            end_time  price  \n",
       "0    2024-01-30 11:58:00 2024-01-30 12:12:00  10.00  \n",
       "1    2024-01-30 21:58:00 2024-01-30 22:18:00  11.84  \n",
       "2    2024-01-30 20:05:00 2024-01-30 20:58:00  23.36  \n",
       "3    2024-01-30 17:39:00 2024-01-30 18:17:00  13.74  \n",
       "4    2024-01-30 13:16:00 2024-01-30 13:19:00  15.08  \n",
       "...                  ...                 ...    ...  \n",
       "4494 2024-01-30 07:11:00 2024-01-30 07:51:00  27.15  \n",
       "4495 2024-01-30 17:08:00 2024-01-30 17:38:00  10.78  \n",
       "4496 2024-01-30 22:13:00 2024-01-30 23:43:00  43.47  \n",
       "4497 2024-01-30 17:33:00 2024-01-30 18:03:00  19.37  \n",
       "4498 2024-01-30 17:30:00 2024-01-30 18:01:00  12.36  \n",
       "\n",
       "[4499 rows x 9 columns]"
      ]
     },
     "execution_count": 5,
     "metadata": {},
     "output_type": "execute_result"
    }
   ],
   "source": [
    "# Load the dataset for testing\n",
    "test_df = pd.read_json('Data/output_test.json')\n",
    "test_df"
   ]
  },
  {
   "cell_type": "code",
   "execution_count": null,
   "metadata": {
    "colab": {
     "base_uri": "https://localhost:8080/"
    },
    "id": "1fof_V2ljBgG",
    "outputId": "2dea8965-48a4-4634-a113-52d58f3d74bb"
   },
   "outputs": [
    {
     "name": "stdout",
     "output_type": "stream",
     "text": [
      "number of unique users : 60\n"
     ]
    },
    {
     "data": {
      "text/plain": [
       "30"
      ]
     },
     "execution_count": 6,
     "metadata": {},
     "output_type": "execute_result"
    }
   ],
   "source": [
    "# print out the number of unique users and also randomly select one user\n",
    "print('number of unique users :', train_df['user_id'].nunique())\n",
    "random_user_id = random.choice(list(set(train_df['user_id'])))\n",
    "random_user_id"
   ]
  },
  {
   "cell_type": "code",
   "execution_count": null,
   "metadata": {
    "id": "i85iwjZmjBgG"
   },
   "outputs": [],
   "source": [
    "!pip install keplergl\n",
    "from keplergl import KeplerGl\n",
    "\n",
    "# Uncomment the following line if you are using Google Colab\n",
    "from google.colab import output\n",
    "output.enable_custom_widget_manager()"
   ]
  },
  {
   "cell_type": "code",
   "execution_count": null,
   "metadata": {
    "colab": {
     "base_uri": "https://localhost:8080/",
     "height": 423
    },
    "id": "lN5JJwDcjBgG",
    "outputId": "9726f525-dd32-4d54-8d6e-2d6e89bcb46a"
   },
   "outputs": [
    {
     "data": {
      "text/html": [
       "\n",
       "  <div id=\"df-73380c42-f3a7-4d90-91dc-c9dc435d8f17\" class=\"colab-df-container\">\n",
       "    <div>\n",
       "<style scoped>\n",
       "    .dataframe tbody tr th:only-of-type {\n",
       "        vertical-align: middle;\n",
       "    }\n",
       "\n",
       "    .dataframe tbody tr th {\n",
       "        vertical-align: top;\n",
       "    }\n",
       "\n",
       "    .dataframe thead th {\n",
       "        text-align: right;\n",
       "    }\n",
       "</style>\n",
       "<table border=\"1\" class=\"dataframe\">\n",
       "  <thead>\n",
       "    <tr style=\"text-align: right;\">\n",
       "      <th></th>\n",
       "      <th>dest lat</th>\n",
       "      <th>dest lon</th>\n",
       "    </tr>\n",
       "  </thead>\n",
       "  <tbody>\n",
       "    <tr>\n",
       "      <th>8883</th>\n",
       "      <td>35.875</td>\n",
       "      <td>51.375</td>\n",
       "    </tr>\n",
       "    <tr>\n",
       "      <th>8884</th>\n",
       "      <td>35.775</td>\n",
       "      <td>51.400</td>\n",
       "    </tr>\n",
       "    <tr>\n",
       "      <th>8885</th>\n",
       "      <td>35.875</td>\n",
       "      <td>51.375</td>\n",
       "    </tr>\n",
       "    <tr>\n",
       "      <th>8886</th>\n",
       "      <td>35.525</td>\n",
       "      <td>51.100</td>\n",
       "    </tr>\n",
       "    <tr>\n",
       "      <th>8887</th>\n",
       "      <td>35.805</td>\n",
       "      <td>51.345</td>\n",
       "    </tr>\n",
       "    <tr>\n",
       "      <th>...</th>\n",
       "      <td>...</td>\n",
       "      <td>...</td>\n",
       "    </tr>\n",
       "    <tr>\n",
       "      <th>9156</th>\n",
       "      <td>35.775</td>\n",
       "      <td>51.400</td>\n",
       "    </tr>\n",
       "    <tr>\n",
       "      <th>9157</th>\n",
       "      <td>35.745</td>\n",
       "      <td>51.465</td>\n",
       "    </tr>\n",
       "    <tr>\n",
       "      <th>9158</th>\n",
       "      <td>35.775</td>\n",
       "      <td>51.400</td>\n",
       "    </tr>\n",
       "    <tr>\n",
       "      <th>9159</th>\n",
       "      <td>35.745</td>\n",
       "      <td>51.465</td>\n",
       "    </tr>\n",
       "    <tr>\n",
       "      <th>9160</th>\n",
       "      <td>35.775</td>\n",
       "      <td>51.400</td>\n",
       "    </tr>\n",
       "  </tbody>\n",
       "</table>\n",
       "<p>278 rows × 2 columns</p>\n",
       "</div>\n",
       "    <div class=\"colab-df-buttons\">\n",
       "\n",
       "  <div class=\"colab-df-container\">\n",
       "    <button class=\"colab-df-convert\" onclick=\"convertToInteractive('df-73380c42-f3a7-4d90-91dc-c9dc435d8f17')\"\n",
       "            title=\"Convert this dataframe to an interactive table.\"\n",
       "            style=\"display:none;\">\n",
       "\n",
       "  <svg xmlns=\"http://www.w3.org/2000/svg\" height=\"24px\" viewBox=\"0 -960 960 960\">\n",
       "    <path d=\"M120-120v-720h720v720H120Zm60-500h600v-160H180v160Zm220 220h160v-160H400v160Zm0 220h160v-160H400v160ZM180-400h160v-160H180v160Zm440 0h160v-160H620v160ZM180-180h160v-160H180v160Zm440 0h160v-160H620v160Z\"/>\n",
       "  </svg>\n",
       "    </button>\n",
       "\n",
       "  <style>\n",
       "    .colab-df-container {\n",
       "      display:flex;\n",
       "      gap: 12px;\n",
       "    }\n",
       "\n",
       "    .colab-df-convert {\n",
       "      background-color: #E8F0FE;\n",
       "      border: none;\n",
       "      border-radius: 50%;\n",
       "      cursor: pointer;\n",
       "      display: none;\n",
       "      fill: #1967D2;\n",
       "      height: 32px;\n",
       "      padding: 0 0 0 0;\n",
       "      width: 32px;\n",
       "    }\n",
       "\n",
       "    .colab-df-convert:hover {\n",
       "      background-color: #E2EBFA;\n",
       "      box-shadow: 0px 1px 2px rgba(60, 64, 67, 0.3), 0px 1px 3px 1px rgba(60, 64, 67, 0.15);\n",
       "      fill: #174EA6;\n",
       "    }\n",
       "\n",
       "    .colab-df-buttons div {\n",
       "      margin-bottom: 4px;\n",
       "    }\n",
       "\n",
       "    [theme=dark] .colab-df-convert {\n",
       "      background-color: #3B4455;\n",
       "      fill: #D2E3FC;\n",
       "    }\n",
       "\n",
       "    [theme=dark] .colab-df-convert:hover {\n",
       "      background-color: #434B5C;\n",
       "      box-shadow: 0px 1px 3px 1px rgba(0, 0, 0, 0.15);\n",
       "      filter: drop-shadow(0px 1px 2px rgba(0, 0, 0, 0.3));\n",
       "      fill: #FFFFFF;\n",
       "    }\n",
       "  </style>\n",
       "\n",
       "    <script>\n",
       "      const buttonEl =\n",
       "        document.querySelector('#df-73380c42-f3a7-4d90-91dc-c9dc435d8f17 button.colab-df-convert');\n",
       "      buttonEl.style.display =\n",
       "        google.colab.kernel.accessAllowed ? 'block' : 'none';\n",
       "\n",
       "      async function convertToInteractive(key) {\n",
       "        const element = document.querySelector('#df-73380c42-f3a7-4d90-91dc-c9dc435d8f17');\n",
       "        const dataTable =\n",
       "          await google.colab.kernel.invokeFunction('convertToInteractive',\n",
       "                                                    [key], {});\n",
       "        if (!dataTable) return;\n",
       "\n",
       "        const docLinkHtml = 'Like what you see? Visit the ' +\n",
       "          '<a target=\"_blank\" href=https://colab.research.google.com/notebooks/data_table.ipynb>data table notebook</a>'\n",
       "          + ' to learn more about interactive tables.';\n",
       "        element.innerHTML = '';\n",
       "        dataTable['output_type'] = 'display_data';\n",
       "        await google.colab.output.renderOutput(dataTable, element);\n",
       "        const docLink = document.createElement('div');\n",
       "        docLink.innerHTML = docLinkHtml;\n",
       "        element.appendChild(docLink);\n",
       "      }\n",
       "    </script>\n",
       "  </div>\n",
       "\n",
       "\n",
       "<div id=\"df-15939cf2-dea7-4efa-b3d4-4ec2bef07f00\">\n",
       "  <button class=\"colab-df-quickchart\" onclick=\"quickchart('df-15939cf2-dea7-4efa-b3d4-4ec2bef07f00')\"\n",
       "            title=\"Suggest charts\"\n",
       "            style=\"display:none;\">\n",
       "\n",
       "<svg xmlns=\"http://www.w3.org/2000/svg\" height=\"24px\"viewBox=\"0 0 24 24\"\n",
       "     width=\"24px\">\n",
       "    <g>\n",
       "        <path d=\"M19 3H5c-1.1 0-2 .9-2 2v14c0 1.1.9 2 2 2h14c1.1 0 2-.9 2-2V5c0-1.1-.9-2-2-2zM9 17H7v-7h2v7zm4 0h-2V7h2v10zm4 0h-2v-4h2v4z\"/>\n",
       "    </g>\n",
       "</svg>\n",
       "  </button>\n",
       "\n",
       "<style>\n",
       "  .colab-df-quickchart {\n",
       "      --bg-color: #E8F0FE;\n",
       "      --fill-color: #1967D2;\n",
       "      --hover-bg-color: #E2EBFA;\n",
       "      --hover-fill-color: #174EA6;\n",
       "      --disabled-fill-color: #AAA;\n",
       "      --disabled-bg-color: #DDD;\n",
       "  }\n",
       "\n",
       "  [theme=dark] .colab-df-quickchart {\n",
       "      --bg-color: #3B4455;\n",
       "      --fill-color: #D2E3FC;\n",
       "      --hover-bg-color: #434B5C;\n",
       "      --hover-fill-color: #FFFFFF;\n",
       "      --disabled-bg-color: #3B4455;\n",
       "      --disabled-fill-color: #666;\n",
       "  }\n",
       "\n",
       "  .colab-df-quickchart {\n",
       "    background-color: var(--bg-color);\n",
       "    border: none;\n",
       "    border-radius: 50%;\n",
       "    cursor: pointer;\n",
       "    display: none;\n",
       "    fill: var(--fill-color);\n",
       "    height: 32px;\n",
       "    padding: 0;\n",
       "    width: 32px;\n",
       "  }\n",
       "\n",
       "  .colab-df-quickchart:hover {\n",
       "    background-color: var(--hover-bg-color);\n",
       "    box-shadow: 0 1px 2px rgba(60, 64, 67, 0.3), 0 1px 3px 1px rgba(60, 64, 67, 0.15);\n",
       "    fill: var(--button-hover-fill-color);\n",
       "  }\n",
       "\n",
       "  .colab-df-quickchart-complete:disabled,\n",
       "  .colab-df-quickchart-complete:disabled:hover {\n",
       "    background-color: var(--disabled-bg-color);\n",
       "    fill: var(--disabled-fill-color);\n",
       "    box-shadow: none;\n",
       "  }\n",
       "\n",
       "  .colab-df-spinner {\n",
       "    border: 2px solid var(--fill-color);\n",
       "    border-color: transparent;\n",
       "    border-bottom-color: var(--fill-color);\n",
       "    animation:\n",
       "      spin 1s steps(1) infinite;\n",
       "  }\n",
       "\n",
       "  @keyframes spin {\n",
       "    0% {\n",
       "      border-color: transparent;\n",
       "      border-bottom-color: var(--fill-color);\n",
       "      border-left-color: var(--fill-color);\n",
       "    }\n",
       "    20% {\n",
       "      border-color: transparent;\n",
       "      border-left-color: var(--fill-color);\n",
       "      border-top-color: var(--fill-color);\n",
       "    }\n",
       "    30% {\n",
       "      border-color: transparent;\n",
       "      border-left-color: var(--fill-color);\n",
       "      border-top-color: var(--fill-color);\n",
       "      border-right-color: var(--fill-color);\n",
       "    }\n",
       "    40% {\n",
       "      border-color: transparent;\n",
       "      border-right-color: var(--fill-color);\n",
       "      border-top-color: var(--fill-color);\n",
       "    }\n",
       "    60% {\n",
       "      border-color: transparent;\n",
       "      border-right-color: var(--fill-color);\n",
       "    }\n",
       "    80% {\n",
       "      border-color: transparent;\n",
       "      border-right-color: var(--fill-color);\n",
       "      border-bottom-color: var(--fill-color);\n",
       "    }\n",
       "    90% {\n",
       "      border-color: transparent;\n",
       "      border-bottom-color: var(--fill-color);\n",
       "    }\n",
       "  }\n",
       "</style>\n",
       "\n",
       "  <script>\n",
       "    async function quickchart(key) {\n",
       "      const quickchartButtonEl =\n",
       "        document.querySelector('#' + key + ' button');\n",
       "      quickchartButtonEl.disabled = true;  // To prevent multiple clicks.\n",
       "      quickchartButtonEl.classList.add('colab-df-spinner');\n",
       "      try {\n",
       "        const charts = await google.colab.kernel.invokeFunction(\n",
       "            'suggestCharts', [key], {});\n",
       "      } catch (error) {\n",
       "        console.error('Error during call to suggestCharts:', error);\n",
       "      }\n",
       "      quickchartButtonEl.classList.remove('colab-df-spinner');\n",
       "      quickchartButtonEl.classList.add('colab-df-quickchart-complete');\n",
       "    }\n",
       "    (() => {\n",
       "      let quickchartButtonEl =\n",
       "        document.querySelector('#df-15939cf2-dea7-4efa-b3d4-4ec2bef07f00 button');\n",
       "      quickchartButtonEl.style.display =\n",
       "        google.colab.kernel.accessAllowed ? 'block' : 'none';\n",
       "    })();\n",
       "  </script>\n",
       "</div>\n",
       "    </div>\n",
       "  </div>\n"
      ],
      "text/plain": [
       "      dest lat  dest lon\n",
       "8883    35.875    51.375\n",
       "8884    35.775    51.400\n",
       "8885    35.875    51.375\n",
       "8886    35.525    51.100\n",
       "8887    35.805    51.345\n",
       "...        ...       ...\n",
       "9156    35.775    51.400\n",
       "9157    35.745    51.465\n",
       "9158    35.775    51.400\n",
       "9159    35.745    51.465\n",
       "9160    35.775    51.400\n",
       "\n",
       "[278 rows x 2 columns]"
      ]
     },
     "execution_count": 8,
     "metadata": {},
     "output_type": "execute_result"
    }
   ],
   "source": [
    "# choose the data related to the randomly selected user\n",
    "# show destinations of this user on map\n",
    "# You should Use Kepler.gl to visualize the data\n",
    "\n",
    "random_user_des = train_df[train_df['user_id'] == random_user_id][['dest lat', 'dest lon']]\n",
    "random_user_des"
   ]
  },
  {
   "cell_type": "code",
   "execution_count": null,
   "metadata": {
    "colab": {
     "base_uri": "https://localhost:8080/",
     "height": 621,
     "referenced_widgets": [
      "81ead5a9666242019ac1ee3697f51137",
      "9c5d04af921a4eceb328d5b93cac5a14"
     ]
    },
    "id": "4qmn7eiajBgG",
    "outputId": "e2270873-4093-402d-ecf2-8060077bedd8"
   },
   "outputs": [
    {
     "name": "stdout",
     "output_type": "stream",
     "text": [
      "User Guide: https://docs.kepler.gl/docs/keplergl-jupyter\n"
     ]
    },
    {
     "data": {
      "application/vnd.jupyter.widget-view+json": {
       "model_id": "81ead5a9666242019ac1ee3697f51137",
       "version_major": 2,
       "version_minor": 0
      },
      "text/plain": [
       "KeplerGl(data={'Tehran': {'index': [8883, 8884, 8885, 8886, 8887, 8888, 8889, 8890, 8891, 8892, 8893, 8894, 88…"
      ]
     },
     "metadata": {
      "application/vnd.jupyter.widget-view+json": {
       "colab": {
        "custom_widget_manager": {
         "url": "https://ssl.gstatic.com/colaboratory-static/widgets/colab-cdn-widget-manager/2b70e893a8ba7c0f/manager.min.js"
        }
       }
      }
     },
     "output_type": "display_data"
    }
   ],
   "source": [
    "# Sample output:\n",
    "map_kepler = KeplerGl(height=600)\n",
    "map_kepler.add_data(data=random_user_des, name='Tehran')\n",
    "map_kepler"
   ]
  },
  {
   "cell_type": "markdown",
   "metadata": {},
   "source": [
    "<div align=\"center\">\n",
    "  <img src=\"images/1.png\" width=\"1200\" height=\"600\">\n",
    "</div>"
   ]
  },
  {
   "cell_type": "markdown",
   "metadata": {
    "id": "TNYLNoiIjBgH"
   },
   "source": [
    "Here, you should do feature engineering stuff! Extract the features that you think are important. Split the features into training set and also extract the related outputs (used for our model further). These outputs may be strings (name of destination) or destination's latitude/longitude or etc. Use your creativity!"
   ]
  },
  {
   "cell_type": "code",
   "execution_count": null,
   "metadata": {
    "id": "fqdm8MMwKyIa"
   },
   "outputs": [],
   "source": [
    "def calculate_accuracy(Y, Y_hat) :\n",
    "    count = 0\n",
    "    for i in range(Y.shape[0]) :\n",
    "        if Y[i][0] == Y_hat[i][0] and Y[i][1] == Y_hat[i][1] :\n",
    "            count += 1\n",
    "\n",
    "    return count / Y.shape[0]"
   ]
  },
  {
   "cell_type": "code",
   "execution_count": null,
   "metadata": {
    "id": "z-vqLoV3jBgH"
   },
   "outputs": [],
   "source": [
    "import datetime\n",
    "from sklearn.preprocessing import StandardScaler\n",
    "from sklearn.model_selection import train_test_split\n",
    "\n",
    "def preprocess(df, normalizer, is_train_set) :\n",
    "    df['start_time'] = pd.to_datetime(df['start_time'])\n",
    "    df['end_time'] = pd.to_datetime(df['end_time'])\n",
    "\n",
    "    df['start_year'] = df['start_time'].dt.year\n",
    "    df['start_month'] = df['start_time'].dt.month\n",
    "    df['start_day'] = df['start_time'].dt.day\n",
    "    df['start_hour'] = df['start_time'].dt.hour\n",
    "    df['start_minute'] = df['start_time'].dt.minute\n",
    "\n",
    "    df['end_year'] = df['end_time'].dt.year\n",
    "    df['end_month'] = df['end_time'].dt.month\n",
    "    df['end_day'] = df['end_time'].dt.day\n",
    "    df['end_hour'] = df['end_time'].dt.hour\n",
    "    df['end_minute'] = df['end_time'].dt.minute\n",
    "\n",
    "    X = np.array(df.drop(['start_time', 'end_time', 'dest lat', 'dest lon', 'price'], axis=1).values)\n",
    "    Y = np.array(df[['dest lat', 'dest lon']].values)\n",
    "\n",
    "    if is_train_set :\n",
    "        X_train, X_val, Y_train, Y_val = train_test_split(X, Y, test_size=0.25, random_state=42, shuffle=True)\n",
    "        X_train = normalizer.fit_transform(X_train)\n",
    "        X_val = normalizer.transform(X_val)\n",
    "        return (X_train, Y_train, X_val, Y_val)\n",
    "    else :\n",
    "        X = normalizer.transform(X)\n",
    "        return (X, Y)"
   ]
  },
  {
   "cell_type": "code",
   "execution_count": null,
   "metadata": {
    "colab": {
     "base_uri": "https://localhost:8080/"
    },
    "id": "XzssmZrzjBgH",
    "outputId": "57ea5370-d138-44d7-f8d0-e96fb4d9468a"
   },
   "outputs": [
    {
     "name": "stdout",
     "output_type": "stream",
     "text": [
      "((13495, 14), (13495, 2), (4499, 14), (4499, 2), (4499, 14), (4499, 2))\n"
     ]
    }
   ],
   "source": [
    "# print out the shape of the train and test dataframes\n",
    "normalizer = StandardScaler()\n",
    "X_train, Y_train, X_val, Y_val = preprocess(train_df.copy(), normalizer, True)\n",
    "X_test, Y_test = preprocess(test_df.copy(), normalizer, False)\n",
    "\n",
    "print((X_train.shape, Y_train.shape, X_val.shape, Y_val.shape, X_test.shape, Y_test.shape))"
   ]
  },
  {
   "cell_type": "markdown",
   "metadata": {
    "id": "Qu0iE1s6jBgH"
   },
   "source": [
    "## KNN Model"
   ]
  },
  {
   "cell_type": "markdown",
   "metadata": {
    "id": "PbX0VtVijBgH"
   },
   "source": [
    "In this section, we are going to implement our KNN model. For further information on how KNN works, please refer to [this](https://en.wikipedia.org/wiki/K-nearest_neighbors_algorithm) link. As you can see, it's a simple algorithm. We will start with this and see the results of our _destination suggestion_ system."
   ]
  },
  {
   "cell_type": "code",
   "execution_count": null,
   "metadata": {
    "id": "tkzg4dYrjBgH"
   },
   "outputs": [],
   "source": [
    "# Define the model\n",
    "from collections import Counter\n",
    "\n",
    "class NearestNeighbor():\n",
    "    def __init__(self, k, X_train, Y_train):\n",
    "        self.X_train = X_train\n",
    "        self.Y_train = Y_train\n",
    "        self.k = k\n",
    "\n",
    "    def fit(self, train_X, train_y):\n",
    "        # KNN algorithm does not need any training process\n",
    "        return\n",
    "\n",
    "    def find_most_repetitive_label(self, labels):\n",
    "        labels = [(label[0], label[1]) for label in labels]\n",
    "        label_counts = Counter(labels)\n",
    "        return max(label_counts, key=label_counts.get)\n",
    "\n",
    "    def predict(self, x):\n",
    "        distances = [np.linalg.norm(x - x_train) for x_train in self.X_train]\n",
    "        k_indexes = np.argsort(distances)[:self.k]\n",
    "        k_nearest_Ys = [self.Y_train[i] for i in k_indexes]\n",
    "        prediction = list(self.find_most_repetitive_label(k_nearest_Ys))\n",
    "        return prediction\n",
    "\n",
    "    def prediction_loop(self, X) :\n",
    "        predictions = []\n",
    "        for x in X :\n",
    "            predictions.append(self.predict(x))\n",
    "        return np.array(predictions)"
   ]
  },
  {
   "cell_type": "code",
   "execution_count": null,
   "metadata": {
    "id": "rZKADYfGjBgH"
   },
   "outputs": [],
   "source": [
    "# Fit the model on training data\n",
    "X_train_knn = np.vstack((X_train, X_val))\n",
    "Y_train_knn = np.vstack((Y_train, Y_val))\n",
    "knn_model = NearestNeighbor(3, X_train_knn, Y_train_knn)"
   ]
  },
  {
   "cell_type": "markdown",
   "metadata": {
    "id": "Lp8NQ7zZ6nfV"
   },
   "source": [
    "### Hyper Parameter Tuning"
   ]
  },
  {
   "cell_type": "code",
   "execution_count": null,
   "metadata": {
    "id": "S4b7ss7pKALI"
   },
   "outputs": [],
   "source": [
    "# for k in range(2,8) :\n",
    "#     knn_model.set_k(k)\n",
    "#     pred_train = knn_model.predict(X_train)\n",
    "#     pred_val = knn_model.predict(X_val)\n",
    "#     print(f'train accuracy (k={k}) :', calculate_accuracy(Y_train, pred_train))\n",
    "#     print(f'val accuracy (k={k}) :', calculate_accuracy(Y_val, pred_val))"
   ]
  },
  {
   "cell_type": "code",
   "execution_count": null,
   "metadata": {
    "id": "s2K9jP89bTUZ"
   },
   "outputs": [],
   "source": [
    "pred_train = knn_model.prediction_loop(X_train_knn)\n",
    "pred_test = knn_model.prediction_loop(X_test)"
   ]
  },
  {
   "cell_type": "code",
   "execution_count": null,
   "metadata": {
    "colab": {
     "base_uri": "https://localhost:8080/"
    },
    "id": "o0J9ZodOonyG",
    "outputId": "39babf7b-e983-472b-aa09-4732ac6920d3"
   },
   "outputs": [
    {
     "name": "stdout",
     "output_type": "stream",
     "text": [
      "train accuracy (k=3) : 0.914971657219073\n",
      "test accuracy (k=3) : 0.42853967548344074\n"
     ]
    }
   ],
   "source": [
    "print(f'train accuracy (k={3}) :', calculate_accuracy(Y_train_knn, pred_train))\n",
    "print(f'test accuracy (k={3}) :', calculate_accuracy(Y_test, pred_test))"
   ]
  },
  {
   "cell_type": "markdown",
   "metadata": {
    "id": "WU8yAvSMjBgI"
   },
   "source": [
    "**QUESTION**: What do you think about this approach? Is it a good idea to use KNN for this problem? Why (or why not)? If the patterns in our datatset (passengers' history) get more complicated, will our model be robust to it in comparison to other models?\n",
    "\n",
    "Your Answer: KNN is a simple model for machine learning problems. As we can see, the model performed reasonably good on train set, although it performed poorly on test set. So these numbers indicate that our model is facing overfitting problem and it is sensible because our predictions are based on training set (i mean like a classification task we look at train set labels and based on distances, the output is decided). The only way to resolve this problem in KNN is adding more data which is not always feasible and the reason for this is because KNN uses a simple learning algorithm and does not have lots of hyper parameters to tune. Therefore, i think using KNN for this task is not a good idea since there are not many strategies to improve the model.\n",
    "\n",
    "If the patterns in our dataset get more complicated, i think our training accuracy will fall like our test accuracy and the model will underfit because KNN is not very useful for complicated functions. It only uses clusters(it is not very accurate term in this case) in the data in order to predict and if we face near points with different classes, KNN won't do much to distinguish them.\n",
    "\n",
    "Also it worths to mention that the prediction process is dependent to the number of training set size, so the larger the dataset is, the much time needed for prediction."
   ]
  },
  {
   "cell_type": "markdown",
   "metadata": {
    "id": "RYcG1qEjjBgI"
   },
   "source": [
    "# Second Approach: Using XGBoost"
   ]
  },
  {
   "cell_type": "markdown",
   "metadata": {
    "id": "sF1M7HphjBgI"
   },
   "source": [
    "In this part, we are going to use XGBoost to predict the next destination of the passenger. You can use `xgboost` library to implement this model. To learn more about XGBoost, please refer to [this](https://en.wikipedia.org/wiki/XGBoost) link. It should be familiar to you, as you saw decision trees in the class.\n",
    "\n",
    "For this part, you can use the same data (that you did all the processes on) from the previous part. Or, if you need, you can reload the dataset and do new preprocessings on it."
   ]
  },
  {
   "cell_type": "markdown",
   "metadata": {
    "id": "Xy0U6IjvjBgI"
   },
   "source": [
    "You can see the overview of how XGBoost works in the image below:\n",
    "\n",
    "<dev style=\"text-align: center\">\n",
    "<img src=\"./Images/XGBoost.png\" />\n",
    "</dev>"
   ]
  },
  {
   "cell_type": "markdown",
   "metadata": {
    "id": "VCsGhfvojBgI"
   },
   "source": [
    "Although, this is for more information and you **do not** need to implement `XGBoost` from scratch. You can use the library that we mentioned above."
   ]
  },
  {
   "cell_type": "code",
   "execution_count": null,
   "metadata": {
    "colab": {
     "base_uri": "https://localhost:8080/"
    },
    "id": "_oXIX9gZjBgI",
    "outputId": "b3d0b6a4-795a-4751-c218-d7a39671522c"
   },
   "outputs": [
    {
     "name": "stdout",
     "output_type": "stream",
     "text": [
      "Requirement already satisfied: xgboost in /usr/local/lib/python3.10/dist-packages (2.0.3)\n",
      "Requirement already satisfied: numpy in /usr/local/lib/python3.10/dist-packages (from xgboost) (1.23.5)\n",
      "Requirement already satisfied: scipy in /usr/local/lib/python3.10/dist-packages (from xgboost) (1.11.4)\n"
     ]
    }
   ],
   "source": [
    "%pip install xgboost"
   ]
  },
  {
   "cell_type": "code",
   "execution_count": null,
   "metadata": {
    "id": "opydoh_bjBgI"
   },
   "outputs": [],
   "source": [
    "import xgboost as xgb\n",
    "from sklearn.preprocessing import LabelEncoder\n",
    "\n",
    "class Encoder:\n",
    "    def __init__(self):\n",
    "        self.label_map = {}\n",
    "        self.inverse_label_map = {}\n",
    "        self.label_encoder = LabelEncoder()\n",
    "\n",
    "    def get_lat_lon_tuple(self, arr) :\n",
    "        return [tuple(row) for row in arr]\n",
    "\n",
    "    def fit(self, Y):\n",
    "        unique_labels = set(self.get_lat_lon_tuple(Y))\n",
    "        for i, label in enumerate(unique_labels) :\n",
    "            self.label_map[label] = i\n",
    "            self.inverse_label_map[i] = label\n",
    "\n",
    "    def transform(self, Y):\n",
    "        labels = self.get_lat_lon_tuple(Y)\n",
    "        transformed_labels = [self.label_map[label] for label in labels]\n",
    "        return transformed_labels\n",
    "\n",
    "    def inverse_transform(self, enc):\n",
    "        transformed_labels = [self.inverse_label_map[enc_label] for enc_label in enc]\n",
    "        decoded_labels = [[label[0], label[1]] for label in transformed_labels]\n",
    "        return np.array(decoded_labels)"
   ]
  },
  {
   "cell_type": "code",
   "execution_count": null,
   "metadata": {
    "id": "8VS2CLoVKhOp"
   },
   "outputs": [],
   "source": [
    "encoder = Encoder()\n",
    "encoder.fit(Y_train)"
   ]
  },
  {
   "cell_type": "code",
   "execution_count": null,
   "metadata": {
    "id": "HZCWONFUjBgJ"
   },
   "outputs": [],
   "source": [
    "# transform the training and test data\n",
    "# and fit the model on training data\n",
    "classifier = xgb.XGBClassifier()"
   ]
  },
  {
   "cell_type": "code",
   "execution_count": null,
   "metadata": {
    "colab": {
     "base_uri": "https://localhost:8080/",
     "height": 248
    },
    "id": "BLUkh8ov65lp",
    "outputId": "846af63a-cd14-46c7-c545-e70568e1a092"
   },
   "outputs": [
    {
     "data": {
      "text/html": [
       "<style>#sk-container-id-1 {color: black;background-color: white;}#sk-container-id-1 pre{padding: 0;}#sk-container-id-1 div.sk-toggleable {background-color: white;}#sk-container-id-1 label.sk-toggleable__label {cursor: pointer;display: block;width: 100%;margin-bottom: 0;padding: 0.3em;box-sizing: border-box;text-align: center;}#sk-container-id-1 label.sk-toggleable__label-arrow:before {content: \"▸\";float: left;margin-right: 0.25em;color: #696969;}#sk-container-id-1 label.sk-toggleable__label-arrow:hover:before {color: black;}#sk-container-id-1 div.sk-estimator:hover label.sk-toggleable__label-arrow:before {color: black;}#sk-container-id-1 div.sk-toggleable__content {max-height: 0;max-width: 0;overflow: hidden;text-align: left;background-color: #f0f8ff;}#sk-container-id-1 div.sk-toggleable__content pre {margin: 0.2em;color: black;border-radius: 0.25em;background-color: #f0f8ff;}#sk-container-id-1 input.sk-toggleable__control:checked~div.sk-toggleable__content {max-height: 200px;max-width: 100%;overflow: auto;}#sk-container-id-1 input.sk-toggleable__control:checked~label.sk-toggleable__label-arrow:before {content: \"▾\";}#sk-container-id-1 div.sk-estimator input.sk-toggleable__control:checked~label.sk-toggleable__label {background-color: #d4ebff;}#sk-container-id-1 div.sk-label input.sk-toggleable__control:checked~label.sk-toggleable__label {background-color: #d4ebff;}#sk-container-id-1 input.sk-hidden--visually {border: 0;clip: rect(1px 1px 1px 1px);clip: rect(1px, 1px, 1px, 1px);height: 1px;margin: -1px;overflow: hidden;padding: 0;position: absolute;width: 1px;}#sk-container-id-1 div.sk-estimator {font-family: monospace;background-color: #f0f8ff;border: 1px dotted black;border-radius: 0.25em;box-sizing: border-box;margin-bottom: 0.5em;}#sk-container-id-1 div.sk-estimator:hover {background-color: #d4ebff;}#sk-container-id-1 div.sk-parallel-item::after {content: \"\";width: 100%;border-bottom: 1px solid gray;flex-grow: 1;}#sk-container-id-1 div.sk-label:hover label.sk-toggleable__label {background-color: #d4ebff;}#sk-container-id-1 div.sk-serial::before {content: \"\";position: absolute;border-left: 1px solid gray;box-sizing: border-box;top: 0;bottom: 0;left: 50%;z-index: 0;}#sk-container-id-1 div.sk-serial {display: flex;flex-direction: column;align-items: center;background-color: white;padding-right: 0.2em;padding-left: 0.2em;position: relative;}#sk-container-id-1 div.sk-item {position: relative;z-index: 1;}#sk-container-id-1 div.sk-parallel {display: flex;align-items: stretch;justify-content: center;background-color: white;position: relative;}#sk-container-id-1 div.sk-item::before, #sk-container-id-1 div.sk-parallel-item::before {content: \"\";position: absolute;border-left: 1px solid gray;box-sizing: border-box;top: 0;bottom: 0;left: 50%;z-index: -1;}#sk-container-id-1 div.sk-parallel-item {display: flex;flex-direction: column;z-index: 1;position: relative;background-color: white;}#sk-container-id-1 div.sk-parallel-item:first-child::after {align-self: flex-end;width: 50%;}#sk-container-id-1 div.sk-parallel-item:last-child::after {align-self: flex-start;width: 50%;}#sk-container-id-1 div.sk-parallel-item:only-child::after {width: 0;}#sk-container-id-1 div.sk-dashed-wrapped {border: 1px dashed gray;margin: 0 0.4em 0.5em 0.4em;box-sizing: border-box;padding-bottom: 0.4em;background-color: white;}#sk-container-id-1 div.sk-label label {font-family: monospace;font-weight: bold;display: inline-block;line-height: 1.2em;}#sk-container-id-1 div.sk-label-container {text-align: center;}#sk-container-id-1 div.sk-container {/* jupyter's `normalize.less` sets `[hidden] { display: none; }` but bootstrap.min.css set `[hidden] { display: none !important; }` so we also need the `!important` here to be able to override the default hidden behavior on the sphinx rendered scikit-learn.org. See: https://github.com/scikit-learn/scikit-learn/issues/21755 */display: inline-block !important;position: relative;}#sk-container-id-1 div.sk-text-repr-fallback {display: none;}</style><div id=\"sk-container-id-1\" class=\"sk-top-container\"><div class=\"sk-text-repr-fallback\"><pre>XGBClassifier(base_score=None, booster=None, callbacks=None,\n",
       "              colsample_bylevel=None, colsample_bynode=None,\n",
       "              colsample_bytree=None, device=None, early_stopping_rounds=None,\n",
       "              enable_categorical=False, eval_metric=None, feature_types=None,\n",
       "              gamma=None, grow_policy=None, importance_type=None,\n",
       "              interaction_constraints=None, learning_rate=None, max_bin=None,\n",
       "              max_cat_threshold=None, max_cat_to_onehot=None,\n",
       "              max_delta_step=None, max_depth=None, max_leaves=None,\n",
       "              min_child_weight=None, missing=nan, monotone_constraints=None,\n",
       "              multi_strategy=None, n_estimators=None, n_jobs=None,\n",
       "              num_parallel_tree=None, objective=&#x27;multi:softprob&#x27;, ...)</pre><b>In a Jupyter environment, please rerun this cell to show the HTML representation or trust the notebook. <br />On GitHub, the HTML representation is unable to render, please try loading this page with nbviewer.org.</b></div><div class=\"sk-container\" hidden><div class=\"sk-item\"><div class=\"sk-estimator sk-toggleable\"><input class=\"sk-toggleable__control sk-hidden--visually\" id=\"sk-estimator-id-1\" type=\"checkbox\" checked><label for=\"sk-estimator-id-1\" class=\"sk-toggleable__label sk-toggleable__label-arrow\">XGBClassifier</label><div class=\"sk-toggleable__content\"><pre>XGBClassifier(base_score=None, booster=None, callbacks=None,\n",
       "              colsample_bylevel=None, colsample_bynode=None,\n",
       "              colsample_bytree=None, device=None, early_stopping_rounds=None,\n",
       "              enable_categorical=False, eval_metric=None, feature_types=None,\n",
       "              gamma=None, grow_policy=None, importance_type=None,\n",
       "              interaction_constraints=None, learning_rate=None, max_bin=None,\n",
       "              max_cat_threshold=None, max_cat_to_onehot=None,\n",
       "              max_delta_step=None, max_depth=None, max_leaves=None,\n",
       "              min_child_weight=None, missing=nan, monotone_constraints=None,\n",
       "              multi_strategy=None, n_estimators=None, n_jobs=None,\n",
       "              num_parallel_tree=None, objective=&#x27;multi:softprob&#x27;, ...)</pre></div></div></div></div></div>"
      ],
      "text/plain": [
       "XGBClassifier(base_score=None, booster=None, callbacks=None,\n",
       "              colsample_bylevel=None, colsample_bynode=None,\n",
       "              colsample_bytree=None, device=None, early_stopping_rounds=None,\n",
       "              enable_categorical=False, eval_metric=None, feature_types=None,\n",
       "              gamma=None, grow_policy=None, importance_type=None,\n",
       "              interaction_constraints=None, learning_rate=None, max_bin=None,\n",
       "              max_cat_threshold=None, max_cat_to_onehot=None,\n",
       "              max_delta_step=None, max_depth=None, max_leaves=None,\n",
       "              min_child_weight=None, missing=nan, monotone_constraints=None,\n",
       "              multi_strategy=None, n_estimators=None, n_jobs=None,\n",
       "              num_parallel_tree=None, objective='multi:softprob', ...)"
      ]
     },
     "execution_count": 23,
     "metadata": {},
     "output_type": "execute_result"
    }
   ],
   "source": [
    "classifier.fit(X_train, encoder.transform(Y_train))"
   ]
  },
  {
   "cell_type": "code",
   "execution_count": null,
   "metadata": {
    "colab": {
     "base_uri": "https://localhost:8080/"
    },
    "id": "Ke82fkzxK92e",
    "outputId": "599d18c6-3dbc-4977-d958-c998792ca7f5"
   },
   "outputs": [
    {
     "name": "stdout",
     "output_type": "stream",
     "text": [
      "train accuracy : 0.9999258984809188\n"
     ]
    }
   ],
   "source": [
    "pred_train = classifier.predict(X_train)\n",
    "print('train accuracy :', calculate_accuracy(Y_train, encoder.inverse_transform(pred_train)))"
   ]
  },
  {
   "cell_type": "code",
   "execution_count": null,
   "metadata": {
    "colab": {
     "base_uri": "https://localhost:8080/"
    },
    "id": "pKujvGhF55Sa",
    "outputId": "d787ee84-479e-42da-f156-5b111a409340"
   },
   "outputs": [
    {
     "name": "stdout",
     "output_type": "stream",
     "text": [
      "val accuracy : 0.6910424538786397\n"
     ]
    }
   ],
   "source": [
    "pred_val = classifier.predict(X_val)\n",
    "print('val accuracy :', calculate_accuracy(Y_val, encoder.inverse_transform(pred_val)))"
   ]
  },
  {
   "cell_type": "code",
   "execution_count": null,
   "metadata": {
    "colab": {
     "base_uri": "https://localhost:8080/"
    },
    "id": "eAvVpNI07Csq",
    "outputId": "0ad8ff8c-b361-4dcb-bc8e-7e4a87d89a2c"
   },
   "outputs": [
    {
     "name": "stdout",
     "output_type": "stream",
     "text": [
      "test accuracy : 0.6817070460102245\n"
     ]
    }
   ],
   "source": [
    "pred_test = classifier.predict(X_test)\n",
    "print('test accuracy :', calculate_accuracy(Y_test, encoder.inverse_transform(pred_test)))"
   ]
  },
  {
   "cell_type": "markdown",
   "metadata": {
    "id": "Yvi-ZTvrjBgJ"
   },
   "source": [
    "**QUESTION**: What do you think about this approach? Is it a good idea to use XGBoost for this problem? Why (or why not)? If the patterns in our datatset (passengers' history) get more complicated, will our model be robust to it in comparison to other models?\n",
    "\n",
    "Your Answer: Well, XGBoost is an implementation of gradient boosting which is an algorithm that uses several predictors which are attached to each other sequentially and each one corrects its previous predictor's residual error. It provides lots of hyper parameters unlike KNN. Based on our accuracies, the model is overfitting. However, it is still performing better on validation and test set than KNN.  I think it is a good idea to use XGBoost model for these reasons :\n",
    "1. It is significantly fast.\n",
    "2. it has a lot of parameters and since we are overfitting, there is a hope to improve the model and reach somewhere between underfit and overfit.\n",
    "\n",
    "If the patterns in our dataset get more complicated, i think the model still can capture complex patterns since it can start with poor models and gradually improve the performance. However, this needs hyperparameter tuning. Notice that XGBoost is limited to convex loss functions, which may not be suitable for specific applications and datasets that require non-convex loss functions\n",
    "\n",
    "I will explain the problem of overfitting in the next question.  "
   ]
  },
  {
   "cell_type": "markdown",
   "metadata": {
    "id": "El3xlsrFjBgJ"
   },
   "source": [
    "**Question:** Please explain the problem of overfitting in XGBoost. How can you solve it? Provide a brief explanation.\n",
    "\n",
    "Overfitting is a common problem in XGBoost, like any other algorithm. Several factors can contribute to XGBoost overfitting:\n",
    "\n",
    "- If the training data is limited, the model may not capture the underlying patterns effectively, leading to overfitting.\n",
    "\n",
    "- Setting a high number of trees can cause overfitting as the model starts to incorporate noisy details from the training data.\n",
    "\n",
    "- Allowing the trees to grow excessively deep enables them to memorize the training data instead of learning general patterns, resulting in poor performance on unseen data. Overfitting can also occur if the learning rate (eta) is too large or if other parameters are inappropriately set.\n",
    "\n",
    "- When the training set is small or lacks diversity, the model may memorize the examples instead of capturing the underlying patterns, leading to poor generalization.\n",
    "\n",
    "- XGBoost may prioritize the majority class and neglect the minority class if the dataset is imbalanced, affecting the model's performance.\n",
    "\n",
    "- In high-dimensional data, incorporating irrelevant or noisy features can lead to overfitting. Addressing this issue may involve feature selection or dimensionality reduction techniques.\n",
    "\n",
    "In our case, potential reasons for overfitting include having 100 trees, a regularization parameter of 1, a gamma value of 0, and also the size of the training set and the dataset's imbalance (which needs to be checked).\n",
    "\n",
    "To solve overfitting in XGBoost, the following solutions can be employed:\n",
    "\n",
    "- Regularization: Increasing the \"alpha\" and \"lambda\" values enhances regularization and helps overcome overfitting.\n",
    "\n",
    "- Parameter Tuning: Fine-tuning other hyperparameters of the model can significantly reduce overfitting, such as adjusting the learning rate, subsample ratio, and column subsampling.\n",
    "\n",
    "- Early Stopping: Monitoring the model's performance on a validation set and stopping the training when the performance plateaus can prevent the model from overfitting.\n",
    "\n",
    "- Feature Selection: Identifying and selecting relevant features can reduce the model's complexity and prevent the incorporation of irrelevant or noisy information.\n",
    "\n",
    "- Increasing Training Data: Obtaining more training data can provide a more representative sample and help mitigate overfitting issues."
   ]
  },
  {
   "cell_type": "markdown",
   "metadata": {
    "id": "gSGfZN0mjBgJ"
   },
   "source": [
    "# Third Approach: Classifier Using Neural Networks"
   ]
  },
  {
   "cell_type": "markdown",
   "metadata": {
    "id": "fn5QAxwpjBgJ"
   },
   "source": [
    "In this approach, we are going to use a classifier using neural networks. You can think of this approach and how to model the problem as a classification problem in many ways! So, we are not going to restrict your creativity. Just a hint: You can consider each of the unique destinations (in whole dataset) as a class and then train a classifier to classify the destinations."
   ]
  },
  {
   "cell_type": "markdown",
   "metadata": {
    "id": "3SCXXFbLjBgR"
   },
   "source": [
    "## Data for Neural Network"
   ]
  },
  {
   "cell_type": "markdown",
   "metadata": {
    "id": "qIUZYxUmjBgR"
   },
   "source": [
    "Let's prepare the data for our neural network. Again, you should extract required features from the dataset and then split the dataset into train-test-val sets if necessary. For your ease, we prepared another version of `output.json` that helps you to extract features for this part, easier. So, please load `Data/trip_data.json` and use it for training set and validation set. You should use `Data/trip_data_test.json` for testing your model."
   ]
  },
  {
   "cell_type": "code",
   "execution_count": null,
   "metadata": {
    "colab": {
     "base_uri": "https://localhost:8080/",
     "height": 423
    },
    "id": "dCu8FDsNjBgR",
    "outputId": "8af406e0-39b5-4200-bc8a-c0e1f72996b3"
   },
   "outputs": [
    {
     "data": {
      "text/html": [
       "\n",
       "  <div id=\"df-90953e0e-f9d8-40a7-b4e2-c01907f027de\" class=\"colab-df-container\">\n",
       "    <div>\n",
       "<style scoped>\n",
       "    .dataframe tbody tr th:only-of-type {\n",
       "        vertical-align: middle;\n",
       "    }\n",
       "\n",
       "    .dataframe tbody tr th {\n",
       "        vertical-align: top;\n",
       "    }\n",
       "\n",
       "    .dataframe thead th {\n",
       "        text-align: right;\n",
       "    }\n",
       "</style>\n",
       "<table border=\"1\" class=\"dataframe\">\n",
       "  <thead>\n",
       "    <tr style=\"text-align: right;\">\n",
       "      <th></th>\n",
       "      <th>user_id</th>\n",
       "      <th>Day</th>\n",
       "      <th>origin</th>\n",
       "      <th>destination</th>\n",
       "      <th>start_time</th>\n",
       "      <th>end_time</th>\n",
       "      <th>price</th>\n",
       "    </tr>\n",
       "  </thead>\n",
       "  <tbody>\n",
       "    <tr>\n",
       "      <th>0</th>\n",
       "      <td>0</td>\n",
       "      <td>0</td>\n",
       "      <td>[work, [35.625, 51.375]]</td>\n",
       "      <td>[restaurant, [36.0, 51.085]]</td>\n",
       "      <td>2024-01-30 13:07:00</td>\n",
       "      <td>2024-01-30 14:43:00</td>\n",
       "      <td>43.99</td>\n",
       "    </tr>\n",
       "    <tr>\n",
       "      <th>1</th>\n",
       "      <td>0</td>\n",
       "      <td>0</td>\n",
       "      <td>[restaurant, [36.0, 51.085]]</td>\n",
       "      <td>[work, [35.625, 51.375]]</td>\n",
       "      <td>2024-01-30 15:13:00</td>\n",
       "      <td>2024-01-30 16:49:00</td>\n",
       "      <td>36.66</td>\n",
       "    </tr>\n",
       "    <tr>\n",
       "      <th>2</th>\n",
       "      <td>0</td>\n",
       "      <td>0</td>\n",
       "      <td>[home, [35.68, 51.445]]</td>\n",
       "      <td>[restaurant, [35.745, 51.465]]</td>\n",
       "      <td>2024-01-30 20:41:00</td>\n",
       "      <td>2024-01-30 20:54:00</td>\n",
       "      <td>15.08</td>\n",
       "    </tr>\n",
       "    <tr>\n",
       "      <th>3</th>\n",
       "      <td>0</td>\n",
       "      <td>0</td>\n",
       "      <td>[restaurant, [35.745, 51.465]]</td>\n",
       "      <td>[home, [35.68, 51.445]]</td>\n",
       "      <td>2024-01-30 21:24:00</td>\n",
       "      <td>2024-01-30 21:37:00</td>\n",
       "      <td>10.00</td>\n",
       "    </tr>\n",
       "    <tr>\n",
       "      <th>4</th>\n",
       "      <td>0</td>\n",
       "      <td>1</td>\n",
       "      <td>[work, [35.625, 51.375]]</td>\n",
       "      <td>[home, [35.68, 51.445]]</td>\n",
       "      <td>2024-01-30 23:38:00</td>\n",
       "      <td>2024-01-30 23:58:00</td>\n",
       "      <td>19.48</td>\n",
       "    </tr>\n",
       "    <tr>\n",
       "      <th>...</th>\n",
       "      <td>...</td>\n",
       "      <td>...</td>\n",
       "      <td>...</td>\n",
       "      <td>...</td>\n",
       "      <td>...</td>\n",
       "      <td>...</td>\n",
       "      <td>...</td>\n",
       "    </tr>\n",
       "    <tr>\n",
       "      <th>17989</th>\n",
       "      <td>59</td>\n",
       "      <td>0</td>\n",
       "      <td>[home, [35.95, 51.225]]</td>\n",
       "      <td>[work, [35.875, 51.125]]</td>\n",
       "      <td>2024-01-30 06:41:00</td>\n",
       "      <td>2024-01-30 07:07:00</td>\n",
       "      <td>10.92</td>\n",
       "    </tr>\n",
       "    <tr>\n",
       "      <th>17990</th>\n",
       "      <td>59</td>\n",
       "      <td>0</td>\n",
       "      <td>[work, [35.875, 51.125]]</td>\n",
       "      <td>[restaurant, [35.69, 51.295]]</td>\n",
       "      <td>2024-01-30 12:46:00</td>\n",
       "      <td>2024-01-30 13:35:00</td>\n",
       "      <td>17.35</td>\n",
       "    </tr>\n",
       "    <tr>\n",
       "      <th>17991</th>\n",
       "      <td>59</td>\n",
       "      <td>0</td>\n",
       "      <td>[work, [35.875, 51.125]]</td>\n",
       "      <td>[pool, [35.525, 51.1]]</td>\n",
       "      <td>2024-01-30 17:39:00</td>\n",
       "      <td>2024-01-30 18:48:00</td>\n",
       "      <td>34.56</td>\n",
       "    </tr>\n",
       "    <tr>\n",
       "      <th>17992</th>\n",
       "      <td>59</td>\n",
       "      <td>0</td>\n",
       "      <td>[pool, [35.525, 51.1]]</td>\n",
       "      <td>[restaurant, [35.815, 51.32]]</td>\n",
       "      <td>2024-01-30 20:09:00</td>\n",
       "      <td>2024-01-30 21:19:00</td>\n",
       "      <td>36.80</td>\n",
       "    </tr>\n",
       "    <tr>\n",
       "      <th>17993</th>\n",
       "      <td>59</td>\n",
       "      <td>0</td>\n",
       "      <td>[restaurant, [35.815, 51.32]]</td>\n",
       "      <td>[home, [35.95, 51.225]]</td>\n",
       "      <td>2024-01-30 21:49:00</td>\n",
       "      <td>2024-01-30 22:21:00</td>\n",
       "      <td>11.22</td>\n",
       "    </tr>\n",
       "  </tbody>\n",
       "</table>\n",
       "<p>17994 rows × 7 columns</p>\n",
       "</div>\n",
       "    <div class=\"colab-df-buttons\">\n",
       "\n",
       "  <div class=\"colab-df-container\">\n",
       "    <button class=\"colab-df-convert\" onclick=\"convertToInteractive('df-90953e0e-f9d8-40a7-b4e2-c01907f027de')\"\n",
       "            title=\"Convert this dataframe to an interactive table.\"\n",
       "            style=\"display:none;\">\n",
       "\n",
       "  <svg xmlns=\"http://www.w3.org/2000/svg\" height=\"24px\" viewBox=\"0 -960 960 960\">\n",
       "    <path d=\"M120-120v-720h720v720H120Zm60-500h600v-160H180v160Zm220 220h160v-160H400v160Zm0 220h160v-160H400v160ZM180-400h160v-160H180v160Zm440 0h160v-160H620v160ZM180-180h160v-160H180v160Zm440 0h160v-160H620v160Z\"/>\n",
       "  </svg>\n",
       "    </button>\n",
       "\n",
       "  <style>\n",
       "    .colab-df-container {\n",
       "      display:flex;\n",
       "      gap: 12px;\n",
       "    }\n",
       "\n",
       "    .colab-df-convert {\n",
       "      background-color: #E8F0FE;\n",
       "      border: none;\n",
       "      border-radius: 50%;\n",
       "      cursor: pointer;\n",
       "      display: none;\n",
       "      fill: #1967D2;\n",
       "      height: 32px;\n",
       "      padding: 0 0 0 0;\n",
       "      width: 32px;\n",
       "    }\n",
       "\n",
       "    .colab-df-convert:hover {\n",
       "      background-color: #E2EBFA;\n",
       "      box-shadow: 0px 1px 2px rgba(60, 64, 67, 0.3), 0px 1px 3px 1px rgba(60, 64, 67, 0.15);\n",
       "      fill: #174EA6;\n",
       "    }\n",
       "\n",
       "    .colab-df-buttons div {\n",
       "      margin-bottom: 4px;\n",
       "    }\n",
       "\n",
       "    [theme=dark] .colab-df-convert {\n",
       "      background-color: #3B4455;\n",
       "      fill: #D2E3FC;\n",
       "    }\n",
       "\n",
       "    [theme=dark] .colab-df-convert:hover {\n",
       "      background-color: #434B5C;\n",
       "      box-shadow: 0px 1px 3px 1px rgba(0, 0, 0, 0.15);\n",
       "      filter: drop-shadow(0px 1px 2px rgba(0, 0, 0, 0.3));\n",
       "      fill: #FFFFFF;\n",
       "    }\n",
       "  </style>\n",
       "\n",
       "    <script>\n",
       "      const buttonEl =\n",
       "        document.querySelector('#df-90953e0e-f9d8-40a7-b4e2-c01907f027de button.colab-df-convert');\n",
       "      buttonEl.style.display =\n",
       "        google.colab.kernel.accessAllowed ? 'block' : 'none';\n",
       "\n",
       "      async function convertToInteractive(key) {\n",
       "        const element = document.querySelector('#df-90953e0e-f9d8-40a7-b4e2-c01907f027de');\n",
       "        const dataTable =\n",
       "          await google.colab.kernel.invokeFunction('convertToInteractive',\n",
       "                                                    [key], {});\n",
       "        if (!dataTable) return;\n",
       "\n",
       "        const docLinkHtml = 'Like what you see? Visit the ' +\n",
       "          '<a target=\"_blank\" href=https://colab.research.google.com/notebooks/data_table.ipynb>data table notebook</a>'\n",
       "          + ' to learn more about interactive tables.';\n",
       "        element.innerHTML = '';\n",
       "        dataTable['output_type'] = 'display_data';\n",
       "        await google.colab.output.renderOutput(dataTable, element);\n",
       "        const docLink = document.createElement('div');\n",
       "        docLink.innerHTML = docLinkHtml;\n",
       "        element.appendChild(docLink);\n",
       "      }\n",
       "    </script>\n",
       "  </div>\n",
       "\n",
       "\n",
       "<div id=\"df-901721de-43ad-456f-99ac-0dc594e6a2c6\">\n",
       "  <button class=\"colab-df-quickchart\" onclick=\"quickchart('df-901721de-43ad-456f-99ac-0dc594e6a2c6')\"\n",
       "            title=\"Suggest charts\"\n",
       "            style=\"display:none;\">\n",
       "\n",
       "<svg xmlns=\"http://www.w3.org/2000/svg\" height=\"24px\"viewBox=\"0 0 24 24\"\n",
       "     width=\"24px\">\n",
       "    <g>\n",
       "        <path d=\"M19 3H5c-1.1 0-2 .9-2 2v14c0 1.1.9 2 2 2h14c1.1 0 2-.9 2-2V5c0-1.1-.9-2-2-2zM9 17H7v-7h2v7zm4 0h-2V7h2v10zm4 0h-2v-4h2v4z\"/>\n",
       "    </g>\n",
       "</svg>\n",
       "  </button>\n",
       "\n",
       "<style>\n",
       "  .colab-df-quickchart {\n",
       "      --bg-color: #E8F0FE;\n",
       "      --fill-color: #1967D2;\n",
       "      --hover-bg-color: #E2EBFA;\n",
       "      --hover-fill-color: #174EA6;\n",
       "      --disabled-fill-color: #AAA;\n",
       "      --disabled-bg-color: #DDD;\n",
       "  }\n",
       "\n",
       "  [theme=dark] .colab-df-quickchart {\n",
       "      --bg-color: #3B4455;\n",
       "      --fill-color: #D2E3FC;\n",
       "      --hover-bg-color: #434B5C;\n",
       "      --hover-fill-color: #FFFFFF;\n",
       "      --disabled-bg-color: #3B4455;\n",
       "      --disabled-fill-color: #666;\n",
       "  }\n",
       "\n",
       "  .colab-df-quickchart {\n",
       "    background-color: var(--bg-color);\n",
       "    border: none;\n",
       "    border-radius: 50%;\n",
       "    cursor: pointer;\n",
       "    display: none;\n",
       "    fill: var(--fill-color);\n",
       "    height: 32px;\n",
       "    padding: 0;\n",
       "    width: 32px;\n",
       "  }\n",
       "\n",
       "  .colab-df-quickchart:hover {\n",
       "    background-color: var(--hover-bg-color);\n",
       "    box-shadow: 0 1px 2px rgba(60, 64, 67, 0.3), 0 1px 3px 1px rgba(60, 64, 67, 0.15);\n",
       "    fill: var(--button-hover-fill-color);\n",
       "  }\n",
       "\n",
       "  .colab-df-quickchart-complete:disabled,\n",
       "  .colab-df-quickchart-complete:disabled:hover {\n",
       "    background-color: var(--disabled-bg-color);\n",
       "    fill: var(--disabled-fill-color);\n",
       "    box-shadow: none;\n",
       "  }\n",
       "\n",
       "  .colab-df-spinner {\n",
       "    border: 2px solid var(--fill-color);\n",
       "    border-color: transparent;\n",
       "    border-bottom-color: var(--fill-color);\n",
       "    animation:\n",
       "      spin 1s steps(1) infinite;\n",
       "  }\n",
       "\n",
       "  @keyframes spin {\n",
       "    0% {\n",
       "      border-color: transparent;\n",
       "      border-bottom-color: var(--fill-color);\n",
       "      border-left-color: var(--fill-color);\n",
       "    }\n",
       "    20% {\n",
       "      border-color: transparent;\n",
       "      border-left-color: var(--fill-color);\n",
       "      border-top-color: var(--fill-color);\n",
       "    }\n",
       "    30% {\n",
       "      border-color: transparent;\n",
       "      border-left-color: var(--fill-color);\n",
       "      border-top-color: var(--fill-color);\n",
       "      border-right-color: var(--fill-color);\n",
       "    }\n",
       "    40% {\n",
       "      border-color: transparent;\n",
       "      border-right-color: var(--fill-color);\n",
       "      border-top-color: var(--fill-color);\n",
       "    }\n",
       "    60% {\n",
       "      border-color: transparent;\n",
       "      border-right-color: var(--fill-color);\n",
       "    }\n",
       "    80% {\n",
       "      border-color: transparent;\n",
       "      border-right-color: var(--fill-color);\n",
       "      border-bottom-color: var(--fill-color);\n",
       "    }\n",
       "    90% {\n",
       "      border-color: transparent;\n",
       "      border-bottom-color: var(--fill-color);\n",
       "    }\n",
       "  }\n",
       "</style>\n",
       "\n",
       "  <script>\n",
       "    async function quickchart(key) {\n",
       "      const quickchartButtonEl =\n",
       "        document.querySelector('#' + key + ' button');\n",
       "      quickchartButtonEl.disabled = true;  // To prevent multiple clicks.\n",
       "      quickchartButtonEl.classList.add('colab-df-spinner');\n",
       "      try {\n",
       "        const charts = await google.colab.kernel.invokeFunction(\n",
       "            'suggestCharts', [key], {});\n",
       "      } catch (error) {\n",
       "        console.error('Error during call to suggestCharts:', error);\n",
       "      }\n",
       "      quickchartButtonEl.classList.remove('colab-df-spinner');\n",
       "      quickchartButtonEl.classList.add('colab-df-quickchart-complete');\n",
       "    }\n",
       "    (() => {\n",
       "      let quickchartButtonEl =\n",
       "        document.querySelector('#df-901721de-43ad-456f-99ac-0dc594e6a2c6 button');\n",
       "      quickchartButtonEl.style.display =\n",
       "        google.colab.kernel.accessAllowed ? 'block' : 'none';\n",
       "    })();\n",
       "  </script>\n",
       "</div>\n",
       "    </div>\n",
       "  </div>\n"
      ],
      "text/plain": [
       "       user_id  Day                          origin  \\\n",
       "0            0    0        [work, [35.625, 51.375]]   \n",
       "1            0    0    [restaurant, [36.0, 51.085]]   \n",
       "2            0    0         [home, [35.68, 51.445]]   \n",
       "3            0    0  [restaurant, [35.745, 51.465]]   \n",
       "4            0    1        [work, [35.625, 51.375]]   \n",
       "...        ...  ...                             ...   \n",
       "17989       59    0         [home, [35.95, 51.225]]   \n",
       "17990       59    0        [work, [35.875, 51.125]]   \n",
       "17991       59    0        [work, [35.875, 51.125]]   \n",
       "17992       59    0          [pool, [35.525, 51.1]]   \n",
       "17993       59    0   [restaurant, [35.815, 51.32]]   \n",
       "\n",
       "                          destination          start_time            end_time  \\\n",
       "0        [restaurant, [36.0, 51.085]] 2024-01-30 13:07:00 2024-01-30 14:43:00   \n",
       "1            [work, [35.625, 51.375]] 2024-01-30 15:13:00 2024-01-30 16:49:00   \n",
       "2      [restaurant, [35.745, 51.465]] 2024-01-30 20:41:00 2024-01-30 20:54:00   \n",
       "3             [home, [35.68, 51.445]] 2024-01-30 21:24:00 2024-01-30 21:37:00   \n",
       "4             [home, [35.68, 51.445]] 2024-01-30 23:38:00 2024-01-30 23:58:00   \n",
       "...                               ...                 ...                 ...   \n",
       "17989        [work, [35.875, 51.125]] 2024-01-30 06:41:00 2024-01-30 07:07:00   \n",
       "17990   [restaurant, [35.69, 51.295]] 2024-01-30 12:46:00 2024-01-30 13:35:00   \n",
       "17991          [pool, [35.525, 51.1]] 2024-01-30 17:39:00 2024-01-30 18:48:00   \n",
       "17992   [restaurant, [35.815, 51.32]] 2024-01-30 20:09:00 2024-01-30 21:19:00   \n",
       "17993         [home, [35.95, 51.225]] 2024-01-30 21:49:00 2024-01-30 22:21:00   \n",
       "\n",
       "       price  \n",
       "0      43.99  \n",
       "1      36.66  \n",
       "2      15.08  \n",
       "3      10.00  \n",
       "4      19.48  \n",
       "...      ...  \n",
       "17989  10.92  \n",
       "17990  17.35  \n",
       "17991  34.56  \n",
       "17992  36.80  \n",
       "17993  11.22  \n",
       "\n",
       "[17994 rows x 7 columns]"
      ]
     },
     "execution_count": 4,
     "metadata": {},
     "output_type": "execute_result"
    }
   ],
   "source": [
    "# load the training dataset\n",
    "nn_train_df = pd.read_json('Data/trip_data.json')\n",
    "nn_train_df"
   ]
  },
  {
   "cell_type": "code",
   "execution_count": null,
   "metadata": {
    "colab": {
     "base_uri": "https://localhost:8080/",
     "height": 423
    },
    "id": "LPzUySckjBgR",
    "outputId": "d01daa3d-bc75-464d-8f76-26605d0228ca"
   },
   "outputs": [
    {
     "data": {
      "text/html": [
       "\n",
       "  <div id=\"df-16226ede-9516-4265-a7b8-0dc37e7c8ef1\" class=\"colab-df-container\">\n",
       "    <div>\n",
       "<style scoped>\n",
       "    .dataframe tbody tr th:only-of-type {\n",
       "        vertical-align: middle;\n",
       "    }\n",
       "\n",
       "    .dataframe tbody tr th {\n",
       "        vertical-align: top;\n",
       "    }\n",
       "\n",
       "    .dataframe thead th {\n",
       "        text-align: right;\n",
       "    }\n",
       "</style>\n",
       "<table border=\"1\" class=\"dataframe\">\n",
       "  <thead>\n",
       "    <tr style=\"text-align: right;\">\n",
       "      <th></th>\n",
       "      <th>user_id</th>\n",
       "      <th>Day</th>\n",
       "      <th>origin</th>\n",
       "      <th>destination</th>\n",
       "      <th>start_time</th>\n",
       "      <th>end_time</th>\n",
       "      <th>price</th>\n",
       "    </tr>\n",
       "  </thead>\n",
       "  <tbody>\n",
       "    <tr>\n",
       "      <th>0</th>\n",
       "      <td>24</td>\n",
       "      <td>6</td>\n",
       "      <td>[pool, [35.65, 51.225]]</td>\n",
       "      <td>[home, [35.64, 51.27]]</td>\n",
       "      <td>2024-01-30 11:58:00</td>\n",
       "      <td>2024-01-30 12:12:00</td>\n",
       "      <td>10.00</td>\n",
       "    </tr>\n",
       "    <tr>\n",
       "      <th>1</th>\n",
       "      <td>46</td>\n",
       "      <td>2</td>\n",
       "      <td>[university, [35.625, 51.25]]</td>\n",
       "      <td>[restaurant, [35.69, 51.295]]</td>\n",
       "      <td>2024-01-30 21:58:00</td>\n",
       "      <td>2024-01-30 22:18:00</td>\n",
       "      <td>11.84</td>\n",
       "    </tr>\n",
       "    <tr>\n",
       "      <th>2</th>\n",
       "      <td>27</td>\n",
       "      <td>5</td>\n",
       "      <td>[pool, [35.65, 51.225]]</td>\n",
       "      <td>[restaurant, [35.865, 51.045]]</td>\n",
       "      <td>2024-01-30 20:05:00</td>\n",
       "      <td>2024-01-30 20:58:00</td>\n",
       "      <td>23.36</td>\n",
       "    </tr>\n",
       "    <tr>\n",
       "      <th>3</th>\n",
       "      <td>7</td>\n",
       "      <td>4</td>\n",
       "      <td>[work, [35.875, 51.375]]</td>\n",
       "      <td>[home, [35.89, 51.315]]</td>\n",
       "      <td>2024-01-30 17:39:00</td>\n",
       "      <td>2024-01-30 18:17:00</td>\n",
       "      <td>13.74</td>\n",
       "    </tr>\n",
       "    <tr>\n",
       "      <th>4</th>\n",
       "      <td>27</td>\n",
       "      <td>3</td>\n",
       "      <td>[work, [35.625, 51.375]]</td>\n",
       "      <td>[restaurant, [35.65, 51.385]]</td>\n",
       "      <td>2024-01-30 13:16:00</td>\n",
       "      <td>2024-01-30 13:19:00</td>\n",
       "      <td>15.08</td>\n",
       "    </tr>\n",
       "    <tr>\n",
       "      <th>...</th>\n",
       "      <td>...</td>\n",
       "      <td>...</td>\n",
       "      <td>...</td>\n",
       "      <td>...</td>\n",
       "      <td>...</td>\n",
       "      <td>...</td>\n",
       "      <td>...</td>\n",
       "    </tr>\n",
       "    <tr>\n",
       "      <th>4494</th>\n",
       "      <td>32</td>\n",
       "      <td>3</td>\n",
       "      <td>[home, [35.775, 51.4]]</td>\n",
       "      <td>[university, [35.875, 51.25]]</td>\n",
       "      <td>2024-01-30 07:11:00</td>\n",
       "      <td>2024-01-30 07:51:00</td>\n",
       "      <td>27.15</td>\n",
       "    </tr>\n",
       "    <tr>\n",
       "      <th>4495</th>\n",
       "      <td>36</td>\n",
       "      <td>1</td>\n",
       "      <td>[work, [35.625, 51.125]]</td>\n",
       "      <td>[home, [35.735, 51.2]]</td>\n",
       "      <td>2024-01-30 17:08:00</td>\n",
       "      <td>2024-01-30 17:38:00</td>\n",
       "      <td>10.78</td>\n",
       "    </tr>\n",
       "    <tr>\n",
       "      <th>4496</th>\n",
       "      <td>40</td>\n",
       "      <td>2</td>\n",
       "      <td>[restaurant, [36.0, 51.085]]</td>\n",
       "      <td>[home, [35.545, 51.145]]</td>\n",
       "      <td>2024-01-30 22:13:00</td>\n",
       "      <td>2024-01-30 23:43:00</td>\n",
       "      <td>43.47</td>\n",
       "    </tr>\n",
       "    <tr>\n",
       "      <th>4497</th>\n",
       "      <td>19</td>\n",
       "      <td>3</td>\n",
       "      <td>[work, [35.875, 51.125]]</td>\n",
       "      <td>[home, [35.84, 51.13]]</td>\n",
       "      <td>2024-01-30 17:33:00</td>\n",
       "      <td>2024-01-30 18:03:00</td>\n",
       "      <td>19.37</td>\n",
       "    </tr>\n",
       "    <tr>\n",
       "      <th>4498</th>\n",
       "      <td>19</td>\n",
       "      <td>4</td>\n",
       "      <td>[work, [35.875, 51.125]]</td>\n",
       "      <td>[home, [35.84, 51.13]]</td>\n",
       "      <td>2024-01-30 17:30:00</td>\n",
       "      <td>2024-01-30 18:01:00</td>\n",
       "      <td>12.36</td>\n",
       "    </tr>\n",
       "  </tbody>\n",
       "</table>\n",
       "<p>4499 rows × 7 columns</p>\n",
       "</div>\n",
       "    <div class=\"colab-df-buttons\">\n",
       "\n",
       "  <div class=\"colab-df-container\">\n",
       "    <button class=\"colab-df-convert\" onclick=\"convertToInteractive('df-16226ede-9516-4265-a7b8-0dc37e7c8ef1')\"\n",
       "            title=\"Convert this dataframe to an interactive table.\"\n",
       "            style=\"display:none;\">\n",
       "\n",
       "  <svg xmlns=\"http://www.w3.org/2000/svg\" height=\"24px\" viewBox=\"0 -960 960 960\">\n",
       "    <path d=\"M120-120v-720h720v720H120Zm60-500h600v-160H180v160Zm220 220h160v-160H400v160Zm0 220h160v-160H400v160ZM180-400h160v-160H180v160Zm440 0h160v-160H620v160ZM180-180h160v-160H180v160Zm440 0h160v-160H620v160Z\"/>\n",
       "  </svg>\n",
       "    </button>\n",
       "\n",
       "  <style>\n",
       "    .colab-df-container {\n",
       "      display:flex;\n",
       "      gap: 12px;\n",
       "    }\n",
       "\n",
       "    .colab-df-convert {\n",
       "      background-color: #E8F0FE;\n",
       "      border: none;\n",
       "      border-radius: 50%;\n",
       "      cursor: pointer;\n",
       "      display: none;\n",
       "      fill: #1967D2;\n",
       "      height: 32px;\n",
       "      padding: 0 0 0 0;\n",
       "      width: 32px;\n",
       "    }\n",
       "\n",
       "    .colab-df-convert:hover {\n",
       "      background-color: #E2EBFA;\n",
       "      box-shadow: 0px 1px 2px rgba(60, 64, 67, 0.3), 0px 1px 3px 1px rgba(60, 64, 67, 0.15);\n",
       "      fill: #174EA6;\n",
       "    }\n",
       "\n",
       "    .colab-df-buttons div {\n",
       "      margin-bottom: 4px;\n",
       "    }\n",
       "\n",
       "    [theme=dark] .colab-df-convert {\n",
       "      background-color: #3B4455;\n",
       "      fill: #D2E3FC;\n",
       "    }\n",
       "\n",
       "    [theme=dark] .colab-df-convert:hover {\n",
       "      background-color: #434B5C;\n",
       "      box-shadow: 0px 1px 3px 1px rgba(0, 0, 0, 0.15);\n",
       "      filter: drop-shadow(0px 1px 2px rgba(0, 0, 0, 0.3));\n",
       "      fill: #FFFFFF;\n",
       "    }\n",
       "  </style>\n",
       "\n",
       "    <script>\n",
       "      const buttonEl =\n",
       "        document.querySelector('#df-16226ede-9516-4265-a7b8-0dc37e7c8ef1 button.colab-df-convert');\n",
       "      buttonEl.style.display =\n",
       "        google.colab.kernel.accessAllowed ? 'block' : 'none';\n",
       "\n",
       "      async function convertToInteractive(key) {\n",
       "        const element = document.querySelector('#df-16226ede-9516-4265-a7b8-0dc37e7c8ef1');\n",
       "        const dataTable =\n",
       "          await google.colab.kernel.invokeFunction('convertToInteractive',\n",
       "                                                    [key], {});\n",
       "        if (!dataTable) return;\n",
       "\n",
       "        const docLinkHtml = 'Like what you see? Visit the ' +\n",
       "          '<a target=\"_blank\" href=https://colab.research.google.com/notebooks/data_table.ipynb>data table notebook</a>'\n",
       "          + ' to learn more about interactive tables.';\n",
       "        element.innerHTML = '';\n",
       "        dataTable['output_type'] = 'display_data';\n",
       "        await google.colab.output.renderOutput(dataTable, element);\n",
       "        const docLink = document.createElement('div');\n",
       "        docLink.innerHTML = docLinkHtml;\n",
       "        element.appendChild(docLink);\n",
       "      }\n",
       "    </script>\n",
       "  </div>\n",
       "\n",
       "\n",
       "<div id=\"df-7eefeea8-1783-4d4d-9e6e-5570520d1bfd\">\n",
       "  <button class=\"colab-df-quickchart\" onclick=\"quickchart('df-7eefeea8-1783-4d4d-9e6e-5570520d1bfd')\"\n",
       "            title=\"Suggest charts\"\n",
       "            style=\"display:none;\">\n",
       "\n",
       "<svg xmlns=\"http://www.w3.org/2000/svg\" height=\"24px\"viewBox=\"0 0 24 24\"\n",
       "     width=\"24px\">\n",
       "    <g>\n",
       "        <path d=\"M19 3H5c-1.1 0-2 .9-2 2v14c0 1.1.9 2 2 2h14c1.1 0 2-.9 2-2V5c0-1.1-.9-2-2-2zM9 17H7v-7h2v7zm4 0h-2V7h2v10zm4 0h-2v-4h2v4z\"/>\n",
       "    </g>\n",
       "</svg>\n",
       "  </button>\n",
       "\n",
       "<style>\n",
       "  .colab-df-quickchart {\n",
       "      --bg-color: #E8F0FE;\n",
       "      --fill-color: #1967D2;\n",
       "      --hover-bg-color: #E2EBFA;\n",
       "      --hover-fill-color: #174EA6;\n",
       "      --disabled-fill-color: #AAA;\n",
       "      --disabled-bg-color: #DDD;\n",
       "  }\n",
       "\n",
       "  [theme=dark] .colab-df-quickchart {\n",
       "      --bg-color: #3B4455;\n",
       "      --fill-color: #D2E3FC;\n",
       "      --hover-bg-color: #434B5C;\n",
       "      --hover-fill-color: #FFFFFF;\n",
       "      --disabled-bg-color: #3B4455;\n",
       "      --disabled-fill-color: #666;\n",
       "  }\n",
       "\n",
       "  .colab-df-quickchart {\n",
       "    background-color: var(--bg-color);\n",
       "    border: none;\n",
       "    border-radius: 50%;\n",
       "    cursor: pointer;\n",
       "    display: none;\n",
       "    fill: var(--fill-color);\n",
       "    height: 32px;\n",
       "    padding: 0;\n",
       "    width: 32px;\n",
       "  }\n",
       "\n",
       "  .colab-df-quickchart:hover {\n",
       "    background-color: var(--hover-bg-color);\n",
       "    box-shadow: 0 1px 2px rgba(60, 64, 67, 0.3), 0 1px 3px 1px rgba(60, 64, 67, 0.15);\n",
       "    fill: var(--button-hover-fill-color);\n",
       "  }\n",
       "\n",
       "  .colab-df-quickchart-complete:disabled,\n",
       "  .colab-df-quickchart-complete:disabled:hover {\n",
       "    background-color: var(--disabled-bg-color);\n",
       "    fill: var(--disabled-fill-color);\n",
       "    box-shadow: none;\n",
       "  }\n",
       "\n",
       "  .colab-df-spinner {\n",
       "    border: 2px solid var(--fill-color);\n",
       "    border-color: transparent;\n",
       "    border-bottom-color: var(--fill-color);\n",
       "    animation:\n",
       "      spin 1s steps(1) infinite;\n",
       "  }\n",
       "\n",
       "  @keyframes spin {\n",
       "    0% {\n",
       "      border-color: transparent;\n",
       "      border-bottom-color: var(--fill-color);\n",
       "      border-left-color: var(--fill-color);\n",
       "    }\n",
       "    20% {\n",
       "      border-color: transparent;\n",
       "      border-left-color: var(--fill-color);\n",
       "      border-top-color: var(--fill-color);\n",
       "    }\n",
       "    30% {\n",
       "      border-color: transparent;\n",
       "      border-left-color: var(--fill-color);\n",
       "      border-top-color: var(--fill-color);\n",
       "      border-right-color: var(--fill-color);\n",
       "    }\n",
       "    40% {\n",
       "      border-color: transparent;\n",
       "      border-right-color: var(--fill-color);\n",
       "      border-top-color: var(--fill-color);\n",
       "    }\n",
       "    60% {\n",
       "      border-color: transparent;\n",
       "      border-right-color: var(--fill-color);\n",
       "    }\n",
       "    80% {\n",
       "      border-color: transparent;\n",
       "      border-right-color: var(--fill-color);\n",
       "      border-bottom-color: var(--fill-color);\n",
       "    }\n",
       "    90% {\n",
       "      border-color: transparent;\n",
       "      border-bottom-color: var(--fill-color);\n",
       "    }\n",
       "  }\n",
       "</style>\n",
       "\n",
       "  <script>\n",
       "    async function quickchart(key) {\n",
       "      const quickchartButtonEl =\n",
       "        document.querySelector('#' + key + ' button');\n",
       "      quickchartButtonEl.disabled = true;  // To prevent multiple clicks.\n",
       "      quickchartButtonEl.classList.add('colab-df-spinner');\n",
       "      try {\n",
       "        const charts = await google.colab.kernel.invokeFunction(\n",
       "            'suggestCharts', [key], {});\n",
       "      } catch (error) {\n",
       "        console.error('Error during call to suggestCharts:', error);\n",
       "      }\n",
       "      quickchartButtonEl.classList.remove('colab-df-spinner');\n",
       "      quickchartButtonEl.classList.add('colab-df-quickchart-complete');\n",
       "    }\n",
       "    (() => {\n",
       "      let quickchartButtonEl =\n",
       "        document.querySelector('#df-7eefeea8-1783-4d4d-9e6e-5570520d1bfd button');\n",
       "      quickchartButtonEl.style.display =\n",
       "        google.colab.kernel.accessAllowed ? 'block' : 'none';\n",
       "    })();\n",
       "  </script>\n",
       "</div>\n",
       "    </div>\n",
       "  </div>\n"
      ],
      "text/plain": [
       "      user_id  Day                         origin  \\\n",
       "0          24    6        [pool, [35.65, 51.225]]   \n",
       "1          46    2  [university, [35.625, 51.25]]   \n",
       "2          27    5        [pool, [35.65, 51.225]]   \n",
       "3           7    4       [work, [35.875, 51.375]]   \n",
       "4          27    3       [work, [35.625, 51.375]]   \n",
       "...       ...  ...                            ...   \n",
       "4494       32    3         [home, [35.775, 51.4]]   \n",
       "4495       36    1       [work, [35.625, 51.125]]   \n",
       "4496       40    2   [restaurant, [36.0, 51.085]]   \n",
       "4497       19    3       [work, [35.875, 51.125]]   \n",
       "4498       19    4       [work, [35.875, 51.125]]   \n",
       "\n",
       "                         destination          start_time            end_time  \\\n",
       "0             [home, [35.64, 51.27]] 2024-01-30 11:58:00 2024-01-30 12:12:00   \n",
       "1      [restaurant, [35.69, 51.295]] 2024-01-30 21:58:00 2024-01-30 22:18:00   \n",
       "2     [restaurant, [35.865, 51.045]] 2024-01-30 20:05:00 2024-01-30 20:58:00   \n",
       "3            [home, [35.89, 51.315]] 2024-01-30 17:39:00 2024-01-30 18:17:00   \n",
       "4      [restaurant, [35.65, 51.385]] 2024-01-30 13:16:00 2024-01-30 13:19:00   \n",
       "...                              ...                 ...                 ...   \n",
       "4494   [university, [35.875, 51.25]] 2024-01-30 07:11:00 2024-01-30 07:51:00   \n",
       "4495          [home, [35.735, 51.2]] 2024-01-30 17:08:00 2024-01-30 17:38:00   \n",
       "4496        [home, [35.545, 51.145]] 2024-01-30 22:13:00 2024-01-30 23:43:00   \n",
       "4497          [home, [35.84, 51.13]] 2024-01-30 17:33:00 2024-01-30 18:03:00   \n",
       "4498          [home, [35.84, 51.13]] 2024-01-30 17:30:00 2024-01-30 18:01:00   \n",
       "\n",
       "      price  \n",
       "0     10.00  \n",
       "1     11.84  \n",
       "2     23.36  \n",
       "3     13.74  \n",
       "4     15.08  \n",
       "...     ...  \n",
       "4494  27.15  \n",
       "4495  10.78  \n",
       "4496  43.47  \n",
       "4497  19.37  \n",
       "4498  12.36  \n",
       "\n",
       "[4499 rows x 7 columns]"
      ]
     },
     "execution_count": 5,
     "metadata": {},
     "output_type": "execute_result"
    }
   ],
   "source": [
    "# load the test dataset\n",
    "nn_test_df = pd.read_json('Data/trip_data_test.json')\n",
    "nn_test_df"
   ]
  },
  {
   "cell_type": "code",
   "execution_count": null,
   "metadata": {
    "id": "L6qTAyI1BSIM"
   },
   "outputs": [],
   "source": [
    "def spliting_columns(df) :\n",
    "    df['start_time'] = pd.to_datetime(df['start_time'])\n",
    "    df['end_time'] = pd.to_datetime(df['end_time'])\n",
    "\n",
    "    df['start_time'] = df['start_time'].dt.time\n",
    "    df['end_time'] = df['end_time'].dt.time\n",
    "\n",
    "    df['Origin Lat'] = df['origin'].apply(lambda x: x[1][0])\n",
    "    df['Origin Long'] = df['origin'].apply(lambda x: x[1][1])\n",
    "    df['Dest Lat'] = df['destination'].apply(lambda x: x[1][0])\n",
    "    df['Dest Long'] = df['destination'].apply(lambda x: x[1][1])\n",
    "    df['origin'] = df['origin'].apply(lambda x: x[0])\n",
    "    df['destination'] = df['destination'].apply(lambda x: x[0])\n",
    "    return df"
   ]
  },
  {
   "cell_type": "code",
   "execution_count": null,
   "metadata": {
    "colab": {
     "base_uri": "https://localhost:8080/",
     "height": 206
    },
    "id": "qgRA-u7cCtsC",
    "outputId": "90f55cc2-1181-46ca-c5a1-e79db257e009"
   },
   "outputs": [
    {
     "data": {
      "text/html": [
       "\n",
       "  <div id=\"df-695f8f5c-0161-4d89-9814-1e5817539baa\" class=\"colab-df-container\">\n",
       "    <div>\n",
       "<style scoped>\n",
       "    .dataframe tbody tr th:only-of-type {\n",
       "        vertical-align: middle;\n",
       "    }\n",
       "\n",
       "    .dataframe tbody tr th {\n",
       "        vertical-align: top;\n",
       "    }\n",
       "\n",
       "    .dataframe thead th {\n",
       "        text-align: right;\n",
       "    }\n",
       "</style>\n",
       "<table border=\"1\" class=\"dataframe\">\n",
       "  <thead>\n",
       "    <tr style=\"text-align: right;\">\n",
       "      <th></th>\n",
       "      <th>user_id</th>\n",
       "      <th>Day</th>\n",
       "      <th>origin</th>\n",
       "      <th>destination</th>\n",
       "      <th>start_time</th>\n",
       "      <th>end_time</th>\n",
       "      <th>price</th>\n",
       "      <th>Origin Lat</th>\n",
       "      <th>Origin Long</th>\n",
       "      <th>Dest Lat</th>\n",
       "      <th>Dest Long</th>\n",
       "    </tr>\n",
       "  </thead>\n",
       "  <tbody>\n",
       "    <tr>\n",
       "      <th>0</th>\n",
       "      <td>0</td>\n",
       "      <td>0</td>\n",
       "      <td>work</td>\n",
       "      <td>restaurant</td>\n",
       "      <td>13:07:00</td>\n",
       "      <td>14:43:00</td>\n",
       "      <td>43.99</td>\n",
       "      <td>35.625</td>\n",
       "      <td>51.375</td>\n",
       "      <td>36.000</td>\n",
       "      <td>51.085</td>\n",
       "    </tr>\n",
       "    <tr>\n",
       "      <th>1</th>\n",
       "      <td>0</td>\n",
       "      <td>0</td>\n",
       "      <td>restaurant</td>\n",
       "      <td>work</td>\n",
       "      <td>15:13:00</td>\n",
       "      <td>16:49:00</td>\n",
       "      <td>36.66</td>\n",
       "      <td>36.000</td>\n",
       "      <td>51.085</td>\n",
       "      <td>35.625</td>\n",
       "      <td>51.375</td>\n",
       "    </tr>\n",
       "    <tr>\n",
       "      <th>2</th>\n",
       "      <td>0</td>\n",
       "      <td>0</td>\n",
       "      <td>home</td>\n",
       "      <td>restaurant</td>\n",
       "      <td>20:41:00</td>\n",
       "      <td>20:54:00</td>\n",
       "      <td>15.08</td>\n",
       "      <td>35.680</td>\n",
       "      <td>51.445</td>\n",
       "      <td>35.745</td>\n",
       "      <td>51.465</td>\n",
       "    </tr>\n",
       "    <tr>\n",
       "      <th>3</th>\n",
       "      <td>0</td>\n",
       "      <td>0</td>\n",
       "      <td>restaurant</td>\n",
       "      <td>home</td>\n",
       "      <td>21:24:00</td>\n",
       "      <td>21:37:00</td>\n",
       "      <td>10.00</td>\n",
       "      <td>35.745</td>\n",
       "      <td>51.465</td>\n",
       "      <td>35.680</td>\n",
       "      <td>51.445</td>\n",
       "    </tr>\n",
       "    <tr>\n",
       "      <th>4</th>\n",
       "      <td>0</td>\n",
       "      <td>1</td>\n",
       "      <td>work</td>\n",
       "      <td>home</td>\n",
       "      <td>23:38:00</td>\n",
       "      <td>23:58:00</td>\n",
       "      <td>19.48</td>\n",
       "      <td>35.625</td>\n",
       "      <td>51.375</td>\n",
       "      <td>35.680</td>\n",
       "      <td>51.445</td>\n",
       "    </tr>\n",
       "  </tbody>\n",
       "</table>\n",
       "</div>\n",
       "    <div class=\"colab-df-buttons\">\n",
       "\n",
       "  <div class=\"colab-df-container\">\n",
       "    <button class=\"colab-df-convert\" onclick=\"convertToInteractive('df-695f8f5c-0161-4d89-9814-1e5817539baa')\"\n",
       "            title=\"Convert this dataframe to an interactive table.\"\n",
       "            style=\"display:none;\">\n",
       "\n",
       "  <svg xmlns=\"http://www.w3.org/2000/svg\" height=\"24px\" viewBox=\"0 -960 960 960\">\n",
       "    <path d=\"M120-120v-720h720v720H120Zm60-500h600v-160H180v160Zm220 220h160v-160H400v160Zm0 220h160v-160H400v160ZM180-400h160v-160H180v160Zm440 0h160v-160H620v160ZM180-180h160v-160H180v160Zm440 0h160v-160H620v160Z\"/>\n",
       "  </svg>\n",
       "    </button>\n",
       "\n",
       "  <style>\n",
       "    .colab-df-container {\n",
       "      display:flex;\n",
       "      gap: 12px;\n",
       "    }\n",
       "\n",
       "    .colab-df-convert {\n",
       "      background-color: #E8F0FE;\n",
       "      border: none;\n",
       "      border-radius: 50%;\n",
       "      cursor: pointer;\n",
       "      display: none;\n",
       "      fill: #1967D2;\n",
       "      height: 32px;\n",
       "      padding: 0 0 0 0;\n",
       "      width: 32px;\n",
       "    }\n",
       "\n",
       "    .colab-df-convert:hover {\n",
       "      background-color: #E2EBFA;\n",
       "      box-shadow: 0px 1px 2px rgba(60, 64, 67, 0.3), 0px 1px 3px 1px rgba(60, 64, 67, 0.15);\n",
       "      fill: #174EA6;\n",
       "    }\n",
       "\n",
       "    .colab-df-buttons div {\n",
       "      margin-bottom: 4px;\n",
       "    }\n",
       "\n",
       "    [theme=dark] .colab-df-convert {\n",
       "      background-color: #3B4455;\n",
       "      fill: #D2E3FC;\n",
       "    }\n",
       "\n",
       "    [theme=dark] .colab-df-convert:hover {\n",
       "      background-color: #434B5C;\n",
       "      box-shadow: 0px 1px 3px 1px rgba(0, 0, 0, 0.15);\n",
       "      filter: drop-shadow(0px 1px 2px rgba(0, 0, 0, 0.3));\n",
       "      fill: #FFFFFF;\n",
       "    }\n",
       "  </style>\n",
       "\n",
       "    <script>\n",
       "      const buttonEl =\n",
       "        document.querySelector('#df-695f8f5c-0161-4d89-9814-1e5817539baa button.colab-df-convert');\n",
       "      buttonEl.style.display =\n",
       "        google.colab.kernel.accessAllowed ? 'block' : 'none';\n",
       "\n",
       "      async function convertToInteractive(key) {\n",
       "        const element = document.querySelector('#df-695f8f5c-0161-4d89-9814-1e5817539baa');\n",
       "        const dataTable =\n",
       "          await google.colab.kernel.invokeFunction('convertToInteractive',\n",
       "                                                    [key], {});\n",
       "        if (!dataTable) return;\n",
       "\n",
       "        const docLinkHtml = 'Like what you see? Visit the ' +\n",
       "          '<a target=\"_blank\" href=https://colab.research.google.com/notebooks/data_table.ipynb>data table notebook</a>'\n",
       "          + ' to learn more about interactive tables.';\n",
       "        element.innerHTML = '';\n",
       "        dataTable['output_type'] = 'display_data';\n",
       "        await google.colab.output.renderOutput(dataTable, element);\n",
       "        const docLink = document.createElement('div');\n",
       "        docLink.innerHTML = docLinkHtml;\n",
       "        element.appendChild(docLink);\n",
       "      }\n",
       "    </script>\n",
       "  </div>\n",
       "\n",
       "\n",
       "<div id=\"df-62af8150-e5d8-44a8-a959-34f1ab84a405\">\n",
       "  <button class=\"colab-df-quickchart\" onclick=\"quickchart('df-62af8150-e5d8-44a8-a959-34f1ab84a405')\"\n",
       "            title=\"Suggest charts\"\n",
       "            style=\"display:none;\">\n",
       "\n",
       "<svg xmlns=\"http://www.w3.org/2000/svg\" height=\"24px\"viewBox=\"0 0 24 24\"\n",
       "     width=\"24px\">\n",
       "    <g>\n",
       "        <path d=\"M19 3H5c-1.1 0-2 .9-2 2v14c0 1.1.9 2 2 2h14c1.1 0 2-.9 2-2V5c0-1.1-.9-2-2-2zM9 17H7v-7h2v7zm4 0h-2V7h2v10zm4 0h-2v-4h2v4z\"/>\n",
       "    </g>\n",
       "</svg>\n",
       "  </button>\n",
       "\n",
       "<style>\n",
       "  .colab-df-quickchart {\n",
       "      --bg-color: #E8F0FE;\n",
       "      --fill-color: #1967D2;\n",
       "      --hover-bg-color: #E2EBFA;\n",
       "      --hover-fill-color: #174EA6;\n",
       "      --disabled-fill-color: #AAA;\n",
       "      --disabled-bg-color: #DDD;\n",
       "  }\n",
       "\n",
       "  [theme=dark] .colab-df-quickchart {\n",
       "      --bg-color: #3B4455;\n",
       "      --fill-color: #D2E3FC;\n",
       "      --hover-bg-color: #434B5C;\n",
       "      --hover-fill-color: #FFFFFF;\n",
       "      --disabled-bg-color: #3B4455;\n",
       "      --disabled-fill-color: #666;\n",
       "  }\n",
       "\n",
       "  .colab-df-quickchart {\n",
       "    background-color: var(--bg-color);\n",
       "    border: none;\n",
       "    border-radius: 50%;\n",
       "    cursor: pointer;\n",
       "    display: none;\n",
       "    fill: var(--fill-color);\n",
       "    height: 32px;\n",
       "    padding: 0;\n",
       "    width: 32px;\n",
       "  }\n",
       "\n",
       "  .colab-df-quickchart:hover {\n",
       "    background-color: var(--hover-bg-color);\n",
       "    box-shadow: 0 1px 2px rgba(60, 64, 67, 0.3), 0 1px 3px 1px rgba(60, 64, 67, 0.15);\n",
       "    fill: var(--button-hover-fill-color);\n",
       "  }\n",
       "\n",
       "  .colab-df-quickchart-complete:disabled,\n",
       "  .colab-df-quickchart-complete:disabled:hover {\n",
       "    background-color: var(--disabled-bg-color);\n",
       "    fill: var(--disabled-fill-color);\n",
       "    box-shadow: none;\n",
       "  }\n",
       "\n",
       "  .colab-df-spinner {\n",
       "    border: 2px solid var(--fill-color);\n",
       "    border-color: transparent;\n",
       "    border-bottom-color: var(--fill-color);\n",
       "    animation:\n",
       "      spin 1s steps(1) infinite;\n",
       "  }\n",
       "\n",
       "  @keyframes spin {\n",
       "    0% {\n",
       "      border-color: transparent;\n",
       "      border-bottom-color: var(--fill-color);\n",
       "      border-left-color: var(--fill-color);\n",
       "    }\n",
       "    20% {\n",
       "      border-color: transparent;\n",
       "      border-left-color: var(--fill-color);\n",
       "      border-top-color: var(--fill-color);\n",
       "    }\n",
       "    30% {\n",
       "      border-color: transparent;\n",
       "      border-left-color: var(--fill-color);\n",
       "      border-top-color: var(--fill-color);\n",
       "      border-right-color: var(--fill-color);\n",
       "    }\n",
       "    40% {\n",
       "      border-color: transparent;\n",
       "      border-right-color: var(--fill-color);\n",
       "      border-top-color: var(--fill-color);\n",
       "    }\n",
       "    60% {\n",
       "      border-color: transparent;\n",
       "      border-right-color: var(--fill-color);\n",
       "    }\n",
       "    80% {\n",
       "      border-color: transparent;\n",
       "      border-right-color: var(--fill-color);\n",
       "      border-bottom-color: var(--fill-color);\n",
       "    }\n",
       "    90% {\n",
       "      border-color: transparent;\n",
       "      border-bottom-color: var(--fill-color);\n",
       "    }\n",
       "  }\n",
       "</style>\n",
       "\n",
       "  <script>\n",
       "    async function quickchart(key) {\n",
       "      const quickchartButtonEl =\n",
       "        document.querySelector('#' + key + ' button');\n",
       "      quickchartButtonEl.disabled = true;  // To prevent multiple clicks.\n",
       "      quickchartButtonEl.classList.add('colab-df-spinner');\n",
       "      try {\n",
       "        const charts = await google.colab.kernel.invokeFunction(\n",
       "            'suggestCharts', [key], {});\n",
       "      } catch (error) {\n",
       "        console.error('Error during call to suggestCharts:', error);\n",
       "      }\n",
       "      quickchartButtonEl.classList.remove('colab-df-spinner');\n",
       "      quickchartButtonEl.classList.add('colab-df-quickchart-complete');\n",
       "    }\n",
       "    (() => {\n",
       "      let quickchartButtonEl =\n",
       "        document.querySelector('#df-62af8150-e5d8-44a8-a959-34f1ab84a405 button');\n",
       "      quickchartButtonEl.style.display =\n",
       "        google.colab.kernel.accessAllowed ? 'block' : 'none';\n",
       "    })();\n",
       "  </script>\n",
       "</div>\n",
       "    </div>\n",
       "  </div>\n"
      ],
      "text/plain": [
       "   user_id  Day      origin destination start_time  end_time  price  \\\n",
       "0        0    0        work  restaurant   13:07:00  14:43:00  43.99   \n",
       "1        0    0  restaurant        work   15:13:00  16:49:00  36.66   \n",
       "2        0    0        home  restaurant   20:41:00  20:54:00  15.08   \n",
       "3        0    0  restaurant        home   21:24:00  21:37:00  10.00   \n",
       "4        0    1        work        home   23:38:00  23:58:00  19.48   \n",
       "\n",
       "   Origin Lat  Origin Long  Dest Lat  Dest Long  \n",
       "0      35.625       51.375    36.000     51.085  \n",
       "1      36.000       51.085    35.625     51.375  \n",
       "2      35.680       51.445    35.745     51.465  \n",
       "3      35.745       51.465    35.680     51.445  \n",
       "4      35.625       51.375    35.680     51.445  "
      ]
     },
     "execution_count": 7,
     "metadata": {},
     "output_type": "execute_result"
    }
   ],
   "source": [
    "nn_train_df = spliting_columns(nn_train_df.copy())\n",
    "nn_train_df.head()"
   ]
  },
  {
   "cell_type": "code",
   "execution_count": null,
   "metadata": {
    "colab": {
     "base_uri": "https://localhost:8080/",
     "height": 206
    },
    "id": "JBUE-qKPF8tX",
    "outputId": "924b9da7-e0ff-4533-8f47-96753ebe1168"
   },
   "outputs": [
    {
     "data": {
      "text/html": [
       "\n",
       "  <div id=\"df-57e7ebbd-66ef-4b02-9fd7-485837038472\" class=\"colab-df-container\">\n",
       "    <div>\n",
       "<style scoped>\n",
       "    .dataframe tbody tr th:only-of-type {\n",
       "        vertical-align: middle;\n",
       "    }\n",
       "\n",
       "    .dataframe tbody tr th {\n",
       "        vertical-align: top;\n",
       "    }\n",
       "\n",
       "    .dataframe thead th {\n",
       "        text-align: right;\n",
       "    }\n",
       "</style>\n",
       "<table border=\"1\" class=\"dataframe\">\n",
       "  <thead>\n",
       "    <tr style=\"text-align: right;\">\n",
       "      <th></th>\n",
       "      <th>user_id</th>\n",
       "      <th>Day</th>\n",
       "      <th>origin</th>\n",
       "      <th>destination</th>\n",
       "      <th>start_time</th>\n",
       "      <th>end_time</th>\n",
       "      <th>price</th>\n",
       "      <th>Origin Lat</th>\n",
       "      <th>Origin Long</th>\n",
       "      <th>Dest Lat</th>\n",
       "      <th>Dest Long</th>\n",
       "    </tr>\n",
       "  </thead>\n",
       "  <tbody>\n",
       "    <tr>\n",
       "      <th>0</th>\n",
       "      <td>24</td>\n",
       "      <td>6</td>\n",
       "      <td>pool</td>\n",
       "      <td>home</td>\n",
       "      <td>11:58:00</td>\n",
       "      <td>12:12:00</td>\n",
       "      <td>10.00</td>\n",
       "      <td>35.650</td>\n",
       "      <td>51.225</td>\n",
       "      <td>35.640</td>\n",
       "      <td>51.270</td>\n",
       "    </tr>\n",
       "    <tr>\n",
       "      <th>1</th>\n",
       "      <td>46</td>\n",
       "      <td>2</td>\n",
       "      <td>university</td>\n",
       "      <td>restaurant</td>\n",
       "      <td>21:58:00</td>\n",
       "      <td>22:18:00</td>\n",
       "      <td>11.84</td>\n",
       "      <td>35.625</td>\n",
       "      <td>51.250</td>\n",
       "      <td>35.690</td>\n",
       "      <td>51.295</td>\n",
       "    </tr>\n",
       "    <tr>\n",
       "      <th>2</th>\n",
       "      <td>27</td>\n",
       "      <td>5</td>\n",
       "      <td>pool</td>\n",
       "      <td>restaurant</td>\n",
       "      <td>20:05:00</td>\n",
       "      <td>20:58:00</td>\n",
       "      <td>23.36</td>\n",
       "      <td>35.650</td>\n",
       "      <td>51.225</td>\n",
       "      <td>35.865</td>\n",
       "      <td>51.045</td>\n",
       "    </tr>\n",
       "    <tr>\n",
       "      <th>3</th>\n",
       "      <td>7</td>\n",
       "      <td>4</td>\n",
       "      <td>work</td>\n",
       "      <td>home</td>\n",
       "      <td>17:39:00</td>\n",
       "      <td>18:17:00</td>\n",
       "      <td>13.74</td>\n",
       "      <td>35.875</td>\n",
       "      <td>51.375</td>\n",
       "      <td>35.890</td>\n",
       "      <td>51.315</td>\n",
       "    </tr>\n",
       "    <tr>\n",
       "      <th>4</th>\n",
       "      <td>27</td>\n",
       "      <td>3</td>\n",
       "      <td>work</td>\n",
       "      <td>restaurant</td>\n",
       "      <td>13:16:00</td>\n",
       "      <td>13:19:00</td>\n",
       "      <td>15.08</td>\n",
       "      <td>35.625</td>\n",
       "      <td>51.375</td>\n",
       "      <td>35.650</td>\n",
       "      <td>51.385</td>\n",
       "    </tr>\n",
       "  </tbody>\n",
       "</table>\n",
       "</div>\n",
       "    <div class=\"colab-df-buttons\">\n",
       "\n",
       "  <div class=\"colab-df-container\">\n",
       "    <button class=\"colab-df-convert\" onclick=\"convertToInteractive('df-57e7ebbd-66ef-4b02-9fd7-485837038472')\"\n",
       "            title=\"Convert this dataframe to an interactive table.\"\n",
       "            style=\"display:none;\">\n",
       "\n",
       "  <svg xmlns=\"http://www.w3.org/2000/svg\" height=\"24px\" viewBox=\"0 -960 960 960\">\n",
       "    <path d=\"M120-120v-720h720v720H120Zm60-500h600v-160H180v160Zm220 220h160v-160H400v160Zm0 220h160v-160H400v160ZM180-400h160v-160H180v160Zm440 0h160v-160H620v160ZM180-180h160v-160H180v160Zm440 0h160v-160H620v160Z\"/>\n",
       "  </svg>\n",
       "    </button>\n",
       "\n",
       "  <style>\n",
       "    .colab-df-container {\n",
       "      display:flex;\n",
       "      gap: 12px;\n",
       "    }\n",
       "\n",
       "    .colab-df-convert {\n",
       "      background-color: #E8F0FE;\n",
       "      border: none;\n",
       "      border-radius: 50%;\n",
       "      cursor: pointer;\n",
       "      display: none;\n",
       "      fill: #1967D2;\n",
       "      height: 32px;\n",
       "      padding: 0 0 0 0;\n",
       "      width: 32px;\n",
       "    }\n",
       "\n",
       "    .colab-df-convert:hover {\n",
       "      background-color: #E2EBFA;\n",
       "      box-shadow: 0px 1px 2px rgba(60, 64, 67, 0.3), 0px 1px 3px 1px rgba(60, 64, 67, 0.15);\n",
       "      fill: #174EA6;\n",
       "    }\n",
       "\n",
       "    .colab-df-buttons div {\n",
       "      margin-bottom: 4px;\n",
       "    }\n",
       "\n",
       "    [theme=dark] .colab-df-convert {\n",
       "      background-color: #3B4455;\n",
       "      fill: #D2E3FC;\n",
       "    }\n",
       "\n",
       "    [theme=dark] .colab-df-convert:hover {\n",
       "      background-color: #434B5C;\n",
       "      box-shadow: 0px 1px 3px 1px rgba(0, 0, 0, 0.15);\n",
       "      filter: drop-shadow(0px 1px 2px rgba(0, 0, 0, 0.3));\n",
       "      fill: #FFFFFF;\n",
       "    }\n",
       "  </style>\n",
       "\n",
       "    <script>\n",
       "      const buttonEl =\n",
       "        document.querySelector('#df-57e7ebbd-66ef-4b02-9fd7-485837038472 button.colab-df-convert');\n",
       "      buttonEl.style.display =\n",
       "        google.colab.kernel.accessAllowed ? 'block' : 'none';\n",
       "\n",
       "      async function convertToInteractive(key) {\n",
       "        const element = document.querySelector('#df-57e7ebbd-66ef-4b02-9fd7-485837038472');\n",
       "        const dataTable =\n",
       "          await google.colab.kernel.invokeFunction('convertToInteractive',\n",
       "                                                    [key], {});\n",
       "        if (!dataTable) return;\n",
       "\n",
       "        const docLinkHtml = 'Like what you see? Visit the ' +\n",
       "          '<a target=\"_blank\" href=https://colab.research.google.com/notebooks/data_table.ipynb>data table notebook</a>'\n",
       "          + ' to learn more about interactive tables.';\n",
       "        element.innerHTML = '';\n",
       "        dataTable['output_type'] = 'display_data';\n",
       "        await google.colab.output.renderOutput(dataTable, element);\n",
       "        const docLink = document.createElement('div');\n",
       "        docLink.innerHTML = docLinkHtml;\n",
       "        element.appendChild(docLink);\n",
       "      }\n",
       "    </script>\n",
       "  </div>\n",
       "\n",
       "\n",
       "<div id=\"df-428ef222-d72c-45e7-9661-fbc48b0626cb\">\n",
       "  <button class=\"colab-df-quickchart\" onclick=\"quickchart('df-428ef222-d72c-45e7-9661-fbc48b0626cb')\"\n",
       "            title=\"Suggest charts\"\n",
       "            style=\"display:none;\">\n",
       "\n",
       "<svg xmlns=\"http://www.w3.org/2000/svg\" height=\"24px\"viewBox=\"0 0 24 24\"\n",
       "     width=\"24px\">\n",
       "    <g>\n",
       "        <path d=\"M19 3H5c-1.1 0-2 .9-2 2v14c0 1.1.9 2 2 2h14c1.1 0 2-.9 2-2V5c0-1.1-.9-2-2-2zM9 17H7v-7h2v7zm4 0h-2V7h2v10zm4 0h-2v-4h2v4z\"/>\n",
       "    </g>\n",
       "</svg>\n",
       "  </button>\n",
       "\n",
       "<style>\n",
       "  .colab-df-quickchart {\n",
       "      --bg-color: #E8F0FE;\n",
       "      --fill-color: #1967D2;\n",
       "      --hover-bg-color: #E2EBFA;\n",
       "      --hover-fill-color: #174EA6;\n",
       "      --disabled-fill-color: #AAA;\n",
       "      --disabled-bg-color: #DDD;\n",
       "  }\n",
       "\n",
       "  [theme=dark] .colab-df-quickchart {\n",
       "      --bg-color: #3B4455;\n",
       "      --fill-color: #D2E3FC;\n",
       "      --hover-bg-color: #434B5C;\n",
       "      --hover-fill-color: #FFFFFF;\n",
       "      --disabled-bg-color: #3B4455;\n",
       "      --disabled-fill-color: #666;\n",
       "  }\n",
       "\n",
       "  .colab-df-quickchart {\n",
       "    background-color: var(--bg-color);\n",
       "    border: none;\n",
       "    border-radius: 50%;\n",
       "    cursor: pointer;\n",
       "    display: none;\n",
       "    fill: var(--fill-color);\n",
       "    height: 32px;\n",
       "    padding: 0;\n",
       "    width: 32px;\n",
       "  }\n",
       "\n",
       "  .colab-df-quickchart:hover {\n",
       "    background-color: var(--hover-bg-color);\n",
       "    box-shadow: 0 1px 2px rgba(60, 64, 67, 0.3), 0 1px 3px 1px rgba(60, 64, 67, 0.15);\n",
       "    fill: var(--button-hover-fill-color);\n",
       "  }\n",
       "\n",
       "  .colab-df-quickchart-complete:disabled,\n",
       "  .colab-df-quickchart-complete:disabled:hover {\n",
       "    background-color: var(--disabled-bg-color);\n",
       "    fill: var(--disabled-fill-color);\n",
       "    box-shadow: none;\n",
       "  }\n",
       "\n",
       "  .colab-df-spinner {\n",
       "    border: 2px solid var(--fill-color);\n",
       "    border-color: transparent;\n",
       "    border-bottom-color: var(--fill-color);\n",
       "    animation:\n",
       "      spin 1s steps(1) infinite;\n",
       "  }\n",
       "\n",
       "  @keyframes spin {\n",
       "    0% {\n",
       "      border-color: transparent;\n",
       "      border-bottom-color: var(--fill-color);\n",
       "      border-left-color: var(--fill-color);\n",
       "    }\n",
       "    20% {\n",
       "      border-color: transparent;\n",
       "      border-left-color: var(--fill-color);\n",
       "      border-top-color: var(--fill-color);\n",
       "    }\n",
       "    30% {\n",
       "      border-color: transparent;\n",
       "      border-left-color: var(--fill-color);\n",
       "      border-top-color: var(--fill-color);\n",
       "      border-right-color: var(--fill-color);\n",
       "    }\n",
       "    40% {\n",
       "      border-color: transparent;\n",
       "      border-right-color: var(--fill-color);\n",
       "      border-top-color: var(--fill-color);\n",
       "    }\n",
       "    60% {\n",
       "      border-color: transparent;\n",
       "      border-right-color: var(--fill-color);\n",
       "    }\n",
       "    80% {\n",
       "      border-color: transparent;\n",
       "      border-right-color: var(--fill-color);\n",
       "      border-bottom-color: var(--fill-color);\n",
       "    }\n",
       "    90% {\n",
       "      border-color: transparent;\n",
       "      border-bottom-color: var(--fill-color);\n",
       "    }\n",
       "  }\n",
       "</style>\n",
       "\n",
       "  <script>\n",
       "    async function quickchart(key) {\n",
       "      const quickchartButtonEl =\n",
       "        document.querySelector('#' + key + ' button');\n",
       "      quickchartButtonEl.disabled = true;  // To prevent multiple clicks.\n",
       "      quickchartButtonEl.classList.add('colab-df-spinner');\n",
       "      try {\n",
       "        const charts = await google.colab.kernel.invokeFunction(\n",
       "            'suggestCharts', [key], {});\n",
       "      } catch (error) {\n",
       "        console.error('Error during call to suggestCharts:', error);\n",
       "      }\n",
       "      quickchartButtonEl.classList.remove('colab-df-spinner');\n",
       "      quickchartButtonEl.classList.add('colab-df-quickchart-complete');\n",
       "    }\n",
       "    (() => {\n",
       "      let quickchartButtonEl =\n",
       "        document.querySelector('#df-428ef222-d72c-45e7-9661-fbc48b0626cb button');\n",
       "      quickchartButtonEl.style.display =\n",
       "        google.colab.kernel.accessAllowed ? 'block' : 'none';\n",
       "    })();\n",
       "  </script>\n",
       "</div>\n",
       "    </div>\n",
       "  </div>\n"
      ],
      "text/plain": [
       "   user_id  Day      origin destination start_time  end_time  price  \\\n",
       "0       24    6        pool        home   11:58:00  12:12:00  10.00   \n",
       "1       46    2  university  restaurant   21:58:00  22:18:00  11.84   \n",
       "2       27    5        pool  restaurant   20:05:00  20:58:00  23.36   \n",
       "3        7    4        work        home   17:39:00  18:17:00  13.74   \n",
       "4       27    3        work  restaurant   13:16:00  13:19:00  15.08   \n",
       "\n",
       "   Origin Lat  Origin Long  Dest Lat  Dest Long  \n",
       "0      35.650       51.225    35.640     51.270  \n",
       "1      35.625       51.250    35.690     51.295  \n",
       "2      35.650       51.225    35.865     51.045  \n",
       "3      35.875       51.375    35.890     51.315  \n",
       "4      35.625       51.375    35.650     51.385  "
      ]
     },
     "execution_count": 8,
     "metadata": {},
     "output_type": "execute_result"
    }
   ],
   "source": [
    "nn_test_df = spliting_columns(nn_test_df.copy())\n",
    "nn_test_df.head()"
   ]
  },
  {
   "cell_type": "code",
   "execution_count": null,
   "metadata": {
    "colab": {
     "base_uri": "https://localhost:8080/"
    },
    "id": "-dD3sGnUGGsF",
    "outputId": "4dbfb103-2760-4d21-c0e2-97e20209e017",
    "scrolled": true,
    "tags": []
   },
   "outputs": [
    {
     "name": "stdout",
     "output_type": "stream",
     "text": [
      "Column: user_id\n",
      "Unique values:\n",
      "0, 1, 2, 3, 4, 5, 6, 7, 8, 9, 10, 11, 12, 13, 14, 15, 16, 17, 18, 19, 20, 21, 22, 23, 24, 25, 26, 27, 28, 29, 30, 31, 32, 33, 34, 35, 36, 37, 38, 39, 40, 41, 42, 43, 44, 45, 46, 47, 48, 49, 50, 51, 52, 53, 54, 55, 56, 57, 58, 59\n",
      "========================================\n",
      "Column: Day\n",
      "Unique values:\n",
      "0, 1, 2, 3, 4, 6, 5\n",
      "========================================\n",
      "Column: origin\n",
      "Unique values:\n",
      "work, restaurant, home, park, university, gym, pool\n",
      "========================================\n",
      "Column: destination\n",
      "Unique values:\n",
      "restaurant, work, home, park, university, gym, pool\n",
      "========================================\n",
      "Column: start_time\n",
      "Unique values:\n",
      "13:07:00, 15:13:00, 20:41:00, 21:24:00, 23:38:00, 07:59:00, 21:19:00, 07:55:00, 14:11:00, 20:08:00, 21:03:00, 07:00:00, 13:50:00, 14:23:00, 21:40:00, 22:28:00, 20:28:00, 22:01:00, 12:05:00, 12:54:00, 17:29:00, 13:44:00, 14:59:00, 17:36:00, 07:49:00, 20:40:00, 22:21:00, 17:33:00, 21:51:00, 07:54:00, 13:35:00, 16:30:00, 22:35:00, 08:19:00, 11:24:00, 08:56:00, 12:17:00, 07:06:00, 07:42:00, 13:15:00, 13:53:00, 21:20:00, 07:51:00, 12:37:00, 13:40:00, 17:32:00, 20:46:00, 21:38:00, 22:07:00, 16:26:00, 20:20:00, 21:25:00, 08:05:00, 09:55:00, 12:22:00, 14:30:00, 21:01:00, 22:26:00, 07:36:00, 13:22:00, 16:09:00, 21:28:00, 22:24:00, 07:22:00, 17:38:00, 07:48:00, 17:34:00, 07:04:00, 21:07:00, 22:15:00, 20:15:00, 08:04:00, 20:16:00, 21:46:00, 07:29:00, 21:09:00, 07:32:00, 13:04:00, 21:04:00, 07:28:00, 16:45:00, 20:23:00, 21:27:00, 12:21:00, 14:07:00, 16:19:00, 13:12:00, 14:24:00, 23:31:00, 20:53:00, 21:48:00, 08:28:00, 14:15:00, 15:57:00, 16:51:00, 23:06:00, 16:52:00, 21:22:00, 07:53:00, 14:21:00, 16:53:00, 12:45:00, 14:18:00, 17:04:00, 07:24:00, 16:22:00, 11:02:00, 21:52:00, 22:49:00, 20:51:00, 07:31:00, 12:46:00, 17:42:00, 21:45:00, 07:17:00, 16:01:00, 07:08:00, 17:25:00, 07:47:00, 13:45:00, 16:28:00, 21:32:00, 09:29:00, 11:04:00, 21:41:00, 07:27:00, 16:20:00, 16:37:00, 21:53:00, 22:31:00, 07:41:00, 13:41:00, 16:10:00, 12:09:00, 17:59:00, 13:32:00, 14:27:00, 15:02:00, 21:36:00, 22:55:00, 22:27:00, 20:45:00, 22:20:00, 07:11:00, 12:44:00, 16:36:00, 12:13:00, 21:21:00, 22:03:00, 07:26:00, 17:41:00, 20:34:00, 16:54:00, 07:10:00, 15:01:00, 20:30:00, 21:43:00, 09:44:00, 07:40:00, 12:30:00, 16:48:00, 07:33:00, 07:07:00, 16:29:00, 07:02:00, 12:59:00, 13:54:00, 12:53:00, 15:03:00, 08:15:00, 11:15:00, 15:04:00, 07:15:00, 12:35:00, 21:26:00, 07:58:00, 21:05:00, 22:08:00, 16:55:00, 21:58:00, 21:35:00, 08:31:00, 14:50:00, 07:52:00, 16:00:00, 21:42:00, 07:34:00, 17:24:00, 20:05:00, 07:57:00, 16:59:00, 20:19:00, 08:50:00, 12:03:00, 14:38:00, 15:30:00, 21:31:00, 22:59:00, 09:51:00, 20:00:00, 20:42:00, 12:38:00, 13:26:00, 22:37:00, 07:23:00, 16:08:00, 22:34:00, 07:19:00, 14:32:00, 17:23:00, 20:43:00, 11:07:00, 20:33:00, 21:33:00, 16:33:00, 21:14:00, 12:36:00, 14:19:00, 21:37:00, 07:43:00, 17:26:00, 20:50:00, 13:05:00, 17:06:00, 15:45:00, 20:52:00, 22:17:00, 09:18:00, 11:08:00, 07:44:00, 22:39:00, 16:50:00, 20:31:00, 07:50:00, 14:40:00, 16:56:00, 17:40:00, 16:24:00, 12:47:00, 13:48:00, 16:31:00, 12:48:00, 22:14:00, 07:05:00, 12:19:00, 17:39:00, 13:10:00, 14:16:00, 17:17:00, 17:49:00, 20:36:00, 21:55:00, 14:37:00, 15:29:00, 08:25:00, 21:06:00, 10:23:00, 13:37:00, 18:12:00, 14:43:00, 23:42:00, 13:56:00, 11:17:00, 12:25:00, 20:11:00, 07:21:00, 10:50:00, 18:24:00, 21:44:00, 08:09:00, 14:44:00, 20:03:00, 08:06:00, 10:10:00, 10:19:00, 14:09:00, 19:12:00, 21:30:00, 08:57:00, 12:23:00, 20:35:00, 07:30:00, 11:41:00, 08:35:00, 12:24:00, 13:03:00, 13:55:00, 08:17:00, 11:53:00, 13:27:00, 08:41:00, 14:41:00, 10:12:00, 22:16:00, 08:54:00, 15:46:00, 08:29:00, 20:32:00, 14:49:00, 14:08:00, 22:19:00, 18:19:00, 08:22:00, 14:46:00, 20:07:00, 11:38:00, 07:46:00, 10:11:00, 14:17:00, 19:41:00, 21:54:00, 07:39:00, 15:00:00, 14:05:00, 11:12:00, 20:49:00, 07:35:00, 15:53:00, 18:03:00, 21:18:00, 08:13:00, 15:24:00, 12:12:00, 15:05:00, 19:35:00, 18:43:00, 14:06:00, 12:02:00, 13:33:00, 15:28:00, 07:18:00, 15:52:00, 20:47:00, 11:10:00, 20:12:00, 09:57:00, 14:39:00, 19:51:00, 21:50:00, 14:53:00, 12:49:00, 20:57:00, 13:09:00, 09:26:00, 19:01:00, 07:16:00, 20:56:00, 10:16:00, 13:36:00, 18:44:00, 22:41:00, 08:48:00, 12:16:00, 12:52:00, 11:23:00, 12:55:00, 12:20:00, 13:13:00, 12:11:00, 12:50:00, 13:47:00, 18:23:00, 11:49:00, 13:06:00, 10:47:00, 13:08:00, 07:13:00, 12:58:00, 11:45:00, 12:41:00, 18:11:00, 22:46:00, 09:31:00, 14:12:00, 14:14:00, 12:51:00, 13:38:00, 08:20:00, 09:20:00, 19:07:00, 21:11:00, 12:43:00, 18:35:00, 08:49:00, 14:13:00, 08:58:00, 12:34:00, 15:36:00, 18:38:00, 19:03:00, 21:10:00, 13:01:00, 17:21:00, 08:39:00, 11:16:00, 12:33:00, 15:42:00, 10:21:00, 11:13:00, 12:14:00, 11:11:00, 15:47:00, 17:54:00, 08:14:00, 19:25:00, 13:25:00, 18:56:00, 08:18:00, 12:00:00, 07:38:00, 11:03:00, 17:03:00, 15:21:00, 12:27:00, 21:47:00, 10:26:00, 13:00:00, 12:04:00, 17:51:00, 11:29:00, 12:01:00, 13:02:00, 09:13:00, 09:04:00, 12:06:00, 11:50:00, 18:36:00, 11:05:00, 09:23:00, 19:40:00, 08:53:00, 15:55:00, 11:27:00, 12:07:00, 18:33:00, 13:23:00, 12:31:00, 20:38:00, 10:48:00, 19:48:00, 08:21:00, 08:42:00, 10:09:00, 13:42:00, 13:31:00, 20:13:00, 07:20:00, 07:45:00, 09:40:00, 13:51:00, 12:26:00, 08:08:00, 12:08:00, 14:00:00, 09:58:00, 10:33:00, 13:28:00, 12:42:00, 13:17:00, 20:17:00, 11:01:00, 11:43:00, 18:57:00, 09:09:00, 18:10:00, 11:34:00, 06:37:00, 13:11:00, 06:35:00, 13:18:00, 13:34:00, 13:57:00, 16:06:00, 17:44:00, 20:04:00, 06:30:00, 16:46:00, 08:11:00, 11:26:00, 15:06:00, 22:10:00, 23:41:00, 17:07:00, 14:22:00, 21:16:00, 06:42:00, 23:33:00, 13:29:00, 17:30:00, 22:22:00, 14:57:00, 16:15:00, 08:01:00, 15:27:00, 06:44:00, 13:59:00, 23:39:00, 06:22:00, 17:12:00, 06:56:00, 13:19:00, 16:05:00, 14:33:00, 06:20:00, 16:44:00, 07:56:00, 22:25:00, 06:40:00, 13:20:00, 17:50:00, 08:43:00, 14:01:00, 14:45:00, 06:00:00, 06:26:00, 17:58:00, 13:43:00, 17:57:00, 20:14:00, 17:47:00, 13:30:00, 17:05:00, 08:59:00, 12:29:00, 21:29:00, 08:32:00, 07:37:00, 06:27:00, 16:41:00, 06:05:00, 12:57:00, 09:56:00, 16:11:00, 20:21:00, 14:35:00, 17:45:00, 14:20:00, 15:56:00, 08:40:00, 22:42:00, 14:51:00, 21:13:00, 22:50:00, 06:51:00, 17:02:00, 09:01:00, 11:59:00, 14:52:00, 22:36:00, 06:48:00, 06:45:00, 06:01:00, 16:03:00, 06:03:00, 23:14:00, 21:15:00, 06:39:00, 13:39:00, 13:52:00, 07:12:00, 13:58:00, 16:04:00, 16:35:00, 07:14:00, 20:09:00, 15:18:00, 16:12:00, 06:21:00, 15:41:00, 23:35:00, 17:11:00, 22:23:00, 23:00:00, 06:50:00, 06:49:00, 17:14:00, 15:39:00, 16:32:00, 06:25:00, 23:32:00, 12:18:00, 17:22:00, 20:24:00, 08:23:00, 11:00:00, 16:16:00, 14:36:00, 23:37:00, 15:43:00, 14:58:00, 11:28:00, 19:59:00, 14:26:00, 11:46:00, 11:42:00, 21:57:00, 08:24:00, 23:34:00, 11:58:00, 18:25:00, 08:55:00, 11:25:00, 08:30:00, 11:09:00, 11:19:00, 08:51:00, 11:30:00, 11:18:00, 10:05:00, 13:46:00, 08:12:00, 11:48:00, 11:14:00, 11:21:00, 11:40:00, 09:37:00, 21:34:00, 11:52:00, 19:43:00, 19:30:00, 15:58:00, 08:10:00, 12:32:00, 10:17:00, 18:42:00, 20:26:00, 11:56:00, 20:39:00, 22:56:00, 20:06:00, 15:40:00, 11:57:00, 08:27:00, 14:03:00, 12:10:00, 11:36:00, 18:28:00, 06:59:00, 06:29:00, 20:22:00, 06:41:00, 22:47:00, 12:40:00, 18:37:00, 06:09:00, 13:14:00, 21:56:00, 07:25:00, 20:29:00, 10:59:00, 18:29:00, 07:03:00, 20:44:00, 06:19:00, 06:32:00, 11:37:00, 21:02:00, 09:22:00, 21:59:00, 06:46:00, 21:12:00, 14:54:00, 18:15:00, 17:43:00, 20:27:00, 11:31:00, 15:19:00, 18:54:00, 11:39:00, 21:00:00, 06:17:00, 12:56:00, 20:58:00, 20:59:00, 06:18:00, 21:08:00, 06:53:00, 14:04:00, 11:06:00, 21:39:00, 18:48:00, 21:17:00, 06:47:00, 11:20:00, 16:58:00, 10:27:00, 11:22:00, 18:00:00, 09:38:00, 19:38:00, 06:13:00, 06:43:00, 15:16:00, 06:23:00, 06:16:00, 17:48:00, 06:38:00, 13:49:00, 16:13:00, 17:28:00, 16:49:00, 22:09:00, 22:29:00, 22:40:00, 06:10:00, 16:34:00, 14:55:00, 13:16:00, 17:15:00, 20:55:00, 14:31:00, 16:25:00, 14:48:00, 06:15:00, 17:46:00, 06:31:00, 16:21:00, 06:02:00, 16:42:00, 22:32:00, 15:17:00, 17:55:00, 06:14:00, 16:43:00, 17:16:00, 08:45:00, 20:10:00, 22:02:00, 16:57:00, 22:00:00, 09:00:00, 12:15:00, 20:37:00, 07:09:00, 09:10:00, 08:47:00, 17:35:00, 20:18:00, 06:52:00, 16:14:00, 06:04:00, 07:01:00, 16:07:00, 14:28:00, 22:04:00, 09:17:00, 14:10:00, 17:19:00, 17:08:00, 14:02:00, 15:22:00, 22:18:00, 15:50:00, 17:37:00, 17:27:00, 16:40:00, 23:36:00, 17:10:00, 08:34:00, 17:01:00, 17:09:00, 09:24:00, 11:54:00, 16:23:00, 17:56:00, 23:44:00, 16:18:00, 23:07:00, 23:30:00, 08:16:00, 09:28:00, 21:49:00, 23:18:00, 23:43:00, 23:16:00, 09:34:00, 09:14:00, 22:38:00, 08:02:00, 15:35:00, 09:54:00, 12:28:00, 13:21:00, 16:39:00, 23:05:00, 16:17:00, 22:45:00, 23:21:00, 22:30:00, 14:25:00, 22:05:00, 23:17:00, 15:26:00, 23:46:00, 17:00:00, 16:27:00, 23:40:00, 14:34:00, 08:37:00, 15:49:00, 13:24:00, 12:39:00, 17:13:00, 09:33:00, 20:54:00, 17:18:00, 09:02:00, 22:13:00, 15:54:00, 20:25:00, 09:47:00, 15:12:00, 22:12:00, 16:02:00, 17:31:00, 17:20:00, 06:07:00, 20:02:00, 15:09:00, 06:12:00, 09:32:00, 11:47:00, 06:57:00, 16:47:00, 09:07:00, 08:07:00, 17:53:00, 09:05:00, 06:28:00, 06:58:00, 17:52:00, 22:58:00, 06:06:00, 11:33:00, 09:53:00, 06:08:00, 06:36:00, 15:07:00, 06:55:00, 06:34:00, 22:43:00, 09:06:00, 09:21:00, 22:57:00, 14:56:00, 08:38:00, 06:33:00, 15:37:00, 06:54:00, 09:49:00, 09:50:00, 09:42:00, 22:11:00, 08:26:00, 14:42:00, 09:15:00, 08:33:00, 15:48:00, 23:27:00, 19:53:00, 08:44:00, 10:42:00, 15:20:00, 10:08:00, 10:01:00, 20:48:00, 10:43:00, 19:34:00, 14:29:00, 21:23:00, 18:41:00, 10:52:00, 14:47:00, 20:01:00, 15:25:00, 15:38:00, 09:03:00, 06:24:00, 11:44:00, 11:35:00, 23:09:00, 16:38:00, 23:48:00, 15:32:00, 09:25:00, 06:11:00, 15:23:00, 15:08:00, 08:03:00, 15:34:00, 15:10:00, 09:08:00, 23:03:00, 11:55:00, 09:11:00, 23:47:00, 08:00:00, 23:50:00, 15:15:00, 09:41:00, 15:31:00, 15:59:00, 08:52:00, 09:52:00, 11:51:00, 23:45:00, 10:37:00, 10:28:00, 18:21:00, 19:44:00, 19:21:00, 22:48:00, 19:10:00, 18:13:00, 18:26:00, 09:12:00, 10:30:00, 19:00:00, 19:58:00, 22:33:00, 09:35:00, 10:51:00, 19:29:00, 09:59:00, 15:14:00, 09:48:00, 09:16:00, 18:51:00, 23:53:00, 18:55:00, 19:47:00, 18:53:00, 10:02:00, 19:15:00, 09:30:00, 09:36:00, 23:49:00, 10:13:00, 19:19:00, 10:22:00, 19:13:00, 18:08:00, 19:54:00, 18:39:00, 15:51:00, 10:15:00, 10:54:00, 19:09:00, 08:36:00, 18:18:00, 09:45:00, 10:29:00, 15:11:00, 11:32:00, 22:53:00, 23:24:00, 22:54:00, 09:43:00, 22:52:00, 22:44:00, 19:37:00, 10:38:00, 18:47:00, 10:44:00, 08:46:00, 10:55:00, 10:40:00, 09:39:00, 09:27:00, 18:01:00, 09:19:00, 10:03:00, 19:56:00, 10:04:00, 18:32:00, 18:07:00, 19:55:00, 23:51:00, 19:27:00, 19:32:00, 22:06:00, 22:51:00, 23:04:00, 23:10:00, 10:39:00, 10:25:00, 19:33:00, 18:46:00, 19:46:00, 18:30:00, 18:31:00, 18:58:00, 23:02:00, 23:01:00, 23:08:00, 23:52:00, 10:49:00, 19:23:00, 19:42:00, 19:26:00, 18:06:00, 23:56:00, 10:06:00, 19:08:00, 15:33:00, 23:29:00, 23:13:00, 09:46:00, 23:15:00, 23:54:00, 23:57:00, 19:57:00, 18:16:00, 18:04:00, 18:45:00, 18:27:00, 10:24:00, 19:45:00, 18:05:00, 18:22:00, 18:50:00, 18:59:00, 15:44:00, 10:32:00, 19:05:00, 18:17:00, 19:14:00, 18:14:00, 18:34:00, 10:14:00, 10:00:00, 23:12:00, 19:04:00, 19:31:00, 19:36:00, 23:11:00\n",
      "========================================\n",
      "Column: end_time\n",
      "Unique values:\n",
      "14:43:00, 16:49:00, 20:54:00, 21:37:00, 23:58:00, 08:19:00, 21:49:00, 08:09:00, 14:49:00, 20:33:00, 21:25:00, 07:20:00, 13:53:00, 14:29:00, 21:58:00, 22:50:00, 21:31:00, 23:04:00, 12:24:00, 13:14:00, 18:01:00, 15:39:00, 18:09:00, 09:37:00, 21:51:00, 23:44:00, 18:08:00, 22:46:00, 08:50:00, 14:07:00, 17:00:00, 22:05:00, 23:54:00, 09:01:00, 12:01:00, 09:32:00, 12:49:00, 07:28:00, 07:56:00, 13:23:00, 14:01:00, 21:34:00, 08:05:00, 13:10:00, 14:18:00, 17:50:00, 21:08:00, 21:56:00, 22:21:00, 08:13:00, 16:59:00, 20:55:00, 21:54:00, 08:41:00, 10:36:00, 12:55:00, 15:24:00, 23:22:00, 07:55:00, 13:54:00, 16:23:00, 22:48:00, 07:39:00, 17:51:00, 08:03:00, 18:11:00, 18:10:00, 21:45:00, 22:52:00, 20:47:00, 13:01:00, 21:16:00, 22:47:00, 07:49:00, 21:36:00, 07:45:00, 13:29:00, 20:34:00, 21:18:00, 07:41:00, 17:02:00, 20:57:00, 22:02:00, 13:37:00, 15:20:00, 16:37:00, 22:03:00, 07:48:00, 15:13:00, 23:50:00, 22:14:00, 09:06:00, 15:27:00, 17:07:00, 17:27:00, 23:42:00, 08:02:00, 17:26:00, 08:12:00, 13:51:00, 14:27:00, 17:24:00, 21:22:00, 13:48:00, 15:19:00, 16:54:00, 11:42:00, 22:19:00, 23:15:00, 22:41:00, 07:50:00, 13:15:00, 18:15:00, 07:36:00, 16:32:00, 07:21:00, 15:14:00, 17:58:00, 08:01:00, 14:17:00, 07:58:00, 22:22:00, 10:09:00, 11:39:00, 23:01:00, 08:37:00, 08:07:00, 22:01:00, 22:40:00, 13:46:00, 16:44:00, 20:31:00, 21:13:00, 13:17:00, 18:17:00, 13:57:00, 14:50:00, 16:50:00, 22:11:00, 17:01:00, 21:50:00, 23:30:00, 23:56:00, 12:58:00, 17:13:00, 12:47:00, 07:24:00, 21:33:00, 22:25:00, 17:54:00, 21:47:00, 08:21:00, 17:29:00, 07:30:00, 14:31:00, 15:41:00, 18:05:00, 22:26:00, 10:19:00, 13:36:00, 17:20:00, 17:11:00, 07:26:00, 22:44:00, 07:19:00, 13:24:00, 14:33:00, 08:49:00, 11:55:00, 12:44:00, 22:31:00, 08:43:00, 21:38:00, 22:36:00, 08:08:00, 17:34:00, 09:09:00, 13:25:00, 15:31:00, 16:43:00, 08:11:00, 22:07:00, 22:18:00, 17:42:00, 21:35:00, 08:15:00, 17:30:00, 07:33:00, 21:10:00, 12:36:00, 15:00:00, 15:51:00, 22:29:00, 23:53:00, 10:26:00, 20:12:00, 20:51:00, 07:46:00, 12:56:00, 13:44:00, 23:26:00, 07:38:00, 16:41:00, 22:04:00, 07:35:00, 20:56:00, 21:48:00, 07:47:00, 11:47:00, 21:03:00, 07:22:00, 17:05:00, 13:49:00, 18:13:00, 22:51:00, 08:45:00, 16:52:00, 07:17:00, 18:03:00, 21:06:00, 12:35:00, 21:23:00, 16:16:00, 23:14:00, 09:56:00, 11:50:00, 22:09:00, 22:56:00, 08:06:00, 17:25:00, 21:26:00, 17:32:00, 23:45:00, 09:53:00, 13:18:00, 14:21:00, 13:20:00, 21:44:00, 12:37:00, 14:52:00, 17:35:00, 18:20:00, 21:12:00, 22:15:00, 16:21:00, 21:57:00, 22:35:00, 07:37:00, 15:03:00, 07:59:00, 15:57:00, 09:04:00, 21:19:00, 11:16:00, 14:42:00, 18:26:00, 22:17:00, 15:46:00, 09:23:00, 15:29:00, 20:46:00, 13:26:00, 14:16:00, 20:53:00, 21:15:00, 08:32:00, 12:19:00, 19:12:00, 08:38:00, 15:10:00, 20:44:00, 09:16:00, 15:37:00, 22:06:00, 11:09:00, 14:32:00, 11:20:00, 15:08:00, 09:29:00, 13:07:00, 21:39:00, 11:11:00, 12:08:00, 12:43:00, 14:09:00, 11:21:00, 14:56:00, 08:20:00, 12:57:00, 08:55:00, 23:51:00, 11:12:00, 23:17:00, 09:21:00, 16:19:00, 22:42:00, 10:01:00, 08:23:00, 15:15:00, 14:40:00, 23:38:00, 18:24:00, 15:21:00, 12:23:00, 13:11:00, 16:27:00, 19:52:00, 15:32:00, 08:16:00, 20:29:00, 14:35:00, 08:28:00, 21:53:00, 12:18:00, 21:04:00, 07:54:00, 07:31:00, 16:25:00, 18:19:00, 21:52:00, 08:46:00, 15:54:00, 15:34:00, 19:56:00, 18:57:00, 09:50:00, 13:03:00, 16:00:00, 21:59:00, 16:24:00, 21:29:00, 12:00:00, 13:42:00, 20:41:00, 15:44:00, 20:37:00, 22:34:00, 09:26:00, 08:18:00, 12:51:00, 14:10:00, 10:33:00, 15:47:00, 19:47:00, 22:30:00, 07:51:00, 21:11:00, 08:17:00, 14:46:00, 11:17:00, 18:59:00, 22:58:00, 09:15:00, 12:22:00, 13:19:00, 12:25:00, 14:03:00, 14:00:00, 14:02:00, 16:01:00, 20:48:00, 08:40:00, 21:40:00, 12:41:00, 14:19:00, 13:45:00, 13:05:00, 14:14:00, 11:08:00, 13:32:00, 14:39:00, 12:02:00, 18:14:00, 23:10:00, 10:04:00, 07:40:00, 13:47:00, 17:59:00, 13:08:00, 08:51:00, 21:05:00, 15:45:00, 20:13:00, 12:40:00, 13:16:00, 19:06:00, 09:25:00, 14:45:00, 09:27:00, 16:09:00, 19:04:00, 19:45:00, 08:59:00, 14:47:00, 21:14:00, 12:31:00, 17:57:00, 09:03:00, 12:03:00, 16:08:00, 13:12:00, 11:27:00, 14:30:00, 22:45:00, 11:44:00, 11:54:00, 16:20:00, 13:38:00, 08:26:00, 16:11:00, 21:42:00, 19:31:00, 08:34:00, 11:46:00, 13:13:00, 08:48:00, 13:39:00, 13:22:00, 17:41:00, 15:50:00, 10:58:00, 13:35:00, 22:28:00, 14:08:00, 12:07:00, 13:56:00, 12:32:00, 09:41:00, 20:06:00, 08:30:00, 12:39:00, 12:29:00, 09:40:00, 20:25:00, 12:14:00, 11:49:00, 13:06:00, 12:45:00, 18:46:00, 08:44:00, 12:53:00, 11:07:00, 20:02:00, 22:37:00, 08:47:00, 17:18:00, 09:08:00, 13:02:00, 13:43:00, 23:47:00, 14:41:00, 20:35:00, 23:43:00, 20:30:00, 14:36:00, 14:51:00, 10:12:00, 13:21:00, 14:38:00, 08:00:00, 13:30:00, 14:59:00, 12:52:00, 11:05:00, 14:13:00, 11:10:00, 16:51:00, 07:42:00, 13:58:00, 11:13:00, 11:57:00, 19:09:00, 09:42:00, 18:55:00, 22:16:00, 06:57:00, 12:28:00, 06:54:00, 10:23:00, 21:21:00, 22:39:00, 14:15:00, 21:28:00, 23:19:00, 06:46:00, 17:31:00, 17:17:00, 09:05:00, 12:13:00, 15:33:00, 23:57:00, 14:55:00, 08:10:00, 13:52:00, 07:04:00, 12:59:00, 09:02:00, 22:13:00, 08:52:00, 13:27:00, 14:57:00, 15:48:00, 07:05:00, 17:48:00, 06:44:00, 17:46:00, 07:11:00, 13:28:00, 08:53:00, 15:35:00, 23:18:00, 22:10:00, 14:44:00, 06:40:00, 17:23:00, 21:55:00, 06:59:00, 09:34:00, 12:15:00, 15:02:00, 06:22:00, 15:07:00, 06:42:00, 18:30:00, 06:19:00, 17:09:00, 16:36:00, 18:25:00, 06:43:00, 14:11:00, 09:49:00, 20:59:00, 09:19:00, 06:47:00, 16:58:00, 06:23:00, 15:36:00, 17:21:00, 16:48:00, 10:46:00, 15:11:00, 15:55:00, 18:27:00, 15:26:00, 16:17:00, 09:35:00, 07:03:00, 22:20:00, 23:59:00, 16:10:00, 07:13:00, 13:04:00, 17:39:00, 21:32:00, 09:54:00, 15:04:00, 23:11:00, 07:00:00, 17:55:00, 06:18:00, 17:45:00, 16:39:00, 06:20:00, 09:38:00, 23:55:00, 13:09:00, 14:05:00, 23:33:00, 07:18:00, 15:40:00, 16:42:00, 07:53:00, 15:22:00, 09:48:00, 17:53:00, 20:40:00, 23:39:00, 08:14:00, 16:29:00, 18:06:00, 22:33:00, 23:46:00, 14:54:00, 18:12:00, 07:07:00, 15:09:00, 10:06:00, 07:34:00, 12:11:00, 12:48:00, 20:26:00, 09:18:00, 16:55:00, 14:06:00, 13:41:00, 23:28:00, 08:04:00, 18:02:00, 09:12:00, 16:03:00, 11:59:00, 10:05:00, 13:33:00, 22:59:00, 19:58:00, 16:02:00, 23:06:00, 23:52:00, 13:50:00, 19:13:00, 23:37:00, 10:00:00, 11:36:00, 22:32:00, 15:30:00, 13:34:00, 09:33:00, 11:48:00, 16:46:00, 11:37:00, 08:27:00, 11:56:00, 15:53:00, 14:23:00, 20:49:00, 09:39:00, 14:48:00, 09:13:00, 11:18:00, 12:42:00, 11:53:00, 09:36:00, 18:56:00, 10:40:00, 22:08:00, 09:57:00, 20:21:00, 12:33:00, 12:50:00, 11:06:00, 20:00:00, 08:39:00, 12:27:00, 13:59:00, 07:27:00, 20:15:00, 09:11:00, 12:20:00, 08:29:00, 14:12:00, 18:53:00, 12:30:00, 23:12:00, 09:17:00, 21:24:00, 11:43:00, 13:55:00, 16:07:00, 07:16:00, 21:01:00, 07:14:00, 13:31:00, 23:48:00, 08:22:00, 12:10:00, 20:01:00, 06:29:00, 20:23:00, 19:49:00, 06:45:00, 15:25:00, 11:22:00, 16:47:00, 07:52:00, 06:56:00, 15:38:00, 19:00:00, 20:45:00, 20:58:00, 16:06:00, 07:15:00, 12:17:00, 16:34:00, 21:46:00, 06:26:00, 21:27:00, 07:43:00, 22:55:00, 07:06:00, 12:06:00, 17:40:00, 22:38:00, 22:53:00, 13:00:00, 22:12:00, 19:24:00, 18:31:00, 11:40:00, 12:21:00, 23:00:00, 19:01:00, 23:02:00, 06:39:00, 22:24:00, 11:41:00, 19:14:00, 07:32:00, 19:59:00, 11:58:00, 06:58:00, 07:01:00, 12:38:00, 08:33:00, 21:07:00, 19:26:00, 06:37:00, 18:42:00, 19:27:00, 22:00:00, 07:12:00, 18:29:00, 14:25:00, 17:28:00, 15:18:00, 17:19:00, 18:00:00, 19:18:00, 21:09:00, 19:25:00, 06:53:00, 10:50:00, 10:25:00, 20:50:00, 17:44:00, 22:43:00, 06:55:00, 17:08:00, 23:16:00, 06:34:00, 23:13:00, 18:52:00, 20:38:00, 06:31:00, 12:46:00, 06:38:00, 14:22:00, 18:22:00, 17:33:00, 10:59:00, 16:57:00, 08:54:00, 18:43:00, 18:40:00, 08:25:00, 15:28:00, 19:28:00, 06:30:00, 14:04:00, 18:50:00, 17:14:00, 06:32:00, 07:29:00, 16:40:00, 16:04:00, 20:39:00, 06:33:00, 06:36:00, 06:48:00, 23:35:00, 16:22:00, 23:31:00, 07:08:00, 19:23:00, 17:52:00, 23:03:00, 06:50:00, 15:17:00, 18:39:00, 21:20:00, 21:30:00, 06:35:00, 23:49:00, 15:05:00, 23:32:00, 18:44:00, 09:46:00, 10:32:00, 19:40:00, 14:20:00, 06:27:00, 18:33:00, 10:45:00, 15:42:00, 17:16:00, 18:18:00, 20:22:00, 18:41:00, 15:01:00, 17:06:00, 09:59:00, 17:43:00, 17:49:00, 08:58:00, 19:03:00, 17:38:00, 16:15:00, 18:34:00, 17:04:00, 07:23:00, 23:05:00, 16:45:00, 10:02:00, 09:10:00, 07:57:00, 17:56:00, 23:27:00, 21:17:00, 16:14:00, 10:08:00, 08:35:00, 23:36:00, 15:06:00, 12:34:00, 15:43:00, 23:40:00, 16:12:00, 23:25:00, 10:27:00, 22:27:00, 22:54:00, 22:57:00, 09:28:00, 07:44:00, 11:04:00, 18:35:00, 19:08:00, 21:00:00, 18:32:00, 18:07:00, 20:32:00, 23:24:00, 16:53:00, 18:49:00, 17:37:00, 15:52:00, 12:16:00, 23:08:00, 23:09:00, 13:40:00, 18:16:00, 18:58:00, 12:26:00, 23:20:00, 09:22:00, 10:39:00, 14:53:00, 18:04:00, 11:25:00, 16:56:00, 18:21:00, 14:58:00, 17:03:00, 14:26:00, 10:35:00, 10:53:00, 16:26:00, 16:35:00, 10:13:00, 07:09:00, 17:22:00, 20:36:00, 21:43:00, 23:07:00, 20:43:00, 14:28:00, 10:28:00, 16:38:00, 10:41:00, 06:24:00, 15:16:00, 06:28:00, 06:25:00, 15:58:00, 22:23:00, 20:27:00, 06:51:00, 10:03:00, 06:41:00, 17:47:00, 09:44:00, 14:37:00, 16:28:00, 06:21:00, 10:16:00, 07:10:00, 15:12:00, 09:45:00, 22:49:00, 18:48:00, 18:47:00, 20:14:00, 20:05:00, 21:41:00, 11:00:00, 09:20:00, 06:52:00, 07:02:00, 17:15:00, 17:10:00, 10:55:00, 11:01:00, 14:34:00, 18:45:00, 06:49:00, 17:36:00, 14:24:00, 20:10:00, 19:11:00, 09:51:00, 11:51:00, 20:16:00, 08:42:00, 10:30:00, 11:23:00, 08:24:00, 11:52:00, 15:56:00, 20:07:00, 09:00:00, 12:54:00, 19:54:00, 15:59:00, 20:42:00, 08:57:00, 09:14:00, 11:35:00, 09:55:00, 16:31:00, 20:09:00, 09:47:00, 10:24:00, 10:38:00, 16:05:00, 18:23:00, 10:29:00, 16:18:00, 07:25:00, 12:12:00, 20:20:00, 08:31:00, 15:23:00, 20:28:00, 18:28:00, 10:21:00, 18:37:00, 18:38:00, 19:22:00, 18:36:00, 09:30:00, 09:31:00, 19:20:00, 09:07:00, 11:14:00, 12:04:00, 16:30:00, 10:37:00, 11:15:00, 08:56:00, 19:07:00, 19:10:00, 18:51:00, 19:16:00, 09:52:00, 06:17:00, 15:49:00, 06:15:00, 10:11:00, 20:52:00, 10:54:00, 19:37:00, 09:58:00, 12:09:00, 10:49:00, 11:29:00, 11:38:00, 20:17:00, 19:30:00, 10:17:00, 10:18:00, 10:07:00, 12:05:00, 19:15:00, 21:02:00, 19:48:00, 10:20:00, 19:57:00, 10:14:00, 19:51:00, 19:17:00, 23:21:00, 10:43:00, 11:19:00, 19:21:00, 16:33:00, 16:13:00, 10:48:00, 17:12:00, 11:26:00, 23:34:00, 10:42:00, 11:45:00, 09:43:00, 23:29:00, 09:24:00, 08:36:00, 10:57:00, 11:34:00, 10:56:00, 20:24:00, 19:38:00, 20:19:00, 19:02:00, 10:22:00, 19:50:00, 11:24:00, 11:30:00, 10:34:00, 10:10:00, 19:33:00, 10:31:00, 10:47:00, 23:41:00, 11:33:00, 11:31:00, 19:53:00, 10:52:00, 11:28:00, 19:44:00, 19:05:00, 18:54:00, 19:43:00, 20:18:00, 20:03:00, 06:11:00, 06:08:00, 19:34:00, 19:32:00, 19:35:00, 06:09:00, 10:44:00, 23:23:00, 10:15:00, 06:14:00, 06:12:00, 06:16:00, 10:51:00, 19:29:00, 11:32:00, 19:46:00, 19:19:00, 19:41:00, 19:39:00, 20:08:00, 19:36:00, 20:11:00, 11:02:00, 06:10:00, 06:05:00, 06:13:00, 06:07:00, 19:42:00\n",
      "========================================\n",
      "Column: price\n",
      "Unique values:\n",
      "43.99, 36.66, 15.08, 10.0, 19.48, 16.83, 13.24, 27.49, 21.38, 13.94, 16.49, 11.39, 14.78, 19.09, 21.43, 21.84, 16.58, 15.41, 10.81, 17.99, 20.58, 21.49, 41.28, 24.26, 28.17, 15.75, 30.4, 30.53, 20.24, 23.26, 41.64, 32.46, 15.74, 22.39, 13.49, 16.22, 20.86, 19.23, 10.98, 11.79, 20.56, 12.78, 15.16, 20.46, 11.14, 14.6, 17.8, 17.28, 23.51, 23.17, 14.44, 18.61, 30.68, 22.97, 18.76, 34.41, 22.32, 13.93, 15.3, 19.32, 15.84, 19.84, 11.88, 17.4, 15.24, 11.85, 14.04, 25.28, 31.4, 22.99, 13.4, 18.47, 12.19, 12.26, 17.46, 20.63, 11.13, 39.08, 34.17, 15.65, 17.85, 21.87, 23.95, 31.04, 28.85, 14.21, 25.1, 13.87, 12.37, 10.09, 15.59, 24.44, 30.22, 26.58, 15.49, 17.58, 20.52, 26.62, 20.3, 14.02, 24.48, 19.13, 18.29, 24.59, 17.69, 21.22, 19.45, 22.15, 15.18, 18.37, 14.95, 21.37, 25.48, 28.55, 21.61, 26.66, 34.43, 35.8, 16.38, 23.81, 15.62, 17.23, 13.74, 18.6, 18.49, 13.0, 28.43, 10.69, 13.13, 17.08, 11.89, 44.25, 13.83, 27.13, 20.16, 16.42, 20.84, 26.54, 31.22, 13.86, 18.03, 19.41, 15.56, 13.47, 15.86, 13.6, 13.29, 15.76, 17.45, 16.56, 22.91, 17.01, 18.25, 25.64, 21.68, 31.09, 21.99, 14.13, 13.67, 16.52, 13.78, 11.03, 17.62, 30.49, 37.81, 43.83, 25.88, 12.85, 19.37, 11.18, 18.19, 16.67, 32.98, 21.25, 11.77, 18.41, 13.15, 17.55, 15.87, 20.04, 10.93, 26.82, 20.36, 21.86, 27.34, 12.52, 17.51, 16.61, 32.69, 23.2, 18.68, 24.22, 21.76, 29.52, 24.86, 14.48, 13.28, 24.96, 26.79, 12.77, 15.42, 11.78, 11.82, 21.95, 18.51, 20.83, 14.38, 25.23, 10.79, 15.1, 17.3, 18.79, 10.48, 19.4, 14.86, 13.52, 24.29, 16.57, 15.45, 31.97, 13.07, 12.27, 27.14, 29.53, 31.53, 29.87, 18.99, 11.5, 16.47, 19.64, 20.09, 12.82, 23.6, 27.08, 26.95, 25.79, 17.67, 19.17, 21.59, 14.93, 23.4, 34.7, 25.5, 33.46, 12.93, 37.59, 22.09, 14.59, 31.76, 11.76, 15.63, 13.72, 27.33, 18.7, 16.64, 14.96, 13.77, 13.16, 18.94, 25.53, 23.07, 23.24, 32.3, 10.15, 19.93, 12.53, 19.46, 10.67, 15.04, 23.82, 16.9, 31.73, 35.43, 10.25, 26.31, 14.41, 27.68, 14.61, 23.72, 15.97, 25.07, 23.63, 36.33, 36.97, 17.91, 22.87, 14.87, 28.2, 32.0, 25.63, 24.63, 32.83, 21.08, 19.72, 29.57, 26.63, 18.83, 21.26, 32.8, 29.17, 15.57, 13.81, 10.3, 35.81, 28.04, 24.84, 12.34, 10.77, 23.53, 21.45, 16.37, 21.01, 31.48, 26.4, 17.37, 22.44, 31.5, 43.66, 29.28, 34.27, 13.66, 21.6, 20.17, 38.63, 32.09, 24.6, 14.83, 15.23, 12.47, 12.71, 22.85, 10.43, 23.86, 21.0, 19.33, 26.0, 32.68, 10.1, 21.66, 22.4, 22.02, 28.18, 21.29, 14.01, 28.86, 19.82, 13.84, 13.58, 13.53, 23.58, 20.99, 16.59, 23.21, 21.82, 24.72, 13.1, 22.92, 23.34, 33.27, 33.29, 32.25, 25.75, 17.16, 19.63, 17.78, 22.19, 32.22, 32.51, 14.63, 35.29, 32.07, 25.76, 21.62, 21.73, 16.27, 17.94, 10.36, 19.06, 21.75, 15.54, 26.04, 25.77, 33.14, 24.49, 30.03, 17.75, 13.14, 30.97, 29.13, 17.36, 13.61, 21.96, 25.46, 24.53, 26.43, 30.48, 37.29, 17.1, 36.26, 34.77, 20.7, 16.5, 14.52, 21.88, 11.62, 10.83, 20.29, 13.12, 23.48, 23.32, 14.18, 23.66, 17.93, 14.56, 11.34, 16.19, 16.34, 22.79, 16.77, 20.9, 16.63, 36.77, 34.2, 22.29, 15.71, 17.09, 22.8, 17.84, 27.86, 22.66, 25.7, 11.92, 24.24, 21.8, 10.99, 23.56, 24.17, 22.01, 20.79, 20.37, 22.1, 18.98, 11.68, 24.57, 27.94, 21.57, 18.48, 27.5, 17.29, 33.17, 28.0, 26.81, 26.72, 12.62, 20.59, 25.24, 20.54, 24.41, 23.12, 22.2, 15.37, 10.96, 13.36, 17.43, 22.04, 14.7, 21.53, 31.94, 11.97, 14.9, 18.21, 19.9, 30.34, 15.09, 17.38, 17.54, 14.55, 34.99, 22.76, 27.17, 20.94, 34.44, 19.95, 22.0, 13.85, 19.56, 14.74, 32.39, 14.15, 30.24, 35.39, 20.44, 23.22, 31.57, 25.98, 12.31, 21.65, 12.36, 11.51, 10.72, 16.94, 22.38, 27.02, 18.84, 14.07, 20.72, 22.42, 10.04, 21.17, 21.83, 25.89, 13.34, 20.08, 24.55, 20.6, 30.66, 12.94, 11.63, 20.22, 22.52, 22.73, 12.5, 39.74, 42.59, 17.72, 22.51, 10.85, 10.63, 15.06, 22.68, 23.94, 37.58, 25.36, 33.04, 28.1, 12.54, 21.24, 19.8, 27.58, 11.91, 22.06, 16.95, 19.03, 27.32, 10.24, 17.31, 13.2, 31.54, 25.94, 24.27, 21.27, 22.41, 34.67, 22.78, 12.25, 26.87, 15.85, 15.27, 11.99, 21.67, 18.59, 36.34, 13.5, 19.75, 18.77, 20.74, 13.21, 18.17, 19.89, 20.06, 18.39, 13.26, 31.52, 20.03, 27.8, 18.0, 10.22, 13.22, 23.9, 12.29, 34.47, 16.86, 16.8, 13.54, 32.72, 30.44, 19.83, 24.28, 12.75, 20.31, 19.21, 12.04, 13.82, 14.34, 13.96, 13.11, 19.22, 20.48, 27.31, 15.17, 19.2, 12.6, 23.23, 28.37, 17.56, 14.67, 14.54, 12.87, 19.38, 10.13, 22.35, 11.86, 14.97, 17.32, 17.89, 38.0, 30.59, 37.5, 18.07, 23.25, 20.55, 24.02, 19.51, 15.39, 10.66, 14.25, 10.57, 17.76, 14.77, 21.91, 22.24, 20.28, 15.19, 21.13, 28.19, 19.99, 20.95, 18.62, 27.95, 16.39, 14.75, 26.83, 11.43, 22.43, 13.65, 14.69, 15.02, 18.86, 15.13, 26.11, 30.27, 13.18, 14.08, 21.15, 18.3, 36.46, 33.9, 16.6, 17.87, 24.09, 28.84, 14.1, 19.36, 26.08, 24.3, 18.92, 16.35, 21.5, 16.81, 28.51, 30.32, 17.25, 19.65, 25.21, 23.43, 30.15, 25.4, 27.65, 18.05, 10.18, 21.41, 41.22, 14.57, 26.49, 31.34, 12.21, 15.66, 16.76, 13.37, 18.11, 20.5, 16.88, 14.46, 12.43, 17.02, 30.29, 20.66, 20.51, 20.41, 20.42, 16.13, 16.2, 30.51, 37.26, 16.15, 19.11, 21.11, 22.53, 25.85, 15.91, 19.08, 29.96, 30.73, 22.75, 17.03, 20.47, 26.56, 35.78, 19.43, 29.47, 31.01, 20.1, 34.36, 10.61, 26.39, 36.94, 20.98, 15.68, 11.61, 26.61, 15.12, 20.21, 27.59, 18.75, 21.9, 18.46, 11.45, 21.77, 25.18, 23.54, 24.89, 13.27, 14.22, 35.45, 16.46, 24.15, 11.87, 20.62, 25.19, 22.5, 14.31, 21.33, 18.15, 40.08, 12.97, 12.24, 12.72, 28.38, 28.26, 22.94, 22.03, 10.34, 12.56, 30.84, 15.25, 35.08, 33.37, 31.13, 11.08, 25.56, 25.61, 10.35, 19.74, 31.98, 25.08, 31.88, 23.01, 25.11, 37.94, 27.19, 22.12, 10.64, 38.14, 22.86, 22.36, 33.28, 32.97, 14.73, 27.93, 31.15, 12.01, 13.33, 15.52, 17.24, 11.72, 24.37, 25.31, 23.97, 25.33, 29.5, 31.3, 13.79, 26.92, 10.58, 20.19, 28.03, 28.35, 30.09, 29.6, 25.25, 37.16, 14.8, 16.31, 26.16, 35.18, 25.05, 11.52, 18.58, 29.54, 20.65, 25.13, 35.85, 25.14, 16.91, 23.96, 22.46, 10.7, 14.43, 23.77, 34.19, 20.11, 21.58, 17.86, 26.53, 28.73, 26.93, 14.49, 14.14, 17.88, 25.3, 18.35, 33.87, 21.36, 33.23, 34.86, 22.7, 11.38, 10.32, 22.07, 19.3, 12.33, 30.39, 25.69, 25.26, 19.34, 30.74, 44.03, 29.62, 23.14, 27.35, 27.55, 17.79, 23.45, 27.07, 11.81, 16.79, 33.34, 13.35, 18.43, 29.3, 14.37, 35.75, 37.62, 19.27, 20.89, 31.49, 24.35, 10.6, 14.58, 31.91, 29.91, 22.05, 26.1, 11.47, 15.89, 23.44, 30.38, 23.64, 34.13, 11.59, 21.89, 33.5, 10.46, 28.83, 24.46, 15.72, 16.01, 32.08, 30.71, 16.11, 29.99, 32.76, 34.11, 15.5, 21.04, 19.28, 21.79, 20.53, 13.91, 17.73, 33.93, 26.5, 12.0, 31.19, 35.09, 31.02, 28.93, 17.57, 23.35, 17.81, 12.66, 11.01, 51.18, 17.0, 46.84, 52.9, 14.91, 22.58, 41.09, 33.78, 23.79, 32.44, 22.71, 25.8, 19.96, 48.88, 48.45, 42.77, 31.14, 26.97, 33.62, 24.62, 27.03, 39.19, 39.24, 12.44, 35.69, 26.74, 23.84, 50.92, 28.25, 14.2, 24.4, 31.47, 30.42, 10.59, 16.93, 42.33, 12.79, 16.89, 22.54, 10.75, 24.88, 20.77, 12.84, 21.63, 20.2, 22.62, 15.95, 41.51, 33.12, 27.46, 34.24, 12.3, 25.09, 21.64, 31.26, 15.93, 26.28, 44.51, 16.28, 12.99, 14.29, 23.11, 23.83, 46.41, 21.07, 28.5, 41.9, 35.15, 19.25, 29.93, 45.76, 19.5, 19.24, 19.12, 18.74, 18.24, 27.61, 25.93, 32.21, 28.81, 20.68, 23.76, 24.99, 18.12, 23.47, 10.88, 30.17, 17.64, 21.55, 24.42, 11.4, 15.83, 43.76, 43.0, 21.09, 30.69, 41.61, 29.82, 11.54, 23.87, 30.0, 24.03, 32.05, 41.11, 10.65, 19.0, 42.52, 25.2, 14.81, 16.45, 15.29, 20.87, 31.89, 29.72, 22.14, 23.73, 17.39, 17.44, 33.38, 24.34, 48.36, 45.82, 17.22, 24.47, 21.97, 22.34, 38.31, 32.02, 31.45, 36.3, 39.51, 16.7, 14.64, 38.33, 12.18, 45.25, 16.82, 22.57, 28.94, 26.27, 40.04, 24.83, 39.82, 11.66, 14.53, 23.78, 29.45, 34.81, 44.0, 19.79, 17.14, 18.22, 10.51, 10.87, 27.56, 25.49, 35.26, 15.21, 43.46, 10.94, 13.73, 28.58, 14.66, 14.45, 29.16, 37.91, 16.55, 12.86, 23.57, 42.82, 20.45, 33.85, 34.32, 20.73, 17.07, 18.31, 15.6, 32.48, 56.53, 17.95, 27.2, 38.02, 22.3, 19.47, 10.91, 12.92, 21.31, 41.33, 18.73, 12.07, 27.99, 35.34, 16.1, 29.83, 38.57, 11.96, 31.36, 38.44, 37.37, 16.53, 20.43, 32.81, 37.55, 12.49, 33.33, 18.57, 20.34, 48.8, 13.7, 11.73, 23.16, 11.29, 28.01, 12.96, 17.2, 41.44, 12.17, 21.42, 22.6, 41.91, 37.89, 35.59, 39.4, 31.69, 20.8, 42.02, 23.31, 19.61, 23.55, 21.7, 25.99, 38.41, 12.2, 37.02, 12.61, 10.21, 28.76, 29.24, 39.64, 36.84, 14.94, 19.97, 40.21, 36.67, 45.45, 12.42, 17.7, 42.04, 28.45, 36.43, 26.99, 27.18, 39.36, 12.05, 26.7, 41.01, 29.44, 30.16, 18.26, 16.25, 15.53, 25.92, 21.18, 10.29, 26.48, 27.6, 32.71, 26.88, 32.04, 40.89, 38.08, 25.96, 14.06, 27.1, 15.81, 49.53, 14.47, 14.03, 14.88, 16.26, 11.49, 17.33, 20.18, 15.46, 26.52, 14.39, 30.93, 31.74, 25.43, 10.08, 37.77, 14.0, 13.42, 36.4, 40.61, 44.81, 34.14, 35.23, 22.67, 10.19, 29.98, 15.15, 16.92, 24.54, 32.4, 27.4, 32.62, 38.96, 40.31, 23.38, 15.98, 19.16, 13.05, 37.38, 44.38, 12.28, 31.64, 30.77, 35.58, 21.72, 16.23, 28.68, 35.41, 23.18, 23.39, 32.65, 22.18, 24.73, 12.65, 15.2, 14.28, 16.66, 22.9, 33.92, 32.53, 14.19, 34.28, 40.33, 12.06, 13.25, 16.09, 19.01, 12.58, 13.69, 26.89, 24.0, 35.36, 30.99, 16.21, 11.83, 28.16, 19.49, 22.83, 33.58, 23.28, 15.92, 22.08, 38.97, 29.22, 26.55, 18.36, 34.68, 47.93, 43.48, 11.74, 18.44, 31.17, 30.37, 27.21, 21.06, 36.2, 20.05, 24.87, 17.77, 33.88, 39.94, 16.78, 16.14, 24.81, 14.05, 25.41, 24.07, 33.48, 29.21, 25.86, 17.11, 15.01, 11.06, 14.35, 32.58, 23.0, 33.42, 12.4, 16.73, 28.7, 29.12, 13.09, 11.67, 10.44, 25.29, 25.59, 14.92, 23.7, 43.79, 21.44, 16.97, 17.17, 26.15, 23.65, 26.22, 27.44, 15.14, 23.99, 15.58, 23.98, 26.42, 67.93, 12.45, 11.19, 33.01, 25.67, 36.51, 26.76, 15.35, 26.41, 34.34, 28.39, 21.71, 23.15, 24.13, 37.06, 22.37, 25.38, 21.02, 37.33, 29.73, 23.89, 11.57, 37.85, 28.06, 19.07, 21.52, 41.32, 16.0, 11.58, 14.09, 18.08, 70.82, 34.45, 36.6, 29.32, 37.4, 19.1, 14.62, 19.73, 30.58, 17.61, 28.23, 30.5, 29.07, 24.16, 35.37, 15.03, 23.91, 34.55, 39.27, 27.23, 12.8, 26.9, 37.7, 22.17, 14.27, 11.71, 35.67, 33.84, 33.36, 32.29, 34.48, 23.08, 20.91, 12.38, 27.47, 20.35, 29.64, 16.98, 18.4, 10.78, 16.12, 32.47, 31.16, 26.77, 31.86, 28.9, 23.33, 16.85, 11.41, 35.28, 13.95, 25.62, 34.84, 17.49, 41.15, 15.9, 35.7, 19.05, 14.72, 14.42, 26.64, 24.67, 23.92, 15.88, 29.69, 37.42, 29.48, 11.93, 12.95, 33.6, 35.97, 15.55, 28.71, 15.73, 40.12, 32.2, 24.05, 18.64, 19.15, 15.38, 33.76, 12.13, 32.84, 19.18, 18.34, 19.31, 23.37, 30.28, 20.07, 23.05, 13.63, 33.83, 15.69, 30.65, 27.06, 18.09, 31.92, 25.35, 39.43, 30.55, 10.2, 31.85, 35.44, 30.2, 14.99, 10.47, 19.44, 32.42, 13.23, 17.34, 34.38, 34.76, 36.12, 18.91, 34.08, 18.14, 16.32, 18.9, 17.48, 18.72, 25.44, 32.18, 25.81, 31.68, 25.82, 28.95, 10.95, 29.8, 13.48, 33.22, 35.54, 35.17, 17.26, 18.93, 17.82, 40.58, 16.65, 41.84, 11.6, 23.49, 22.26, 33.99, 32.01, 29.4, 29.26, 30.87, 40.16, 16.02, 24.04, 26.29, 34.72, 33.81, 17.63, 25.9, 31.41, 19.94, 27.0, 29.19, 27.62, 28.21, 21.4, 35.96, 50.29, 11.95, 16.4, 10.8, 12.35, 16.17, 16.62, 30.31, 14.51, 36.56, 36.75, 26.91, 21.54, 31.0, 38.06, 18.13, 23.74, 25.27, 12.1, 38.91, 21.48, 12.9, 22.21, 18.81, 26.85, 19.67, 18.69, 10.45, 25.83, 18.53, 13.02, 23.5, 27.28, 25.78, 15.4, 24.71, 27.91, 22.28, 31.2, 21.81, 15.94, 10.33, 33.56, 15.79, 12.88, 13.99, 19.86, 20.93, 15.31, 15.78, 34.57, 12.55, 24.64, 14.76, 21.98, 18.8, 16.48, 24.19, 25.17, 27.98, 37.79, 14.3, 14.17, 13.08, 24.38, 21.32, 21.93, 25.15, 31.18, 29.39, 18.23, 25.32, 17.92, 25.52, 13.56, 23.46, 20.67, 25.16, 17.68, 26.09, 31.12, 19.6, 39.52, 24.33, 11.55, 17.27, 10.68, 14.12, 23.19, 36.27, 19.92, 19.88, 19.69, 11.8, 25.65, 10.74, 22.63, 20.76, 26.02, 16.08, 19.71, 28.31, 17.35, 24.93, 22.98, 27.11, 43.23, 14.82, 27.85, 25.01, 35.42, 35.33, 33.43, 15.32, 14.16, 27.96, 31.42, 23.69, 30.82, 13.59, 17.15, 13.41, 10.62, 22.55, 43.24, 18.18, 26.69, 17.97, 27.05, 12.48, 17.96, 18.16, 11.27, 21.28, 25.42, 36.41, 16.43, 11.94, 12.81, 44.04, 48.53, 11.36, 22.81, 12.83, 19.14, 28.59, 30.85, 13.64, 19.91, 27.29, 22.72, 37.63, 45.61, 18.27, 13.71, 36.54, 34.1, 28.02, 30.36, 25.04, 13.88, 28.41, 17.06, 27.38, 13.45, 15.07, 24.79, 23.29, 12.69, 13.62, 51.38, 36.28, 11.23, 11.35, 18.33, 18.71, 15.82, 30.08, 38.38, 31.6, 10.5, 16.87, 14.68, 17.98, 37.07, 25.58, 21.05, 17.42, 18.78, 24.43, 24.77, 11.12, 19.29, 34.12, 32.66, 20.78, 17.12, 22.89, 22.69, 40.36, 14.89, 22.65, 16.07, 29.41, 12.7, 29.66, 25.95, 29.33, 37.86, 30.02, 35.94, 22.88, 13.98, 20.71, 16.44, 16.99, 19.42, 32.67, 37.75, 22.13, 12.03, 19.81, 31.24, 13.01, 32.89, 19.77, 18.56, 17.6, 11.37, 16.36, 14.32, 10.86, 22.93, 37.19, 36.83, 13.68, 36.25, 27.72, 30.3, 33.54, 32.1, 14.11, 23.41, 35.46, 27.63, 15.99, 10.03, 37.08, 28.4, 33.86, 20.4, 25.0, 22.33, 29.7, 27.57, 28.69, 38.54, 29.46, 23.52, 36.0, 39.53, 23.61, 26.35, 10.27, 28.8, 39.12, 33.91, 23.68, 10.39, 17.19, 20.38, 23.75, 33.64, 18.2, 39.21, 19.76, 22.95, 26.65, 26.12, 27.36, 11.56, 23.13, 11.48, 13.57, 21.19, 41.42, 19.19, 39.91, 22.23, 36.87, 29.04, 11.07, 31.67, 24.74, 20.85, 34.35, 31.62, 28.82, 18.96, 34.6, 23.1, 19.39, 27.16, 29.34, 34.64, 21.47, 35.47, 30.47, 26.86, 33.15, 11.65, 31.39, 14.33, 18.38, 35.49, 12.59, 33.21, 28.15, 55.0, 29.15, 16.71, 26.8, 30.83, 39.8, 15.0, 43.09, 29.63, 43.41, 26.14, 13.38, 21.14, 42.18, 36.44, 15.7, 28.48, 14.65, 29.92, 25.87, 15.05, 20.96, 36.19, 27.9, 34.16, 11.21, 28.08, 31.33, 38.23, 24.06, 26.71, 17.05, 23.02, 26.33, 33.24, 33.45, 25.54, 13.03, 15.77, 25.57, 43.52, 36.02, 15.64, 13.04, 48.14, 29.06, 34.25, 17.13, 23.04, 36.09, 18.89, 33.02, 13.76, 29.75, 10.54, 17.83, 37.66, 39.18, 28.14, 41.85, 39.35, 36.22, 18.63, 29.31, 22.49, 10.89, 35.95, 33.69, 32.55, 12.16, 13.32, 15.11, 12.67, 40.65, 16.33, 23.67, 39.07, 44.85, 21.74, 41.37, 45.71, 15.36, 10.73, 36.8, 47.97, 41.73, 32.5, 33.57, 32.12, 29.55, 30.05, 26.24, 20.26, 39.45, 26.45, 12.41, 39.14, 29.84, 43.56, 41.0, 18.87, 24.95, 12.68, 29.85, 14.26, 24.65, 20.0, 38.58, 24.5, 13.89, 20.92, 35.76, 46.35, 44.54, 11.28, 29.86, 22.82, 41.63, 42.72, 28.09, 24.52, 36.76, 33.82, 30.62, 36.35, 27.89, 23.3, 18.97, 13.92, 11.9, 20.88, 29.74, 11.15, 13.31, 19.7, 15.61, 27.78, 17.21, 32.24, 20.13, 11.0, 28.29, 18.66, 28.78, 11.33, 10.38, 17.04, 17.66, 21.2, 16.16, 19.68, 40.55, 22.64, 40.57, 24.1, 18.55, 24.14, 23.59, 33.8, 32.79, 38.22, 30.67, 26.34, 29.01, 19.55, 18.85, 10.01, 31.43, 35.99, 30.76, 33.7, 37.32, 24.7, 20.75, 19.35, 24.97, 12.11, 28.53, 10.17, 31.29, 25.6, 34.95, 41.72, 30.43, 18.06, 29.97, 16.51, 10.11, 40.76, 43.34, 21.1, 11.3, 35.05, 27.75, 34.46, 11.46, 12.89, 39.72, 29.61, 35.89, 39.66, 18.04, 28.88, 18.52, 18.01, 13.8, 37.27, 26.13, 22.77, 15.47, 48.12, 12.02, 31.99, 29.08, 44.19, 36.78, 21.46, 10.41, 10.07, 38.12, 13.55, 32.95, 22.11, 16.04, 32.38, 17.74, 19.78, 23.03, 20.25, 10.55, 32.35, 38.1, 32.57, 31.27, 27.69, 16.03, 22.56, 50.96, 30.64, 34.51, 34.26, 10.37, 12.22, 37.44, 33.03, 10.42, 14.23, 31.66, 40.67, 15.44, 31.23, 30.19, 11.04, 11.17, 24.82, 23.27, 40.53, 40.3, 36.47, 13.44, 32.77, 45.78, 12.46, 24.56, 36.82, 16.54, 17.5, 31.75, 24.69, 31.1, 24.51, 19.85, 11.7, 19.58, 19.26, 19.62, 18.28, 36.99, 10.56, 21.94, 20.23, 13.17, 22.16, 26.68, 32.78, 37.24, 28.11, 45.2, 26.03, 24.45, 22.22, 13.19, 18.02, 11.02, 21.23, 26.06, 13.75, 37.46, 38.99, 25.06, 32.43, 19.87, 39.88, 21.34, 22.84, 24.12, 47.85, 18.67, 15.96, 14.71, 39.03, 19.04, 18.95, 40.06, 24.31, 36.62, 17.71, 12.12, 30.35, 38.59, 14.5, 38.39, 34.06, 27.48, 18.45, 25.22, 28.12, 10.23, 36.58, 28.87, 33.11, 37.76, 37.2, 40.19, 14.79, 35.3, 11.26, 34.18, 16.72, 21.78, 16.3, 40.52, 21.21, 18.5, 29.71, 21.39, 10.05, 35.4, 35.84, 16.29, 16.06, 34.0, 14.24, 30.72, 10.12, 28.44, 39.65, 12.32, 30.61, 33.05, 37.25, 17.59, 31.06, 38.89, 37.74, 15.22, 30.25, 30.81, 11.98, 28.61, 12.14, 42.23, 15.34, 12.73, 26.18, 36.96, 24.01, 29.02, 27.12, 29.2, 29.68, 10.52, 30.92, 27.64, 26.25, 22.45, 29.59, 38.77, 27.3, 25.68, 14.84, 35.51, 25.39, 15.51, 37.18, 28.36, 19.53, 37.05, 20.82, 30.45, 29.1, 25.73, 11.53, 23.88, 29.09, 32.61, 26.23, 15.48, 11.25, 24.39, 22.61, 35.14, 36.14, 30.06, 18.65, 20.27, 29.58, 15.43, 23.93, 21.92, 10.49, 30.86, 36.06, 35.77, 26.07, 29.9, 40.01, 32.74, 24.58, 38.65, 27.42, 24.92, 15.8, 36.53, 31.65, 17.9, 35.56, 41.36, 37.04, 28.32, 12.63, 28.75, 33.75, 37.45, 28.89, 31.31, 33.53, 39.56, 36.98, 31.07, 33.52, 36.7, 42.56, 27.04, 26.01, 29.56, 10.97, 20.01, 30.46, 16.24, 23.62, 26.84, 24.11, 20.64, 30.63, 22.31, 25.74, 34.75, 29.76, 25.66, 29.23, 30.14, 31.87, 12.91, 34.15, 41.08, 27.88, 17.41, 15.28, 18.88, 24.2, 28.27, 22.27, 27.37, 10.06, 21.69, 29.65, 30.12, 34.78, 23.85, 11.32, 11.31, 28.47, 28.42, 16.75, 18.42, 28.77, 34.92, 34.62, 35.53, 27.39, 21.35, 11.69, 38.84, 31.28, 32.16, 41.53, 39.86, 59.82, 24.75, 33.59, 29.25, 44.45, 17.18, 27.43, 34.63, 48.76, 23.06, 38.07, 38.48, 26.75, 38.04, 27.92, 21.85, 53.06, 11.84, 11.64, 31.46, 28.79, 16.96, 20.14, 26.6, 38.55, 42.36, 14.4, 42.78, 40.79, 35.55, 30.79, 38.5, 38.09, 27.53, 35.65, 24.85, 33.35, 16.69, 26.26, 56.48, 30.33, 24.23, 30.9, 30.57, 16.68, 40.07, 34.33, 33.94, 26.67, 37.72, 31.79, 30.89, 29.35, 12.57, 10.28, 28.07, 18.1, 28.74, 33.66, 26.19, 17.53, 32.52, 24.66, 37.17, 20.97, 21.51, 20.02, 54.05, 37.53, 28.72, 13.39, 27.73, 33.26, 31.63, 25.55, 27.24, 25.45, 25.47, 22.48, 12.64, 30.94, 28.56, 12.76, 28.63, 27.71, 44.35, 27.27, 13.3, 36.85, 24.68, 10.4, 35.27, 14.98, 12.98, 16.18, 27.41, 26.17, 29.51, 24.76, 25.03, 10.53, 44.92, 41.75, 41.1, 24.18, 47.49, 20.39, 27.26, 32.87, 28.46, 32.73, 16.41, 30.96, 15.67, 26.73, 17.65, 38.3, 40.74, 32.99, 34.56, 34.8, 36.65, 31.96, 11.05, 35.66, 41.74, 44.62, 32.34, 37.39, 34.54, 11.1, 34.83, 12.74, 37.96, 42.08, 30.01, 34.9, 30.1, 22.74, 17.52, 40.13, 35.91, 31.58, 39.67, 12.09, 30.21, 21.03, 27.83, 24.36, 38.03, 15.26, 28.6, 36.42, 36.39, 27.54, 38.71, 33.65, 35.12, 34.02, 31.61, 31.71, 10.16, 32.92, 10.92, 29.94, 28.64, 19.54, 33.72, 32.91, 39.39, 33.44, 28.54, 31.11, 27.81, 34.58, 19.57, 33.18, 20.15, 28.05, 29.27, 32.14, 32.31, 36.91, 32.63, 41.31, 28.33, 13.46, 35.48, 33.31, 34.42, 36.01, 16.74, 42.22, 39.89, 18.82, 36.03, 33.13, 34.74, 25.91, 33.96, 40.14, 31.37, 28.96, 33.06, 30.26, 41.5, 33.3, 22.25, 31.35, 11.09, 28.34, 12.51, 24.21, 26.32, 38.56, 38.11, 33.16, 29.42, 62.6, 18.54, 27.77, 29.38, 25.97, 36.29, 35.52, 48.22, 37.83, 41.14, 37.31, 38.69, 42.29, 31.84, 31.55, 27.7, 29.79, 34.07, 34.79, 39.42, 35.25, 46.24, 34.71, 26.94, 32.96, 30.52, 37.54, 56.71, 24.8, 41.49, 58.01, 19.66, 37.21, 35.2, 42.06, 27.87, 29.29, 28.91, 32.82, 39.73, 58.57, 26.37, 29.88, 24.78, 23.8, 29.14, 48.93, 40.17, 42.94, 11.42, 11.16, 43.03, 33.95, 10.9, 29.49, 42.98, 13.97, 18.32, 46.76, 45.58, 34.91, 36.64, 46.25, 48.2, 37.03, 31.51, 34.37, 38.76, 28.49, 13.43, 40.84, 36.73, 10.26, 30.18, 27.66, 29.81, 32.33, 11.11, 22.59, 14.85, 34.4, 24.9, 37.34, 38.95, 21.16, 40.24, 11.24, 20.81, 32.11, 33.41, 12.08, 37.48, 45.37, 36.72, 41.12, 31.81, 45.77, 48.62, 45.05, 20.61, 35.64, 16.05, 33.61, 43.14, 27.79, 28.3, 47.62, 47.37, 35.88, 59.79, 49.88, 45.31, 52.28, 28.22, 46.01, 45.87, 29.89, 38.8, 48.42, 47.1, 32.94, 40.66, 25.12, 24.25, 60.29, 24.94, 19.52, 45.22, 56.85, 28.67, 38.61, 43.82, 44.08, 39.81, 29.0, 45.75, 46.89, 39.11, 38.62, 51.31, 39.79, 39.01, 47.33, 49.65, 47.63, 36.11, 31.59, 44.53, 35.13, 32.19, 27.51, 13.9, 36.63, 34.88, 38.53, 34.01, 38.35, 24.91, 25.02, 10.02, 39.33, 30.23, 29.03, 30.54, 43.86, 29.18, 39.71, 27.84, 33.1, 32.28, 34.31, 30.78, 26.51, 37.57, 38.94, 30.75, 32.23, 10.71, 41.62, 32.85, 46.14, 36.81, 32.54, 35.68, 31.21, 25.34, 40.02, 32.37, 36.59, 26.78, 30.8, 38.13, 28.28, 23.42, 47.55, 31.82, 40.82, 54.46, 38.4, 27.45, 27.52, 35.72, 29.05, 39.37, 49.85, 43.13, 48.59, 48.74, 42.74, 19.02, 33.32, 37.0, 46.79, 48.4, 37.69, 46.73, 42.42, 39.6, 49.35, 36.61, 24.32, 43.22, 43.57, 39.97, 50.2, 43.47, 48.48, 47.7, 48.17, 49.51, 43.45, 46.37, 44.73, 37.78, 43.12, 40.8, 37.93, 46.57, 49.76, 40.38, 40.43, 45.6, 40.46, 42.27, 43.9, 43.49, 44.55, 26.46, 45.86, 42.89, 37.87, 37.6, 49.12, 30.98, 41.21, 38.7, 52.58, 37.98, 41.67, 37.41, 33.98, 10.84, 28.65, 49.66, 48.13, 65.8, 34.97, 36.48, 31.05, 47.96, 45.5, 11.44, 66.81, 43.18, 38.85, 35.32, 39.49, 26.57, 10.14, 53.76, 36.9, 44.64, 37.71, 31.38, 46.49, 42.99, 63.29, 36.21, 35.98, 36.74, 46.07, 44.05, 40.35, 40.92, 22.96, 35.06, 46.05, 40.05, 41.65, 34.03, 39.28, 48.06, 11.2, 23.71, 35.19, 10.76, 26.96, 42.0, 31.7, 33.51, 31.25, 40.34, 39.26, 51.98, 33.2, 32.27, 37.14, 39.58, 49.47, 44.15, 32.15, 40.72, 35.38, 31.95, 32.45, 33.25, 26.2, 36.69, 65.3, 38.93, 36.37, 40.1, 28.99, 44.11, 41.43, 41.13, 39.05, 13.51, 33.63, 24.61, 20.69, 32.49, 39.34, 20.57, 16.84, 20.12, 28.62, 11.22, 44.57, 34.87, 32.36, 20.49, 33.55, 14.36, 23.36, 38.6, 11.75, 26.36, 35.31, 34.59, 35.74, 40.48, 36.31, 39.38, 13.06, 40.26, 51.08, 21.56, 26.44, 28.52, 39.02, 28.98, 34.39, 25.71, 12.15, 33.19, 32.17, 41.71, 30.41, 35.87, 29.43, 21.12, 27.82, 44.66, 42.01, 40.94, 32.41, 41.23, 37.73, 33.77, 27.74, 20.33, 25.72, 19.59, 34.65, 24.08, 41.02, 32.64, 39.48, 38.9, 28.97, 39.61, 10.31, 35.63, 39.55, 42.7, 36.17, 49.14, 38.24, 31.08, 77.97, 37.13, 48.65, 32.86, 45.21, 47.42, 47.23, 30.11, 42.54, 45.92, 36.5, 34.05, 43.87, 43.67, 30.07, 38.72, 42.4, 10.82, 43.68, 38.66, 51.0, 42.31, 49.83, 69.9, 38.88, 33.68, 34.23, 37.51, 43.19, 59.24, 27.67, 40.71, 32.06, 60.82, 35.6, 34.69, 26.98, 40.28, 37.23, 27.15, 37.01, 39.0, 27.01, 34.85, 38.21, 48.11, 28.57, 31.83, 32.32, 25.51, 37.8, 38.25, 31.9, 33.09, 34.49, 39.59, 34.21, 35.16, 49.61, 32.56, 33.71, 23.09, 27.22, 27.76, 46.91, 43.31, 39.63, 34.82, 43.61, 38.68, 42.32, 32.75, 69.97, 37.28, 38.51, 31.93, 56.32, 60.3, 39.22, 30.04, 41.46, 28.13, 34.89, 32.59, 37.47, 43.35, 38.29, 29.78, 37.61, 38.79, 48.6, 40.93, 33.67, 35.93, 39.83, 38.98, 40.62, 46.59, 39.7, 39.96, 15.33, 73.01, 45.14, 29.36, 32.13, 55.65, 51.72, 43.54, 26.47, 32.7, 35.73, 39.69, 35.24, 38.81, 40.96, 30.13, 32.6, 34.29, 36.24, 43.3, 39.3, 41.4, 35.21, 47.94, 38.18, 35.61, 54.35, 34.66, 39.84, 44.32, 33.0, 26.05, 52.12, 40.27, 40.97, 37.15, 35.02, 38.05, 26.21, 46.33, 17.47, 47.43, 39.68, 40.49, 31.78, 42.87, 12.23, 43.01, 42.43, 37.22, 41.34, 38.75, 21.3, 27.25, 41.98, 28.92, 37.99, 31.32, 50.76, 36.36, 30.88, 44.77, 29.95, 47.47, 42.05, 35.07, 35.1, 29.67, 38.2, 43.89, 41.93, 41.2, 34.98, 41.17, 29.77, 36.38, 41.18, 39.31, 38.27, 33.73, 38.64, 40.32, 37.56, 34.53, 26.38, 39.98, 36.1, 37.3, 31.56, 31.77, 37.11, 40.63, 42.51, 22.47, 43.95, 39.44, 19.98, 30.7, 26.3, 42.16, 32.26, 44.27, 31.8, 38.01, 38.47, 37.68, 37.43, 36.79, 24.98, 47.34, 40.09, 40.47, 46.32, 44.21, 50.77, 48.52, 34.73, 42.65, 42.66, 47.44, 48.39, 38.43, 45.65, 45.34, 44.02, 48.3, 36.05, 39.09, 50.06, 47.08, 46.67, 45.43, 44.6, 45.53, 41.03, 36.71, 39.46, 45.63, 30.95, 26.59, 43.43, 40.37, 44.69, 40.88, 43.26, 51.44, 37.67, 51.32, 40.77, 40.0, 49.04, 49.63, 35.9, 56.66, 49.99, 37.9, 47.02, 42.67, 44.76, 49.57, 47.48, 47.9, 44.83, 38.74, 49.36, 37.49, 42.03, 47.17, 49.74, 34.09, 37.82, 41.82, 36.52, 49.3, 50.07, 48.15, 36.13, 39.57, 50.88, 49.26, 45.29, 42.76, 37.97, 38.32, 39.1, 27.97, 30.56, 33.79, 40.95, 34.94, 46.5, 36.23, 38.82, 31.72, 48.68, 25.37, 29.37, 39.76, 34.96, 35.03, 39.47, 42.09, 52.29, 46.6, 45.41, 38.83, 50.3, 40.59, 44.78\n",
      "========================================\n",
      "Column: Origin Lat\n",
      "Unique values:\n",
      "35.625, 36.0, 35.68, 35.745, 35.705, 35.815, 35.75, 35.65, 35.675, 35.69, 35.785, 35.995, 35.875, 35.5, 35.805, 35.95, 35.575, 35.505, 35.56, 35.51, 35.565, 35.54, 35.52, 35.91, 35.735, 35.76, 35.55, 35.82, 35.765, 35.945, 35.7, 35.97, 35.865, 35.74, 35.955, 35.725, 35.8, 35.525, 35.98, 35.62, 35.81, 35.635, 35.975, 35.89, 35.615, 35.59, 35.535, 35.77, 35.555, 35.84, 35.845, 35.64, 35.595, 35.99, 35.775, 35.53, 35.855, 35.71, 35.545, 35.9, 35.93, 35.905, 35.825, 35.83\n",
      "========================================\n",
      "Column: Origin Long\n",
      "Unique values:\n",
      "51.375, 51.085, 51.445, 51.465, 51.295, 51.32, 51.385, 51.31, 51.37, 51.24, 51.0, 51.045, 51.275, 51.315, 51.5, 51.345, 51.185, 51.42, 51.18, 51.415, 51.155, 51.06, 51.285, 51.19, 51.4, 51.225, 51.075, 51.17, 51.115, 51.25, 51.135, 51.215, 51.025, 51.26, 51.2, 51.195, 51.12, 51.245, 51.15, 51.3, 51.1, 51.05, 51.47, 51.435, 51.46, 51.125, 51.21, 51.175, 51.305, 51.28, 51.13, 51.165, 51.235, 51.27, 51.475, 51.39, 51.485, 51.09, 51.29, 51.145, 51.095, 51.495, 51.11, 51.035, 51.35\n",
      "========================================\n",
      "Column: Dest Lat\n",
      "Unique values:\n",
      "36.0, 35.625, 35.745, 35.68, 35.75, 35.65, 35.675, 35.69, 35.785, 35.875, 35.5, 35.805, 35.815, 35.95, 35.52, 35.505, 35.56, 35.51, 35.565, 35.54, 35.91, 35.995, 35.55, 35.735, 35.705, 35.82, 35.76, 35.765, 35.945, 35.575, 35.7, 35.59, 35.97, 35.865, 35.74, 35.955, 35.725, 35.8, 35.525, 35.98, 35.62, 35.81, 35.975, 35.635, 35.89, 35.615, 35.535, 35.77, 35.555, 35.84, 35.845, 35.64, 35.595, 35.99, 35.775, 35.53, 35.855, 35.71, 35.545, 35.9, 35.93, 35.905, 35.825, 35.83\n",
      "========================================\n",
      "Column: Dest Long\n",
      "Unique values:\n",
      "51.085, 51.375, 51.465, 51.445, 51.385, 51.31, 51.37, 51.295, 51.24, 51.045, 51.275, 51.5, 51.345, 51.315, 51.185, 51.285, 51.32, 51.18, 51.415, 51.155, 51.06, 51.19, 51.0, 51.225, 51.4, 51.075, 51.17, 51.42, 51.25, 51.115, 51.135, 51.47, 51.215, 51.025, 51.26, 51.2, 51.195, 51.12, 51.245, 51.3, 51.1, 51.05, 51.15, 51.435, 51.46, 51.125, 51.21, 51.175, 51.305, 51.28, 51.13, 51.165, 51.235, 51.27, 51.475, 51.39, 51.485, 51.09, 51.29, 51.145, 51.095, 51.495, 51.11, 51.035, 51.35\n",
      "========================================\n"
     ]
    }
   ],
   "source": [
    "for column_name, column_data in nn_train_df.items() :\n",
    "    print('Column:', column_name)\n",
    "    print('Unique values:')\n",
    "    print(', '.join(map(str, list(column_data.unique()))))\n",
    "    print('========================================')\n"
   ]
  },
  {
   "cell_type": "code",
   "execution_count": null,
   "metadata": {
    "colab": {
     "base_uri": "https://localhost:8080/"
    },
    "id": "H3N4iac_jBgS",
    "outputId": "bc974150-1646-408b-e6ec-364e4c8353da"
   },
   "outputs": [
    {
     "name": "stdout",
     "output_type": "stream",
     "text": [
      "column: user_id\n",
      "Data type: int64\n",
      "-------------------------------\n",
      "column: Day\n",
      "Data type: int64\n",
      "-------------------------------\n",
      "column: origin\n",
      "Data type: object\n",
      "-------------------------------\n",
      "column: destination\n",
      "Data type: object\n",
      "-------------------------------\n",
      "column: start_time\n",
      "Data type: object\n",
      "-------------------------------\n",
      "column: end_time\n",
      "Data type: object\n",
      "-------------------------------\n",
      "column: price\n",
      "Data type: float64\n",
      "-------------------------------\n",
      "column: Origin Lat\n",
      "Data type: float64\n",
      "-------------------------------\n",
      "column: Origin Long\n",
      "Data type: float64\n",
      "-------------------------------\n",
      "column: Dest Lat\n",
      "Data type: float64\n",
      "-------------------------------\n",
      "column: Dest Long\n",
      "Data type: float64\n",
      "-------------------------------\n"
     ]
    }
   ],
   "source": [
    "import pandas as pd\n",
    "\n",
    "# print out the data type of each column\n",
    "for column_name, column_data in nn_train_df.items() :\n",
    "    print('column:', column_name)\n",
    "    print('Data type:', nn_train_df[column_name].dtype)\n",
    "    print('-------------------------------')"
   ]
  },
  {
   "cell_type": "markdown",
   "metadata": {
    "id": "q7sSq5ICjBgS"
   },
   "source": [
    "Based on your features and how you extracted them, you may need to use some encodings for your data. For example, if you have different classes as names (`str` data type. E.g. \"gym\") you need to make it a numeric value in order to feed it into your neural network. You can use `sklearn`'s functions (such as `LabelEncoder`, `OneHotEncoder`, `StandardScaler`, etc.) to do these kind of stuff!"
   ]
  },
  {
   "cell_type": "code",
   "execution_count": null,
   "metadata": {
    "id": "PCAxfwZLjBgS"
   },
   "outputs": [],
   "source": [
    "import pandas as pd\n",
    "from sklearn.model_selection import train_test_split\n",
    "from sklearn.preprocessing import StandardScaler, LabelEncoder, OneHotEncoder\n",
    "\n",
    "# Finalize the data (do all preprocessing needed)\n",
    "def preprocess_nn_df(df, normalizer, feature_encoder, label_encoder, is_train_set):\n",
    "    df = df.reset_index(drop=True)\n",
    "    # preprocess the time series columns\n",
    "    df['start_hour'] = df['start_time'].apply(lambda x: x.hour)\n",
    "    df['start_minute'] = df['start_time'].apply(lambda x: x.minute)\n",
    "\n",
    "    df['end_hour'] = df['end_time'].apply(lambda x: x.hour)\n",
    "    df['end_minute'] = df['end_time'].apply(lambda x: x.minute)\n",
    "\n",
    "    combined_column = pd.concat([df['origin'], df['destination']])\n",
    "\n",
    "    if is_train_set:\n",
    "        # encoding the string columns\n",
    "        feature_encoder.fit(combined_column.values.reshape(-1, 1))\n",
    "        label_encoder.fit(df['destination'].values.reshape(-1, 1))\n",
    "\n",
    "    origin_encoded = feature_encoder.transform(df['origin'].values.reshape(-1, 1))\n",
    "    df_origin_encoded = pd.DataFrame(origin_encoded, columns=feature_encoder.categories_[0])\n",
    "\n",
    "    df['destination'] = label_encoder.transform(df['destination'].values.reshape(-1, 1))\n",
    "\n",
    "    df_origin_encoded = df_origin_encoded.reset_index(drop=True)\n",
    "\n",
    "    df_encoded = pd.concat([df, df_origin_encoded], axis=1)\n",
    "\n",
    "    X = np.array(df_encoded.drop(['origin', 'destination', 'start_time', 'end_time', 'Dest Lat', 'Dest Long', 'price', 'end_hour', 'end_minute'], axis=1).values)\n",
    "    Y = np.array(df_encoded['destination'].values.reshape(-1, 1))\n",
    "\n",
    "    if is_train_set:\n",
    "        # dividing the data into train and validation\n",
    "        X_train, X_val, Y_train, Y_val = train_test_split(X, Y, test_size=0.25, random_state=42, shuffle=True)\n",
    "        # normalizing\n",
    "        normalizer.fit(X_train)\n",
    "        X_train = normalizer.transform(X_train)\n",
    "        X_val = normalizer.transform(X_val)\n",
    "        return X_train, Y_train, X_val, Y_val\n",
    "\n",
    "    else:\n",
    "        X = normalizer.transform(X)\n",
    "        return X, Y"
   ]
  },
  {
   "cell_type": "code",
   "execution_count": null,
   "metadata": {
    "id": "Ocdtq7G5bbjt"
   },
   "outputs": [],
   "source": [
    "feature_encoder = OneHotEncoder(sparse_output=False)\n",
    "label_encoder = LabelEncoder()\n",
    "normalizer = StandardScaler()\n",
    "\n",
    "X_train, Y_train, X_val, Y_val = preprocess_nn_df(nn_train_df.copy(), normalizer, feature_encoder, label_encoder,True)\n",
    "X_test, Y_test = preprocess_nn_df(nn_test_df.copy(), normalizer, feature_encoder, label_encoder, False)"
   ]
  },
  {
   "cell_type": "code",
   "execution_count": null,
   "metadata": {
    "colab": {
     "base_uri": "https://localhost:8080/"
    },
    "id": "41mi10IuBr-2",
    "outputId": "950bc36a-5072-4f0c-941b-2b2386a50181"
   },
   "outputs": [
    {
     "name": "stdout",
     "output_type": "stream",
     "text": [
      "((13495, 13), (13495, 1), (4499, 13), (4499, 1), (4499, 13), (4499, 1))\n"
     ]
    }
   ],
   "source": [
    "print((X_train.shape, Y_train.shape, X_val.shape, Y_val.shape, X_test.shape, Y_test.shape))"
   ]
  },
  {
   "cell_type": "markdown",
   "metadata": {
    "id": "kMiJdcQTjBgS"
   },
   "source": [
    "Create `train_dataset` and its loader, also create `test_dataset` and its loader. You should also create `val_dataset` and its loader if you want to use validation set. You may need to implement a custom `torch.Dataset` class for your ease. Your loaders should be able to load data in batches."
   ]
  },
  {
   "cell_type": "code",
   "execution_count": null,
   "metadata": {
    "id": "dttM9_swjBgS"
   },
   "outputs": [],
   "source": [
    "import pandas as pd\n",
    "from sklearn.model_selection import train_test_split\n",
    "import torch\n",
    "from torch.utils.data import Dataset, DataLoader\n",
    "import torch.nn as nn\n",
    "import torch.nn.functional as F\n",
    "import torch.optim as optim\n",
    "import matplotlib.pyplot as plt\n",
    "\n",
    "class DataSet(Dataset) :\n",
    "    def __init__(self, X, Y) :\n",
    "        super().__init__()\n",
    "        self.X = X\n",
    "        self.Y = Y\n",
    "\n",
    "    def __len__(self) :\n",
    "        return len(self.X)\n",
    "\n",
    "    def __getitem__(self, index) :\n",
    "        return self.X[index], self.Y[index]\n",
    "\n",
    "\n",
    "train_dataset = DataSet(X_train, Y_train)\n",
    "val_dataset = DataSet(X_val, Y_val)\n",
    "test_dataset = DataSet(X_test, Y_test)\n",
    "\n",
    "# Batch size\n",
    "batch_size = 135\n",
    "\n",
    "# DataLoader\n",
    "train_loader = DataLoader(train_dataset, batch_size=batch_size, shuffle=True)\n",
    "val_loader = DataLoader(val_dataset, batch_size=batch_size)\n",
    "test_loader = DataLoader(test_dataset, batch_size=batch_size)"
   ]
  },
  {
   "cell_type": "markdown",
   "metadata": {
    "id": "hkN-b4XAjBgS"
   },
   "source": [
    "## Neural Network Model"
   ]
  },
  {
   "cell_type": "markdown",
   "metadata": {
    "id": "BgtkhNhOjBgS"
   },
   "source": [
    "Here, you should implement your neural network model. You should use `pytorch`. **Note** that you should plot the loss function of your model during the training phase. (on both training and validation sets)"
   ]
  },
  {
   "cell_type": "code",
   "execution_count": null,
   "metadata": {
    "colab": {
     "base_uri": "https://localhost:8080/",
     "height": 36
    },
    "id": "wSVGpiYJGSHB",
    "outputId": "31ca21b4-7e7f-4c69-8434-dfd75bcb7f4d"
   },
   "outputs": [
    {
     "data": {
      "application/vnd.google.colaboratory.intrinsic+json": {
       "type": "string"
      },
      "text/plain": [
       "'cpu'"
      ]
     },
     "execution_count": 339,
     "metadata": {},
     "output_type": "execute_result"
    }
   ],
   "source": [
    "device = 'cuda' if torch.cuda.is_available() else 'cpu'\n",
    "device"
   ]
  },
  {
   "cell_type": "code",
   "execution_count": null,
   "metadata": {
    "id": "sFb1B7WbjBgT"
   },
   "outputs": [],
   "source": [
    "# Implement the train_model function\n",
    "def train_step(model, train_loader, criterion, optimizer) :\n",
    "    model.train()\n",
    "    number_of_batches = 0\n",
    "    total_loss = 0\n",
    "    for X, Y in train_loader :\n",
    "        X = X.to(device).type(model.parameters().__next__().dtype)\n",
    "        Y = Y.to(device).type(model.parameters().__next__().dtype)\n",
    "\n",
    "        predictions = model(X)\n",
    "\n",
    "        loss = criterion(predictions, Y.squeeze(1).long())\n",
    "\n",
    "        optimizer.zero_grad()\n",
    "        loss.backward()\n",
    "\n",
    "        optimizer.step()\n",
    "\n",
    "        number_of_batches += 1\n",
    "        total_loss += loss.item()\n",
    "\n",
    "    return total_loss / number_of_batches\n",
    "\n",
    "def validation_step(model, val_loader, criterion) :\n",
    "    model.eval()\n",
    "    number_of_batches = 0\n",
    "    total_loss = 0\n",
    "    with torch.no_grad() :\n",
    "        for X, Y in val_loader :\n",
    "            X = X.to(device).type(model.parameters().__next__().dtype)\n",
    "            Y = Y.to(device).type(model.parameters().__next__().dtype)\n",
    "\n",
    "            predictions = model(X)\n",
    "\n",
    "            loss = criterion(predictions, Y.squeeze(1).long())\n",
    "\n",
    "            number_of_batches += 1\n",
    "            total_loss += loss.item()\n",
    "\n",
    "    return total_loss / number_of_batches\n",
    "\n",
    "def train_model(model, train_loader, val_loader, criterion, optimizer, epochs):\n",
    "    # training loop\n",
    "    training_losses = []\n",
    "    validation_losses = []\n",
    "    for epoch in range(epochs) :\n",
    "        train_loss = train_step(model, train_loader, criterion, optimizer)\n",
    "        val_loss = validation_step(model, val_loader, criterion)\n",
    "\n",
    "        training_losses.append(train_loss)\n",
    "        validation_losses.append(val_loss)\n",
    "\n",
    "        print(f'Epoch {epoch+1}/{epochs}, Train Loss: {train_loss}, Val Loss: {val_loss}')\n",
    "\n",
    "\n",
    "    # Plot training and validation losses\n",
    "    plt.plot(training_losses, label='training loss')\n",
    "    plt.plot(validation_losses, label='validation loss')\n",
    "    plt.xlabel('Epoch')\n",
    "    plt.ylabel('Loss')\n",
    "\n",
    "    plt.legend(loc='best')\n",
    "    plt.show()\n",
    "\n",
    "# Implement the MLP class with your choice of architecture\n",
    "# TODO: You can change the signature of functions and also add any function you need\n",
    "class MLP(nn.Module):\n",
    "    def __init__(self, input_dim, num_classes, output_dim):\n",
    "        super().__init__()\n",
    "        self.linear1 = nn.Linear(input_dim, 52)\n",
    "        nn.init.xavier_uniform_(self.linear1.weight)\n",
    "        self.relu_h1 = nn.ReLU()\n",
    "        self.linear2 = nn.Linear(52, 50)\n",
    "        nn.init.xavier_uniform_(self.linear2.weight)\n",
    "        self.relu_h2 = nn.ReLU()\n",
    "        self.linear3 = nn.Linear(50, num_classes)\n",
    "        nn.init.xavier_uniform_(self.linear3.weight)\n",
    "\n",
    "    def forward(self, x):\n",
    "        x = self.linear1(x)\n",
    "        x = self.relu_h1(x)\n",
    "        x = self.linear2(x)\n",
    "        x = self.relu_h2(x)\n",
    "        x = self.linear3(x)\n",
    "        return x\n",
    "\n",
    "\n",
    "# Define Model, Loss, Optimizer\n",
    "model = MLP(X_train.shape[1], len(label_encoder.classes_), 1)\n",
    "model = model.to(device)\n",
    "criterion = nn.CrossEntropyLoss()\n",
    "optimizer = optim.Adam(model.parameters(), lr=0.0022)"
   ]
  },
  {
   "cell_type": "code",
   "execution_count": null,
   "metadata": {
    "colab": {
     "base_uri": "https://localhost:8080/",
     "height": 1000
    },
    "id": "EhTck0k9jBgT",
    "outputId": "6368e42f-ef11-422a-f956-b644941b5692",
    "scrolled": true,
    "tags": []
   },
   "outputs": [
    {
     "name": "stdout",
     "output_type": "stream",
     "text": [
      "Epoch 1/120, Train Loss: 1.0315810072422027, Val Loss: 0.6558127911651835\n",
      "Epoch 2/120, Train Loss: 0.5935743591189384, Val Loss: 0.5225698921610328\n",
      "Epoch 3/120, Train Loss: 0.5013943564891815, Val Loss: 0.45450351168127623\n",
      "Epoch 4/120, Train Loss: 0.4439856803417206, Val Loss: 0.4100331287173664\n",
      "Epoch 5/120, Train Loss: 0.4050242778658867, Val Loss: 0.37698447309872685\n",
      "Epoch 6/120, Train Loss: 0.3759895995259285, Val Loss: 0.3558686244137147\n",
      "Epoch 7/120, Train Loss: 0.3569209410250187, Val Loss: 0.348561555147171\n",
      "Epoch 8/120, Train Loss: 0.3484616602957249, Val Loss: 0.33187825232744217\n",
      "Epoch 9/120, Train Loss: 0.3359624879062176, Val Loss: 0.3245177225154989\n",
      "Epoch 10/120, Train Loss: 0.3276320144534111, Val Loss: 0.316011266235043\n",
      "Epoch 11/120, Train Loss: 0.3221117541193962, Val Loss: 0.31126293802962585\n",
      "Epoch 12/120, Train Loss: 0.3180805225670338, Val Loss: 0.3009757631841828\n",
      "Epoch 13/120, Train Loss: 0.30920475855469703, Val Loss: 0.3113446402199128\n",
      "Epoch 14/120, Train Loss: 0.3034689253568649, Val Loss: 0.3008102388942943\n",
      "Epoch 15/120, Train Loss: 0.29913062617182734, Val Loss: 0.2948642504565856\n",
      "Epoch 16/120, Train Loss: 0.29915366545319555, Val Loss: 0.29501775695997123\n",
      "Epoch 17/120, Train Loss: 0.2929265810549259, Val Loss: 0.3022366648211199\n",
      "Epoch 18/120, Train Loss: 0.2907047902047634, Val Loss: 0.29363346801084633\n",
      "Epoch 19/120, Train Loss: 0.2854769358038902, Val Loss: 0.2944152609390371\n",
      "Epoch 20/120, Train Loss: 0.2854951624572277, Val Loss: 0.28607190619496736\n",
      "Epoch 21/120, Train Loss: 0.27893161416053774, Val Loss: 0.27890559811802473\n",
      "Epoch 22/120, Train Loss: 0.27687868863344195, Val Loss: 0.2778792477705899\n",
      "Epoch 23/120, Train Loss: 0.2737240587174892, Val Loss: 0.2798675202271518\n",
      "Epoch 24/120, Train Loss: 0.27205960273742674, Val Loss: 0.2924812260796042\n",
      "Epoch 25/120, Train Loss: 0.27199766471982, Val Loss: 0.2735845109119135\n",
      "Epoch 26/120, Train Loss: 0.269879417270422, Val Loss: 0.27609069820712595\n",
      "Epoch 27/120, Train Loss: 0.2693216036260128, Val Loss: 0.2811589539051056\n",
      "Epoch 28/120, Train Loss: 0.264905573874712, Val Loss: 0.2800636782365687\n",
      "Epoch 29/120, Train Loss: 0.26606499761343, Val Loss: 0.2807327044360778\n",
      "Epoch 30/120, Train Loss: 0.2617944784462452, Val Loss: 0.27349834845346566\n",
      "Epoch 31/120, Train Loss: 0.26284693866968156, Val Loss: 0.264461207039216\n",
      "Epoch 32/120, Train Loss: 0.2596846011281013, Val Loss: 0.2733583862290663\n",
      "Epoch 33/120, Train Loss: 0.2576019297540188, Val Loss: 0.2732295078389785\n",
      "Epoch 34/120, Train Loss: 0.2547083951532841, Val Loss: 0.262853246401338\n",
      "Epoch 35/120, Train Loss: 0.2512999879568815, Val Loss: 0.25871307359022255\n",
      "Epoch 36/120, Train Loss: 0.24966802179813385, Val Loss: 0.26736776136300144\n",
      "Epoch 37/120, Train Loss: 0.25110090285539627, Val Loss: 0.266370551989359\n",
      "Epoch 38/120, Train Loss: 0.2510135918855667, Val Loss: 0.26867910474538803\n",
      "Epoch 39/120, Train Loss: 0.24964920848608016, Val Loss: 0.26275787765488906\n",
      "Epoch 40/120, Train Loss: 0.2459633407741785, Val Loss: 0.2599850796601352\n",
      "Epoch 41/120, Train Loss: 0.24350184693932533, Val Loss: 0.2619726763052099\n",
      "Epoch 42/120, Train Loss: 0.2420684215426445, Val Loss: 0.25708790868520737\n",
      "Epoch 43/120, Train Loss: 0.24010602712631227, Val Loss: 0.25736744175938997\n",
      "Epoch 44/120, Train Loss: 0.23678970947861672, Val Loss: 0.2566915689145817\n",
      "Epoch 45/120, Train Loss: 0.24045621328055858, Val Loss: 0.25835663912927403\n",
      "Epoch 46/120, Train Loss: 0.23583664000034332, Val Loss: 0.2586740632267559\n",
      "Epoch 47/120, Train Loss: 0.23663130789995193, Val Loss: 0.24995371392544577\n",
      "Epoch 48/120, Train Loss: 0.23527911752462388, Val Loss: 0.2656289724742665\n",
      "Epoch 49/120, Train Loss: 0.23651210427284242, Val Loss: 0.255804783281158\n",
      "Epoch 50/120, Train Loss: 0.23465231835842132, Val Loss: 0.2526225763208726\n",
      "Epoch 51/120, Train Loss: 0.23099857166409493, Val Loss: 0.2516351123066509\n",
      "Epoch 52/120, Train Loss: 0.2301039555668831, Val Loss: 0.2507239488117835\n",
      "Epoch 53/120, Train Loss: 0.23208367116749287, Val Loss: 0.2797781781238668\n",
      "Epoch 54/120, Train Loss: 0.23071168944239617, Val Loss: 0.25524524686967626\n",
      "Epoch 55/120, Train Loss: 0.22754836067557335, Val Loss: 0.2531117516405442\n",
      "Epoch 56/120, Train Loss: 0.22748428426682948, Val Loss: 0.2558988288921468\n",
      "Epoch 57/120, Train Loss: 0.22528557009994984, Val Loss: 0.25107891463181553\n",
      "Epoch 58/120, Train Loss: 0.22462560787796973, Val Loss: 0.2469436657779357\n",
      "Epoch 59/120, Train Loss: 0.2235404685139656, Val Loss: 0.24793201684951782\n",
      "Epoch 60/120, Train Loss: 0.22167657896876336, Val Loss: 0.2501366020125501\n",
      "Epoch 61/120, Train Loss: 0.2259383075684309, Val Loss: 0.24766801472972422\n",
      "Epoch 62/120, Train Loss: 0.22292108967900276, Val Loss: 0.24831348394646363\n",
      "Epoch 63/120, Train Loss: 0.22354547552764414, Val Loss: 0.25242867057814317\n",
      "Epoch 64/120, Train Loss: 0.22374472558498382, Val Loss: 0.24723881570731893\n",
      "Epoch 65/120, Train Loss: 0.22026177659630775, Val Loss: 0.24800484452177496\n",
      "Epoch 66/120, Train Loss: 0.2193601006269455, Val Loss: 0.25607679608990164\n",
      "Epoch 67/120, Train Loss: 0.21718141935765745, Val Loss: 0.2513129886458902\n",
      "Epoch 68/120, Train Loss: 0.21805405646562576, Val Loss: 0.2517481923979871\n",
      "Epoch 69/120, Train Loss: 0.21717135049402714, Val Loss: 0.2525154790457557\n",
      "Epoch 70/120, Train Loss: 0.21555126123130322, Val Loss: 0.25852084159851074\n",
      "Epoch 71/120, Train Loss: 0.2169654393196106, Val Loss: 0.24574051402947483\n",
      "Epoch 72/120, Train Loss: 0.2149808932840824, Val Loss: 0.24365884284762776\n",
      "Epoch 73/120, Train Loss: 0.21505321376025677, Val Loss: 0.25442953320110545\n",
      "Epoch 74/120, Train Loss: 0.2132229483127594, Val Loss: 0.25002849671770544\n",
      "Epoch 75/120, Train Loss: 0.21442370027303695, Val Loss: 0.24469247635673075\n",
      "Epoch 76/120, Train Loss: 0.21031155295670032, Val Loss: 0.24725007265806198\n",
      "Epoch 77/120, Train Loss: 0.21028003357350827, Val Loss: 0.2550523469553274\n",
      "Epoch 78/120, Train Loss: 0.2117669890075922, Val Loss: 0.2547341633368941\n",
      "Epoch 79/120, Train Loss: 0.2142412982136011, Val Loss: 0.2419431244625765\n",
      "Epoch 80/120, Train Loss: 0.2080182333290577, Val Loss: 0.25200679416165633\n",
      "Epoch 81/120, Train Loss: 0.21006865628063678, Val Loss: 0.2459817335886114\n",
      "Epoch 82/120, Train Loss: 0.2067284308373928, Val Loss: 0.24576507727889454\n",
      "Epoch 83/120, Train Loss: 0.20817242652177811, Val Loss: 0.2435253157335169\n",
      "Epoch 84/120, Train Loss: 0.2055760519206524, Val Loss: 0.24314146488904953\n",
      "Epoch 85/120, Train Loss: 0.20850426390767096, Val Loss: 0.24324864675016963\n",
      "Epoch 86/120, Train Loss: 0.20510060623288154, Val Loss: 0.24589661289663875\n",
      "Epoch 87/120, Train Loss: 0.20472443476319313, Val Loss: 0.25006406228331957\n",
      "Epoch 88/120, Train Loss: 0.20452793404459954, Val Loss: 0.2457923389532987\n",
      "Epoch 89/120, Train Loss: 0.2044624076783657, Val Loss: 0.2562907662461786\n",
      "Epoch 90/120, Train Loss: 0.20199280939996242, Val Loss: 0.2629990958992173\n",
      "Epoch 91/120, Train Loss: 0.20159647412598133, Val Loss: 0.2415202895508093\n",
      "Epoch 92/120, Train Loss: 0.19905872166156768, Val Loss: 0.25194563672823067\n",
      "Epoch 93/120, Train Loss: 0.2021986871212721, Val Loss: 0.24496667656828375\n",
      "Epoch 94/120, Train Loss: 0.19972907684743404, Val Loss: 0.25196245794787125\n",
      "Epoch 95/120, Train Loss: 0.19926009759306906, Val Loss: 0.24360419634510488\n",
      "Epoch 96/120, Train Loss: 0.19861516691744327, Val Loss: 0.24664872621788697\n",
      "Epoch 97/120, Train Loss: 0.19753452368080615, Val Loss: 0.24224831865114324\n",
      "Epoch 98/120, Train Loss: 0.1989478688687086, Val Loss: 0.24117855902980356\n",
      "Epoch 99/120, Train Loss: 0.19808908194303512, Val Loss: 0.2550416983225766\n",
      "Epoch 100/120, Train Loss: 0.1936542971432209, Val Loss: 0.24947354767252417\n",
      "Epoch 101/120, Train Loss: 0.19647806368768214, Val Loss: 0.2411212855402161\n",
      "Epoch 102/120, Train Loss: 0.19612064719200134, Val Loss: 0.25118348616011005\n",
      "Epoch 103/120, Train Loss: 0.19429896377027034, Val Loss: 0.2418081037261907\n",
      "Epoch 104/120, Train Loss: 0.19480709105730057, Val Loss: 0.2489838139975772\n",
      "Epoch 105/120, Train Loss: 0.19497596874833106, Val Loss: 0.2458344759309993\n",
      "Epoch 106/120, Train Loss: 0.19633957475423813, Val Loss: 0.24615125358104706\n",
      "Epoch 107/120, Train Loss: 0.19119435906410218, Val Loss: 0.24580144750721314\n",
      "Epoch 108/120, Train Loss: 0.19125921420753003, Val Loss: 0.2589266300201416\n",
      "Epoch 109/120, Train Loss: 0.19035365425050257, Val Loss: 0.2478351768325357\n",
      "Epoch 110/120, Train Loss: 0.19834780104458333, Val Loss: 0.2518905839499305\n",
      "Epoch 111/120, Train Loss: 0.19060938104987143, Val Loss: 0.25257112173473134\n",
      "Epoch 112/120, Train Loss: 0.19141776666045188, Val Loss: 0.23965698173817465\n",
      "Epoch 113/120, Train Loss: 0.19270332597196102, Val Loss: 0.25606610538328395\n",
      "Epoch 114/120, Train Loss: 0.19025870963931082, Val Loss: 0.23916292935609818\n",
      "Epoch 115/120, Train Loss: 0.18920121423900127, Val Loss: 0.24146925482679815\n",
      "Epoch 116/120, Train Loss: 0.18958259716629983, Val Loss: 0.25149475432494106\n",
      "Epoch 117/120, Train Loss: 0.19081762932240964, Val Loss: 0.2534126573625733\n",
      "Epoch 118/120, Train Loss: 0.19342840135097503, Val Loss: 0.24078776599729762\n",
      "Epoch 119/120, Train Loss: 0.18665381103754045, Val Loss: 0.24763855206615784\n",
      "Epoch 120/120, Train Loss: 0.18451464369893075, Val Loss: 0.25736596303827625\n"
     ]
    },
    {
     "data": {
      "image/png": "[encoded data removed]",
      "text/plain": [
       "<Figure size 640x480 with 1 Axes>"
      ]
     },
     "metadata": {},
     "output_type": "display_data"
    }
   ],
   "source": [
    "train_model(model, train_loader, val_loader, criterion, optimizer, epochs=120)"
   ]
  },
  {
   "cell_type": "markdown",
   "metadata": {
    "id": "YlcRi3knjBgT"
   },
   "source": [
    "## Evaluate Neural Network Model"
   ]
  },
  {
   "cell_type": "markdown",
   "metadata": {
    "id": "5dVeAJLBjBgT"
   },
   "source": [
    "Report the model's accuracy on the test set."
   ]
  },
  {
   "cell_type": "code",
   "execution_count": null,
   "metadata": {
    "id": "f-cH2WaVjBgT"
   },
   "outputs": [],
   "source": [
    "# report model accuracy on test data\n",
    "def eval_model(model, data_loader) :\n",
    "    model.eval()\n",
    "    correct_predictions = 0\n",
    "    total_samples = 0\n",
    "    predictions_list = []\n",
    "\n",
    "    with torch.no_grad() :\n",
    "        for X, Y in data_loader :\n",
    "            X = X.to(device).type(model.parameters().__next__().dtype)\n",
    "            Y = Y.to(device).type(model.parameters().__next__().dtype)\n",
    "\n",
    "            predictions = model(X)\n",
    "            predictions_list.append(predictions)\n",
    "            predicted_classes = torch.argmax(predictions, dim=1)\n",
    "            correct_predictions += (predicted_classes == Y.squeeze(1)).sum().item()\n",
    "            total_samples += Y.size(0)\n",
    "    return correct_predictions / total_samples, predictions"
   ]
  },
  {
   "cell_type": "code",
   "execution_count": null,
   "metadata": {
    "colab": {
     "base_uri": "https://localhost:8080/"
    },
    "id": "UPhbYbsD84xD",
    "outputId": "5efd9685-315b-4786-a22b-2781e52e932b"
   },
   "outputs": [
    {
     "name": "stdout",
     "output_type": "stream",
     "text": [
      "Train accuracy: 92.2268\n"
     ]
    }
   ],
   "source": [
    "accuracy, _ = eval_model(model, train_loader)\n",
    "print(f'Train accuracy: {accuracy * 100:.4f}')"
   ]
  },
  {
   "cell_type": "code",
   "execution_count": null,
   "metadata": {
    "colab": {
     "base_uri": "https://localhost:8080/"
    },
    "id": "k9ReMUZC84dU",
    "outputId": "e644b23f-3b0d-49be-9273-02baa0c2d135"
   },
   "outputs": [
    {
     "name": "stdout",
     "output_type": "stream",
     "text": [
      "Val accuracy: 89.5310\n"
     ]
    }
   ],
   "source": [
    "accuracy, _ = eval_model(model, val_loader)\n",
    "print(f'Val accuracy: {accuracy * 100:.4f}')"
   ]
  },
  {
   "cell_type": "code",
   "execution_count": null,
   "metadata": {
    "colab": {
     "base_uri": "https://localhost:8080/"
    },
    "id": "QrTpYfaaVNlG",
    "outputId": "5cd9b591-fd48-4a8b-915a-829a82311bc9"
   },
   "outputs": [
    {
     "name": "stdout",
     "output_type": "stream",
     "text": [
      "Accuracy: 90.1311\n"
     ]
    }
   ],
   "source": [
    "accuracy, _ = eval_model(model, test_loader)\n",
    "print(f'Accuracy: {accuracy * 100:.4f}')"
   ]
  },
  {
   "cell_type": "markdown",
   "metadata": {
    "id": "bWL7aj1MjBgT"
   },
   "source": [
    "Just for the sake of curiosity, let's take a random sample from the test set and see the model's prediction. So, randomly choose a sample from the test set and print it out (to see its features and also the correct output). Then, feed the features into your model and see what it predicts. Is it correct?"
   ]
  },
  {
   "cell_type": "code",
   "execution_count": null,
   "metadata": {
    "colab": {
     "base_uri": "https://localhost:8080/",
     "height": 81
    },
    "id": "x6lIdE4ZjBgT",
    "outputId": "3ac09b36-bb8f-4420-f6b6-7c794878fbed"
   },
   "outputs": [
    {
     "data": {
      "text/html": [
       "\n",
       "  <div id=\"df-61258c81-1bae-45ca-947e-6c2b39d45628\" class=\"colab-df-container\">\n",
       "    <div>\n",
       "<style scoped>\n",
       "    .dataframe tbody tr th:only-of-type {\n",
       "        vertical-align: middle;\n",
       "    }\n",
       "\n",
       "    .dataframe tbody tr th {\n",
       "        vertical-align: top;\n",
       "    }\n",
       "\n",
       "    .dataframe thead th {\n",
       "        text-align: right;\n",
       "    }\n",
       "</style>\n",
       "<table border=\"1\" class=\"dataframe\">\n",
       "  <thead>\n",
       "    <tr style=\"text-align: right;\">\n",
       "      <th></th>\n",
       "      <th>user_id</th>\n",
       "      <th>Day</th>\n",
       "      <th>origin</th>\n",
       "      <th>destination</th>\n",
       "      <th>start_time</th>\n",
       "      <th>end_time</th>\n",
       "      <th>price</th>\n",
       "      <th>Origin Lat</th>\n",
       "      <th>Origin Long</th>\n",
       "      <th>Dest Lat</th>\n",
       "      <th>Dest Long</th>\n",
       "    </tr>\n",
       "  </thead>\n",
       "  <tbody>\n",
       "    <tr>\n",
       "      <th>1607</th>\n",
       "      <td>10</td>\n",
       "      <td>0</td>\n",
       "      <td>work</td>\n",
       "      <td>home</td>\n",
       "      <td>16:22:00</td>\n",
       "      <td>16:48:00</td>\n",
       "      <td>22.81</td>\n",
       "      <td>35.625</td>\n",
       "      <td>51.375</td>\n",
       "      <td>35.535</td>\n",
       "      <td>51.305</td>\n",
       "    </tr>\n",
       "  </tbody>\n",
       "</table>\n",
       "</div>\n",
       "    <div class=\"colab-df-buttons\">\n",
       "\n",
       "  <div class=\"colab-df-container\">\n",
       "    <button class=\"colab-df-convert\" onclick=\"convertToInteractive('df-61258c81-1bae-45ca-947e-6c2b39d45628')\"\n",
       "            title=\"Convert this dataframe to an interactive table.\"\n",
       "            style=\"display:none;\">\n",
       "\n",
       "  <svg xmlns=\"http://www.w3.org/2000/svg\" height=\"24px\" viewBox=\"0 -960 960 960\">\n",
       "    <path d=\"M120-120v-720h720v720H120Zm60-500h600v-160H180v160Zm220 220h160v-160H400v160Zm0 220h160v-160H400v160ZM180-400h160v-160H180v160Zm440 0h160v-160H620v160ZM180-180h160v-160H180v160Zm440 0h160v-160H620v160Z\"/>\n",
       "  </svg>\n",
       "    </button>\n",
       "\n",
       "  <style>\n",
       "    .colab-df-container {\n",
       "      display:flex;\n",
       "      gap: 12px;\n",
       "    }\n",
       "\n",
       "    .colab-df-convert {\n",
       "      background-color: #E8F0FE;\n",
       "      border: none;\n",
       "      border-radius: 50%;\n",
       "      cursor: pointer;\n",
       "      display: none;\n",
       "      fill: #1967D2;\n",
       "      height: 32px;\n",
       "      padding: 0 0 0 0;\n",
       "      width: 32px;\n",
       "    }\n",
       "\n",
       "    .colab-df-convert:hover {\n",
       "      background-color: #E2EBFA;\n",
       "      box-shadow: 0px 1px 2px rgba(60, 64, 67, 0.3), 0px 1px 3px 1px rgba(60, 64, 67, 0.15);\n",
       "      fill: #174EA6;\n",
       "    }\n",
       "\n",
       "    .colab-df-buttons div {\n",
       "      margin-bottom: 4px;\n",
       "    }\n",
       "\n",
       "    [theme=dark] .colab-df-convert {\n",
       "      background-color: #3B4455;\n",
       "      fill: #D2E3FC;\n",
       "    }\n",
       "\n",
       "    [theme=dark] .colab-df-convert:hover {\n",
       "      background-color: #434B5C;\n",
       "      box-shadow: 0px 1px 3px 1px rgba(0, 0, 0, 0.15);\n",
       "      filter: drop-shadow(0px 1px 2px rgba(0, 0, 0, 0.3));\n",
       "      fill: #FFFFFF;\n",
       "    }\n",
       "  </style>\n",
       "\n",
       "    <script>\n",
       "      const buttonEl =\n",
       "        document.querySelector('#df-61258c81-1bae-45ca-947e-6c2b39d45628 button.colab-df-convert');\n",
       "      buttonEl.style.display =\n",
       "        google.colab.kernel.accessAllowed ? 'block' : 'none';\n",
       "\n",
       "      async function convertToInteractive(key) {\n",
       "        const element = document.querySelector('#df-61258c81-1bae-45ca-947e-6c2b39d45628');\n",
       "        const dataTable =\n",
       "          await google.colab.kernel.invokeFunction('convertToInteractive',\n",
       "                                                    [key], {});\n",
       "        if (!dataTable) return;\n",
       "\n",
       "        const docLinkHtml = 'Like what you see? Visit the ' +\n",
       "          '<a target=\"_blank\" href=https://colab.research.google.com/notebooks/data_table.ipynb>data table notebook</a>'\n",
       "          + ' to learn more about interactive tables.';\n",
       "        element.innerHTML = '';\n",
       "        dataTable['output_type'] = 'display_data';\n",
       "        await google.colab.output.renderOutput(dataTable, element);\n",
       "        const docLink = document.createElement('div');\n",
       "        docLink.innerHTML = docLinkHtml;\n",
       "        element.appendChild(docLink);\n",
       "      }\n",
       "    </script>\n",
       "  </div>\n",
       "\n",
       "    </div>\n",
       "  </div>\n"
      ],
      "text/plain": [
       "      user_id  Day origin destination start_time  end_time  price  Origin Lat  \\\n",
       "1607       10    0   work        home   16:22:00  16:48:00  22.81      35.625   \n",
       "\n",
       "      Origin Long  Dest Lat  Dest Long  \n",
       "1607       51.375    35.535     51.305  "
      ]
     },
     "execution_count": 446,
     "metadata": {},
     "output_type": "execute_result"
    }
   ],
   "source": [
    "import random\n",
    "# TODO: choose a random sample from test data and print it out\n",
    "random_row = nn_test_df.sample(n=1)\n",
    "random_row"
   ]
  },
  {
   "cell_type": "code",
   "execution_count": null,
   "metadata": {
    "colab": {
     "base_uri": "https://localhost:8080/"
    },
    "id": "ch5_NLLsUAuM",
    "outputId": "5021ce45-ca57-4e56-fb89-5bbc40be1551"
   },
   "outputs": [
    {
     "name": "stderr",
     "output_type": "stream",
     "text": [
      "/usr/local/lib/python3.10/dist-packages/sklearn/preprocessing/_label.py:134: DataConversionWarning: A column-vector y was passed when a 1d array was expected. Please change the shape of y to (n_samples, ), for example using ravel().\n",
      "  y = column_or_1d(y, dtype=self.classes_.dtype, warn=True)\n"
     ]
    }
   ],
   "source": [
    "x, y = preprocess_nn_df(random_row.copy(), normalizer, feature_encoder, label_encoder, False)"
   ]
  },
  {
   "cell_type": "code",
   "execution_count": null,
   "metadata": {
    "id": "9wnYFusNYTPl"
   },
   "outputs": [],
   "source": [
    "sample = DataSet(x, y)\n",
    "sample_loader = DataLoader(sample, batch_size=1)\n",
    "accuracy, prediction = eval_model(model, sample_loader)"
   ]
  },
  {
   "cell_type": "code",
   "execution_count": null,
   "metadata": {
    "colab": {
     "base_uri": "https://localhost:8080/"
    },
    "id": "RdCoouN2jBgU",
    "outputId": "08ff382b-7e80-49b4-f11b-3e372dbf283d"
   },
   "outputs": [
    {
     "name": "stdout",
     "output_type": "stream",
     "text": [
      "Prediction: 1\n"
     ]
    }
   ],
   "source": [
    "# predict the destination of the above sample\n",
    "# print out the prediction\n",
    "pred = torch.argmax(prediction)\n",
    "print(f'Prediction: {pred}')"
   ]
  },
  {
   "cell_type": "code",
   "execution_count": null,
   "metadata": {
    "colab": {
     "base_uri": "https://localhost:8080/"
    },
    "id": "4Acfb5TYjBgU",
    "outputId": "89921820-c1ae-4aee-c1dd-d75fc0b95853"
   },
   "outputs": [
    {
     "name": "stdout",
     "output_type": "stream",
     "text": [
      "Actual: 1\n"
     ]
    }
   ],
   "source": [
    "# print out the actual destination of the above sample\n",
    "print(f'Actual: {sample[0][1][0]}')"
   ]
  },
  {
   "cell_type": "markdown",
   "metadata": {
    "id": "9NMJRuifjBgU"
   },
   "source": [
    "Now, use the inverse transform of the encoding you used earlier to get the name of the destination from the predicted class. Print it out and see if it's correct."
   ]
  },
  {
   "cell_type": "code",
   "execution_count": null,
   "metadata": {
    "colab": {
     "base_uri": "https://localhost:8080/"
    },
    "id": "saZ3n9psjBgU",
    "outputId": "bb0b4f15-5d55-425c-e5ae-fef39a8c01fc"
   },
   "outputs": [
    {
     "name": "stdout",
     "output_type": "stream",
     "text": [
      "Name of predicted destination: home\n"
     ]
    }
   ],
   "source": [
    "# use inverse_transform to print out the actual name of destination of the above sample\n",
    "print(f'Name of predicted destination: {label_encoder.inverse_transform([pred.numpy().tolist()])[0]}')"
   ]
  },
  {
   "cell_type": "markdown",
   "metadata": {
    "id": "wINNZaBYjBgU"
   },
   "source": [
    "**QUESTION**: What do you think about this approach? Is it a good idea to use Neural Networks for this problem? Why (or why not)? If the patterns in our datatset (passengers' history) get more complicated, will our model be robust to it in comparison to other models?\n",
    "\n",
    "Your Answer: As we can see, Neural Networks (NN) outperformed the other two algorithms and show good generalization, indicating they are a good choice for this problem. NNs are suitable for learning complex and non-linear functions, and by choosing a suitable structure and loss function, they can explore a vast hypothesis space.\n",
    "\n",
    "If the patterns in our dataset become more complicated, NNs can still perform well by adjusting the structure, such as adding more layers or neurons to the model and considering different optimization algorithms or loss functions."
   ]
  },
  {
   "cell_type": "markdown",
   "metadata": {
    "id": "3hoYukytjBgU"
   },
   "source": []
  }
 ],
 "metadata": {
  "colab": {
   "provenance": []
  },
  "kernelspec": {
   "display_name": "Python 3 (ipykernel)",
   "language": "python",
   "name": "python3"
  },
  "language_info": {
   "codemirror_mode": {
    "name": "ipython",
    "version": 3
   },
   "file_extension": ".py",
   "mimetype": "text/x-python",
   "name": "python",
   "nbconvert_exporter": "python",
   "pygments_lexer": "ipython3",
   "version": "3.11.5"
  },
  "widgets": {
   "application/vnd.jupyter.widget-state+json": {
    "81ead5a9666242019ac1ee3697f51137": {
     "model_module": "keplergl-jupyter",
     "model_module_version": "^0.3.2",
     "model_name": "KeplerGlModal",
     "state": {
      "_dom_classes": [],
      "_model_module": "keplergl-jupyter",
      "_model_module_version": "^0.3.2",
      "_model_name": "KeplerGlModal",
      "_view_count": null,
      "_view_module": "keplergl-jupyter",
      "_view_module_version": "^0.3.2",
      "_view_name": "KeplerGlView",
      "config": {},
      "data": {
       "Tehran": {
        "columns": [
         "dest lat",
         "dest lon"
        ],
        "data": [
         [
          35.875,
          51.375
         ],
         [
          35.775,
          51.4
         ],
         [
          35.875,
          51.375
         ],
         [
          35.525,
          51.1
         ],
         [
          35.805,
          51.345
         ],
         [
          35.8,
          51.375
         ],
         [
          35.775,
          51.4
         ],
         [
          35.875,
          51.375
         ],
         [
          35.52,
          51.285
         ],
         [
          35.875,
          51.375
         ],
         [
          35.775,
          51.4
         ],
         [
          35.775,
          51.4
         ],
         [
          35.745,
          51.045
         ],
         [
          35.875,
          51.375
         ],
         [
          35.95,
          51.315
         ],
         [
          35.775,
          51.4
         ],
         [
          35.875,
          51.375
         ],
         [
          35.865,
          51.045
         ],
         [
          35.875,
          51.375
         ],
         [
          35.525,
          51.46
         ],
         [
          35.875,
          51.375
         ],
         [
          35.8,
          51.375
         ],
         [
          35.54,
          51.5
         ],
         [
          35.775,
          51.4
         ],
         [
          35.875,
          51.375
         ],
         [
          35.765,
          51.075
         ],
         [
          35.875,
          51.375
         ],
         [
          35.525,
          51.46
         ],
         [
          35.765,
          51.075
         ],
         [
          36,
          51.5
         ],
         [
          35.875,
          51.025
         ],
         [
          35.775,
          51.4
         ],
         [
          35.875,
          51.375
         ],
         [
          35.775,
          51.4
         ],
         [
          35.775,
          51.4
         ],
         [
          35.875,
          51.375
         ],
         [
          35.97,
          51.215
         ],
         [
          35.775,
          51.4
         ],
         [
          35.875,
          51.375
         ],
         [
          35.875,
          51.375
         ],
         [
          35.875,
          51.375
         ],
         [
          35.65,
          51.225
         ],
         [
          36,
          51.5
         ],
         [
          35.775,
          51.4
         ],
         [
          35.875,
          51.375
         ],
         [
          35.775,
          51.4
         ],
         [
          35.875,
          51.375
         ],
         [
          35.775,
          51.4
         ],
         [
          35.875,
          51.375
         ],
         [
          35.875,
          51.275
         ],
         [
          35.875,
          51.375
         ],
         [
          35.525,
          51.46
         ],
         [
          35.82,
          51.225
         ],
         [
          35.8,
          51.375
         ],
         [
          35.745,
          51.465
         ],
         [
          35.775,
          51.4
         ],
         [
          35.875,
          51.375
         ],
         [
          35.8,
          51.375
         ],
         [
          35.775,
          51.4
         ],
         [
          36,
          51.5
         ],
         [
          35.98,
          51.05
         ],
         [
          35.775,
          51.4
         ],
         [
          35.995,
          51
         ],
         [
          35.875,
          51.375
         ],
         [
          35.525,
          51.46
         ],
         [
          35.875,
          51.275
         ],
         [
          35.875,
          51.375
         ],
         [
          35.525,
          51.46
         ],
         [
          35.875,
          51.375
         ],
         [
          35.95,
          51.315
         ],
         [
          35.725,
          51.3
         ],
         [
          35.775,
          51.4
         ],
         [
          36,
          51.5
         ],
         [
          35.995,
          51
         ],
         [
          36,
          51.5
         ],
         [
          35.675,
          51.31
         ],
         [
          35.775,
          51.4
         ],
         [
          35.875,
          51.375
         ],
         [
          35.525,
          51.46
         ],
         [
          35.785,
          51.24
         ],
         [
          35.775,
          51.4
         ],
         [
          35.875,
          51.375
         ],
         [
          35.875,
          51.375
         ],
         [
          35.525,
          51.46
         ],
         [
          35.775,
          51.4
         ],
         [
          35.875,
          51.375
         ],
         [
          35.8,
          51.375
         ],
         [
          35.785,
          51.315
         ],
         [
          36,
          51.5
         ],
         [
          35.995,
          51
         ],
         [
          35.775,
          51.4
         ],
         [
          35.775,
          51.4
         ],
         [
          35.875,
          51.375
         ],
         [
          35.525,
          51.46
         ],
         [
          35.875,
          51.375
         ],
         [
          35.525,
          51.46
         ],
         [
          35.785,
          51.24
         ],
         [
          35.875,
          51.375
         ],
         [
          35.565,
          51.06
         ],
         [
          35.775,
          51.4
         ],
         [
          36,
          51.5
         ],
         [
          35.785,
          51.315
         ],
         [
          35.775,
          51.4
         ],
         [
          35.775,
          51.4
         ],
         [
          35.95,
          51.315
         ],
         [
          35.775,
          51.4
         ],
         [
          35.875,
          51.375
         ],
         [
          35.775,
          51.4
         ],
         [
          35.745,
          51.045
         ],
         [
          35.775,
          51.4
         ],
         [
          35.775,
          51.4
         ],
         [
          35.875,
          51.375
         ],
         [
          35.95,
          51.315
         ],
         [
          35.875,
          51.375
         ],
         [
          35.525,
          51.46
         ],
         [
          35.875,
          51.375
         ],
         [
          36,
          51.37
         ],
         [
          35.875,
          51.375
         ],
         [
          35.8,
          51.375
         ],
         [
          35.775,
          51.4
         ],
         [
          35.95,
          51.315
         ],
         [
          35.775,
          51.4
         ],
         [
          36,
          51.5
         ],
         [
          35.875,
          51.375
         ],
         [
          35.775,
          51.4
         ],
         [
          35.875,
          51.375
         ],
         [
          35.775,
          51.4
         ],
         [
          35.8,
          51.375
         ],
         [
          35.75,
          51.385
         ],
         [
          35.775,
          51.4
         ],
         [
          35.875,
          51.375
         ],
         [
          36,
          51.37
         ],
         [
          35.875,
          51.375
         ],
         [
          35.525,
          51.46
         ],
         [
          35.8,
          51.375
         ],
         [
          35.775,
          51.4
         ],
         [
          36,
          51.5
         ],
         [
          35.875,
          51.375
         ],
         [
          35.775,
          51.4
         ],
         [
          36,
          51.37
         ],
         [
          35.775,
          51.4
         ],
         [
          35.775,
          51.4
         ],
         [
          35.65,
          51.385
         ],
         [
          35.775,
          51.4
         ],
         [
          35.875,
          51.375
         ],
         [
          35.525,
          51.46
         ],
         [
          35.54,
          51.5
         ],
         [
          35.775,
          51.4
         ],
         [
          35.875,
          51.375
         ],
         [
          35.875,
          51.375
         ],
         [
          35.875,
          51.375
         ],
         [
          35.59,
          51.47
         ],
         [
          35.875,
          51.375
         ],
         [
          36,
          51.5
         ],
         [
          35.705,
          51.295
         ],
         [
          35.775,
          51.4
         ],
         [
          35.875,
          51.375
         ],
         [
          35.775,
          51.4
         ],
         [
          35.875,
          51.375
         ],
         [
          35.97,
          51.215
         ],
         [
          35.725,
          51.3
         ],
         [
          35.875,
          51.375
         ],
         [
          35.95,
          51.315
         ],
         [
          35.875,
          51.375
         ],
         [
          35.8,
          51.375
         ],
         [
          35.805,
          51.345
         ],
         [
          35.775,
          51.4
         ],
         [
          35.875,
          51.375
         ],
         [
          35.59,
          51.47
         ],
         [
          35.875,
          51.375
         ],
         [
          35.725,
          51.3
         ],
         [
          35.52,
          51.285
         ],
         [
          35.775,
          51.4
         ],
         [
          35.875,
          51.375
         ],
         [
          35.875,
          51.375
         ],
         [
          35.945,
          51.17
         ],
         [
          35.775,
          51.4
         ],
         [
          35.875,
          51.375
         ],
         [
          35.775,
          51.4
         ],
         [
          35.875,
          51.375
         ],
         [
          35.69,
          51.295
         ],
         [
          35.575,
          51.15
         ],
         [
          35.875,
          51.375
         ],
         [
          35.875,
          51.375
         ],
         [
          35.65,
          51.385
         ],
         [
          35.875,
          51.375
         ],
         [
          35.525,
          51.46
         ],
         [
          35.875,
          51.375
         ],
         [
          35.775,
          51.4
         ],
         [
          35.875,
          51.375
         ],
         [
          35.775,
          51.4
         ],
         [
          35.775,
          51.4
         ],
         [
          35.875,
          51.375
         ],
         [
          35.785,
          51.315
         ],
         [
          35.875,
          51.375
         ],
         [
          35.525,
          51.1
         ],
         [
          35.875,
          51.375
         ],
         [
          35.525,
          51.46
         ],
         [
          35.875,
          51.375
         ],
         [
          36,
          51.5
         ],
         [
          36,
          51.5
         ],
         [
          35.775,
          51.4
         ],
         [
          35.875,
          51.375
         ],
         [
          35.785,
          51.315
         ],
         [
          35.875,
          51.375
         ],
         [
          35.775,
          51.4
         ],
         [
          35.875,
          51.375
         ],
         [
          35.775,
          51.4
         ],
         [
          35.8,
          51.375
         ],
         [
          35.775,
          51.4
         ],
         [
          35.875,
          51.375
         ],
         [
          35.525,
          51.46
         ],
         [
          35.505,
          51.18
         ],
         [
          35.775,
          51.4
         ],
         [
          35.875,
          51.375
         ],
         [
          35.875,
          51.375
         ],
         [
          35.725,
          51.3
         ],
         [
          35.775,
          51.4
         ],
         [
          35.775,
          51.4
         ],
         [
          35.65,
          51.385
         ],
         [
          35.775,
          51.4
         ],
         [
          35.675,
          51.31
         ],
         [
          35.775,
          51.4
         ],
         [
          35.875,
          51.375
         ],
         [
          35.68,
          51.135
         ],
         [
          35.875,
          51.375
         ],
         [
          35.775,
          51.4
         ],
         [
          35.875,
          51.375
         ],
         [
          35.525,
          51.46
         ],
         [
          35.775,
          51.4
         ],
         [
          35.875,
          51.375
         ],
         [
          35.995,
          51
         ],
         [
          35.875,
          51.375
         ],
         [
          35.75,
          51.385
         ],
         [
          35.875,
          51.375
         ],
         [
          35.525,
          51.46
         ],
         [
          35.54,
          51.5
         ],
         [
          35.775,
          51.4
         ],
         [
          35.56,
          51.415
         ],
         [
          35.875,
          51.375
         ],
         [
          35.875,
          51.375
         ],
         [
          35.875,
          51.375
         ],
         [
          35.775,
          51.4
         ],
         [
          35.875,
          51.375
         ],
         [
          35.705,
          51.295
         ],
         [
          35.875,
          51.375
         ],
         [
          35.65,
          51.225
         ],
         [
          35.575,
          51.42
         ],
         [
          35.875,
          51.375
         ],
         [
          35.575,
          51.15
         ],
         [
          35.875,
          51.375
         ],
         [
          35.8,
          51.375
         ],
         [
          35.775,
          51.4
         ],
         [
          35.705,
          51.295
         ],
         [
          35.775,
          51.4
         ],
         [
          35.805,
          51.345
         ],
         [
          35.775,
          51.4
         ],
         [
          35.775,
          51.4
         ],
         [
          35.875,
          51.375
         ],
         [
          35.775,
          51.4
         ],
         [
          35.875,
          51.375
         ],
         [
          35.725,
          51.3
         ],
         [
          35.875,
          51.375
         ],
         [
          35.815,
          51.32
         ],
         [
          35.875,
          51.375
         ],
         [
          35.575,
          51.42
         ],
         [
          35.775,
          51.4
         ],
         [
          35.805,
          51.345
         ],
         [
          35.875,
          51.375
         ],
         [
          35.8,
          51.375
         ],
         [
          35.745,
          51.465
         ],
         [
          35.775,
          51.4
         ],
         [
          35.815,
          51.32
         ],
         [
          35.775,
          51.4
         ],
         [
          35.745,
          51.465
         ],
         [
          35.775,
          51.4
         ],
         [
          35.745,
          51.465
         ],
         [
          35.775,
          51.4
         ]
        ],
        "index": [
         8883,
         8884,
         8885,
         8886,
         8887,
         8888,
         8889,
         8890,
         8891,
         8892,
         8893,
         8894,
         8895,
         8896,
         8897,
         8898,
         8899,
         8900,
         8901,
         8902,
         8903,
         8904,
         8905,
         8906,
         8907,
         8908,
         8909,
         8910,
         8911,
         8912,
         8913,
         8914,
         8915,
         8916,
         8917,
         8918,
         8919,
         8920,
         8921,
         8922,
         8923,
         8924,
         8925,
         8926,
         8927,
         8928,
         8929,
         8930,
         8931,
         8932,
         8933,
         8934,
         8935,
         8936,
         8937,
         8938,
         8939,
         8940,
         8941,
         8942,
         8943,
         8944,
         8945,
         8946,
         8947,
         8948,
         8949,
         8950,
         8951,
         8952,
         8953,
         8954,
         8955,
         8956,
         8957,
         8958,
         8959,
         8960,
         8961,
         8962,
         8963,
         8964,
         8965,
         8966,
         8967,
         8968,
         8969,
         8970,
         8971,
         8972,
         8973,
         8974,
         8975,
         8976,
         8977,
         8978,
         8979,
         8980,
         8981,
         8982,
         8983,
         8984,
         8985,
         8986,
         8987,
         8988,
         8989,
         8990,
         8991,
         8992,
         8993,
         8994,
         8995,
         8996,
         8997,
         8998,
         8999,
         9000,
         9001,
         9002,
         9003,
         9004,
         9005,
         9006,
         9007,
         9008,
         9009,
         9010,
         9011,
         9012,
         9013,
         9014,
         9015,
         9016,
         9017,
         9018,
         9019,
         9020,
         9021,
         9022,
         9023,
         9024,
         9025,
         9026,
         9027,
         9028,
         9029,
         9030,
         9031,
         9032,
         9033,
         9034,
         9035,
         9036,
         9037,
         9038,
         9039,
         9040,
         9041,
         9042,
         9043,
         9044,
         9045,
         9046,
         9047,
         9048,
         9049,
         9050,
         9051,
         9052,
         9053,
         9054,
         9055,
         9056,
         9057,
         9058,
         9059,
         9060,
         9061,
         9062,
         9063,
         9064,
         9065,
         9066,
         9067,
         9068,
         9069,
         9070,
         9071,
         9072,
         9073,
         9074,
         9075,
         9076,
         9077,
         9078,
         9079,
         9080,
         9081,
         9082,
         9083,
         9084,
         9085,
         9086,
         9087,
         9088,
         9089,
         9090,
         9091,
         9092,
         9093,
         9094,
         9095,
         9096,
         9097,
         9098,
         9099,
         9100,
         9101,
         9102,
         9103,
         9104,
         9105,
         9106,
         9107,
         9108,
         9109,
         9110,
         9111,
         9112,
         9113,
         9114,
         9115,
         9116,
         9117,
         9118,
         9119,
         9120,
         9121,
         9122,
         9123,
         9124,
         9125,
         9126,
         9127,
         9128,
         9129,
         9130,
         9131,
         9132,
         9133,
         9134,
         9135,
         9136,
         9137,
         9138,
         9139,
         9140,
         9141,
         9142,
         9143,
         9144,
         9145,
         9146,
         9147,
         9148,
         9149,
         9150,
         9151,
         9152,
         9153,
         9154,
         9155,
         9156,
         9157,
         9158,
         9159,
         9160
        ]
       }
      },
      "height": 600,
      "layout": "IPY_MODEL_9c5d04af921a4eceb328d5b93cac5a14",
      "value": "Hello World!"
     }
    },
    "9c5d04af921a4eceb328d5b93cac5a14": {
     "model_module": "@jupyter-widgets/base",
     "model_module_version": "1.2.0",
     "model_name": "LayoutModel",
     "state": {
      "_model_module": "@jupyter-widgets/base",
      "_model_module_version": "1.2.0",
      "_model_name": "LayoutModel",
      "_view_count": null,
      "_view_module": "@jupyter-widgets/base",
      "_view_module_version": "1.2.0",
      "_view_name": "LayoutView",
      "align_content": null,
      "align_items": null,
      "align_self": null,
      "border": null,
      "bottom": null,
      "display": null,
      "flex": null,
      "flex_flow": null,
      "grid_area": null,
      "grid_auto_columns": null,
      "grid_auto_flow": null,
      "grid_auto_rows": null,
      "grid_column": null,
      "grid_gap": null,
      "grid_row": null,
      "grid_template_areas": null,
      "grid_template_columns": null,
      "grid_template_rows": null,
      "height": null,
      "justify_content": null,
      "justify_items": null,
      "left": null,
      "margin": null,
      "max_height": null,
      "max_width": null,
      "min_height": null,
      "min_width": null,
      "object_fit": null,
      "object_position": null,
      "order": null,
      "overflow": null,
      "overflow_x": null,
      "overflow_y": null,
      "padding": null,
      "right": null,
      "top": null,
      "visibility": null,
      "width": null
     }
    }
   }
  }
 },
 "nbformat": 4,
 "nbformat_minor": 4
}
