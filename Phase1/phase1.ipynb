{
 "cells": [
  {
   "cell_type": "markdown",
   "metadata": {
    "id": "Qxx48mUb4KOV"
   },
   "source": [
    "# Map Matching Project - Phase 1\n",
    "<div style=\"text-align: center\">\n",
    "<h1 style = \"color: red\"> Sharif University Of Technology</h1>\n",
    "<h2 style = \"color: green\"> DR. Mahdieh Soleymani | DR. MohammadHossein Rohban </h2>\n",
    "<h3 style = \"color: cyan\"> Head of Project: AmirHossein Razlighi <h3>\n",
    "<h3 style = \"color: cyan\"> Designed By: AmirHossein Razlighi - Hamidreza Yaghoubi - Alireza Heidari - Reza Vahidi Majd - Parham Rezaei<h3>\n",
    "<h3 style = \"color: cyan\"> Documents Designed by: Mohammad Moshtaghi Far<h3>\n",
    "<h4 style = \"color: white\"> Ask your questions via quera</h4>\n",
    "<h5> Save your file with format: STUDENT NUMBER_Phase1.ipynb or .zip </h5>\n",
    "</div>"
   ]
  },
  {
   "cell_type": "markdown",
   "metadata": {
    "id": "NwJh3NuumTZT"
   },
   "source": [
    "Setting up the environment"
   ]
  },
  {
   "cell_type": "code",
   "execution_count": null,
   "metadata": {
    "colab": {
     "base_uri": "https://localhost:8080/"
    },
    "id": "JTKl9O5glmbP",
    "outputId": "40b51df0-28d0-423f-d9d3-dad80649d004",
    "scrolled": true
   },
   "outputs": [],
   "source": [
    "%pip install pyrosm keplergl haversine pandas numpy"
   ]
  },
  {
   "cell_type": "code",
   "execution_count": 24,
   "metadata": {
    "id": "SbtVTMtTlmbQ"
   },
   "outputs": [],
   "source": [
    "import datetime\n",
    "import numpy as np\n",
    "import pandas as pd\n",
    "import pyrosm\n",
    "import random\n",
    "import ssl\n",
    "import time\n",
    "from math import radians, sin, cos, sqrt, atan2\n",
    "import math\n",
    "from pyproj import Proj\n",
    "import heapq\n",
    "from matplotlib import pyplot as plt\n",
    "import scipy.stats as stats\n",
    "\n",
    "\n",
    "from keplergl import KeplerGl\n",
    "from pyrosm import OSM, get_data\n"
   ]
  },
  {
   "cell_type": "code",
   "execution_count": 3,
   "metadata": {
    "colab": {
     "base_uri": "https://localhost:8080/"
    },
    "id": "Popt2rXk6D0T",
    "outputId": "43ede924-0373-44b0-c627-8391bcb5e09a"
   },
   "outputs": [
    {
     "name": "stdout",
     "output_type": "stream",
     "text": [
      "Mounted at /content/drive/\n"
     ]
    }
   ],
   "source": [
    "from google.colab import drive\n",
    "drive.mount('/content/drive/', force_remount=True)\n",
    "import os"
   ]
  },
  {
   "cell_type": "code",
   "execution_count": 4,
   "metadata": {
    "colab": {
     "base_uri": "https://localhost:8080/"
    },
    "id": "SIlzwk5g6hIZ",
    "outputId": "f139e8a3-a4ca-431e-bb48-ec2c88ceb77d"
   },
   "outputs": [
    {
     "name": "stdout",
     "output_type": "stream",
     "text": [
      "/content/drive/MyDrive/AI_proj\n"
     ]
    }
   ],
   "source": [
    "%cd /content/drive/MyDrive/AI_proj"
   ]
  },
  {
   "cell_type": "code",
   "execution_count": 5,
   "metadata": {
    "id": "0yVoVzSS4KOY"
   },
   "outputs": [],
   "source": [
    "# If you are using colab, you need to run this cell\n",
    "from google.colab import output, files\n",
    "output.enable_custom_widget_manager()"
   ]
  },
  {
   "cell_type": "markdown",
   "metadata": {
    "id": "d1G-6fxi4KOY"
   },
   "source": [
    "## Introduction\n",
    "In this phase of project, you are going to implement a *denoising algorithm*. In many cases, when an application is dealing with _user GPS location_, in many urban areas and the places with tall towers, the GPS signal gets too noisy! This is the reason of why when you open \"google maps\", you see your current location with a blue circle around it. The radius of this circle shows the accuracy of your location. Sometimes, this radius is around 10m and in other areas, it goes in scale of km, making the GPS location totally unstable and unreliable! This amount of noise makes it impossible to use the data for any kind of analysis. In \"ride hailing\" applications like Uber, many of functionalities rely on the accuracy of GPS data. E.g. ETA estimation (Estimated time of arrival) is highly dependent on the accuracy of GPS data. In this phase, you are going to implement a denoising algorithm to make the GPS data more reliable. You will use your kowledge of Hidden Markov Models to implement this algorithm.\n",
    "\n",
    "<div style=\"text-align: center\">\n",
    "<img src=\"./Images/blue_dot.jpg\" height=\"500\" width=\"auto\" /> </br>\n",
    "(Sample of GPS data with blue dot)\n",
    "</div>"
   ]
  },
  {
   "cell_type": "markdown",
   "metadata": {
    "id": "FtQkgVIn4KOZ"
   },
   "source": [
    "# Loading Pasdaran streets dataset"
   ]
  },
  {
   "cell_type": "markdown",
   "metadata": {
    "id": "eSwwHSno4KOZ"
   },
   "source": [
    "In this section, you will load a dataset that is prepared for you. The dataset contains some GPS locations (nodes) from Pasdaran Streets and also another dataset which contains the \"streets\" in Pasdaran area. By \"street\" we mean a pair of nodes, representing two end-points of a street in the map. These datasets are in `Data/` folder with names `pasdaran_streets.csv` and `pasdaran_nodes.csv`."
   ]
  },
  {
   "cell_type": "code",
   "execution_count": 6,
   "metadata": {
    "id": "zuuWCSNQ4KOZ"
   },
   "outputs": [],
   "source": [
    "# Load the data\n",
    "pasdaran_streets = pd.read_csv('pasdaran_streets.csv')\n",
    "pasdaran_nodes = pd.read_csv('pasdaran_nodes.csv')"
   ]
  },
  {
   "cell_type": "code",
   "execution_count": 7,
   "metadata": {
    "colab": {
     "base_uri": "https://localhost:8080/",
     "height": 206
    },
    "id": "JlEXJhAw4KOa",
    "outputId": "f7e7e648-407b-45ed-96d1-193c4ba1f623"
   },
   "outputs": [
    {
     "data": {
      "application/vnd.google.colaboratory.intrinsic+json": {
       "summary": "{\n  \"name\": \"pasdaran_streets\",\n  \"rows\": 1831,\n  \"fields\": [\n    {\n      \"column\": \"street_id\",\n      \"properties\": {\n        \"dtype\": \"number\",\n        \"std\": 289144416,\n        \"min\": 5003747,\n        \"max\": 1208111707,\n        \"num_unique_values\": 733,\n        \"samples\": [\n          476201329,\n          475882518,\n          427622940\n        ],\n        \"semantic_type\": \"\",\n        \"description\": \"\"\n      }\n    },\n    {\n      \"column\": \"u\",\n      \"properties\": {\n        \"dtype\": \"number\",\n        \"std\": 2426414986,\n        \"min\": 30772620,\n        \"max\": 11194352485,\n        \"num_unique_values\": 1324,\n        \"samples\": [\n          4705330049,\n          4695667396,\n          4998084444\n        ],\n        \"semantic_type\": \"\",\n        \"description\": \"\"\n      }\n    },\n    {\n      \"column\": \"v\",\n      \"properties\": {\n        \"dtype\": \"number\",\n        \"std\": 2412199318,\n        \"min\": 30772620,\n        \"max\": 11194352485,\n        \"num_unique_values\": 1461,\n        \"samples\": [\n          4698523057,\n          4695818004,\n          3373639187\n        ],\n        \"semantic_type\": \"\",\n        \"description\": \"\"\n      }\n    },\n    {\n      \"column\": \"length\",\n      \"properties\": {\n        \"dtype\": \"number\",\n        \"std\": 48.66752050780536,\n        \"min\": 0.344,\n        \"max\": 364.613,\n        \"num_unique_values\": 1710,\n        \"samples\": [\n          38.306,\n          73.733,\n          2.637\n        ],\n        \"semantic_type\": \"\",\n        \"description\": \"\"\n      }\n    },\n    {\n      \"column\": \"oneway\",\n      \"properties\": {\n        \"dtype\": \"category\",\n        \"num_unique_values\": 2,\n        \"samples\": [\n          \"yes\",\n          \"no\"\n        ],\n        \"semantic_type\": \"\",\n        \"description\": \"\"\n      }\n    },\n    {\n      \"column\": \"u_lat\",\n      \"properties\": {\n        \"dtype\": \"number\",\n        \"std\": 0.005681614618224752,\n        \"min\": 35.762001037597656,\n        \"max\": 35.77998352050781,\n        \"num_unique_values\": 1138,\n        \"samples\": [\n          35.77500534057617,\n          35.767730712890625\n        ],\n        \"semantic_type\": \"\",\n        \"description\": \"\"\n      }\n    },\n    {\n      \"column\": \"u_lon\",\n      \"properties\": {\n        \"dtype\": \"number\",\n        \"std\": 0.0072985811035937,\n        \"min\": 51.44001388549805,\n        \"max\": 51.46598434448242,\n        \"num_unique_values\": 1192,\n        \"samples\": [\n          51.44697570800781,\n          51.44269561767578\n        ],\n        \"semantic_type\": \"\",\n        \"description\": \"\"\n      }\n    },\n    {\n      \"column\": \"v_lat\",\n      \"properties\": {\n        \"dtype\": \"number\",\n        \"std\": 0.005663854494413794,\n        \"min\": 35.762020111083984,\n        \"max\": 35.77994918823242,\n        \"num_unique_values\": 1239,\n        \"samples\": [\n          35.7657585144043,\n          35.77702713012695\n        ],\n        \"semantic_type\": \"\",\n        \"description\": \"\"\n      }\n    },\n    {\n      \"column\": \"v_lon\",\n      \"properties\": {\n        \"dtype\": \"number\",\n        \"std\": 0.007273350321023522,\n        \"min\": 51.440032958984375,\n        \"max\": 51.46597290039063,\n        \"num_unique_values\": 1302,\n        \"samples\": [\n          51.46515655517578,\n          51.44894409179688\n        ],\n        \"semantic_type\": \"\",\n        \"description\": \"\"\n      }\n    }\n  ]\n}",
       "type": "dataframe",
       "variable_name": "pasdaran_streets"
      },
      "text/html": [
       "\n",
       "  <div id=\"df-ef65d066-6e88-4774-9950-9fb299fcf0fc\" class=\"colab-df-container\">\n",
       "    <div>\n",
       "<style scoped>\n",
       "    .dataframe tbody tr th:only-of-type {\n",
       "        vertical-align: middle;\n",
       "    }\n",
       "\n",
       "    .dataframe tbody tr th {\n",
       "        vertical-align: top;\n",
       "    }\n",
       "\n",
       "    .dataframe thead th {\n",
       "        text-align: right;\n",
       "    }\n",
       "</style>\n",
       "<table border=\"1\" class=\"dataframe\">\n",
       "  <thead>\n",
       "    <tr style=\"text-align: right;\">\n",
       "      <th></th>\n",
       "      <th>street_id</th>\n",
       "      <th>u</th>\n",
       "      <th>v</th>\n",
       "      <th>length</th>\n",
       "      <th>oneway</th>\n",
       "      <th>u_lat</th>\n",
       "      <th>u_lon</th>\n",
       "      <th>v_lat</th>\n",
       "      <th>v_lon</th>\n",
       "    </tr>\n",
       "  </thead>\n",
       "  <tbody>\n",
       "    <tr>\n",
       "      <th>0</th>\n",
       "      <td>5003747</td>\n",
       "      <td>423833948</td>\n",
       "      <td>423793584</td>\n",
       "      <td>90.570</td>\n",
       "      <td>no</td>\n",
       "      <td>35.772419</td>\n",
       "      <td>51.465652</td>\n",
       "      <td>35.771748</td>\n",
       "      <td>51.465084</td>\n",
       "    </tr>\n",
       "    <tr>\n",
       "      <th>1</th>\n",
       "      <td>17099043</td>\n",
       "      <td>177540293</td>\n",
       "      <td>423832815</td>\n",
       "      <td>296.273</td>\n",
       "      <td>yes</td>\n",
       "      <td>35.771034</td>\n",
       "      <td>51.464462</td>\n",
       "      <td>35.772175</td>\n",
       "      <td>51.461494</td>\n",
       "    </tr>\n",
       "    <tr>\n",
       "      <th>2</th>\n",
       "      <td>787945693</td>\n",
       "      <td>4429684144</td>\n",
       "      <td>423832815</td>\n",
       "      <td>62.573</td>\n",
       "      <td>no</td>\n",
       "      <td>35.772636</td>\n",
       "      <td>51.461891</td>\n",
       "      <td>35.772175</td>\n",
       "      <td>51.461494</td>\n",
       "    </tr>\n",
       "    <tr>\n",
       "      <th>3</th>\n",
       "      <td>687277053</td>\n",
       "      <td>177540293</td>\n",
       "      <td>423793585</td>\n",
       "      <td>97.898</td>\n",
       "      <td>no</td>\n",
       "      <td>35.771034</td>\n",
       "      <td>51.464462</td>\n",
       "      <td>35.770317</td>\n",
       "      <td>51.463833</td>\n",
       "    </tr>\n",
       "    <tr>\n",
       "      <th>4</th>\n",
       "      <td>36333153</td>\n",
       "      <td>9339973930</td>\n",
       "      <td>423793585</td>\n",
       "      <td>296.275</td>\n",
       "      <td>yes</td>\n",
       "      <td>35.771458</td>\n",
       "      <td>51.460865</td>\n",
       "      <td>35.770317</td>\n",
       "      <td>51.463833</td>\n",
       "    </tr>\n",
       "  </tbody>\n",
       "</table>\n",
       "</div>\n",
       "    <div class=\"colab-df-buttons\">\n",
       "\n",
       "  <div class=\"colab-df-container\">\n",
       "    <button class=\"colab-df-convert\" onclick=\"convertToInteractive('df-ef65d066-6e88-4774-9950-9fb299fcf0fc')\"\n",
       "            title=\"Convert this dataframe to an interactive table.\"\n",
       "            style=\"display:none;\">\n",
       "\n",
       "  <svg xmlns=\"http://www.w3.org/2000/svg\" height=\"24px\" viewBox=\"0 -960 960 960\">\n",
       "    <path d=\"M120-120v-720h720v720H120Zm60-500h600v-160H180v160Zm220 220h160v-160H400v160Zm0 220h160v-160H400v160ZM180-400h160v-160H180v160Zm440 0h160v-160H620v160ZM180-180h160v-160H180v160Zm440 0h160v-160H620v160Z\"/>\n",
       "  </svg>\n",
       "    </button>\n",
       "\n",
       "  <style>\n",
       "    .colab-df-container {\n",
       "      display:flex;\n",
       "      gap: 12px;\n",
       "    }\n",
       "\n",
       "    .colab-df-convert {\n",
       "      background-color: #E8F0FE;\n",
       "      border: none;\n",
       "      border-radius: 50%;\n",
       "      cursor: pointer;\n",
       "      display: none;\n",
       "      fill: #1967D2;\n",
       "      height: 32px;\n",
       "      padding: 0 0 0 0;\n",
       "      width: 32px;\n",
       "    }\n",
       "\n",
       "    .colab-df-convert:hover {\n",
       "      background-color: #E2EBFA;\n",
       "      box-shadow: 0px 1px 2px rgba(60, 64, 67, 0.3), 0px 1px 3px 1px rgba(60, 64, 67, 0.15);\n",
       "      fill: #174EA6;\n",
       "    }\n",
       "\n",
       "    .colab-df-buttons div {\n",
       "      margin-bottom: 4px;\n",
       "    }\n",
       "\n",
       "    [theme=dark] .colab-df-convert {\n",
       "      background-color: #3B4455;\n",
       "      fill: #D2E3FC;\n",
       "    }\n",
       "\n",
       "    [theme=dark] .colab-df-convert:hover {\n",
       "      background-color: #434B5C;\n",
       "      box-shadow: 0px 1px 3px 1px rgba(0, 0, 0, 0.15);\n",
       "      filter: drop-shadow(0px 1px 2px rgba(0, 0, 0, 0.3));\n",
       "      fill: #FFFFFF;\n",
       "    }\n",
       "  </style>\n",
       "\n",
       "    <script>\n",
       "      const buttonEl =\n",
       "        document.querySelector('#df-ef65d066-6e88-4774-9950-9fb299fcf0fc button.colab-df-convert');\n",
       "      buttonEl.style.display =\n",
       "        google.colab.kernel.accessAllowed ? 'block' : 'none';\n",
       "\n",
       "      async function convertToInteractive(key) {\n",
       "        const element = document.querySelector('#df-ef65d066-6e88-4774-9950-9fb299fcf0fc');\n",
       "        const dataTable =\n",
       "          await google.colab.kernel.invokeFunction('convertToInteractive',\n",
       "                                                    [key], {});\n",
       "        if (!dataTable) return;\n",
       "\n",
       "        const docLinkHtml = 'Like what you see? Visit the ' +\n",
       "          '<a target=\"_blank\" href=https://colab.research.google.com/notebooks/data_table.ipynb>data table notebook</a>'\n",
       "          + ' to learn more about interactive tables.';\n",
       "        element.innerHTML = '';\n",
       "        dataTable['output_type'] = 'display_data';\n",
       "        await google.colab.output.renderOutput(dataTable, element);\n",
       "        const docLink = document.createElement('div');\n",
       "        docLink.innerHTML = docLinkHtml;\n",
       "        element.appendChild(docLink);\n",
       "      }\n",
       "    </script>\n",
       "  </div>\n",
       "\n",
       "\n",
       "<div id=\"df-5e00f60a-8fab-4d5e-87d8-0052f660553c\">\n",
       "  <button class=\"colab-df-quickchart\" onclick=\"quickchart('df-5e00f60a-8fab-4d5e-87d8-0052f660553c')\"\n",
       "            title=\"Suggest charts\"\n",
       "            style=\"display:none;\">\n",
       "\n",
       "<svg xmlns=\"http://www.w3.org/2000/svg\" height=\"24px\"viewBox=\"0 0 24 24\"\n",
       "     width=\"24px\">\n",
       "    <g>\n",
       "        <path d=\"M19 3H5c-1.1 0-2 .9-2 2v14c0 1.1.9 2 2 2h14c1.1 0 2-.9 2-2V5c0-1.1-.9-2-2-2zM9 17H7v-7h2v7zm4 0h-2V7h2v10zm4 0h-2v-4h2v4z\"/>\n",
       "    </g>\n",
       "</svg>\n",
       "  </button>\n",
       "\n",
       "<style>\n",
       "  .colab-df-quickchart {\n",
       "      --bg-color: #E8F0FE;\n",
       "      --fill-color: #1967D2;\n",
       "      --hover-bg-color: #E2EBFA;\n",
       "      --hover-fill-color: #174EA6;\n",
       "      --disabled-fill-color: #AAA;\n",
       "      --disabled-bg-color: #DDD;\n",
       "  }\n",
       "\n",
       "  [theme=dark] .colab-df-quickchart {\n",
       "      --bg-color: #3B4455;\n",
       "      --fill-color: #D2E3FC;\n",
       "      --hover-bg-color: #434B5C;\n",
       "      --hover-fill-color: #FFFFFF;\n",
       "      --disabled-bg-color: #3B4455;\n",
       "      --disabled-fill-color: #666;\n",
       "  }\n",
       "\n",
       "  .colab-df-quickchart {\n",
       "    background-color: var(--bg-color);\n",
       "    border: none;\n",
       "    border-radius: 50%;\n",
       "    cursor: pointer;\n",
       "    display: none;\n",
       "    fill: var(--fill-color);\n",
       "    height: 32px;\n",
       "    padding: 0;\n",
       "    width: 32px;\n",
       "  }\n",
       "\n",
       "  .colab-df-quickchart:hover {\n",
       "    background-color: var(--hover-bg-color);\n",
       "    box-shadow: 0 1px 2px rgba(60, 64, 67, 0.3), 0 1px 3px 1px rgba(60, 64, 67, 0.15);\n",
       "    fill: var(--button-hover-fill-color);\n",
       "  }\n",
       "\n",
       "  .colab-df-quickchart-complete:disabled,\n",
       "  .colab-df-quickchart-complete:disabled:hover {\n",
       "    background-color: var(--disabled-bg-color);\n",
       "    fill: var(--disabled-fill-color);\n",
       "    box-shadow: none;\n",
       "  }\n",
       "\n",
       "  .colab-df-spinner {\n",
       "    border: 2px solid var(--fill-color);\n",
       "    border-color: transparent;\n",
       "    border-bottom-color: var(--fill-color);\n",
       "    animation:\n",
       "      spin 1s steps(1) infinite;\n",
       "  }\n",
       "\n",
       "  @keyframes spin {\n",
       "    0% {\n",
       "      border-color: transparent;\n",
       "      border-bottom-color: var(--fill-color);\n",
       "      border-left-color: var(--fill-color);\n",
       "    }\n",
       "    20% {\n",
       "      border-color: transparent;\n",
       "      border-left-color: var(--fill-color);\n",
       "      border-top-color: var(--fill-color);\n",
       "    }\n",
       "    30% {\n",
       "      border-color: transparent;\n",
       "      border-left-color: var(--fill-color);\n",
       "      border-top-color: var(--fill-color);\n",
       "      border-right-color: var(--fill-color);\n",
       "    }\n",
       "    40% {\n",
       "      border-color: transparent;\n",
       "      border-right-color: var(--fill-color);\n",
       "      border-top-color: var(--fill-color);\n",
       "    }\n",
       "    60% {\n",
       "      border-color: transparent;\n",
       "      border-right-color: var(--fill-color);\n",
       "    }\n",
       "    80% {\n",
       "      border-color: transparent;\n",
       "      border-right-color: var(--fill-color);\n",
       "      border-bottom-color: var(--fill-color);\n",
       "    }\n",
       "    90% {\n",
       "      border-color: transparent;\n",
       "      border-bottom-color: var(--fill-color);\n",
       "    }\n",
       "  }\n",
       "</style>\n",
       "\n",
       "  <script>\n",
       "    async function quickchart(key) {\n",
       "      const quickchartButtonEl =\n",
       "        document.querySelector('#' + key + ' button');\n",
       "      quickchartButtonEl.disabled = true;  // To prevent multiple clicks.\n",
       "      quickchartButtonEl.classList.add('colab-df-spinner');\n",
       "      try {\n",
       "        const charts = await google.colab.kernel.invokeFunction(\n",
       "            'suggestCharts', [key], {});\n",
       "      } catch (error) {\n",
       "        console.error('Error during call to suggestCharts:', error);\n",
       "      }\n",
       "      quickchartButtonEl.classList.remove('colab-df-spinner');\n",
       "      quickchartButtonEl.classList.add('colab-df-quickchart-complete');\n",
       "    }\n",
       "    (() => {\n",
       "      let quickchartButtonEl =\n",
       "        document.querySelector('#df-5e00f60a-8fab-4d5e-87d8-0052f660553c button');\n",
       "      quickchartButtonEl.style.display =\n",
       "        google.colab.kernel.accessAllowed ? 'block' : 'none';\n",
       "    })();\n",
       "  </script>\n",
       "</div>\n",
       "    </div>\n",
       "  </div>\n"
      ],
      "text/plain": [
       "   street_id           u          v   length oneway      u_lat      u_lon  \\\n",
       "0    5003747   423833948  423793584   90.570     no  35.772419  51.465652   \n",
       "1   17099043   177540293  423832815  296.273    yes  35.771034  51.464462   \n",
       "2  787945693  4429684144  423832815   62.573     no  35.772636  51.461891   \n",
       "3  687277053   177540293  423793585   97.898     no  35.771034  51.464462   \n",
       "4   36333153  9339973930  423793585  296.275    yes  35.771458  51.460865   \n",
       "\n",
       "       v_lat      v_lon  \n",
       "0  35.771748  51.465084  \n",
       "1  35.772175  51.461494  \n",
       "2  35.772175  51.461494  \n",
       "3  35.770317  51.463833  \n",
       "4  35.770317  51.463833  "
      ]
     },
     "execution_count": 7,
     "metadata": {},
     "output_type": "execute_result"
    }
   ],
   "source": [
    "pasdaran_streets.head()"
   ]
  },
  {
   "cell_type": "code",
   "execution_count": 8,
   "metadata": {
    "colab": {
     "base_uri": "https://localhost:8080/",
     "height": 206
    },
    "id": "6Q4HZ5Id4KOa",
    "outputId": "43ad46ef-4e80-4eea-b88b-0515b8f5cd51"
   },
   "outputs": [
    {
     "data": {
      "application/vnd.google.colaboratory.intrinsic+json": {
       "summary": "{\n  \"name\": \"pasdaran_nodes\",\n  \"rows\": 1605,\n  \"fields\": [\n    {\n      \"column\": \"id\",\n      \"properties\": {\n        \"dtype\": \"number\",\n        \"std\": 2350122162,\n        \"min\": 30772620,\n        \"max\": 11194352485,\n        \"num_unique_values\": 1605,\n        \"samples\": [\n          1739324377,\n          4695998349,\n          3844136667\n        ],\n        \"semantic_type\": \"\",\n        \"description\": \"\"\n      }\n    },\n    {\n      \"column\": \"lat\",\n      \"properties\": {\n        \"dtype\": \"number\",\n        \"std\": 0.00574159519893974,\n        \"min\": 35.762001037597656,\n        \"max\": 35.77998352050781,\n        \"num_unique_values\": 1344,\n        \"samples\": [\n          35.76291275024414,\n          35.7781982421875,\n          35.76805877685547\n        ],\n        \"semantic_type\": \"\",\n        \"description\": \"\"\n      }\n    },\n    {\n      \"column\": \"lon\",\n      \"properties\": {\n        \"dtype\": \"number\",\n        \"std\": 0.0072958388045158045,\n        \"min\": 51.44001388549805,\n        \"max\": 51.46598434448242,\n        \"num_unique_values\": 1413,\n        \"samples\": [\n          51.444435119628906,\n          51.44499206542969,\n          51.44126129150391\n        ],\n        \"semantic_type\": \"\",\n        \"description\": \"\"\n      }\n    }\n  ]\n}",
       "type": "dataframe",
       "variable_name": "pasdaran_nodes"
      },
      "text/html": [
       "\n",
       "  <div id=\"df-d623a003-f772-4035-afe0-029fbf0cdb91\" class=\"colab-df-container\">\n",
       "    <div>\n",
       "<style scoped>\n",
       "    .dataframe tbody tr th:only-of-type {\n",
       "        vertical-align: middle;\n",
       "    }\n",
       "\n",
       "    .dataframe tbody tr th {\n",
       "        vertical-align: top;\n",
       "    }\n",
       "\n",
       "    .dataframe thead th {\n",
       "        text-align: right;\n",
       "    }\n",
       "</style>\n",
       "<table border=\"1\" class=\"dataframe\">\n",
       "  <thead>\n",
       "    <tr style=\"text-align: right;\">\n",
       "      <th></th>\n",
       "      <th>id</th>\n",
       "      <th>lat</th>\n",
       "      <th>lon</th>\n",
       "    </tr>\n",
       "  </thead>\n",
       "  <tbody>\n",
       "    <tr>\n",
       "      <th>0</th>\n",
       "      <td>423833948</td>\n",
       "      <td>35.772419</td>\n",
       "      <td>51.465652</td>\n",
       "    </tr>\n",
       "    <tr>\n",
       "      <th>1</th>\n",
       "      <td>423793584</td>\n",
       "      <td>35.771748</td>\n",
       "      <td>51.465084</td>\n",
       "    </tr>\n",
       "    <tr>\n",
       "      <th>2</th>\n",
       "      <td>177536927</td>\n",
       "      <td>35.776230</td>\n",
       "      <td>51.465034</td>\n",
       "    </tr>\n",
       "    <tr>\n",
       "      <th>3</th>\n",
       "      <td>177540293</td>\n",
       "      <td>35.771034</td>\n",
       "      <td>51.464462</td>\n",
       "    </tr>\n",
       "    <tr>\n",
       "      <th>4</th>\n",
       "      <td>423832815</td>\n",
       "      <td>35.772175</td>\n",
       "      <td>51.461494</td>\n",
       "    </tr>\n",
       "  </tbody>\n",
       "</table>\n",
       "</div>\n",
       "    <div class=\"colab-df-buttons\">\n",
       "\n",
       "  <div class=\"colab-df-container\">\n",
       "    <button class=\"colab-df-convert\" onclick=\"convertToInteractive('df-d623a003-f772-4035-afe0-029fbf0cdb91')\"\n",
       "            title=\"Convert this dataframe to an interactive table.\"\n",
       "            style=\"display:none;\">\n",
       "\n",
       "  <svg xmlns=\"http://www.w3.org/2000/svg\" height=\"24px\" viewBox=\"0 -960 960 960\">\n",
       "    <path d=\"M120-120v-720h720v720H120Zm60-500h600v-160H180v160Zm220 220h160v-160H400v160Zm0 220h160v-160H400v160ZM180-400h160v-160H180v160Zm440 0h160v-160H620v160ZM180-180h160v-160H180v160Zm440 0h160v-160H620v160Z\"/>\n",
       "  </svg>\n",
       "    </button>\n",
       "\n",
       "  <style>\n",
       "    .colab-df-container {\n",
       "      display:flex;\n",
       "      gap: 12px;\n",
       "    }\n",
       "\n",
       "    .colab-df-convert {\n",
       "      background-color: #E8F0FE;\n",
       "      border: none;\n",
       "      border-radius: 50%;\n",
       "      cursor: pointer;\n",
       "      display: none;\n",
       "      fill: #1967D2;\n",
       "      height: 32px;\n",
       "      padding: 0 0 0 0;\n",
       "      width: 32px;\n",
       "    }\n",
       "\n",
       "    .colab-df-convert:hover {\n",
       "      background-color: #E2EBFA;\n",
       "      box-shadow: 0px 1px 2px rgba(60, 64, 67, 0.3), 0px 1px 3px 1px rgba(60, 64, 67, 0.15);\n",
       "      fill: #174EA6;\n",
       "    }\n",
       "\n",
       "    .colab-df-buttons div {\n",
       "      margin-bottom: 4px;\n",
       "    }\n",
       "\n",
       "    [theme=dark] .colab-df-convert {\n",
       "      background-color: #3B4455;\n",
       "      fill: #D2E3FC;\n",
       "    }\n",
       "\n",
       "    [theme=dark] .colab-df-convert:hover {\n",
       "      background-color: #434B5C;\n",
       "      box-shadow: 0px 1px 3px 1px rgba(0, 0, 0, 0.15);\n",
       "      filter: drop-shadow(0px 1px 2px rgba(0, 0, 0, 0.3));\n",
       "      fill: #FFFFFF;\n",
       "    }\n",
       "  </style>\n",
       "\n",
       "    <script>\n",
       "      const buttonEl =\n",
       "        document.querySelector('#df-d623a003-f772-4035-afe0-029fbf0cdb91 button.colab-df-convert');\n",
       "      buttonEl.style.display =\n",
       "        google.colab.kernel.accessAllowed ? 'block' : 'none';\n",
       "\n",
       "      async function convertToInteractive(key) {\n",
       "        const element = document.querySelector('#df-d623a003-f772-4035-afe0-029fbf0cdb91');\n",
       "        const dataTable =\n",
       "          await google.colab.kernel.invokeFunction('convertToInteractive',\n",
       "                                                    [key], {});\n",
       "        if (!dataTable) return;\n",
       "\n",
       "        const docLinkHtml = 'Like what you see? Visit the ' +\n",
       "          '<a target=\"_blank\" href=https://colab.research.google.com/notebooks/data_table.ipynb>data table notebook</a>'\n",
       "          + ' to learn more about interactive tables.';\n",
       "        element.innerHTML = '';\n",
       "        dataTable['output_type'] = 'display_data';\n",
       "        await google.colab.output.renderOutput(dataTable, element);\n",
       "        const docLink = document.createElement('div');\n",
       "        docLink.innerHTML = docLinkHtml;\n",
       "        element.appendChild(docLink);\n",
       "      }\n",
       "    </script>\n",
       "  </div>\n",
       "\n",
       "\n",
       "<div id=\"df-fa8ea9ca-363d-4f8a-a6fb-2e5ed1dbbffe\">\n",
       "  <button class=\"colab-df-quickchart\" onclick=\"quickchart('df-fa8ea9ca-363d-4f8a-a6fb-2e5ed1dbbffe')\"\n",
       "            title=\"Suggest charts\"\n",
       "            style=\"display:none;\">\n",
       "\n",
       "<svg xmlns=\"http://www.w3.org/2000/svg\" height=\"24px\"viewBox=\"0 0 24 24\"\n",
       "     width=\"24px\">\n",
       "    <g>\n",
       "        <path d=\"M19 3H5c-1.1 0-2 .9-2 2v14c0 1.1.9 2 2 2h14c1.1 0 2-.9 2-2V5c0-1.1-.9-2-2-2zM9 17H7v-7h2v7zm4 0h-2V7h2v10zm4 0h-2v-4h2v4z\"/>\n",
       "    </g>\n",
       "</svg>\n",
       "  </button>\n",
       "\n",
       "<style>\n",
       "  .colab-df-quickchart {\n",
       "      --bg-color: #E8F0FE;\n",
       "      --fill-color: #1967D2;\n",
       "      --hover-bg-color: #E2EBFA;\n",
       "      --hover-fill-color: #174EA6;\n",
       "      --disabled-fill-color: #AAA;\n",
       "      --disabled-bg-color: #DDD;\n",
       "  }\n",
       "\n",
       "  [theme=dark] .colab-df-quickchart {\n",
       "      --bg-color: #3B4455;\n",
       "      --fill-color: #D2E3FC;\n",
       "      --hover-bg-color: #434B5C;\n",
       "      --hover-fill-color: #FFFFFF;\n",
       "      --disabled-bg-color: #3B4455;\n",
       "      --disabled-fill-color: #666;\n",
       "  }\n",
       "\n",
       "  .colab-df-quickchart {\n",
       "    background-color: var(--bg-color);\n",
       "    border: none;\n",
       "    border-radius: 50%;\n",
       "    cursor: pointer;\n",
       "    display: none;\n",
       "    fill: var(--fill-color);\n",
       "    height: 32px;\n",
       "    padding: 0;\n",
       "    width: 32px;\n",
       "  }\n",
       "\n",
       "  .colab-df-quickchart:hover {\n",
       "    background-color: var(--hover-bg-color);\n",
       "    box-shadow: 0 1px 2px rgba(60, 64, 67, 0.3), 0 1px 3px 1px rgba(60, 64, 67, 0.15);\n",
       "    fill: var(--button-hover-fill-color);\n",
       "  }\n",
       "\n",
       "  .colab-df-quickchart-complete:disabled,\n",
       "  .colab-df-quickchart-complete:disabled:hover {\n",
       "    background-color: var(--disabled-bg-color);\n",
       "    fill: var(--disabled-fill-color);\n",
       "    box-shadow: none;\n",
       "  }\n",
       "\n",
       "  .colab-df-spinner {\n",
       "    border: 2px solid var(--fill-color);\n",
       "    border-color: transparent;\n",
       "    border-bottom-color: var(--fill-color);\n",
       "    animation:\n",
       "      spin 1s steps(1) infinite;\n",
       "  }\n",
       "\n",
       "  @keyframes spin {\n",
       "    0% {\n",
       "      border-color: transparent;\n",
       "      border-bottom-color: var(--fill-color);\n",
       "      border-left-color: var(--fill-color);\n",
       "    }\n",
       "    20% {\n",
       "      border-color: transparent;\n",
       "      border-left-color: var(--fill-color);\n",
       "      border-top-color: var(--fill-color);\n",
       "    }\n",
       "    30% {\n",
       "      border-color: transparent;\n",
       "      border-left-color: var(--fill-color);\n",
       "      border-top-color: var(--fill-color);\n",
       "      border-right-color: var(--fill-color);\n",
       "    }\n",
       "    40% {\n",
       "      border-color: transparent;\n",
       "      border-right-color: var(--fill-color);\n",
       "      border-top-color: var(--fill-color);\n",
       "    }\n",
       "    60% {\n",
       "      border-color: transparent;\n",
       "      border-right-color: var(--fill-color);\n",
       "    }\n",
       "    80% {\n",
       "      border-color: transparent;\n",
       "      border-right-color: var(--fill-color);\n",
       "      border-bottom-color: var(--fill-color);\n",
       "    }\n",
       "    90% {\n",
       "      border-color: transparent;\n",
       "      border-bottom-color: var(--fill-color);\n",
       "    }\n",
       "  }\n",
       "</style>\n",
       "\n",
       "  <script>\n",
       "    async function quickchart(key) {\n",
       "      const quickchartButtonEl =\n",
       "        document.querySelector('#' + key + ' button');\n",
       "      quickchartButtonEl.disabled = true;  // To prevent multiple clicks.\n",
       "      quickchartButtonEl.classList.add('colab-df-spinner');\n",
       "      try {\n",
       "        const charts = await google.colab.kernel.invokeFunction(\n",
       "            'suggestCharts', [key], {});\n",
       "      } catch (error) {\n",
       "        console.error('Error during call to suggestCharts:', error);\n",
       "      }\n",
       "      quickchartButtonEl.classList.remove('colab-df-spinner');\n",
       "      quickchartButtonEl.classList.add('colab-df-quickchart-complete');\n",
       "    }\n",
       "    (() => {\n",
       "      let quickchartButtonEl =\n",
       "        document.querySelector('#df-fa8ea9ca-363d-4f8a-a6fb-2e5ed1dbbffe button');\n",
       "      quickchartButtonEl.style.display =\n",
       "        google.colab.kernel.accessAllowed ? 'block' : 'none';\n",
       "    })();\n",
       "  </script>\n",
       "</div>\n",
       "    </div>\n",
       "  </div>\n"
      ],
      "text/plain": [
       "          id        lat        lon\n",
       "0  423833948  35.772419  51.465652\n",
       "1  423793584  35.771748  51.465084\n",
       "2  177536927  35.776230  51.465034\n",
       "3  177540293  35.771034  51.464462\n",
       "4  423832815  35.772175  51.461494"
      ]
     },
     "execution_count": 8,
     "metadata": {},
     "output_type": "execute_result"
    }
   ],
   "source": [
    "pasdaran_nodes.head()"
   ]
  },
  {
   "cell_type": "code",
   "execution_count": 9,
   "metadata": {
    "colab": {
     "base_uri": "https://localhost:8080/",
     "height": 621,
     "referenced_widgets": [
      "a8e1f8123d97492a90e5b31c91314963",
      "5f7ea6f742424131b45f160fd0781510"
     ]
    },
    "id": "V0aEzY3u4KOa",
    "outputId": "78ba6d04-caf4-4b01-d55f-d391047f70cf"
   },
   "outputs": [
    {
     "name": "stdout",
     "output_type": "stream",
     "text": [
      "User Guide: https://docs.kepler.gl/docs/keplergl-jupyter\n"
     ]
    },
    {
     "data": {
      "application/vnd.jupyter.widget-view+json": {
       "model_id": "a8e1f8123d97492a90e5b31c91314963",
       "version_major": 2,
       "version_minor": 0
      },
      "text/plain": [
       "KeplerGl(data={'Tehran': {'index': [0, 1, 2, 3, 4, 5, 6, 7, 8, 9, 10, 11, 12, 13, 14, 15, 16, 17, 18, 19, 20, …"
      ]
     },
     "metadata": {
      "application/vnd.jupyter.widget-view+json": {
       "colab": {
        "custom_widget_manager": {
         "url": "https://ssl.gstatic.com/colaboratory-static/widgets/colab-cdn-widget-manager/2b70e893a8ba7c0f/manager.min.js"
        }
       }
      }
     },
     "output_type": "display_data"
    }
   ],
   "source": [
    "map_kepler = KeplerGl(height=600)\n",
    "map_kepler.add_data(data=pasdaran_nodes, name='Tehran')\n",
    "map_kepler"
   ]
  },
  {
   "cell_type": "markdown",
   "metadata": {},
   "source": [
    "<div align=\"center\">\n",
    "  <img src=\"images/1.png\" width=\"1200\" height=\"600\">\n",
    "</div>"
   ]
  },
  {
   "cell_type": "markdown",
   "metadata": {
    "id": "osSfUikvvQ6Q"
   },
   "source": [
    "# Creating dataset for trip"
   ]
  },
  {
   "cell_type": "markdown",
   "metadata": {
    "id": "HR3QM8DKvWWt"
   },
   "source": [
    "As you understood, until now, we loaded 2 datasets, `pasdaran_nodes` and `pasdaran_streets`. Now, we should create a dataset from these, such that we can use it for our trip. Each item in this dataset is called a `ride`. We will explain more as we go on."
   ]
  },
  {
   "cell_type": "markdown",
   "metadata": {
    "id": "o444dGoA4KOe"
   },
   "source": [
    "First, we should create a **trip** for a driver. For this sake, we should choose 2 random points in our map as the source and destination of the trip. Now, we should find the streets that connect these 2 points. Each street has a length. You should find the shortest path between these 2 points (source and destination) which are in the `pasdaran_streets`. Note that this path should be the **shortest path** meaning that the sum of the lengths of streets should be minimum.\n",
    "\n",
    "**NOTE**: You cannot use any library for finding the shortest path. You should implement it yourself, from scratch. Feel free to use any algorithm and heuristic that you want. Be creative!\n",
    "\n",
    "**NOTE**: Be aware of \"length of streets\" and whether or not they are \"one_way\"!"
   ]
  },
  {
   "cell_type": "code",
   "execution_count": 10,
   "metadata": {
    "id": "w909XhNelmbT"
   },
   "outputs": [],
   "source": [
    "# TODO: You should implement this from scratch and you cannot use any library (such as networkx) for finding the shortest path.\n",
    "def get_edges(graph) :\n",
    "    edges = {key : {} for key in list(pd.unique(graph[['u', 'v']].values.ravel()))}\n",
    "    for index, row in graph.iterrows() :\n",
    "        edges[row['u']][row['v']] = row['length']\n",
    "        #if row['oneway'] == 'no' :\n",
    "        edges[row['v']][row['u']] = row['length']\n",
    "    return edges\n",
    "\n",
    "def find_shotest_path(start_node, end_node, graph) :\n",
    "    \"\"\"\n",
    "    Find the shortest path between two nodes in a graph.\n",
    "    :param start_node: The start node\n",
    "    :param end_node: The end node\n",
    "    :param graph: The graph\n",
    "    :return: The shortest path. It is a list of node_ids from start_node to end_node.\n",
    "    Note that you use all of the data in \"pasdaran_streets\" dataset appropriately such as \"street_length\" and \"one_way\".\n",
    "    \"\"\"\n",
    "    start_node = round(start_node[0], 5), round(start_node[1], 5)\n",
    "    end_node = round(end_node[0], 5), round(end_node[1], 5)\n",
    "\n",
    "    start = graph[(round(graph['u_lat'], 5) == start_node[0]) & (round(graph['u_lon'], 5) == start_node[1])][['u']].values.tolist()\n",
    "    if len(start) == 0 :\n",
    "        start = graph[(round(graph['v_lat'], 5) == start_node[0]) & (round(graph['v_lon'], 5) == start_node[1])][['v']].values.tolist()\n",
    "\n",
    "    end = graph[(round(graph['v_lat'], 5) == end_node[0]) & (round(graph['v_lon'], 5) == end_node[1])][['v']].values.tolist()\n",
    "    if len(end) == 0 :\n",
    "        end = graph[(round(graph['u_lat'], 5) == end_node[0]) & (round(graph['u_lon'], 5) == end_node[1])][['u']].values.tolist()\n",
    "\n",
    "    start = start[0][0]\n",
    "    end = end[0][0]\n",
    "\n",
    "    edges = get_edges(graph)\n",
    "    shortest_path = []\n",
    "    fringe = {start : 0}\n",
    "    parents = {node: None for node in edges.keys()}\n",
    "    visited_nodes = set()\n",
    "\n",
    "    while len(fringe.keys()) != 0 :\n",
    "        node = min(fringe, key=fringe.get)\n",
    "\n",
    "        if node == end :\n",
    "            break\n",
    "\n",
    "        visited_nodes.add(node)\n",
    "\n",
    "        neighbors = edges[node]\n",
    "        for neighbor in neighbors.keys() :\n",
    "            f = fringe[node] + neighbors[neighbor]\n",
    "            if neighbor not in visited_nodes or (neighbor in fringe.keys() and f < fringe[neighbor]) :\n",
    "                fringe[neighbor] = f\n",
    "                parents[neighbor] = node\n",
    "                visited_nodes.add(neighbor)\n",
    "        del fringe[node]\n",
    "\n",
    "    node = end\n",
    "    while node != None :\n",
    "        shortest_path.append(node)\n",
    "        node = parents[node]\n",
    "\n",
    "    shortest_path.reverse()\n",
    "    return shortest_path"
   ]
  },
  {
   "cell_type": "markdown",
   "metadata": {
    "id": "qpEdX5_E4KOe"
   },
   "source": [
    "You should **upload** this cell (`find_shortest_path` function) as a .py file to quera. Your code will be verified if it is actually finding the shortest path and only if it's correct, you will get the grades of this section. Be sure that you put the approriate `import ...` statements at the first of your `.py` file. Remember, you **can not** use any library that does the \"shortest path\" for you. (like networkx) You should implement it yourself.\n",
    "\n",
    "**Note**: You can add other functions and codes to above cell, but you code should have the `find_shortest_path` function with exactly same signature that we have provided. Your code will be tested with calling this function. So, using other functions is not a problem, but keep in mind that the main entry for your code when we test it is the `find_shortest_path` function. Nothing else!"
   ]
  },
  {
   "cell_type": "code",
   "execution_count": 11,
   "metadata": {
    "colab": {
     "base_uri": "https://localhost:8080/"
    },
    "id": "4SD1Dx2u4KOf",
    "outputId": "897f35a5-d55a-40ad-9193-99286afc5238"
   },
   "outputs": [
    {
     "name": "stdout",
     "output_type": "stream",
     "text": [
      "[423816012, 4316456851, 423816018, 423816019, 4316456858, 4695998355, 4551688565, 423815693, 423815694, 4698536184, 423815692, 423815695, 423832812, 423832813, 4698544220, 4698544218, 4695975713, 423793661, 4695969098, 806589258, 1707151175, 423793624, 6096557785, 10922701617, 10922701619, 10922701618, 6096557786, 6434310435, 423833953, 2193982049, 2193982051, 4698562498, 2106802321, 1707151181, 4696632867, 4696632868, 4696632866, 1707151183, 4696632871, 4696627041, 423832940, 4696627040, 4696627039]\n"
     ]
    }
   ],
   "source": [
    "# Create a trip: Choose 2 random points as start and end points and find the shortest path between them.\n",
    "# A trip is a list of node_ids from start_node to end_node.\n",
    "\n",
    "# TODO: Implement and print out a sample trip\n",
    "trip = find_shotest_path((35.7751197814941, 51.4479751586914), (35.7798652648925, 51.4644432067871), pasdaran_streets)\n",
    "print(trip)"
   ]
  },
  {
   "cell_type": "markdown",
   "metadata": {
    "id": "YP2kS2GHx02G"
   },
   "source": [
    "Visualize the sampled trip (in the previous cell) on the map. Use `kepler` library for this purpose. Notice that you use keplers \"timestep\" attributes to create a timeline, so you can see the trip's process from _start\\_node_ to _end\\_node_. (You can see an output sample in the next cell)"
   ]
  },
  {
   "cell_type": "code",
   "execution_count": 12,
   "metadata": {
    "colab": {
     "base_uri": "https://localhost:8080/",
     "height": 771,
     "referenced_widgets": [
      "b675ba2e139143c3800b8717c7fd44a3",
      "83e91cd1ead941eea9231b5795bb0d38"
     ]
    },
    "id": "HAUbCxkwSFJC",
    "outputId": "d4859063-57c9-49dd-9495-c29ac9db1aa4"
   },
   "outputs": [
    {
     "name": "stdout",
     "output_type": "stream",
     "text": [
      "User Guide: https://docs.kepler.gl/docs/keplergl-jupyter\n"
     ]
    },
    {
     "data": {
      "application/vnd.jupyter.widget-view+json": {
       "model_id": "b675ba2e139143c3800b8717c7fd44a3",
       "version_major": 2,
       "version_minor": 0
      },
      "text/plain": [
       "KeplerGl(data={'Tehran': {'index': [649, 648, 154, 157, 647, 646, 645, 140, 139, 138, 137, 459, 444, 460, 461,…"
      ]
     },
     "metadata": {
      "application/vnd.jupyter.widget-view+json": {
       "colab": {
        "custom_widget_manager": {
         "url": "https://ssl.gstatic.com/colaboratory-static/widgets/colab-cdn-widget-manager/2b70e893a8ba7c0f/manager.min.js"
        }
       }
      }
     },
     "output_type": "display_data"
    }
   ],
   "source": [
    "df1 = pasdaran_nodes[pasdaran_nodes['id'].isin(trip)]\n",
    "df1 = df1.sort_values(by=['id'], key=lambda x: x.map({v: i for i, v in enumerate(trip)}))\n",
    "\n",
    "\n",
    "df1['timestep'] = [i for i in range(len(trip))]\n",
    "\n",
    "map1 = KeplerGl(height=750)\n",
    "map1.add_data(data=df1, name='Tehran')\n",
    "map1"
   ]
  },
  {
   "cell_type": "markdown",
   "metadata": {},
   "source": [
    "<div align=\"center\">\n",
    "  <img src=\"images/2.png\" width=\"1200\" height=\"600\">\n",
    "</div>"
   ]
  },
  {
   "cell_type": "markdown",
   "metadata": {
    "id": "2GRdEUrF7EgN"
   },
   "source": [
    "Now, we are going to get the points in the middle of the streets. Before, we only had the intersections of the streets(start and end nodes of a section). But we know in real life, we get gps locations also in between and not necessarily in the intersections. So, we should add these points to our data. We call every entity of this type as `Ride`. A ride is defined by 3 parameters:\n",
    "1. `ride_speed`: The speed of the ride which driver is driving with. We assume that the driver is driving with a constant speed.\n",
    "2. `driver_gps_time`: The time interval that the driver sends his/her gps location to the server. (e.g. every 5 seconds)\n",
    "3. `trip`: The specific trip that the driver is driving in. (we created this in the previous cells)\n",
    "\n",
    "Now, you should define a function that gets these parameters and returns the locations (lat/longs) in the ride regarding the given parameters."
   ]
  },
  {
   "cell_type": "code",
   "execution_count": 16,
   "metadata": {
    "id": "WSkJzEmelmbU"
   },
   "outputs": [],
   "source": [
    "def get_lengths(trip) :\n",
    "    distances = []\n",
    "    for i in range(len(trip) - 1) :\n",
    "        u, v = pasdaran_nodes[pasdaran_nodes['id'] == trip[i]][['lat', 'lon']].values.tolist(), pasdaran_nodes[pasdaran_nodes['id'] == trip[i+1]][['lat', 'lon']].values.tolist()\n",
    "        distance = pasdaran_streets[(pasdaran_streets['u'] == trip[i]) & (pasdaran_streets['v'] == trip[i+1]) | (pasdaran_streets['v'] == trip[i]) & (pasdaran_streets['u'] == trip[i+1])][['length']].values[0]\n",
    "        distances.append([(u[0][0], u[0][1]), (v[0][0], v[0][1]), distance])\n",
    "    return distances\n",
    "\n",
    "def get_lat_lon(u, v, distance, length) :\n",
    "    u_lat, u_lon = u[0][0], u[0][1]\n",
    "    v_lat, v_lon = v[0][0], v[0][1]\n",
    "\n",
    "    weight = distance / length\n",
    "\n",
    "    lat = weight * u_lat + (1 - weight) * v_lat\n",
    "    lon = weight * u_lon + (1 - weight) * v_lon\n",
    "    return lat[0], lon[0]\n",
    "\n",
    "def generate_intermediate_point(lat_a, lon_a, lat_b, lon_b, portion):\n",
    "    lat_a_rad = math.radians(lat_a)\n",
    "    lon_a_rad = math.radians(lon_a)\n",
    "    lat_b_rad = math.radians(lat_b)\n",
    "    lon_b_rad = math.radians(lon_b)\n",
    "\n",
    "    # meter\n",
    "    earth_radius = 6371000\n",
    "\n",
    "    delta_sigma = 2 * math.asin(\n",
    "        math.sqrt(\n",
    "            math.sin((lat_b_rad - lat_a_rad) / 2) ** 2 +\n",
    "            math.cos(lat_a_rad) * math.cos(lat_b_rad) * math.sin((lon_b_rad - lon_a_rad) / 2) ** 2\n",
    "        )\n",
    "    )\n",
    "    total_distance = earth_radius * delta_sigma\n",
    "\n",
    "    intermediate_distance = total_distance * portion\n",
    "\n",
    "    bearing = math.atan2(\n",
    "        math.sin(lon_b_rad - lon_a_rad) * math.cos(lat_b_rad),\n",
    "        math.cos(lat_a_rad) * math.sin(lat_b_rad) - math.sin(lat_a_rad) * math.cos(lat_b_rad) * math.cos(lon_b_rad - lon_a_rad)\n",
    "    )\n",
    "\n",
    "    intermediate_lat = math.asin(math.sin(lat_a_rad) * math.cos(intermediate_distance / earth_radius) +\n",
    "                                 math.cos(lat_a_rad) * math.sin(intermediate_distance / earth_radius) * math.cos(bearing))\n",
    "    intermediate_lon = lon_a_rad + math.atan2(\n",
    "        math.sin(bearing) * math.sin(intermediate_distance / earth_radius) * math.cos(lat_a_rad),\n",
    "        math.cos(intermediate_distance / earth_radius) - math.sin(lat_a_rad) * math.sin(intermediate_lat)\n",
    "    )\n",
    "\n",
    "    intermediate_lat_deg = math.degrees(intermediate_lat)\n",
    "    intermediate_lon_deg = math.degrees(intermediate_lon)\n",
    "\n",
    "    return intermediate_lat_deg, intermediate_lon_deg\n",
    "\n",
    "\n",
    "def get_current_node(distance, lengths, index, trip) :\n",
    "    for i in range(index, len(lengths)) :\n",
    "        u_lat, u_lon = lengths[i][0][0], lengths[i][0][1]\n",
    "        v_lat, v_lon = lengths[i][1][0], lengths[i][1][1]\n",
    "        length = lengths[i][2]\n",
    "\n",
    "        if distance <= length :\n",
    "            lat, lon = generate_intermediate_point(u_lat, u_lon, v_lat, v_lon, distance / length)\n",
    "            return lat, lon, length - distance, i\n",
    "        else :\n",
    "            distance -= length\n",
    "    return lengths[len(lengths) - 1][1][0], lengths[len(lengths) - 1][1][1], 0, len(lengths) - 1\n",
    "\n",
    "def visualize_a_ride(ride_speed, ride_gps_time, trip) :\n",
    "    # x = vt\n",
    "    lengths = get_lengths(trip)\n",
    "    ride = []\n",
    "\n",
    "    i = 0\n",
    "    u = trip[i]\n",
    "    v = trip[i+1]\n",
    "    distance = ride_speed * ride_gps_time\n",
    "\n",
    "    ride.append(list(lengths[0][0]))\n",
    "\n",
    "    while i < len(lengths) - 1 :\n",
    "        lat, lon, length, i = get_current_node(distance, lengths, i, trip)\n",
    "        lengths.insert(i+1, [(lat, lon), lengths[i][1], length])\n",
    "        i += 1\n",
    "        ride.append([lat, lon])\n",
    "    return ride"
   ]
  },
  {
   "cell_type": "markdown",
   "metadata": {
    "id": "WuXoo-N37JS8"
   },
   "source": [
    "See a sample ride, printed out."
   ]
  },
  {
   "cell_type": "code",
   "execution_count": 17,
   "metadata": {
    "colab": {
     "base_uri": "https://localhost:8080/"
    },
    "id": "M0dzx45_pTv_",
    "outputId": "a06b7b61-93ab-46f0-c9b9-7e9524d57de2",
    "scrolled": true,
    "tags": []
   },
   "outputs": [
    {
     "name": "stderr",
     "output_type": "stream",
     "text": [
      "<ipython-input-16-ba096c546c8c>:45: DeprecationWarning: Conversion of an array with ndim > 0 to a scalar is deprecated, and will error in future. Ensure you extract a single element from your array before performing this operation. (Deprecated NumPy 1.25.)\n",
      "  intermediate_lat = math.asin(math.sin(lat_a_rad) * math.cos(intermediate_distance / earth_radius) +\n",
      "<ipython-input-16-ba096c546c8c>:46: DeprecationWarning: Conversion of an array with ndim > 0 to a scalar is deprecated, and will error in future. Ensure you extract a single element from your array before performing this operation. (Deprecated NumPy 1.25.)\n",
      "  math.cos(lat_a_rad) * math.sin(intermediate_distance / earth_radius) * math.cos(bearing))\n",
      "<ipython-input-16-ba096c546c8c>:48: DeprecationWarning: Conversion of an array with ndim > 0 to a scalar is deprecated, and will error in future. Ensure you extract a single element from your array before performing this operation. (Deprecated NumPy 1.25.)\n",
      "  math.sin(bearing) * math.sin(intermediate_distance / earth_radius) * math.cos(lat_a_rad),\n",
      "<ipython-input-16-ba096c546c8c>:49: DeprecationWarning: Conversion of an array with ndim > 0 to a scalar is deprecated, and will error in future. Ensure you extract a single element from your array before performing this operation. (Deprecated NumPy 1.25.)\n",
      "  math.cos(intermediate_distance / earth_radius) - math.sin(lat_a_rad) * math.sin(intermediate_lat)\n"
     ]
    },
    {
     "data": {
      "text/plain": [
       "[[35.77511978149414, 51.447975158691406],\n",
       " [35.77562687681527, 51.448202477143326],\n",
       " [35.776134751337054, 51.44842703868589],\n",
       " [35.776644415291905, 51.448645466747905],\n",
       " [35.777148980419554, 51.44888116460721],\n",
       " [35.77765410690363, 51.449115038877814],\n",
       " [35.778150303268646, 51.44935325126417],\n",
       " [35.77821741592872, 51.450013197010676],\n",
       " [35.77828425072117, 51.45067318385095],\n",
       " [35.778349454025175, 51.451333414966804],\n",
       " [35.778420903306206, 51.451992618979794],\n",
       " [35.778497937147634, 51.45265091602301],\n",
       " [35.778552306259414, 51.453312597541355],\n",
       " [35.77859550058828, 51.453973352728845],\n",
       " [35.778435539939615, 51.454608563186675],\n",
       " [35.778265060883754, 51.455239376085466],\n",
       " [35.778100792399314, 51.45587290295374],\n",
       " [35.77793443218248, 51.456505611514416],\n",
       " [35.77776503374557, 51.457137079214924],\n",
       " [35.7775851263254, 51.45776403567846],\n",
       " [35.77738730928046, 51.45838281337384],\n",
       " [35.777186773992995, 51.459000263686576],\n",
       " [35.7769976906784, 51.45961061555368],\n",
       " [35.77745534268614, 51.45975764592408],\n",
       " [35.77753034783123, 51.460210380292764],\n",
       " [35.77736216850331, 51.4608423112228],\n",
       " [35.77720484849881, 51.461478512915185],\n",
       " [35.77704752514366, 51.462114712089935],\n",
       " [35.77755675652527, 51.46231737056076],\n",
       " [35.778073771395, 51.46250747769097],\n",
       " [35.77859316193116, 51.46268774893689],\n",
       " [35.77861107882759, 51.463120660037],\n",
       " [35.7785554458483, 51.46356841732618],\n",
       " [35.77867099688728, 51.464154154459735],\n",
       " [35.77908541027821, 51.46429800460987],\n",
       " [35.779622521696915, 51.46423444872278],\n",
       " [35.77986526489258, 51.46444320678711]]"
      ]
     },
     "execution_count": 17,
     "metadata": {},
     "output_type": "execute_result"
    }
   ],
   "source": [
    "ride = visualize_a_ride(60, 1, trip)\n",
    "ride"
   ]
  },
  {
   "cell_type": "markdown",
   "metadata": {
    "id": "_Bi1o_2o7Q3r"
   },
   "source": [
    "Visualize the sample ride on the map using `kepler` library. You should define an animation based on the order of the points in the ride, so you can play the animation in the visualization and see the ride!"
   ]
  },
  {
   "cell_type": "code",
   "execution_count": 18,
   "metadata": {
    "colab": {
     "base_uri": "https://localhost:8080/",
     "height": 771,
     "referenced_widgets": [
      "a5fcb2867c664d00a451c9d048bb5cbf",
      "a2c94c24834b4779b266b9a99bdd23fd"
     ]
    },
    "id": "lSqTVxIqlmbU",
    "outputId": "c61d6ae7-7778-44a6-e020-e33ab521cc14"
   },
   "outputs": [
    {
     "name": "stdout",
     "output_type": "stream",
     "text": [
      "User Guide: https://docs.kepler.gl/docs/keplergl-jupyter\n"
     ]
    },
    {
     "data": {
      "application/vnd.jupyter.widget-view+json": {
       "model_id": "a5fcb2867c664d00a451c9d048bb5cbf",
       "version_major": 2,
       "version_minor": 0
      },
      "text/plain": [
       "KeplerGl(data={'data': {'index': [0, 1, 2, 3, 4, 5, 6, 7, 8, 9, 10, 11, 12, 13, 14, 15, 16, 17, 18, 19, 20, 21…"
      ]
     },
     "metadata": {
      "application/vnd.jupyter.widget-view+json": {
       "colab": {
        "custom_widget_manager": {
         "url": "https://ssl.gstatic.com/colaboratory-static/widgets/colab-cdn-widget-manager/2b70e893a8ba7c0f/manager.min.js"
        }
       }
      }
     },
     "output_type": "display_data"
    }
   ],
   "source": [
    "df2 = {\n",
    "    'lat': [ride[i][0] for i in range(len(ride))],\n",
    "    'lon': [ride[i][1] for i in range(len(ride))],\n",
    "    'timestamp': [i for i in range(len(ride))]\n",
    "}\n",
    "df2 = pd.DataFrame(df2)\n",
    "\n",
    "map2 = KeplerGl(height=750)\n",
    "map2.add_data(data=df2, name='data')\n",
    "map2"
   ]
  },
  {
   "cell_type": "markdown",
   "metadata": {
    "tags": []
   },
   "source": [
    "<div align=\"center\">\n",
    "  <img src=\"images/3.png\" width=\"1200\" height=\"600\">\n",
    "</div>"
   ]
  },
  {
   "cell_type": "markdown",
   "metadata": {
    "id": "DMixk41z8Zil"
   },
   "source": [
    "Now, to complete our dataset, we need to put some random noise on the gps locations. For this sake, we easily add some random noise to the lat/longs of a created `ride`. You should define a function that gets a `ride` and adds some random noise to the lat/longs of the ride. Your function should take in 2 parameters: _ride_ and _gps\\_noise\\_radius_ which is the radius of the circle that you want to add noise to the gps locations. (e.g. 10 meters). The gps noise in assumed to be a normal distribution. So, assume `standard deviation` of the noise to be `gps_noise_radius`."
   ]
  },
  {
   "cell_type": "code",
   "execution_count": 19,
   "metadata": {
    "colab": {
     "base_uri": "https://localhost:8080/"
    },
    "id": "WgODh_VsTQHW",
    "outputId": "5f62d53f-ecc5-43dd-9079-5157a3db398d",
    "scrolled": true,
    "tags": []
   },
   "outputs": [
    {
     "data": {
      "text/plain": [
       "[[35.775152873690494, 51.44799626936076],\n",
       " [35.77558358440374, 51.448008523234165],\n",
       " [35.77618270286632, 51.4484432385927],\n",
       " [35.77665008500917, 51.448648860278006],\n",
       " [35.77711378156916, 51.44882639730732],\n",
       " [35.777650044573136, 51.44906798604769],\n",
       " [35.7781684747808, 51.4493476679354],\n",
       " [35.77824479805588, 51.450034572118795],\n",
       " [35.778321708106105, 51.45063207284447],\n",
       " [35.77837645219671, 51.45131662555119],\n",
       " [35.77838896602104, 51.4519350315725],\n",
       " [35.77853302812279, 51.45254384546401],\n",
       " [35.778501567177315, 51.45336891487549],\n",
       " [35.77864062535089, 51.45399223654482],\n",
       " [35.77840905831393, 51.45460981632993],\n",
       " [35.778271948534346, 51.455259644788946],\n",
       " [35.77811229395416, 51.45590297995062],\n",
       " [35.77802658340524, 51.45643097894064],\n",
       " [35.777709855255345, 51.457117673860054],\n",
       " [35.77763497892794, 51.45761606589028],\n",
       " [35.77741181847348, 51.45849095582153],\n",
       " [35.77724141591094, 51.459079160465855],\n",
       " [35.77701320325063, 51.45962257545556],\n",
       " [35.77744840340649, 51.459801442977984],\n",
       " [35.77752990775165, 51.460267321847176],\n",
       " [35.7773899137682, 51.460835885216206],\n",
       " [35.77717190337183, 51.461380013026314],\n",
       " [35.77712985365364, 51.462022287867406],\n",
       " [35.77757760244451, 51.46227079180682],\n",
       " [35.778037898251135, 51.46248985266823],\n",
       " [35.77863033318324, 51.462710166114455],\n",
       " [35.778586448948786, 51.46314118417463],\n",
       " [35.77852024702526, 51.463555329635554],\n",
       " [35.77855798088931, 51.464129354860205],\n",
       " [35.7790703887119, 51.46428522510745],\n",
       " [35.779652132751615, 51.4642821290255],\n",
       " [35.77996765499956, 51.464464839939275]]"
      ]
     },
     "execution_count": 19,
     "metadata": {},
     "output_type": "execute_result"
    }
   ],
   "source": [
    "# put a random noise on each (lat, lon) location to simulate the GPS noise (suppoes GPS radius is 3 - 8 meters)\n",
    "def add_gps_noise(ride, gps_noise_radius):\n",
    "    lat_noise = list(np.random.normal(0, gps_noise_radius, len(ride)))\n",
    "    lon_noise = list(np.random.normal(0, gps_noise_radius, len(ride)))\n",
    "\n",
    "    lat = [ride[i][0] for i in range(len(ride))]\n",
    "    lon = [ride[i][1] for i in range(len(ride))]\n",
    "\n",
    "    noisy_lat = []\n",
    "    noisy_lon = []\n",
    "    for i in range(len(lat)) :\n",
    "        noisy_lat.append(lat[i] + (lat_noise[i] / 111320))\n",
    "        noisy_lon.append(lon[i] + (lon_noise[i] / (111320 * math.cos(math.radians(lat[i])))))\n",
    "\n",
    "    return [[lat, lon] for (lat, lon) in zip(noisy_lat, noisy_lon)]\n",
    "\n",
    "\n",
    "noisy_ride = add_gps_noise(ride, 5)\n",
    "noisy_ride"
   ]
  },
  {
   "cell_type": "code",
   "execution_count": 20,
   "metadata": {
    "colab": {
     "base_uri": "https://localhost:8080/",
     "height": 771,
     "referenced_widgets": [
      "0cbbb10cdc0542efb91432ff7fabd5d2",
      "ed4157c1611d497f8e4085c89e9c3196"
     ]
    },
    "id": "i3-HfIhiVX9X",
    "outputId": "1373c552-ec43-4e81-ba08-7ce6ad9cac06"
   },
   "outputs": [
    {
     "name": "stdout",
     "output_type": "stream",
     "text": [
      "User Guide: https://docs.kepler.gl/docs/keplergl-jupyter\n"
     ]
    },
    {
     "data": {
      "application/vnd.jupyter.widget-view+json": {
       "model_id": "0cbbb10cdc0542efb91432ff7fabd5d2",
       "version_major": 2,
       "version_minor": 0
      },
      "text/plain": [
       "KeplerGl(data={'data': {'index': [0, 1, 2, 3, 4, 5, 6, 7, 8, 9, 10, 11, 12, 13, 14, 15, 16, 17, 18, 19, 20, 21…"
      ]
     },
     "metadata": {
      "application/vnd.jupyter.widget-view+json": {
       "colab": {
        "custom_widget_manager": {
         "url": "https://ssl.gstatic.com/colaboratory-static/widgets/colab-cdn-widget-manager/2b70e893a8ba7c0f/manager.min.js"
        }
       }
      }
     },
     "output_type": "display_data"
    }
   ],
   "source": [
    "df3 = {\n",
    "    'lat': [noisy_ride[i][0] for i in range(len(noisy_ride))],\n",
    "    'lon': [noisy_ride[i][1] for i in range(len(noisy_ride))],\n",
    "    'timestamp': [i for i in range(len(noisy_ride))]\n",
    "}\n",
    "df3 = pd.DataFrame(df3)\n",
    "\n",
    "map3 = KeplerGl(height=750)\n",
    "map3.add_data(data=df3, name='data')\n",
    "map3"
   ]
  },
  {
   "cell_type": "markdown",
   "metadata": {},
   "source": [
    "<div align=\"center\">\n",
    "  <img src=\"images/4.png\" width=\"1200\" height=\"600\">\n",
    "</div>"
   ]
  },
  {
   "cell_type": "markdown",
   "metadata": {
    "id": "f-t-YHvy4KOg"
   },
   "source": [
    "### Different noise models\n",
    "Experiment adding noise to rides using different models (PDFs) of noise. For example, you can use a uniform distribution for noise. Or you can use a normal distribution for noise. Or you can use a mixture of different distributions. You can also use a distribution that is dependent on the speed of the ride.\n",
    "1. Visualize each noise model (PDF) on a plot. (You can use `matplotlib` library for this purpose)\n",
    "2. Visualize the rides with different noise models on the map. (You can use `kepler` library for this purpose)\n",
    "3. Compare the results of different noise models. Which one is more descriptive of the real world? Why?\n",
    "4. Choose one model that you find appropriate for training your HMM on it. We will use that model for the rest of the project."
   ]
  },
  {
   "cell_type": "code",
   "execution_count": 23,
   "metadata": {
    "id": "XkFDZITYXZyk"
   },
   "outputs": [],
   "source": [
    "def add_noise(lat, lon, lat_noise, lon_noise) :\n",
    "    noisy_lat = []\n",
    "    noisy_lon = []\n",
    "    for i in range(len(lat)) :\n",
    "        noisy_lat.append(lat[i] + (lat_noise[i] / 111320))\n",
    "        noisy_lon.append(lon[i] + (lon_noise[i] / (111320 * math.cos(math.radians(lat[i])))))\n",
    "\n",
    "    return [[lat, lon] for (lat, lon) in zip(noisy_lat, noisy_lon)]\n",
    "\n",
    "def plot_noise(lat_noise, lon_noise) :\n",
    "    plt.hist(lat_noise, bins=20, edgecolor='black')\n",
    "    plt.xlabel('Value')\n",
    "    plt.ylabel('Frequency')\n",
    "    plt.title('lat noise')\n",
    "    plt.grid(True)\n",
    "    plt.show()\n",
    "\n",
    "    plt.hist(lon_noise, bins=20, edgecolor='black')\n",
    "    plt.xlabel('Value')\n",
    "    plt.ylabel('Frequency')\n",
    "    plt.title('lon noise')\n",
    "    plt.grid(True)\n",
    "    plt.show()\n",
    "\n",
    "def convert_to_df(ride) :\n",
    "    df = {\n",
    "    'lat': [ride[i][0] for i in range(len(ride))],\n",
    "    'lon': [ride[i][1] for i in range(len(ride))],\n",
    "    'timestamp': [i for i in range(len(ride))]}\n",
    "    df = pd.DataFrame(df)\n",
    "    return df\n",
    "\n",
    "def visualize_kepler(noisy_ride) :\n",
    "    df = convert_to_df(noisy_ride)\n",
    "    map = KeplerGl(height=750)\n",
    "    map.add_data(data=df, name='data')\n",
    "    return map"
   ]
  },
  {
   "cell_type": "code",
   "execution_count": 25,
   "metadata": {
    "id": "jYUun84t4KOg"
   },
   "outputs": [],
   "source": [
    "lat = [ride[i][0] for i in range(len(ride))]\n",
    "lon = [ride[i][1] for i in range(len(ride))]\n",
    "gps_noise_radius = 7"
   ]
  },
  {
   "cell_type": "code",
   "execution_count": 26,
   "metadata": {
    "colab": {
     "base_uri": "https://localhost:8080/",
     "height": 1000,
     "referenced_widgets": [
      "819b8694d5334f2e93e0aeb7498f0469",
      "75d8a949cd6740a3a66e03cfce99315c"
     ]
    },
    "id": "-8oFc6QPbcAE",
    "outputId": "2e5e88fa-b2ef-48d6-ce27-626385f87060"
   },
   "outputs": [
    {
     "data": {
      "image/png": "[encoded data removed]",
      "text/plain": [
       "<Figure size 640x480 with 1 Axes>"
      ]
     },
     "metadata": {},
     "output_type": "display_data"
    },
    {
     "data": {
      "image/png": "[encoded data removed]",
      "text/plain": [
       "<Figure size 640x480 with 1 Axes>"
      ]
     },
     "metadata": {},
     "output_type": "display_data"
    },
    {
     "data": {
      "image/png": "[encoded data removed]",
      "text/plain": [
       "<Figure size 640x480 with 1 Axes>"
      ]
     },
     "metadata": {},
     "output_type": "display_data"
    },
    {
     "name": "stdout",
     "output_type": "stream",
     "text": [
      "User Guide: https://docs.kepler.gl/docs/keplergl-jupyter\n"
     ]
    },
    {
     "data": {
      "application/vnd.jupyter.widget-view+json": {
       "model_id": "819b8694d5334f2e93e0aeb7498f0469",
       "version_major": 2,
       "version_minor": 0
      },
      "text/plain": [
       "KeplerGl(data={'data': {'index': [0, 1, 2, 3, 4, 5, 6, 7, 8, 9, 10, 11, 12, 13, 14, 15, 16, 17, 18, 19, 20, 21…"
      ]
     },
     "metadata": {
      "application/vnd.jupyter.widget-view+json": {
       "colab": {
        "custom_widget_manager": {
         "url": "https://ssl.gstatic.com/colaboratory-static/widgets/colab-cdn-widget-manager/2b70e893a8ba7c0f/manager.min.js"
        }
       }
      }
     },
     "output_type": "display_data"
    }
   ],
   "source": [
    "# uniform\n",
    "mu = 0\n",
    "sigma = gps_noise_radius\n",
    "x = np.linspace(mu - 3*sigma, mu + 3*sigma, 100)\n",
    "plt.plot(x, stats.uniform.pdf(x, mu, sigma))\n",
    "plt.show()\n",
    "\n",
    "\n",
    "lat_noise = list(np.random.uniform(0, gps_noise_radius, len(ride)))\n",
    "lon_noise = list(np.random.uniform(0, gps_noise_radius, len(ride)))\n",
    "uniform_ride_r5 = add_noise(lat, lon, lat_noise, lon_noise)\n",
    "plot_noise(lat_noise, lon_noise)\n",
    "visualize_kepler(uniform_ride_r5)"
   ]
  },
  {
   "cell_type": "markdown",
   "metadata": {
    "tags": []
   },
   "source": [
    "<div align=\"center\">\n",
    "  <img src=\"images/5.png\" width=\"1200\" height=\"600\">\n",
    "</div>"
   ]
  },
  {
   "cell_type": "code",
   "execution_count": 27,
   "metadata": {
    "colab": {
     "base_uri": "https://localhost:8080/",
     "height": 1000,
     "referenced_widgets": [
      "02eef125b5684276975cdfcb0035dbd7",
      "499f16b6d8b24e5bad46283f66c5b432"
     ]
    },
    "id": "lk60JSdnet-y",
    "outputId": "428822c9-dd9c-41d6-ae5b-675bb2bedc81"
   },
   "outputs": [
    {
     "data": {
      "image/png": "[encoded data removed]",
      "text/plain": [
       "<Figure size 640x480 with 1 Axes>"
      ]
     },
     "metadata": {},
     "output_type": "display_data"
    },
    {
     "data": {
      "image/png": "[encoded data removed]",
      "text/plain": [
       "<Figure size 640x480 with 1 Axes>"
      ]
     },
     "metadata": {},
     "output_type": "display_data"
    },
    {
     "data": {
      "image/png": "[encoded data removed]",
      "text/plain": [
       "<Figure size 640x480 with 1 Axes>"
      ]
     },
     "metadata": {},
     "output_type": "display_data"
    },
    {
     "name": "stdout",
     "output_type": "stream",
     "text": [
      "User Guide: https://docs.kepler.gl/docs/keplergl-jupyter\n"
     ]
    },
    {
     "data": {
      "application/vnd.jupyter.widget-view+json": {
       "model_id": "02eef125b5684276975cdfcb0035dbd7",
       "version_major": 2,
       "version_minor": 0
      },
      "text/plain": [
       "KeplerGl(data={'data': {'index': [0, 1, 2, 3, 4, 5, 6, 7, 8, 9, 10, 11, 12, 13, 14, 15, 16, 17, 18, 19, 20, 21…"
      ]
     },
     "metadata": {
      "application/vnd.jupyter.widget-view+json": {
       "colab": {
        "custom_widget_manager": {
         "url": "https://ssl.gstatic.com/colaboratory-static/widgets/colab-cdn-widget-manager/2b70e893a8ba7c0f/manager.min.js"
        }
       }
      }
     },
     "output_type": "display_data"
    }
   ],
   "source": [
    "# normal\n",
    "mu = 0\n",
    "sigma = gps_noise_radius\n",
    "x = np.linspace(mu - 3*sigma, mu + 3*sigma, 100)\n",
    "plt.plot(x, stats.norm.pdf(x, mu, sigma))\n",
    "plt.show()\n",
    "\n",
    "\n",
    "lat_noise = list(np.random.normal(0, gps_noise_radius, len(ride)))\n",
    "lon_noise = list(np.random.normal(0, gps_noise_radius, len(ride)))\n",
    "normal_ride_r5 = add_noise(lat, lon, lat_noise, lon_noise)\n",
    "plot_noise(lat_noise, lon_noise)\n",
    "visualize_kepler(normal_ride_r5)"
   ]
  },
  {
   "cell_type": "markdown",
   "metadata": {},
   "source": [
    "<div align=\"center\">\n",
    "  <img src=\"images/6.png\" width=\"1200\" height=\"600\">\n",
    "</div>"
   ]
  },
  {
   "cell_type": "code",
   "execution_count": 28,
   "metadata": {
    "colab": {
     "base_uri": "https://localhost:8080/",
     "height": 1000,
     "referenced_widgets": [
      "92d104cecc7f453b956d79b96a0b92f6",
      "920582119acc42b5a7fceaf8d2322566"
     ]
    },
    "id": "2ypvvcvVfHw-",
    "outputId": "f6f85f05-5f5a-48fe-a1bb-d28dcd7b91ff"
   },
   "outputs": [
    {
     "data": {
      "image/png": "[encoded data removed]",
      "text/plain": [
       "<Figure size 640x480 with 1 Axes>"
      ]
     },
     "metadata": {},
     "output_type": "display_data"
    },
    {
     "data": {
      "image/png": "[encoded data removed]",
      "text/plain": [
       "<Figure size 640x480 with 1 Axes>"
      ]
     },
     "metadata": {},
     "output_type": "display_data"
    },
    {
     "data": {
      "image/png": "[encoded data removed]",
      "text/plain": [
       "<Figure size 640x480 with 1 Axes>"
      ]
     },
     "metadata": {},
     "output_type": "display_data"
    },
    {
     "name": "stdout",
     "output_type": "stream",
     "text": [
      "User Guide: https://docs.kepler.gl/docs/keplergl-jupyter\n"
     ]
    },
    {
     "data": {
      "application/vnd.jupyter.widget-view+json": {
       "model_id": "92d104cecc7f453b956d79b96a0b92f6",
       "version_major": 2,
       "version_minor": 0
      },
      "text/plain": [
       "KeplerGl(data={'data': {'index': [0, 1, 2, 3, 4, 5, 6, 7, 8, 9, 10, 11, 12, 13, 14, 15, 16, 17, 18, 19, 20, 21…"
      ]
     },
     "metadata": {
      "application/vnd.jupyter.widget-view+json": {
       "colab": {
        "custom_widget_manager": {
         "url": "https://ssl.gstatic.com/colaboratory-static/widgets/colab-cdn-widget-manager/2b70e893a8ba7c0f/manager.min.js"
        }
       }
      }
     },
     "output_type": "display_data"
    }
   ],
   "source": [
    "# laplace\n",
    "mu = 0\n",
    "sigma = gps_noise_radius\n",
    "x = np.linspace(mu - 3*sigma, mu + 3*sigma, 100)\n",
    "plt.plot(x, stats.laplace.pdf(x, mu, sigma))\n",
    "plt.show()\n",
    "\n",
    "lat_noise = list(np.random.laplace(0, gps_noise_radius, len(ride)))\n",
    "lon_noise = list(np.random.laplace(0, gps_noise_radius, len(ride)))\n",
    "laplace_ride_r5 = add_noise(lat, lon, lat_noise, lon_noise)\n",
    "plot_noise(lat_noise, lon_noise)\n",
    "visualize_kepler(laplace_ride_r5)"
   ]
  },
  {
   "cell_type": "markdown",
   "metadata": {},
   "source": [
    "<div align=\"center\">\n",
    "  <img src=\"images/7.png\" width=\"1200\" height=\"600\">\n",
    "</div>"
   ]
  },
  {
   "cell_type": "code",
   "execution_count": 29,
   "metadata": {
    "colab": {
     "base_uri": "https://localhost:8080/",
     "height": 1000,
     "referenced_widgets": [
      "7eaed0a2d5e140228155db2592d84b98",
      "5091dbd047e44db2b11e404aac02b7a8"
     ]
    },
    "id": "OVJWzzYBiiFQ",
    "outputId": "ec84fb8f-5aea-4259-a1f5-628038b4668a"
   },
   "outputs": [
    {
     "data": {
      "image/png": "[encoded data removed]",
      "text/plain": [
       "<Figure size 640x480 with 1 Axes>"
      ]
     },
     "metadata": {},
     "output_type": "display_data"
    },
    {
     "data": {
      "image/png": "[encoded data removed]",
      "text/plain": [
       "<Figure size 640x480 with 1 Axes>"
      ]
     },
     "metadata": {},
     "output_type": "display_data"
    },
    {
     "data": {
      "image/png": "[encoded data removed]",
      "text/plain": [
       "<Figure size 640x480 with 1 Axes>"
      ]
     },
     "metadata": {},
     "output_type": "display_data"
    },
    {
     "name": "stdout",
     "output_type": "stream",
     "text": [
      "User Guide: https://docs.kepler.gl/docs/keplergl-jupyter\n"
     ]
    },
    {
     "data": {
      "application/vnd.jupyter.widget-view+json": {
       "model_id": "7eaed0a2d5e140228155db2592d84b98",
       "version_major": 2,
       "version_minor": 0
      },
      "text/plain": [
       "KeplerGl(data={'data': {'index': [0, 1, 2, 3, 4, 5, 6, 7, 8, 9, 10, 11, 12, 13, 14, 15, 16, 17, 18, 19, 20, 21…"
      ]
     },
     "metadata": {
      "application/vnd.jupyter.widget-view+json": {
       "colab": {
        "custom_widget_manager": {
         "url": "https://ssl.gstatic.com/colaboratory-static/widgets/colab-cdn-widget-manager/2b70e893a8ba7c0f/manager.min.js"
        }
       }
      }
     },
     "output_type": "display_data"
    }
   ],
   "source": [
    "# cauchy\n",
    "x = np.linspace(stats.cauchy.ppf(0.01), stats.cauchy.ppf(0.99), 100)\n",
    "plt.plot(x, stats.cauchy.pdf(x), lw=5, alpha=0.6)\n",
    "plt.show()\n",
    "\n",
    "lat_noise = list(np.random.standard_cauchy(len(ride)))\n",
    "lon_noise = list(np.random.standard_cauchy(len(ride)))\n",
    "cauchy_ride = add_noise(lat, lon, lat_noise, lon_noise)\n",
    "plot_noise(lat_noise, lon_noise)\n",
    "visualize_kepler(cauchy_ride)"
   ]
  },
  {
   "cell_type": "markdown",
   "metadata": {},
   "source": [
    "<div align=\"center\">\n",
    "  <img src=\"images/8.png\" width=\"1200\" height=\"600\">\n",
    "</div>"
   ]
  },
  {
   "cell_type": "markdown",
   "metadata": {
    "id": "A5cxGUkf4KOh"
   },
   "source": [
    "**Explanation of my noise model:**\n",
    "\n",
    "Above, I experimented with various bowl-shaped distributions (excluding the uniform distribution). Based on the following reasons, I believe that modeling the GPS noise using these distributions can yield better results:\n",
    "\n",
    "1.owl-shaped distributions exhibit symmetry around their central point. This symmetry implies that positive and negative deviations from the central point are equally likely, making it easier to analyze the data or model.\n",
    "\n",
    "2.Bowl-shaped distributions typically possess a well-defined central tendency, such as a mean or median. This central point provides a measure of the typical or average behavior, which aids in understanding the data as a whole.\n",
    "\n",
    "3.The shape of bowl-shaped distributions reflects a balance between positive and negative values. This balance suggests that extreme values or outliers are less probable, enhancing the stability and predictability of the distribution.\n",
    "\n",
    "Upon comparing the maps and histograms, the following conclusions can be drawn:\n",
    "\n",
    "Normal Distribution:\n",
    "\n",
    "- The normal distribution demonstrates symmetry around its mean, implying that positive and negative deviations from the mean are equally likely. This assumption is reasonable when expecting no bias or systematic shift in any particular direction for the GPS noise.\n",
    "\n",
    "- The normal distribution accommodates a wide range of variability, with tails that extend to infinity. Hence, it is suitable for representing a broad range of GPS noise magnitudes.\n",
    "\n",
    "- Central Limit Theorem: As mentioned earlier, the normal distribution often serves as a good approximation when the GPS noise arises from the aggregation of independent, identically distributed random variables.\n",
    "\n",
    "Uniform Distribution:\n",
    "\n",
    "- The uniform distribution is symmetric and assumes that all values within a certain range are equally likely. However, if the GPS noise is subject to biases or other systematic errors, the uniform distribution may not be suitable.\n",
    "\n",
    "- The uniform distribution assumes a constant and fixed variability. If the GPS noise exhibits varying levels of variability, with certain measurements more likely than others, the uniform distribution may fail to capture this characteristic adequately.\n",
    "\n",
    "Cauchy Distribution:\n",
    "\n",
    "- The Cauchy distribution possesses heavy tails, allowing for extreme outliers. If the GPS noise contains rare extreme values that occur more frequently than expected from a normal distribution, the Cauchy distribution might be a more appropriate choice.\n",
    "\n",
    "- Sensitivity to Outliers: While the Cauchy distribution accommodates extreme values, it is highly sensitive to outliers. A single outlier can significantly impact its shape and properties, which might not align with the characteristics of GPS noise.\n",
    "\n",
    "Laplace Distribution:\n",
    "\n",
    "- The Laplace distribution is symmetric, similar to the normal distribution, but with sharper peaks and thicker tails. If the GPS noise exhibits a slightly higher probability of small deviations from the mean, the Laplace distribution can be an alternative to the normal distribution.\n",
    "\n",
    "- Sparsity and Bimodality: The Laplace distribution can handle sparsity and bimodality, indicating the presence of distinct groups of values or intervals with higher or lower probability density. If the GPS noise exhibits such characteristics, the Laplace distribution may be worth considering.\n",
    "\n",
    "In conclusion, using the normal distribution seems reasonable due to its natural representation, low probabilities for extreme noises, and the ability to capture shifts in points beyond the minimum level."
   ]
  },
  {
   "cell_type": "markdown",
   "metadata": {
    "id": "ijwtglf39JyI"
   },
   "source": [
    "Visualize a sample `ride` and its corresponding `noisy_ride` (using your selected noise model) on the map."
   ]
  },
  {
   "cell_type": "code",
   "execution_count": 30,
   "metadata": {
    "colab": {
     "base_uri": "https://localhost:8080/",
     "height": 771,
     "referenced_widgets": [
      "c04e492c1124480da8861615d65d7e10",
      "18f84be8d8e6498fb71542c36295aac0"
     ]
    },
    "id": "iFcdQOgcnnTq",
    "outputId": "8aafe43b-9c3b-4836-da5d-c7ec08f1aa45"
   },
   "outputs": [
    {
     "name": "stdout",
     "output_type": "stream",
     "text": [
      "User Guide: https://docs.kepler.gl/docs/keplergl-jupyter\n"
     ]
    },
    {
     "data": {
      "application/vnd.jupyter.widget-view+json": {
       "model_id": "c04e492c1124480da8861615d65d7e10",
       "version_major": 2,
       "version_minor": 0
      },
      "text/plain": [
       "KeplerGl(data={'ride': {'index': [0, 1, 2, 3, 4, 5, 6, 7, 8, 9, 10, 11, 12, 13, 14, 15, 16, 17, 18, 19, 20, 21…"
      ]
     },
     "metadata": {
      "application/vnd.jupyter.widget-view+json": {
       "colab": {
        "custom_widget_manager": {
         "url": "https://ssl.gstatic.com/colaboratory-static/widgets/colab-cdn-widget-manager/2b70e893a8ba7c0f/manager.min.js"
        }
       }
      }
     },
     "output_type": "display_data"
    }
   ],
   "source": [
    "normal_df = convert_to_df(normal_ride_r5)\n",
    "map4 = KeplerGl(height=750)\n",
    "map4.add_data(data=df2, name='ride')\n",
    "map4.add_data(data=normal_df, name='noisy ride')\n",
    "map4"
   ]
  },
  {
   "cell_type": "markdown",
   "metadata": {},
   "source": [
    "<div align=\"center\">\n",
    "  <img src=\"images/9.png\" width=\"1200\" height=\"600\">\n",
    "</div>"
   ]
  },
  {
   "cell_type": "markdown",
   "metadata": {
    "id": "PrNNSj6x-DWd"
   },
   "source": [
    "Now, we create our dataset, We create 20 noisy_rides for each trip."
   ]
  },
  {
   "cell_type": "code",
   "execution_count": 31,
   "metadata": {
    "colab": {
     "base_uri": "https://localhost:8080/"
    },
    "id": "FxA8kZXP-DHE",
    "outputId": "87e75848-f1b9-4ade-93ab-7c772eee3296",
    "scrolled": true,
    "tags": []
   },
   "outputs": [
    {
     "data": {
      "text/plain": [
       "[[[35.77526875587595, 51.448062781288726],\n",
       "  [35.77555067210806, 51.44817802523146],\n",
       "  [35.776184688616006, 51.448522383844704],\n",
       "  [35.77673740404307, 51.448663776262734],\n",
       "  [35.777221523145755, 51.44893544967227],\n",
       "  [35.777719078628316, 51.44923583654689],\n",
       "  [35.77821653363855, 51.449486272808905],\n",
       "  [35.77830739222002, 51.44999590964996],\n",
       "  [35.77827440628166, 51.450707375511094],\n",
       "  [35.778297821989, 51.45127540378473],\n",
       "  [35.77835560453834, 51.45209004011258],\n",
       "  [35.77851036698125, 51.4525425714633],\n",
       "  [35.77864493220576, 51.45334867328384],\n",
       "  [35.778684896612226, 51.453931537604774],\n",
       "  [35.77833442739168, 51.45450501638759],\n",
       "  [35.77825397588518, 51.45526310613717],\n",
       "  [35.77799652095278, 51.4558206145822],\n",
       "  [35.77786091730652, 51.45647723328415],\n",
       "  [35.77779731503306, 51.45716004003507],\n",
       "  [35.77756835441406, 51.457682786909984],\n",
       "  [35.77733123453821, 51.45851395895617],\n",
       "  [35.7772547949441, 51.45895912680476],\n",
       "  [35.77699067238197, 51.45957502622617],\n",
       "  [35.77743138341018, 51.4598180452147],\n",
       "  [35.77748220671953, 51.46016188782503],\n",
       "  [35.77731453686252, 51.460850055119955],\n",
       "  [35.777177793898844, 51.46138912078313],\n",
       "  [35.77700518311094, 51.462085484890956],\n",
       "  [35.77762600654909, 51.46223920225756],\n",
       "  [35.77816366479182, 51.46254881145809],\n",
       "  [35.77857044725789, 51.46265686053776],\n",
       "  [35.778717825398715, 51.463097354444585],\n",
       "  [35.77845113164765, 51.463637217957256],\n",
       "  [35.77867779366755, 51.464148164251526],\n",
       "  [35.779150567216405, 51.46423210239716],\n",
       "  [35.77975987462552, 51.464157528270405],\n",
       "  [35.77985683846471, 51.46435093395288]],\n",
       " [[35.7751229947388, 51.44823729848451],\n",
       "  [35.77570635858975, 51.44827834812752],\n",
       "  [35.776154370865804, 51.448561720109836],\n",
       "  [35.77675649464987, 51.44865769271148],\n",
       "  [35.777090870877906, 51.448978949401045],\n",
       "  [35.77763044680991, 51.44917257563334],\n",
       "  [35.77812188168019, 51.449325470293196],\n",
       "  [35.778257703589, 51.44982576495513],\n",
       "  [35.77831412463021, 51.45078420914195],\n",
       "  [35.77827380302053, 51.45131986876127],\n",
       "  [35.77844238377033, 51.4519919489591],\n",
       "  [35.77845874453818, 51.45270830031904],\n",
       "  [35.778525923850246, 51.45334144867632],\n",
       "  [35.778732014681225, 51.45396285791804],\n",
       "  [35.77860091605597, 51.45451136064082],\n",
       "  [35.77819221092166, 51.45522947761829],\n",
       "  [35.778165395705436, 51.45587866373581],\n",
       "  [35.77799447484808, 51.45645603902273],\n",
       "  [35.77775628084968, 51.45721640382834],\n",
       "  [35.77754483656086, 51.45770888408043],\n",
       "  [35.777403763776825, 51.45844086614407],\n",
       "  [35.77726704389831, 51.45901107222358],\n",
       "  [35.77696946122579, 51.45957332759745],\n",
       "  [35.77750799508315, 51.459703108500214],\n",
       "  [35.777557946214564, 51.460236899087484],\n",
       "  [35.77725193183997, 51.46099479869186],\n",
       "  [35.77727083437772, 51.46148939295752],\n",
       "  [35.777113255372065, 51.4621213444318],\n",
       "  [35.77752606742076, 51.46230325948156],\n",
       "  [35.77804549200911, 51.462445914337806],\n",
       "  [35.77856866295254, 51.46273514316828],\n",
       "  [35.77863806483474, 51.46318244119045],\n",
       "  [35.77842015183987, 51.46345602976503],\n",
       "  [35.7786090229356, 51.4641015498045],\n",
       "  [35.779131529590956, 51.46427892868895],\n",
       "  [35.77964104035099, 51.46418032432824],\n",
       "  [35.779784641485755, 51.46438167377556]],\n",
       " [[35.77512809695622, 51.44811736782524],\n",
       "  [35.775581577465836, 51.448101144939834],\n",
       "  [35.7761560540689, 51.44835883473388],\n",
       "  [35.77668054013383, 51.448597109428555],\n",
       "  [35.77706630679594, 51.44881432785701],\n",
       "  [35.77752801534996, 51.44910960336613],\n",
       "  [35.77811535081948, 51.44921448408973],\n",
       "  [35.77835393532886, 51.449974394180245],\n",
       "  [35.778191909035876, 51.45071624607875],\n",
       "  [35.77835291553561, 51.45129718537061],\n",
       "  [35.77833822086178, 51.45191372858989],\n",
       "  [35.7784819547109, 51.452695130656124],\n",
       "  [35.77859946388143, 51.45340525880139],\n",
       "  [35.77863854394812, 51.45395605520856],\n",
       "  [35.77835087413491, 51.45457892328153],\n",
       "  [35.7782842672093, 51.455222906089915],\n",
       "  [35.77806456983597, 51.455806468187404],\n",
       "  [35.777951806093235, 51.45636179234322],\n",
       "  [35.77773439401528, 51.45707468938332],\n",
       "  [35.777649646368694, 51.4576471415109],\n",
       "  [35.777358423659905, 51.45841634887795],\n",
       "  [35.77722689004225, 51.45892067322633],\n",
       "  [35.77696940444183, 51.45956270663807],\n",
       "  [35.777572123899326, 51.45975457433476],\n",
       "  [35.777474951906385, 51.46027599461539],\n",
       "  [35.777364367896986, 51.4609374331431],\n",
       "  [35.777146429389575, 51.461475523112924],\n",
       "  [35.7770418190211, 51.462047561816455],\n",
       "  [35.7775436078869, 51.46224923511774],\n",
       "  [35.778060023589546, 51.46250524325576],\n",
       "  [35.778498527014364, 51.46276962997696],\n",
       "  [35.77869956939918, 51.463231959959444],\n",
       "  [35.77852338037068, 51.46356736782266],\n",
       "  [35.778636870330644, 51.464175222011384],\n",
       "  [35.77918795254411, 51.46432521929069],\n",
       "  [35.77959896148339, 51.46436569027981],\n",
       "  [35.77981338138116, 51.46448382635521]],\n",
       " [[35.775106714064535, 51.44802148774323],\n",
       "  [35.7755905351491, 51.44824967146616],\n",
       "  [35.77612055189287, 51.44837954859201],\n",
       "  [35.77656053298892, 51.44872972848785],\n",
       "  [35.77715543412214, 51.44884529060335],\n",
       "  [35.77775964458241, 51.449072152528394],\n",
       "  [35.77800648409873, 51.449323371758595],\n",
       "  [35.778201339132494, 51.44997454466384],\n",
       "  [35.77820955199527, 51.45072572508409],\n",
       "  [35.7782470091414, 51.45136828782682],\n",
       "  [35.778375316388406, 51.451977036653425],\n",
       "  [35.77865154999879, 51.452630312251756],\n",
       "  [35.778689366922166, 51.45334319020933],\n",
       "  [35.77860306625603, 51.453977598047636],\n",
       "  [35.77836364321369, 51.45454322217656],\n",
       "  [35.77821454945526, 51.455308484441964],\n",
       "  [35.778055090323605, 51.45588725083859],\n",
       "  [35.77779407897352, 51.456405107752545],\n",
       "  [35.77772216053344, 51.45701457302161],\n",
       "  [35.77753713521882, 51.457794666113955],\n",
       "  [35.77734677789801, 51.45831960313302],\n",
       "  [35.77718026155272, 51.45881687383604],\n",
       "  [35.777022016360014, 51.45974308383812],\n",
       "  [35.777455405905386, 51.45971396997819],\n",
       "  [35.77755869264809, 51.460203443900255],\n",
       "  [35.77733546321129, 51.46085326067833],\n",
       "  [35.77727145813565, 51.461594596002556],\n",
       "  [35.777026555434915, 51.46199526963377],\n",
       "  [35.777520320527024, 51.46234345522298],\n",
       "  [35.77809155147255, 51.462440967309604],\n",
       "  [35.778599451850894, 51.46278761020777],\n",
       "  [35.77862522133138, 51.46332517834876],\n",
       "  [35.778651045551, 51.46351654606632],\n",
       "  [35.778640783545605, 51.46410451552433],\n",
       "  [35.77916534548266, 51.46431737086578],\n",
       "  [35.779608980621425, 51.46419833653093],\n",
       "  [35.77980431175841, 51.464458913455495]],\n",
       " [[35.775058726124215, 51.44798304098575],\n",
       "  [35.77563280582935, 51.44815678506671],\n",
       "  [35.77618033982546, 51.44842098219557],\n",
       "  [35.77653877055985, 51.448637285834685],\n",
       "  [35.77701265801062, 51.44879184800908],\n",
       "  [35.777668887972176, 51.449068636275946],\n",
       "  [35.77814446573524, 51.449402739607855],\n",
       "  [35.77815425074467, 51.44987629989067],\n",
       "  [35.778285869211615, 51.45073941501133],\n",
       "  [35.77834171284203, 51.45140537556755],\n",
       "  [35.77850028307738, 51.45208427902556],\n",
       "  [35.77846021462945, 51.45271121157142],\n",
       "  [35.77863328766717, 51.45340055534379],\n",
       "  [35.778577901398556, 51.453863493092946],\n",
       "  [35.77841705202589, 51.45456867649729],\n",
       "  [35.778239353267125, 51.455140130041976],\n",
       "  [35.77809326589232, 51.45601115888839],\n",
       "  [35.778068001364595, 51.45639095974908],\n",
       "  [35.77782681988078, 51.45703877553917],\n",
       "  [35.77761787593824, 51.45783503410739],\n",
       "  [35.77744178222146, 51.458328888914465],\n",
       "  [35.77712525759979, 51.45896536528045],\n",
       "  [35.777034030152095, 51.45967552180698],\n",
       "  [35.77743092303053, 51.459773607934814],\n",
       "  [35.777500831526105, 51.46021232185915],\n",
       "  [35.777185773692885, 51.46078720904807],\n",
       "  [35.777218615258526, 51.461564594794496],\n",
       "  [35.77699136593682, 51.462140982632405],\n",
       "  [35.777489301657404, 51.462159242425145],\n",
       "  [35.77804737420295, 51.46252522351982],\n",
       "  [35.77858746180538, 51.462691586912506],\n",
       "  [35.77859793625965, 51.46310978077011],\n",
       "  [35.778536580973885, 51.46366490382093],\n",
       "  [35.778560094709434, 51.46424964639868],\n",
       "  [35.77911769816994, 51.46424870353431],\n",
       "  [35.77972132979956, 51.46427422522908],\n",
       "  [35.77982986878723, 51.46435031268018]],\n",
       " [[35.775246258911515, 51.44793887002058],\n",
       "  [35.775728154938044, 51.44824214372256],\n",
       "  [35.77615537603543, 51.44835892389175],\n",
       "  [35.7767615853925, 51.44853143569667],\n",
       "  [35.777142916912965, 51.44894241111763],\n",
       "  [35.777640624849305, 51.44921911023129],\n",
       "  [35.778041115309364, 51.44934289386772],\n",
       "  [35.77822663068139, 51.450179658878504],\n",
       "  [35.77828581476732, 51.45052802589898],\n",
       "  [35.77831920345874, 51.4512346277212],\n",
       "  [35.7784510066868, 51.45204704933669],\n",
       "  [35.778467009753896, 51.452662208167304],\n",
       "  [35.77850780952178, 51.453303146379724],\n",
       "  [35.778640169780445, 51.45407406253327],\n",
       "  [35.77846695102091, 51.45459033335709],\n",
       "  [35.77831831586572, 51.45527174017869],\n",
       "  [35.77808120245077, 51.45588611209374],\n",
       "  [35.777955865229515, 51.45644901999631],\n",
       "  [35.77783711228952, 51.45709693320707],\n",
       "  [35.7775576669487, 51.457903264293876],\n",
       "  [35.7774116104654, 51.458284137360586],\n",
       "  [35.77721116177343, 51.45888828719231],\n",
       "  [35.776963127070765, 51.45956011649265],\n",
       "  [35.777473288289464, 51.45980235050017],\n",
       "  [35.77752881337026, 51.4603036293523],\n",
       "  [35.77740817042579, 51.46081129446655],\n",
       "  [35.77717068186994, 51.46149271111081],\n",
       "  [35.777127664776124, 51.4622595046745],\n",
       "  [35.777503893209975, 51.46241205749474],\n",
       "  [35.778111450167565, 51.46256728440596],\n",
       "  [35.77859755417663, 51.462771588551306],\n",
       "  [35.77869919587793, 51.4632031283877],\n",
       "  [35.77857581327046, 51.46347302280008],\n",
       "  [35.77862289612995, 51.464144555547826],\n",
       "  [35.779160020359164, 51.46424796967657],\n",
       "  [35.77953272172651, 51.46423127498341],\n",
       "  [35.77983244229086, 51.464502478225015]],\n",
       " [[35.77505146831055, 51.44800606089904],\n",
       "  [35.77565947955917, 51.44813659691437],\n",
       "  [35.77607727066006, 51.448570985755595],\n",
       "  [35.7766828257569, 51.44873710593143],\n",
       "  [35.777210849663454, 51.448755585628476],\n",
       "  [35.777594114851006, 51.44910079539168],\n",
       "  [35.77807344380177, 51.44942348232051],\n",
       "  [35.77820668637131, 51.45007390530379],\n",
       "  [35.7783359328362, 51.45078212714312],\n",
       "  [35.77836851634536, 51.45137769153948],\n",
       "  [35.77828416133726, 51.451930016259105],\n",
       "  [35.77851772404838, 51.45258761865392],\n",
       "  [35.77855186817654, 51.45328137176613],\n",
       "  [35.77868744477196, 51.45399276264321],\n",
       "  [35.77842680926873, 51.45474077640085],\n",
       "  [35.77831373939739, 51.45523891428452],\n",
       "  [35.77808117356677, 51.455943964094274],\n",
       "  [35.77796081714429, 51.45662938988684],\n",
       "  [35.77782428932165, 51.45722105257315],\n",
       "  [35.777680639551825, 51.45772608067459],\n",
       "  [35.77741526099061, 51.45836166120129],\n",
       "  [35.77732813046003, 51.458964786829455],\n",
       "  [35.77701605573231, 51.45969415959212],\n",
       "  [35.777400754862235, 51.45973765012883],\n",
       "  [35.77752195748402, 51.4603121883275],\n",
       "  [35.77726956595437, 51.46082655418671],\n",
       "  [35.77697140997532, 51.461484926171856],\n",
       "  [35.77702498158326, 51.4620811237903],\n",
       "  [35.7776169763261, 51.462291715860765],\n",
       "  [35.778037680629936, 51.46250809017931],\n",
       "  [35.77859780427246, 51.46270730330434],\n",
       "  [35.77861823467562, 51.46312082222244],\n",
       "  [35.778486690313045, 51.46343304095968],\n",
       "  [35.778693820718864, 51.46423330586599],\n",
       "  [35.779082564317875, 51.46433032335281],\n",
       "  [35.77958781938084, 51.464306535868545],\n",
       "  [35.77986967536881, 51.46451476901939]],\n",
       " [[35.77508150922173, 51.447896283944935],\n",
       "  [35.7756643152719, 51.44818155718271],\n",
       "  [35.776224984021866, 51.448377656579154],\n",
       "  [35.776583105442405, 51.44865096928718],\n",
       "  [35.777121299468476, 51.44881810435093],\n",
       "  [35.77765609493931, 51.4490005477141],\n",
       "  [35.77806421146005, 51.4494265741682],\n",
       "  [35.77820845865785, 51.45009922823357],\n",
       "  [35.77830150343801, 51.450642630601465],\n",
       "  [35.77845781569163, 51.451312383474765],\n",
       "  [35.77844376725472, 51.45192181730716],\n",
       "  [35.778619500975665, 51.45262075537066],\n",
       "  [35.77865812579842, 51.453323931404164],\n",
       "  [35.77852718084801, 51.45388488713868],\n",
       "  [35.77835344428994, 51.454640533897766],\n",
       "  [35.77837661810843, 51.45529136479227],\n",
       "  [35.7780367996566, 51.455853466977956],\n",
       "  [35.77794590462645, 51.45665480521727],\n",
       "  [35.777836924854974, 51.45729072128393],\n",
       "  [35.777504433591815, 51.45785049788104],\n",
       "  [35.77739544058957, 51.45843148719574],\n",
       "  [35.77723010283763, 51.45913472758077],\n",
       "  [35.77701519023744, 51.45953095568514],\n",
       "  [35.777536723474526, 51.459728207444584],\n",
       "  [35.77751677896099, 51.46022013564546],\n",
       "  [35.77735039245864, 51.46082165622705],\n",
       "  [35.777215150644466, 51.461517877270495],\n",
       "  [35.77714626646546, 51.46208557550936],\n",
       "  [35.77762916269837, 51.46233078515261],\n",
       "  [35.778066187190284, 51.462472880314564],\n",
       "  [35.77860224020384, 51.462831535256186],\n",
       "  [35.77860756710851, 51.463134782223335],\n",
       "  [35.778673314931005, 51.463531955406474],\n",
       "  [35.77868211870914, 51.46410943255932],\n",
       "  [35.77906448856406, 51.46425234006983],\n",
       "  [35.77976148976856, 51.464282309397746],\n",
       "  [35.77988668290403, 51.46443609653023]],\n",
       " [[35.775102521013835, 51.447992582611604],\n",
       "  [35.77548596961747, 51.44822143619999],\n",
       "  [35.77614735034453, 51.44835895415613],\n",
       "  [35.77659827114773, 51.448579589663126],\n",
       "  [35.77711610180871, 51.448809536200855],\n",
       "  [35.7775703871929, 51.44916546749593],\n",
       "  [35.77807353939275, 51.44924572178837],\n",
       "  [35.77812936318175, 51.45000702772115],\n",
       "  [35.778242794768325, 51.45061179363547],\n",
       "  [35.77827904409962, 51.451401745454966],\n",
       "  [35.778423290981806, 51.4520372829162],\n",
       "  [35.778440769353196, 51.45270173639968],\n",
       "  [35.778659579170935, 51.45335868339171],\n",
       "  [35.77855452186685, 51.45402887924301],\n",
       "  [35.77835662485024, 51.45455839263746],\n",
       "  [35.778173387617414, 51.4551820226027],\n",
       "  [35.778083818304374, 51.45579041036302],\n",
       "  [35.77800186589345, 51.45640874956841],\n",
       "  [35.777778543370694, 51.45722503474096],\n",
       "  [35.77765477706149, 51.457824188836845],\n",
       "  [35.7774118005003, 51.45839046527602],\n",
       "  [35.777222657674464, 51.45899538534508],\n",
       "  [35.7770415557282, 51.45955970116737],\n",
       "  [35.77743079714209, 51.459737328522266],\n",
       "  [35.77751569888934, 51.460285478883954],\n",
       "  [35.77732524714095, 51.46084856438334],\n",
       "  [35.77722411038602, 51.461351842190844],\n",
       "  [35.777098492064596, 51.461938284001995],\n",
       "  [35.77752433051792, 51.46234680521948],\n",
       "  [35.77804440275144, 51.46250561332015],\n",
       "  [35.77856734575113, 51.46265556562233],\n",
       "  [35.778591785105206, 51.46310450268459],\n",
       "  [35.778571564297984, 51.463579585722236],\n",
       "  [35.77861255222997, 51.464172642506156],\n",
       "  [35.77909544463868, 51.46432099015751],\n",
       "  [35.779634020518145, 51.464235187912536],\n",
       "  [35.779838699387206, 51.46446906846618]],\n",
       " [[35.77510261304321, 51.44797096207944],\n",
       "  [35.775643458758864, 51.44831441928536],\n",
       "  [35.776111048127845, 51.44837636817254],\n",
       "  [35.77665412636347, 51.44870325967728],\n",
       "  [35.77717820082602, 51.448869155125095],\n",
       "  [35.777629651476296, 51.449260933795685],\n",
       "  [35.77813276348082, 51.449348420882586],\n",
       "  [35.778227731134656, 51.450024769291],\n",
       "  [35.77816717634866, 51.450816686664076],\n",
       "  [35.77838238312891, 51.451495358960535],\n",
       "  [35.77829233986406, 51.45215993682166],\n",
       "  [35.778516463112396, 51.452603748218856],\n",
       "  [35.778561315060806, 51.453223007427795],\n",
       "  [35.77858919781354, 51.45401057345176],\n",
       "  [35.77848550033045, 51.454644993519615],\n",
       "  [35.778231697552194, 51.45525380818761],\n",
       "  [35.77801748201523, 51.455804012247185],\n",
       "  [35.77790872120438, 51.456479851889114],\n",
       "  [35.77780878051304, 51.45719105964085],\n",
       "  [35.777603644133315, 51.45784875714954],\n",
       "  [35.777401634419164, 51.45841700104089],\n",
       "  [35.777127081192425, 51.458879784458624],\n",
       "  [35.776998138886675, 51.45958250265381],\n",
       "  [35.777516565617795, 51.45980887453331],\n",
       "  [35.77759848821055, 51.460163162497516],\n",
       "  [35.77738453267421, 51.460763917463055],\n",
       "  [35.77714897876062, 51.46153328338016],\n",
       "  [35.77702077746271, 51.46219818175205],\n",
       "  [35.777482051980485, 51.46223092312278],\n",
       "  [35.77804547124466, 51.462473307434536],\n",
       "  [35.77868043917199, 51.462616836307504],\n",
       "  [35.77858596252164, 51.46317348146488],\n",
       "  [35.77859642824281, 51.463522167504365],\n",
       "  [35.778587789598056, 51.464143616975775],\n",
       "  [35.77904685422033, 51.46441873230297],\n",
       "  [35.779596516838815, 51.46433441795624],\n",
       "  [35.77981609802444, 51.46452143207628]],\n",
       " [[35.775050320964915, 51.44783235077404],\n",
       "  [35.77561521521465, 51.448154972958214],\n",
       "  [35.776150171697566, 51.4484734654371],\n",
       "  [35.776659551869784, 51.44864145264316],\n",
       "  [35.777115756523365, 51.44882181495281],\n",
       "  [35.777642531143826, 51.44916425509489],\n",
       "  [35.77810209191541, 51.44934933285796],\n",
       "  [35.77822876067778, 51.45011295266961],\n",
       "  [35.77832595381762, 51.4506660965414],\n",
       "  [35.778317540050814, 51.451455059175046],\n",
       "  [35.77840227553021, 51.45196926947227],\n",
       "  [35.77844572335193, 51.452673708558144],\n",
       "  [35.778424867861155, 51.453273402007525],\n",
       "  [35.77851629664532, 51.4538207115642],\n",
       "  [35.77845519554066, 51.45465449633101],\n",
       "  [35.77825125222828, 51.45532297741603],\n",
       "  [35.77806416757883, 51.455898641848904],\n",
       "  [35.77792100327946, 51.45637693882133],\n",
       "  [35.77769374569791, 51.457094412532015],\n",
       "  [35.77779528725959, 51.457867070222555],\n",
       "  [35.77746341732822, 51.458440673081924],\n",
       "  [35.77711247261818, 51.45896020848498],\n",
       "  [35.77702108256748, 51.459748291959976],\n",
       "  [35.777459193498075, 51.459802878529466],\n",
       "  [35.77747953754629, 51.460072746678506],\n",
       "  [35.77735246522115, 51.46088765731812],\n",
       "  [35.77720389091296, 51.461539044375385],\n",
       "  [35.77702636872862, 51.46213838551174],\n",
       "  [35.777467862349546, 51.462321002642035],\n",
       "  [35.778129664835774, 51.46241180219756],\n",
       "  [35.77857594695764, 51.4627612415748],\n",
       "  [35.77862712174019, 51.46297015459992],\n",
       "  [35.778515841237486, 51.4636624338523],\n",
       "  [35.7787099691383, 51.464120050737],\n",
       "  [35.77911676572829, 51.46433166822236],\n",
       "  [35.77967832146044, 51.4641758187134],\n",
       "  [35.779744851514145, 51.464429745388706]],\n",
       " [[35.77513149860187, 51.447910286530956],\n",
       "  [35.77562241440223, 51.44819539458868],\n",
       "  [35.776117857083975, 51.44848121450541],\n",
       "  [35.77654525467489, 51.448652949014104],\n",
       "  [35.77730132535738, 51.4488993239471],\n",
       "  [35.77760797953133, 51.44922669721224],\n",
       "  [35.77820879105191, 51.44929067286709],\n",
       "  [35.77820918349574, 51.45004180057675],\n",
       "  [35.778339784380705, 51.45060850379553],\n",
       "  [35.77832156703231, 51.45142565537724],\n",
       "  [35.778337237861614, 51.45202175007834],\n",
       "  [35.77852197468138, 51.45267899594726],\n",
       "  [35.77863470148499, 51.45325346771487],\n",
       "  [35.7785924852033, 51.454074799144465],\n",
       "  [35.7783711629571, 51.454585133357696],\n",
       "  [35.77825245899788, 51.455344461329254],\n",
       "  [35.778122809982186, 51.45594901538688],\n",
       "  [35.777975178205686, 51.4565843747961],\n",
       "  [35.77768140095491, 51.45713282164773],\n",
       "  [35.777549854761844, 51.457760942218044],\n",
       "  [35.777297432025314, 51.45825416037328],\n",
       "  [35.777263112216474, 51.458905858975726],\n",
       "  [35.777103746771715, 51.45957999467512],\n",
       "  [35.7773949544407, 51.45978322269739],\n",
       "  [35.77755799831826, 51.46006294528964],\n",
       "  [35.777282812114606, 51.4608415574866],\n",
       "  [35.77710366518564, 51.46146820611819],\n",
       "  [35.77709035930794, 51.462133285211266],\n",
       "  [35.77759065007751, 51.46243722704888],\n",
       "  [35.77805550579858, 51.46256657502015],\n",
       "  [35.77855823838659, 51.462752069566214],\n",
       "  [35.778712695627775, 51.463244851154556],\n",
       "  [35.77862272398249, 51.46354762894884],\n",
       "  [35.778813329599686, 51.46410534315296],\n",
       "  [35.77902220995909, 51.46423373010941],\n",
       "  [35.77962378425562, 51.46435868305312],\n",
       "  [35.77983784677363, 51.46451100183523]],\n",
       " [[35.77519127494802, 51.447863983596235],\n",
       "  [35.77562606231925, 51.44825730739874],\n",
       "  [35.77613111558828, 51.44841629232983],\n",
       "  [35.77665945883986, 51.44867125108183],\n",
       "  [35.77716191220226, 51.448797272988735],\n",
       "  [35.77763037139005, 51.44909633495308],\n",
       "  [35.7782273117176, 51.44941593730179],\n",
       "  [35.77813760189857, 51.44995751652578],\n",
       "  [35.77836411193379, 51.450841816707204],\n",
       "  [35.77841164797597, 51.45117516709182],\n",
       "  [35.77831619105883, 51.45198464127518],\n",
       "  [35.77853519619792, 51.45267176389302],\n",
       "  [35.77856067565366, 51.45320745784015],\n",
       "  [35.778654764318304, 51.453923977216085],\n",
       "  [35.77842810435266, 51.454553583368174],\n",
       "  [35.77820755920716, 51.45518326842092],\n",
       "  [35.77813621721911, 51.455893169357346],\n",
       "  [35.77798572439997, 51.45646010538494],\n",
       "  [35.777723326751165, 51.45719920296821],\n",
       "  [35.77764003802292, 51.457831836693124],\n",
       "  [35.77733452843803, 51.458358091865406],\n",
       "  [35.777268822740815, 51.4590297226316],\n",
       "  [35.77699465538758, 51.45944286440702],\n",
       "  [35.777448058575985, 51.459618423886404],\n",
       "  [35.7774547566614, 51.46017512320033],\n",
       "  [35.77742443401948, 51.46095735119041],\n",
       "  [35.77718522336677, 51.461437657204634],\n",
       "  [35.776970595171605, 51.46218464830433],\n",
       "  [35.77754210156097, 51.462371467705644],\n",
       "  [35.77820276714722, 51.4626022743103],\n",
       "  [35.77865267528329, 51.4626843335109],\n",
       "  [35.77862295255899, 51.463097747898146],\n",
       "  [35.77856895498856, 51.46359931263377],\n",
       "  [35.77861748171428, 51.46420071161933],\n",
       "  [35.77904799540733, 51.46432762521971],\n",
       "  [35.77968135989586, 51.46424617775344],\n",
       "  [35.779898294919896, 51.464586408651414]],\n",
       " [[35.77507096685459, 51.448002650520166],\n",
       "  [35.77563269629871, 51.448214007134005],\n",
       "  [35.77618077049374, 51.44833998983491],\n",
       "  [35.77660266129017, 51.44869791665397],\n",
       "  [35.77719708978007, 51.44897188058551],\n",
       "  [35.77759963464889, 51.44914051489858],\n",
       "  [35.77813083577297, 51.4493109734465],\n",
       "  [35.77812758310624, 51.449892516803274],\n",
       "  [35.778267883053495, 51.45069015589016],\n",
       "  [35.77840016415612, 51.451306333007],\n",
       "  [35.77853489254787, 51.452021342320826],\n",
       "  [35.77837526855408, 51.45277470158697],\n",
       "  [35.77866495251916, 51.45326868632488],\n",
       "  [35.77860787143544, 51.45413800268703],\n",
       "  [35.77851346150755, 51.45462707220102],\n",
       "  [35.77824932455228, 51.45524131852942],\n",
       "  [35.777987580367196, 51.455910996606555],\n",
       "  [35.778005672046326, 51.45642871715505],\n",
       "  [35.77780256460311, 51.45713174855727],\n",
       "  [35.77751918809784, 51.45773644268749],\n",
       "  [35.7772802462613, 51.458402967965085],\n",
       "  [35.777242789190154, 51.459013547007686],\n",
       "  [35.77689984602028, 51.45958938708518],\n",
       "  [35.77751444095947, 51.45989774153714],\n",
       "  [35.77750360837947, 51.460267923367844],\n",
       "  [35.77738871180045, 51.46092815615241],\n",
       "  [35.777216119504786, 51.4614816133917],\n",
       "  [35.777022742605425, 51.462038787833976],\n",
       "  [35.77754562415899, 51.462400567202614],\n",
       "  [35.77807487520912, 51.4625360015153],\n",
       "  [35.77862301356739, 51.46269244102624],\n",
       "  [35.77853428532037, 51.46302876688301],\n",
       "  [35.77849381492124, 51.46368539247932],\n",
       "  [35.77863910051501, 51.46412672389465],\n",
       "  [35.779059176587616, 51.46420740403823],\n",
       "  [35.77965300951715, 51.464326803502786],\n",
       "  [35.780001631924996, 51.46455911671269]],\n",
       " [[35.77504230731205, 51.44806247341623],\n",
       "  [35.77574250004332, 51.44814083705796],\n",
       "  [35.776040566029955, 51.448504249601356],\n",
       "  [35.77663877606734, 51.44869646542736],\n",
       "  [35.777121514826376, 51.448907603628946],\n",
       "  [35.77764697454211, 51.449036637604166],\n",
       "  [35.778130897068635, 51.44929778127609],\n",
       "  [35.77832967073111, 51.450003307747416],\n",
       "  [35.778216204719854, 51.45059800931271],\n",
       "  [35.77827242224494, 51.45128740306769],\n",
       "  [35.778312131444984, 51.45203145430631],\n",
       "  [35.77855140511184, 51.45258211330189],\n",
       "  [35.77857907394668, 51.453254004132816],\n",
       "  [35.7785768224986, 51.45410610474532],\n",
       "  [35.77835013840193, 51.45462514098614],\n",
       "  [35.7783447278921, 51.45528608232593],\n",
       "  [35.77803923391564, 51.45588218315297],\n",
       "  [35.77793709278326, 51.45643369647468],\n",
       "  [35.77767303483605, 51.45711949027843],\n",
       "  [35.77758596115956, 51.45774506774639],\n",
       "  [35.77742977987356, 51.45844912719546],\n",
       "  [35.777342801610764, 51.459040859785475],\n",
       "  [35.77696488720213, 51.45953213769961],\n",
       "  [35.777555616167646, 51.45970116698569],\n",
       "  [35.77745576150662, 51.46026094148987],\n",
       "  [35.77732704420772, 51.4609051577524],\n",
       "  [35.77727366051845, 51.46140670726218],\n",
       "  [35.77701506846318, 51.46213990443894],\n",
       "  [35.77752152932852, 51.46232422323799],\n",
       "  [35.77806840815679, 51.46259735837984],\n",
       "  [35.77875968152804, 51.46265240964759],\n",
       "  [35.77860986678071, 51.46299167636229],\n",
       "  [35.77865825942904, 51.46354973984171],\n",
       "  [35.77871463614662, 51.46413908340058],\n",
       "  [35.778954561226435, 51.464363036015996],\n",
       "  [35.77957975579936, 51.464148366209756],\n",
       "  [35.77995487841262, 51.46454364116603]],\n",
       " [[35.77501431765291, 51.44782972911973],\n",
       "  [35.77565003445581, 51.448270112396926],\n",
       "  [35.77609285022173, 51.44829072053585],\n",
       "  [35.77650254169003, 51.448570044555545],\n",
       "  [35.77716137843783, 51.448783660957],\n",
       "  [35.77763579129826, 51.44896895486739],\n",
       "  [35.77808450966617, 51.449471067387975],\n",
       "  [35.77821851223673, 51.44988502706941],\n",
       "  [35.7782765299482, 51.45068416685007],\n",
       "  [35.77839082069262, 51.45145527092038],\n",
       "  [35.77846230619152, 51.45202262452022],\n",
       "  [35.77833922136699, 51.452798314762916],\n",
       "  [35.77862287858202, 51.453165077396356],\n",
       "  [35.77847048437257, 51.45388778445415],\n",
       "  [35.77846864018941, 51.45472897169971],\n",
       "  [35.778144582858054, 51.45532406345062],\n",
       "  [35.77805391785972, 51.45583457276969],\n",
       "  [35.77784931714361, 51.45646601395286],\n",
       "  [35.77774229796238, 51.457142150366224],\n",
       "  [35.77750495402977, 51.457755110280864],\n",
       "  [35.77750140694542, 51.45828006953322],\n",
       "  [35.77735421789685, 51.459114119388914],\n",
       "  [35.777085299653216, 51.459619145485256],\n",
       "  [35.77750478867102, 51.45989010746661],\n",
       "  [35.777515885785874, 51.46022233891321],\n",
       "  [35.77730844152423, 51.460875019421],\n",
       "  [35.77719814289154, 51.461568610952284],\n",
       "  [35.777021889047774, 51.462089126186996],\n",
       "  [35.77747330185019, 51.46232574232539],\n",
       "  [35.778069947643594, 51.462608281859936],\n",
       "  [35.77856017839319, 51.46268623066127],\n",
       "  [35.778545396786555, 51.46309802602416],\n",
       "  [35.778574141242956, 51.46353994155308],\n",
       "  [35.77872042706126, 51.4640192936159],\n",
       "  [35.77916798873388, 51.464335463783414],\n",
       "  [35.779646244218085, 51.46428404120998],\n",
       "  [35.77980215412548, 51.46438632814254]],\n",
       " [[35.77518969613124, 51.44795834350942],\n",
       "  [35.77560535565502, 51.4481956940005],\n",
       "  [35.77614744578059, 51.448352281093136],\n",
       "  [35.77663907641564, 51.448545019024166],\n",
       "  [35.77713372064937, 51.44900629441296],\n",
       "  [35.777692009583966, 51.449161759506595],\n",
       "  [35.778224938422476, 51.44940586237192],\n",
       "  [35.778347290759925, 51.45003611387012],\n",
       "  [35.77831382292705, 51.45061222782472],\n",
       "  [35.77824942298785, 51.451276995167],\n",
       "  [35.77850955472572, 51.452065770115546],\n",
       "  [35.77850862572244, 51.45258103960809],\n",
       "  [35.77860383162309, 51.45325754250392],\n",
       "  [35.778575006423324, 51.45395399051309],\n",
       "  [35.77837609436595, 51.45468835432146],\n",
       "  [35.77819747248907, 51.45516928923192],\n",
       "  [35.777946415826776, 51.45592188873861],\n",
       "  [35.777811108648216, 51.456450100878456],\n",
       "  [35.777632163245606, 51.457167813136415],\n",
       "  [35.77754039066892, 51.45781207529116],\n",
       "  [35.77741138787209, 51.458331921353334],\n",
       "  [35.77726222665259, 51.45878326836545],\n",
       "  [35.777012801685416, 51.45979016423963],\n",
       "  [35.77745546922099, 51.459976892982745],\n",
       "  [35.77757203885352, 51.46019130231305],\n",
       "  [35.77737909226363, 51.460866336489495],\n",
       "  [35.77714195693733, 51.461476773526456],\n",
       "  [35.77704321449833, 51.4620525907329],\n",
       "  [35.77751122212582, 51.46216898719791],\n",
       "  [35.77797869121003, 51.46240103090258],\n",
       "  [35.77863965699471, 51.46267916084715],\n",
       "  [35.778669007666224, 51.46320193793157],\n",
       "  [35.77851525783883, 51.463528888177905],\n",
       "  [35.77862528603936, 51.46418893538937],\n",
       "  [35.77917703984613, 51.464277929519874],\n",
       "  [35.779701433531805, 51.46420788381055],\n",
       "  [35.779933572014734, 51.46434056393657]],\n",
       " [[35.77519555680719, 51.44798755655002],\n",
       "  [35.77551770301248, 51.4482438651847],\n",
       "  [35.77626009115333, 51.44849425822174],\n",
       "  [35.776570007036625, 51.44867778845408],\n",
       "  [35.777223412838396, 51.448807040673735],\n",
       "  [35.77760297988834, 51.44910297169388],\n",
       "  [35.77824885558614, 51.449145666687585],\n",
       "  [35.778209101738994, 51.45021685031767],\n",
       "  [35.7782147236043, 51.4506402603636],\n",
       "  [35.77835254461059, 51.451450344706316],\n",
       "  [35.77837130281708, 51.452022271902834],\n",
       "  [35.77857068523596, 51.45284182095842],\n",
       "  [35.77849628360421, 51.453303221889925],\n",
       "  [35.77862139225732, 51.45391446314102],\n",
       "  [35.77847099446508, 51.45450765851543],\n",
       "  [35.77838466046593, 51.45525057222069],\n",
       "  [35.77799181566353, 51.45583455332531],\n",
       "  [35.777988921840866, 51.45637995266583],\n",
       "  [35.77777476467705, 51.45700749369798],\n",
       "  [35.77748964170779, 51.45772826725239],\n",
       "  [35.777407050858784, 51.45835086032476],\n",
       "  [35.77725596812122, 51.45895721190097],\n",
       "  [35.77696645480249, 51.45959297526032],\n",
       "  [35.77753873553825, 51.45980034315976],\n",
       "  [35.7775729990528, 51.46021092223069],\n",
       "  [35.77740138624309, 51.460842526790024],\n",
       "  [35.777259310020035, 51.461500598059544],\n",
       "  [35.77707676887311, 51.46204694612678],\n",
       "  [35.77751154328553, 51.46219816096471],\n",
       "  [35.778042638562106, 51.46241848430646],\n",
       "  [35.778553605644916, 51.46262399689153],\n",
       "  [35.778637403823765, 51.46319586957027],\n",
       "  [35.77856013235149, 51.46348399142449],\n",
       "  [35.778603908588515, 51.46412382049571],\n",
       "  [35.77895860641282, 51.46422183040027],\n",
       "  [35.77964353906329, 51.46428503229526],\n",
       "  [35.77988092606445, 51.4643585041986]],\n",
       " [[35.7751248720889, 51.447926839870306],\n",
       "  [35.77568490317279, 51.44821845132642],\n",
       "  [35.77610166833695, 51.44838012191211],\n",
       "  [35.77666513692327, 51.44871793375108],\n",
       "  [35.777078965580124, 51.44893678560329],\n",
       "  [35.77768051845479, 51.449051145947244],\n",
       "  [35.778232398085855, 51.449448300089436],\n",
       "  [35.77824052514505, 51.45004652676101],\n",
       "  [35.778218321520086, 51.45073877110949],\n",
       "  [35.77839346333605, 51.45133140442403],\n",
       "  [35.77843943763667, 51.451941060585746],\n",
       "  [35.778544944926445, 51.45276327657376],\n",
       "  [35.778483413090456, 51.453247098511106],\n",
       "  [35.77862642919094, 51.45395142030281],\n",
       "  [35.77837081813709, 51.454584884609496],\n",
       "  [35.778290717447035, 51.455286842039804],\n",
       "  [35.778054468352785, 51.455811424571465],\n",
       "  [35.77804381264247, 51.45652703220934],\n",
       "  [35.777874233187944, 51.45715957065603],\n",
       "  [35.77750159339101, 51.457750073143565],\n",
       "  [35.777369076337905, 51.4583610641099],\n",
       "  [35.77716514577893, 51.459064676178684],\n",
       "  [35.77700243265739, 51.459597586883085],\n",
       "  [35.777503649943036, 51.459658346855946],\n",
       "  [35.7774530375256, 51.46015801529063],\n",
       "  [35.77737426757226, 51.46077670459304],\n",
       "  [35.77734977038056, 51.4613840461867],\n",
       "  [35.777070907744985, 51.46229918970598],\n",
       "  [35.777577303514555, 51.462238831502134],\n",
       "  [35.777982496594966, 51.462687973336884],\n",
       "  [35.77870414995031, 51.46265234422912],\n",
       "  [35.778646790691, 51.463016082214104],\n",
       "  [35.778521050993845, 51.463660193207836],\n",
       "  [35.77864501593786, 51.46416887037265],\n",
       "  [35.77907632377101, 51.46423062328283],\n",
       "  [35.77972362591917, 51.46415686786779],\n",
       "  [35.779934541745085, 51.46445299691235]],\n",
       " [[35.77516278874852, 51.44784630535113],\n",
       "  [35.77564679754863, 51.448145093497395],\n",
       "  [35.77610500760695, 51.448353358141354],\n",
       "  [35.776751763215536, 51.4486451923698],\n",
       "  [35.777173241614726, 51.44884750220355],\n",
       "  [35.777549060140984, 51.44911567660467],\n",
       "  [35.77815139753857, 51.449389254607304],\n",
       "  [35.77818869897026, 51.45001237138999],\n",
       "  [35.77828984567571, 51.450791654032194],\n",
       "  [35.7783500324077, 51.45143785022224],\n",
       "  [35.77831077591667, 51.45194803207857],\n",
       "  [35.77849873352668, 51.45247861454821],\n",
       "  [35.77851732092482, 51.453149240117824],\n",
       "  [35.77855883981678, 51.454042113028436],\n",
       "  [35.77830703354005, 51.45458391619664],\n",
       "  [35.77831653473064, 51.45530213078484],\n",
       "  [35.77817273150006, 51.456055134292015],\n",
       "  [35.77786521462645, 51.45656089728758],\n",
       "  [35.7777811411067, 51.457141541971765],\n",
       "  [35.777514007225186, 51.45766655223217],\n",
       "  [35.777363290366225, 51.458400449906385],\n",
       "  [35.77717034637793, 51.458885522534636],\n",
       "  [35.7770818253106, 51.4596864181297],\n",
       "  [35.777457222884294, 51.45968028625995],\n",
       "  [35.77750461531393, 51.46031190775738],\n",
       "  [35.77744393415637, 51.460904763854785],\n",
       "  [35.777142978713165, 51.46135635445364],\n",
       "  [35.77691415199212, 51.462055503193966],\n",
       "  [35.777599602718965, 51.46234647042246],\n",
       "  [35.77815523226722, 51.4624565648034],\n",
       "  [35.77858206043743, 51.4627922795267],\n",
       "  [35.77865057619973, 51.463219933549],\n",
       "  [35.77865526474734, 51.46363366710728],\n",
       "  [35.778618422657466, 51.464169859435565],\n",
       "  [35.77912009414567, 51.46429217452123],\n",
       "  [35.77966707700295, 51.46422888535144],\n",
       "  [35.78001650512183, 51.464469417959265]]]"
      ]
     },
     "execution_count": 31,
     "metadata": {},
     "output_type": "execute_result"
    }
   ],
   "source": [
    "noisy_rides_list = []\n",
    "lat = [ride[i][0] for i in range(len(ride))]\n",
    "lon = [ride[i][1] for i in range(len(ride))]\n",
    "\n",
    "for _ in range(20) :\n",
    "    lat_noise = list(np.random.normal(0, gps_noise_radius, len(ride)))\n",
    "    lon_noise = list(np.random.normal(0, gps_noise_radius, len(ride)))\n",
    "    noisy_rides_list.append(add_noise(lat, lon, lat_noise, lon_noise))\n",
    "noisy_rides_list"
   ]
  },
  {
   "cell_type": "markdown",
   "metadata": {
    "id": "labjTZ3hivDJ"
   },
   "source": [
    "# HMM"
   ]
  },
  {
   "cell_type": "markdown",
   "metadata": {
    "id": "pGOYyPL34KOr"
   },
   "source": [
    "In this section, we want to use the dataset that we created in the previous section to train an HMM model. We want to use HMM models to  **denoise** the gps locations of the rides. We assume that the gps locations of the rides are noisy and we want to denoise them using HMM models. The observations in each _timestamp_ are the observed noisy points in the dataset."
   ]
  },
  {
   "cell_type": "markdown",
   "metadata": {
    "id": "PpfkqYtd4KOr"
   },
   "source": [
    "You should implement a class (or function) named HMM which gets the noisy observations and the `streets` of the map (of course, this is not noisy. we saw that as `pasdaran_streets` in the previous section). You should calculate the transition matrix and emission matrix of the HMM model. You should also implement the `viterbi` algorithm to find the most probable sequence of hidden states (which are the points in the streets) given the noisy observations. Finally, your implementation should be capable of returning the denoised gps locations of the rides. Note that how you define your features, and your states. Be creative!"
   ]
  },
  {
   "cell_type": "code",
   "execution_count": 32,
   "metadata": {
    "id": "j--fFI5v5vK2"
   },
   "outputs": [],
   "source": [
    "def calculate_distance(u_lat, u_lon, v_lat, v_lon):\n",
    "    # Convert coordinates from degrees to radians\n",
    "    u_lat_rad = radians(u_lat)\n",
    "    u_lon_rad = radians(u_lon)\n",
    "    v_lat_rad = radians(v_lat)\n",
    "    v_lon_rad = radians(v_lon)\n",
    "\n",
    "    # Radius of the Earth in meters\n",
    "    R = 6371000\n",
    "\n",
    "    # Haversine formula\n",
    "    delta_lat = v_lat_rad - u_lat_rad\n",
    "    delta_lon = v_lon_rad - u_lon_rad\n",
    "    a = sin(delta_lat / 2)**2 + cos(u_lat_rad) * cos(v_lat_rad) * sin(delta_lon / 2)**2\n",
    "    c = 2 * atan2(sqrt(a), sqrt(1 - a))\n",
    "    distance = R * c\n",
    "\n",
    "    return distance"
   ]
  },
  {
   "cell_type": "code",
   "execution_count": 33,
   "metadata": {
    "id": "P0knHutpfklm"
   },
   "outputs": [],
   "source": [
    "def project_point_on_street(u_lat, u_lon, v_lat, v_lon, e_lat, e_lon):\n",
    "    # Define the projection to be used (e.g., Mercator)\n",
    "    projection = Proj(proj='merc', ellps='WGS84')\n",
    "\n",
    "    # Project the points to a Cartesian coordinate system\n",
    "    u_x, u_y = projection(u_lon, u_lat)\n",
    "    v_x, v_y = projection(v_lon, v_lat)\n",
    "    e_x, e_y = projection(e_lon, e_lat)\n",
    "\n",
    "    # Calculate the dot product between the vectors (u -> v) and (u -> e)\n",
    "    ux = v_x - u_x\n",
    "    uy = v_y - u_y\n",
    "    ex = e_x - u_x\n",
    "    ey = e_y - u_y\n",
    "\n",
    "    dot_product = ux * ex + uy * ey\n",
    "\n",
    "    # Calculate the squared length of the vector (u -> v)\n",
    "    uv_length_squared = ux**2 + uy**2\n",
    "\n",
    "    # Calculate the projection factor\n",
    "    projection_factor = dot_product / uv_length_squared\n",
    "\n",
    "    if projection_factor < 0:\n",
    "        # The projection falls before the starting point (u)\n",
    "        projected_x = u_x\n",
    "        projected_y = u_y\n",
    "    elif projection_factor > 1:\n",
    "        # The projection falls after the ending point (v)\n",
    "        projected_x = v_x\n",
    "        projected_y = v_y\n",
    "    else:\n",
    "        # The projection falls on the line segment between u and v\n",
    "        projected_x = u_x + projection_factor * ux\n",
    "        projected_y = u_y + projection_factor * uy\n",
    "\n",
    "    # Convert the projected point back to latitude-longitude coordinates\n",
    "    projected_lon, projected_lat = projection(projected_x, projected_y, inverse=True)\n",
    "\n",
    "    return projected_lat, projected_lon"
   ]
  },
  {
   "cell_type": "code",
   "execution_count": 34,
   "metadata": {
    "id": "a1WAuAUX4KR_"
   },
   "outputs": [],
   "source": [
    "def get_streets_near_evidence(noisy_ride, pasdaran_streets) :\n",
    "    streets = [{} for _ in range(len(noisy_ride))]\n",
    "    key = 0\n",
    "    for i in range(len(noisy_ride)) :\n",
    "        distance_based_streets = []\n",
    "        for index, row in pasdaran_streets.iterrows() :\n",
    "            proj_lat, proj_lon = project_point_on_street(row['u_lat'], row['u_lon'], row['v_lat'], row['v_lon'], noisy_ride[i][0], noisy_ride[i][1])\n",
    "            distance = calculate_distance(noisy_ride[i][0], noisy_ride[i][1], proj_lat, proj_lon)\n",
    "            heapq.heappush(distance_based_streets, (distance, [key, [proj_lat, proj_lon], 0, 0]))\n",
    "            key += 1\n",
    "        j = 4\n",
    "        while len(distance_based_streets) > 0 and j > 0 :\n",
    "            l = heapq.heappop(distance_based_streets)[1]\n",
    "            streets[i][l[0]] = l[1:]\n",
    "            j -= 1\n",
    "\n",
    "    return streets"
   ]
  },
  {
   "cell_type": "code",
   "execution_count": 35,
   "metadata": {
    "id": "3PRCGR4oBNqt"
   },
   "outputs": [],
   "source": [
    "def transition_probability(current, current_evidence, next, next_evidence, beta) :\n",
    "    current_lat, current_lon, current_evidence_lat, currenct_evidence_lon = current[0], current[1], current_evidence[0], current_evidence[1]\n",
    "    next_lat, next_lon, next_evidence_lat, next_evidence_lon = next[0], next[1], next_evidence[0], next_evidence[1]\n",
    "\n",
    "    evidence_distance = calculate_distance(current_evidence_lat, currenct_evidence_lon, next_evidence_lat, next_evidence_lon)\n",
    "    state_distance = calculate_distance(current_lat, current_lon, next_lat, next_lon)\n",
    "\n",
    "    return math.exp(-abs(state_distance - evidence_distance) / beta) / beta + 0.0000001"
   ]
  },
  {
   "cell_type": "code",
   "execution_count": 36,
   "metadata": {
    "id": "69LbsMXbEdjJ"
   },
   "outputs": [],
   "source": [
    "def emission_probability(state, evidence, std) :\n",
    "    lat, lon = state[0], state[1]\n",
    "    evidence_lat, evidence_lon = evidence[0], evidence[1]\n",
    "\n",
    "    distance = calculate_distance(lat, lon, evidence_lat, evidence_lon)\n",
    "    return math.exp(-0.5 * (distance / std) ** 2) / (math.sqrt(2 * math.pi) * std) + 0.0000001"
   ]
  },
  {
   "cell_type": "code",
   "execution_count": 37,
   "metadata": {
    "id": "0Y7AkIUuLGS6"
   },
   "outputs": [],
   "source": [
    "def get_normal_std(noisy_rides, ride) :\n",
    "    ride_distances = []\n",
    "    for noisy_ride in noisy_rides :\n",
    "        for i in range(len(noisy_ride)) :\n",
    "            r1, r2 = 0, 0\n",
    "            if i == len(noisy_ride) - 1 :\n",
    "                r1, r2 = ride[i-1], ride[i]\n",
    "            else :\n",
    "                r1, r2 = ride[i], ride[i+1]\n",
    "            nr = noisy_ride[i]\n",
    "            proj_lat, proj_lon = project_point_on_street(r1[0], r1[1], r2[0], r2[1], nr[0], nr[1])\n",
    "            ride_distances.append(calculate_distance(proj_lat, proj_lon, nr[0], nr[1]))\n",
    "\n",
    "    mean = sum(ride_distances) / len(ride_distances)\n",
    "    variance = sum((x - mean)**2 for x in ride_distances) / len(ride_distances)\n",
    "    std = math.sqrt(variance)\n",
    "    return std\n",
    "\n",
    "def get_beta(noisy_rides, ride) :\n",
    "    diff_list = []\n",
    "    for noisy_ride in noisy_rides :\n",
    "        for i in range(len(ride) - 2) :\n",
    "            r1, r2, r3 = ride[i], ride[i+1], ride[i+2]\n",
    "            nr1, nr2 = noisy_ride[i], noisy_ride[i+1]\n",
    "            proj_lat1, proj_lon1 = project_point_on_street(r1[0], r1[1], r2[0], r2[1], nr1[0], nr1[1])\n",
    "            proj_lat2, proj_lon2 = project_point_on_street(r2[0], r2[1], r3[0], r3[1], nr2[0], nr2[1])\n",
    "            diff_list.append(abs(calculate_distance(nr1[0], nr1[1], nr2[0], nr2[1]) - calculate_distance(proj_lat1, proj_lon1, proj_lat2, proj_lon2)))\n",
    "    return sum(diff_list) / len(diff_list)"
   ]
  },
  {
   "cell_type": "code",
   "execution_count": 38,
   "metadata": {
    "id": "1BgXA7-7IfN2"
   },
   "outputs": [],
   "source": [
    "def get_transitions(states, noisy_ride, beta) :\n",
    "    transitions = [{} for _ in range(len(noisy_ride))]\n",
    "\n",
    "    for i in range(1, len(noisy_ride)) :\n",
    "        for prev_key, prev_value in states[i-1].items() :\n",
    "            prob_list = []\n",
    "            for curr_key, curr_value in states[i].items() :\n",
    "                T = transition_probability(prev_value[0], noisy_ride[i-1], curr_value[0], noisy_ride[i], beta)\n",
    "                prob_list.append(T)\n",
    "\n",
    "                if prev_key not in transitions[i].keys() :\n",
    "                    transitions[i][prev_key] = {}\n",
    "\n",
    "                transitions[i][prev_key][curr_key] = T\n",
    "            total = sum(prob_list)\n",
    "            for key, value in transitions[i][prev_key].items() :\n",
    "                transitions[i][prev_key][key] /= total\n",
    "\n",
    "    return transitions"
   ]
  },
  {
   "cell_type": "code",
   "execution_count": 39,
   "metadata": {
    "id": "bdTMP3dIMkm-"
   },
   "outputs": [],
   "source": [
    "def get_emissions(states, noisy_ride, std) :\n",
    "    emissions = [{} for _ in range(len(noisy_ride))]\n",
    "\n",
    "    for i in range(0, len(noisy_ride)) :\n",
    "        prob_list = []\n",
    "        for key, value in states[i].items() :\n",
    "            E = emission_probability(value[0], noisy_ride[i], std)\n",
    "            prob_list.append(E)\n",
    "            emissions[i][key] = E\n",
    "        total = sum(prob_list)\n",
    "        for key, value in emissions[i].items() :\n",
    "            emissions[i][key] /= total\n",
    "\n",
    "    return emissions"
   ]
  },
  {
   "cell_type": "code",
   "execution_count": 40,
   "metadata": {
    "id": "Ra-t1Pw3jem2"
   },
   "outputs": [],
   "source": [
    "# Viterbi algorithm for finding the most likely sequence of states\n",
    "def viterbi(noisy_ride, ride, states, std, beta) :\n",
    "    if len(states) == 0 :\n",
    "        return -1\n",
    "\n",
    "    transitions = get_transitions(states, noisy_ride, beta)\n",
    "    emissions = get_emissions(states, noisy_ride, std)\n",
    "\n",
    "    for key, value in states[0].items() :\n",
    "        states[0][key][1] = emissions[0][key]\n",
    "        states[0][key][2] = key\n",
    "\n",
    "    for i in range(1, len(noisy_ride)) :\n",
    "        for curr_key, curr_value in states[i].items() :\n",
    "            for prev_key, prev_value in states[i-1].items() :\n",
    "                m = states[i-1][prev_key][1] * emissions[i][curr_key] * transitions[i][prev_key][curr_key]\n",
    "                if states[i][curr_key][1] <= m :\n",
    "                    states[i][curr_key][1] = m\n",
    "                    states[i][curr_key][2] = prev_key\n",
    "\n",
    "    sequence = []\n",
    "\n",
    "    max_M = -1\n",
    "    current_id = 0\n",
    "    for key, value in states[-1].items() :\n",
    "        if value[1] > max_M :\n",
    "            current_id = key\n",
    "            max_M = value[1]\n",
    "\n",
    "    for i in reversed(range(len(noisy_ride))) :\n",
    "        sequence.insert(0, states[i][current_id][0])\n",
    "        current_id = states[i][current_id][2]\n",
    "    return sequence"
   ]
  },
  {
   "cell_type": "code",
   "execution_count": 41,
   "metadata": {
    "id": "DguV0aXrgcP0"
   },
   "outputs": [],
   "source": [
    "std = get_normal_std(noisy_rides_list, ride)\n",
    "beta = get_beta(noisy_rides_list, ride)"
   ]
  },
  {
   "cell_type": "code",
   "execution_count": 42,
   "metadata": {
    "id": "VCpg8ZVuRbCI"
   },
   "outputs": [],
   "source": [
    "states = get_streets_near_evidence(normal_ride_r5, pasdaran_streets)\n",
    "denoised_ride = viterbi(normal_ride_r5, ride, states, std, beta)"
   ]
  },
  {
   "cell_type": "markdown",
   "metadata": {
    "id": "XJNUkaV74KOs"
   },
   "source": [
    "Visualize a sample denoised _ride_ using your HMM model. Put `original_points` and `denoised_points` on the map. Use different colors for each of them to make them distinct from eachother. You should use `kepler` library for this purpose."
   ]
  },
  {
   "cell_type": "code",
   "execution_count": 43,
   "metadata": {
    "id": "j4faLAnHYWbZ"
   },
   "outputs": [],
   "source": [
    "def convert_to_df(data) :\n",
    "    df = {\n",
    "          'lat': [data[i][0] for i in range(len(data))],\n",
    "          'lon': [data[i][1] for i in range(len(data))]\n",
    "      }\n",
    "      return pd.DataFrame(df)"
   ]
  },
  {
   "cell_type": "code",
   "execution_count": 44,
   "metadata": {
    "colab": {
     "base_uri": "https://localhost:8080/",
     "height": 771,
     "referenced_widgets": [
      "8d43d1fab0b44d4abeb664b7521a0c11",
      "e1217dcbd89b4d4798e9b4ccf48d2374"
     ]
    },
    "id": "dylnI81MUrrX",
    "outputId": "b53096c4-200a-4791-cfa2-b14ad13c9c50"
   },
   "outputs": [
    {
     "name": "stdout",
     "output_type": "stream",
     "text": [
      "User Guide: https://docs.kepler.gl/docs/keplergl-jupyter\n"
     ]
    },
    {
     "data": {
      "application/vnd.jupyter.widget-view+json": {
       "model_id": "8d43d1fab0b44d4abeb664b7521a0c11",
       "version_major": 2,
       "version_minor": 0
      },
      "text/plain": [
       "KeplerGl(data={'ride': {'index': [0, 1, 2, 3, 4, 5, 6, 7, 8, 9, 10, 11, 12, 13, 14, 15, 16, 17, 18, 19, 20, 21…"
      ]
     },
     "metadata": {
      "application/vnd.jupyter.widget-view+json": {
       "colab": {
        "custom_widget_manager": {
         "url": "https://ssl.gstatic.com/colaboratory-static/widgets/colab-cdn-widget-manager/2b70e893a8ba7c0f/manager.min.js"
        }
       }
      }
     },
     "output_type": "display_data"
    }
   ],
   "source": [
    "denoised_df = convert_to_df(denoised_ride)\n",
    "\n",
    "ride_df = convert_to_df(ride)\n",
    "noisy_df = convert_to_df(normal_ride_r5)\n",
    "\n",
    "map5 = KeplerGl(height=750)\n",
    "map5.add_data(data=ride_df, name='ride')\n",
    "map5.add_data(data=denoised_df, name='denoised ride')\n",
    "map5"
   ]
  },
  {
   "cell_type": "markdown",
   "metadata": {
    "tags": []
   },
   "source": [
    "<div align=\"center\">\n",
    "  <img src=\"images/10.png\" width=\"1200\" height=\"600\">\n",
    "</div>"
   ]
  },
  {
   "cell_type": "markdown",
   "metadata": {
    "id": "gYhEap644KOs"
   },
   "source": [
    "# Testing your model"
   ]
  },
  {
   "cell_type": "markdown",
   "metadata": {
    "id": "YwdJZnd94KOs"
   },
   "source": [
    "In this section, you should test your model. You could use your dataset (which you generated, step-by-step) until now, to implement, debug and train your model. Now, you should load `test_dataset` that we provided to you as `noisy_test_dataset.csv` and `original_test_dataset.csv`. Run your model on `noisy_test_dataset` and use `original_test_dataset` to evaluate how good you did. run your model on `noisy_test_dataset` to denoise the points. You should put the denoised points in a csv file named `denoised_test_dataset.csv` and submit it with your notebook. Also, You should report the **Mean haversine distance (MHD)** as the measaure of the loss of your model. Go through each trip in the `noisy_test_dataset` and calculate the MHD for each trip. Finally, report the average of the MHDs of all the trips in the `test_dataset` as the MHD of your model."
   ]
  },
  {
   "cell_type": "code",
   "execution_count": null,
   "metadata": {
    "colab": {
     "base_uri": "https://localhost:8080/",
     "height": 206
    },
    "id": "MoZ6ReBg4KOs",
    "outputId": "a644b57e-7204-47ad-a9a3-5232a1fd81e4"
   },
   "outputs": [
    {
     "data": {
      "text/html": [
       "\n",
       "  <div id=\"df-7b337372-510f-4ee8-8678-6a95e6ffbc3c\" class=\"colab-df-container\">\n",
       "    <div>\n",
       "<style scoped>\n",
       "    .dataframe tbody tr th:only-of-type {\n",
       "        vertical-align: middle;\n",
       "    }\n",
       "\n",
       "    .dataframe tbody tr th {\n",
       "        vertical-align: top;\n",
       "    }\n",
       "\n",
       "    .dataframe thead th {\n",
       "        text-align: right;\n",
       "    }\n",
       "</style>\n",
       "<table border=\"1\" class=\"dataframe\">\n",
       "  <thead>\n",
       "    <tr style=\"text-align: right;\">\n",
       "      <th></th>\n",
       "      <th>Unnamed: 0</th>\n",
       "      <th>trip_id</th>\n",
       "      <th>index</th>\n",
       "      <th>source</th>\n",
       "      <th>destination</th>\n",
       "      <th>lat</th>\n",
       "      <th>lon</th>\n",
       "      <th>ride_speed</th>\n",
       "      <th>ride_gps_time</th>\n",
       "    </tr>\n",
       "  </thead>\n",
       "  <tbody>\n",
       "    <tr>\n",
       "      <th>0</th>\n",
       "      <td>0</td>\n",
       "      <td>0</td>\n",
       "      <td>0</td>\n",
       "      <td>4429680702</td>\n",
       "      <td>4695666788</td>\n",
       "      <td>35.771816</td>\n",
       "      <td>51.461178</td>\n",
       "      <td>0.00096</td>\n",
       "      <td>0.466</td>\n",
       "    </tr>\n",
       "    <tr>\n",
       "      <th>1</th>\n",
       "      <td>0</td>\n",
       "      <td>0</td>\n",
       "      <td>1</td>\n",
       "      <td>4429680702</td>\n",
       "      <td>4695666788</td>\n",
       "      <td>35.771458</td>\n",
       "      <td>51.460865</td>\n",
       "      <td>0.00096</td>\n",
       "      <td>0.466</td>\n",
       "    </tr>\n",
       "    <tr>\n",
       "      <th>2</th>\n",
       "      <td>0</td>\n",
       "      <td>0</td>\n",
       "      <td>2</td>\n",
       "      <td>4429680702</td>\n",
       "      <td>4695666788</td>\n",
       "      <td>35.770760</td>\n",
       "      <td>51.460239</td>\n",
       "      <td>0.00096</td>\n",
       "      <td>0.466</td>\n",
       "    </tr>\n",
       "    <tr>\n",
       "      <th>3</th>\n",
       "      <td>0</td>\n",
       "      <td>0</td>\n",
       "      <td>3</td>\n",
       "      <td>4429680702</td>\n",
       "      <td>4695666788</td>\n",
       "      <td>35.770027</td>\n",
       "      <td>51.459633</td>\n",
       "      <td>0.00096</td>\n",
       "      <td>0.466</td>\n",
       "    </tr>\n",
       "    <tr>\n",
       "      <th>4</th>\n",
       "      <td>0</td>\n",
       "      <td>0</td>\n",
       "      <td>4</td>\n",
       "      <td>4429680702</td>\n",
       "      <td>4695666788</td>\n",
       "      <td>35.769318</td>\n",
       "      <td>51.459030</td>\n",
       "      <td>0.00096</td>\n",
       "      <td>0.466</td>\n",
       "    </tr>\n",
       "  </tbody>\n",
       "</table>\n",
       "</div>\n",
       "    <div class=\"colab-df-buttons\">\n",
       "\n",
       "  <div class=\"colab-df-container\">\n",
       "    <button class=\"colab-df-convert\" onclick=\"convertToInteractive('df-7b337372-510f-4ee8-8678-6a95e6ffbc3c')\"\n",
       "            title=\"Convert this dataframe to an interactive table.\"\n",
       "            style=\"display:none;\">\n",
       "\n",
       "  <svg xmlns=\"http://www.w3.org/2000/svg\" height=\"24px\" viewBox=\"0 -960 960 960\">\n",
       "    <path d=\"M120-120v-720h720v720H120Zm60-500h600v-160H180v160Zm220 220h160v-160H400v160Zm0 220h160v-160H400v160ZM180-400h160v-160H180v160Zm440 0h160v-160H620v160ZM180-180h160v-160H180v160Zm440 0h160v-160H620v160Z\"/>\n",
       "  </svg>\n",
       "    </button>\n",
       "\n",
       "  <style>\n",
       "    .colab-df-container {\n",
       "      display:flex;\n",
       "      gap: 12px;\n",
       "    }\n",
       "\n",
       "    .colab-df-convert {\n",
       "      background-color: #E8F0FE;\n",
       "      border: none;\n",
       "      border-radius: 50%;\n",
       "      cursor: pointer;\n",
       "      display: none;\n",
       "      fill: #1967D2;\n",
       "      height: 32px;\n",
       "      padding: 0 0 0 0;\n",
       "      width: 32px;\n",
       "    }\n",
       "\n",
       "    .colab-df-convert:hover {\n",
       "      background-color: #E2EBFA;\n",
       "      box-shadow: 0px 1px 2px rgba(60, 64, 67, 0.3), 0px 1px 3px 1px rgba(60, 64, 67, 0.15);\n",
       "      fill: #174EA6;\n",
       "    }\n",
       "\n",
       "    .colab-df-buttons div {\n",
       "      margin-bottom: 4px;\n",
       "    }\n",
       "\n",
       "    [theme=dark] .colab-df-convert {\n",
       "      background-color: #3B4455;\n",
       "      fill: #D2E3FC;\n",
       "    }\n",
       "\n",
       "    [theme=dark] .colab-df-convert:hover {\n",
       "      background-color: #434B5C;\n",
       "      box-shadow: 0px 1px 3px 1px rgba(0, 0, 0, 0.15);\n",
       "      filter: drop-shadow(0px 1px 2px rgba(0, 0, 0, 0.3));\n",
       "      fill: #FFFFFF;\n",
       "    }\n",
       "  </style>\n",
       "\n",
       "    <script>\n",
       "      const buttonEl =\n",
       "        document.querySelector('#df-7b337372-510f-4ee8-8678-6a95e6ffbc3c button.colab-df-convert');\n",
       "      buttonEl.style.display =\n",
       "        google.colab.kernel.accessAllowed ? 'block' : 'none';\n",
       "\n",
       "      async function convertToInteractive(key) {\n",
       "        const element = document.querySelector('#df-7b337372-510f-4ee8-8678-6a95e6ffbc3c');\n",
       "        const dataTable =\n",
       "          await google.colab.kernel.invokeFunction('convertToInteractive',\n",
       "                                                    [key], {});\n",
       "        if (!dataTable) return;\n",
       "\n",
       "        const docLinkHtml = 'Like what you see? Visit the ' +\n",
       "          '<a target=\"_blank\" href=https://colab.research.google.com/notebooks/data_table.ipynb>data table notebook</a>'\n",
       "          + ' to learn more about interactive tables.';\n",
       "        element.innerHTML = '';\n",
       "        dataTable['output_type'] = 'display_data';\n",
       "        await google.colab.output.renderOutput(dataTable, element);\n",
       "        const docLink = document.createElement('div');\n",
       "        docLink.innerHTML = docLinkHtml;\n",
       "        element.appendChild(docLink);\n",
       "      }\n",
       "    </script>\n",
       "  </div>\n",
       "\n",
       "\n",
       "<div id=\"df-5771e176-54c1-4e69-9b98-2b8e79eef8fd\">\n",
       "  <button class=\"colab-df-quickchart\" onclick=\"quickchart('df-5771e176-54c1-4e69-9b98-2b8e79eef8fd')\"\n",
       "            title=\"Suggest charts\"\n",
       "            style=\"display:none;\">\n",
       "\n",
       "<svg xmlns=\"http://www.w3.org/2000/svg\" height=\"24px\"viewBox=\"0 0 24 24\"\n",
       "     width=\"24px\">\n",
       "    <g>\n",
       "        <path d=\"M19 3H5c-1.1 0-2 .9-2 2v14c0 1.1.9 2 2 2h14c1.1 0 2-.9 2-2V5c0-1.1-.9-2-2-2zM9 17H7v-7h2v7zm4 0h-2V7h2v10zm4 0h-2v-4h2v4z\"/>\n",
       "    </g>\n",
       "</svg>\n",
       "  </button>\n",
       "\n",
       "<style>\n",
       "  .colab-df-quickchart {\n",
       "      --bg-color: #E8F0FE;\n",
       "      --fill-color: #1967D2;\n",
       "      --hover-bg-color: #E2EBFA;\n",
       "      --hover-fill-color: #174EA6;\n",
       "      --disabled-fill-color: #AAA;\n",
       "      --disabled-bg-color: #DDD;\n",
       "  }\n",
       "\n",
       "  [theme=dark] .colab-df-quickchart {\n",
       "      --bg-color: #3B4455;\n",
       "      --fill-color: #D2E3FC;\n",
       "      --hover-bg-color: #434B5C;\n",
       "      --hover-fill-color: #FFFFFF;\n",
       "      --disabled-bg-color: #3B4455;\n",
       "      --disabled-fill-color: #666;\n",
       "  }\n",
       "\n",
       "  .colab-df-quickchart {\n",
       "    background-color: var(--bg-color);\n",
       "    border: none;\n",
       "    border-radius: 50%;\n",
       "    cursor: pointer;\n",
       "    display: none;\n",
       "    fill: var(--fill-color);\n",
       "    height: 32px;\n",
       "    padding: 0;\n",
       "    width: 32px;\n",
       "  }\n",
       "\n",
       "  .colab-df-quickchart:hover {\n",
       "    background-color: var(--hover-bg-color);\n",
       "    box-shadow: 0 1px 2px rgba(60, 64, 67, 0.3), 0 1px 3px 1px rgba(60, 64, 67, 0.15);\n",
       "    fill: var(--button-hover-fill-color);\n",
       "  }\n",
       "\n",
       "  .colab-df-quickchart-complete:disabled,\n",
       "  .colab-df-quickchart-complete:disabled:hover {\n",
       "    background-color: var(--disabled-bg-color);\n",
       "    fill: var(--disabled-fill-color);\n",
       "    box-shadow: none;\n",
       "  }\n",
       "\n",
       "  .colab-df-spinner {\n",
       "    border: 2px solid var(--fill-color);\n",
       "    border-color: transparent;\n",
       "    border-bottom-color: var(--fill-color);\n",
       "    animation:\n",
       "      spin 1s steps(1) infinite;\n",
       "  }\n",
       "\n",
       "  @keyframes spin {\n",
       "    0% {\n",
       "      border-color: transparent;\n",
       "      border-bottom-color: var(--fill-color);\n",
       "      border-left-color: var(--fill-color);\n",
       "    }\n",
       "    20% {\n",
       "      border-color: transparent;\n",
       "      border-left-color: var(--fill-color);\n",
       "      border-top-color: var(--fill-color);\n",
       "    }\n",
       "    30% {\n",
       "      border-color: transparent;\n",
       "      border-left-color: var(--fill-color);\n",
       "      border-top-color: var(--fill-color);\n",
       "      border-right-color: var(--fill-color);\n",
       "    }\n",
       "    40% {\n",
       "      border-color: transparent;\n",
       "      border-right-color: var(--fill-color);\n",
       "      border-top-color: var(--fill-color);\n",
       "    }\n",
       "    60% {\n",
       "      border-color: transparent;\n",
       "      border-right-color: var(--fill-color);\n",
       "    }\n",
       "    80% {\n",
       "      border-color: transparent;\n",
       "      border-right-color: var(--fill-color);\n",
       "      border-bottom-color: var(--fill-color);\n",
       "    }\n",
       "    90% {\n",
       "      border-color: transparent;\n",
       "      border-bottom-color: var(--fill-color);\n",
       "    }\n",
       "  }\n",
       "</style>\n",
       "\n",
       "  <script>\n",
       "    async function quickchart(key) {\n",
       "      const quickchartButtonEl =\n",
       "        document.querySelector('#' + key + ' button');\n",
       "      quickchartButtonEl.disabled = true;  // To prevent multiple clicks.\n",
       "      quickchartButtonEl.classList.add('colab-df-spinner');\n",
       "      try {\n",
       "        const charts = await google.colab.kernel.invokeFunction(\n",
       "            'suggestCharts', [key], {});\n",
       "      } catch (error) {\n",
       "        console.error('Error during call to suggestCharts:', error);\n",
       "      }\n",
       "      quickchartButtonEl.classList.remove('colab-df-spinner');\n",
       "      quickchartButtonEl.classList.add('colab-df-quickchart-complete');\n",
       "    }\n",
       "    (() => {\n",
       "      let quickchartButtonEl =\n",
       "        document.querySelector('#df-5771e176-54c1-4e69-9b98-2b8e79eef8fd button');\n",
       "      quickchartButtonEl.style.display =\n",
       "        google.colab.kernel.accessAllowed ? 'block' : 'none';\n",
       "    })();\n",
       "  </script>\n",
       "</div>\n",
       "    </div>\n",
       "  </div>\n"
      ],
      "text/plain": [
       "   Unnamed: 0  trip_id  index      source  destination        lat        lon  \\\n",
       "0           0        0      0  4429680702   4695666788  35.771816  51.461178   \n",
       "1           0        0      1  4429680702   4695666788  35.771458  51.460865   \n",
       "2           0        0      2  4429680702   4695666788  35.770760  51.460239   \n",
       "3           0        0      3  4429680702   4695666788  35.770027  51.459633   \n",
       "4           0        0      4  4429680702   4695666788  35.769318  51.459030   \n",
       "\n",
       "   ride_speed  ride_gps_time  \n",
       "0     0.00096          0.466  \n",
       "1     0.00096          0.466  \n",
       "2     0.00096          0.466  \n",
       "3     0.00096          0.466  \n",
       "4     0.00096          0.466  "
      ]
     },
     "execution_count": 48,
     "metadata": {},
     "output_type": "execute_result"
    }
   ],
   "source": [
    "from haversine import haversine\n",
    "from tqdm import tqdm\n",
    "\n",
    "def mean_haversine_distance(denoised_points, original_points):\n",
    "    total_distance = 0\n",
    "\n",
    "    for denoised_ride, original_ride in zip(denoised_points, original_points):\n",
    "        ride_distance = 0\n",
    "\n",
    "        for denoised_point, original_point in zip(denoised_ride, original_ride):\n",
    "            denoised_lat, denoised_lon = denoised_point\n",
    "            original_lat, original_lon = original_point\n",
    "\n",
    "            distance = haversine((denoised_lat, denoised_lon), (original_lat, original_lon))\n",
    "            ride_distance += distance\n",
    "\n",
    "        if len(denoised_ride) != 0 :\n",
    "            mean_distance = ride_distance / len(denoised_ride)\n",
    "            total_distance += mean_distance\n",
    "\n",
    "    mean_haversine = total_distance / len(denoised_points)\n",
    "    return mean_haversine\n",
    "\n",
    "test_dataset_noisy = pd.read_csv(\"noisy_test_dataset.csv\")\n",
    "test_dataset_original = pd.read_csv(\"original_test_dataset.csv\")\n",
    "\n",
    "test_dataset_original.head()"
   ]
  },
  {
   "cell_type": "code",
   "execution_count": null,
   "metadata": {
    "colab": {
     "base_uri": "https://localhost:8080/",
     "height": 206
    },
    "id": "c2DV2dD14KOt",
    "outputId": "c707d1ef-ba44-47dd-989e-c7f44a7d54e7"
   },
   "outputs": [
    {
     "data": {
      "text/html": [
       "\n",
       "  <div id=\"df-1bed3bdd-cd8c-4671-bdb3-f0ba864423c4\" class=\"colab-df-container\">\n",
       "    <div>\n",
       "<style scoped>\n",
       "    .dataframe tbody tr th:only-of-type {\n",
       "        vertical-align: middle;\n",
       "    }\n",
       "\n",
       "    .dataframe tbody tr th {\n",
       "        vertical-align: top;\n",
       "    }\n",
       "\n",
       "    .dataframe thead th {\n",
       "        text-align: right;\n",
       "    }\n",
       "</style>\n",
       "<table border=\"1\" class=\"dataframe\">\n",
       "  <thead>\n",
       "    <tr style=\"text-align: right;\">\n",
       "      <th></th>\n",
       "      <th>Unnamed: 0</th>\n",
       "      <th>trip_id</th>\n",
       "      <th>index</th>\n",
       "      <th>source</th>\n",
       "      <th>destination</th>\n",
       "      <th>lat</th>\n",
       "      <th>lon</th>\n",
       "      <th>ride_speed</th>\n",
       "      <th>ride_gps_time</th>\n",
       "    </tr>\n",
       "  </thead>\n",
       "  <tbody>\n",
       "    <tr>\n",
       "      <th>0</th>\n",
       "      <td>0</td>\n",
       "      <td>0</td>\n",
       "      <td>0</td>\n",
       "      <td>4429680702</td>\n",
       "      <td>4695666788</td>\n",
       "      <td>35.771917</td>\n",
       "      <td>51.461279</td>\n",
       "      <td>0.00096</td>\n",
       "      <td>0.466</td>\n",
       "    </tr>\n",
       "    <tr>\n",
       "      <th>1</th>\n",
       "      <td>0</td>\n",
       "      <td>0</td>\n",
       "      <td>1</td>\n",
       "      <td>4429680702</td>\n",
       "      <td>4695666788</td>\n",
       "      <td>35.771399</td>\n",
       "      <td>51.460806</td>\n",
       "      <td>0.00096</td>\n",
       "      <td>0.466</td>\n",
       "    </tr>\n",
       "    <tr>\n",
       "      <th>2</th>\n",
       "      <td>0</td>\n",
       "      <td>0</td>\n",
       "      <td>2</td>\n",
       "      <td>4429680702</td>\n",
       "      <td>4695666788</td>\n",
       "      <td>35.770759</td>\n",
       "      <td>51.460239</td>\n",
       "      <td>0.00096</td>\n",
       "      <td>0.466</td>\n",
       "    </tr>\n",
       "    <tr>\n",
       "      <th>3</th>\n",
       "      <td>0</td>\n",
       "      <td>0</td>\n",
       "      <td>3</td>\n",
       "      <td>4429680702</td>\n",
       "      <td>4695666788</td>\n",
       "      <td>35.769997</td>\n",
       "      <td>51.459603</td>\n",
       "      <td>0.00096</td>\n",
       "      <td>0.466</td>\n",
       "    </tr>\n",
       "    <tr>\n",
       "      <th>4</th>\n",
       "      <td>0</td>\n",
       "      <td>0</td>\n",
       "      <td>4</td>\n",
       "      <td>4429680702</td>\n",
       "      <td>4695666788</td>\n",
       "      <td>35.769289</td>\n",
       "      <td>51.459002</td>\n",
       "      <td>0.00096</td>\n",
       "      <td>0.466</td>\n",
       "    </tr>\n",
       "  </tbody>\n",
       "</table>\n",
       "</div>\n",
       "    <div class=\"colab-df-buttons\">\n",
       "\n",
       "  <div class=\"colab-df-container\">\n",
       "    <button class=\"colab-df-convert\" onclick=\"convertToInteractive('df-1bed3bdd-cd8c-4671-bdb3-f0ba864423c4')\"\n",
       "            title=\"Convert this dataframe to an interactive table.\"\n",
       "            style=\"display:none;\">\n",
       "\n",
       "  <svg xmlns=\"http://www.w3.org/2000/svg\" height=\"24px\" viewBox=\"0 -960 960 960\">\n",
       "    <path d=\"M120-120v-720h720v720H120Zm60-500h600v-160H180v160Zm220 220h160v-160H400v160Zm0 220h160v-160H400v160ZM180-400h160v-160H180v160Zm440 0h160v-160H620v160ZM180-180h160v-160H180v160Zm440 0h160v-160H620v160Z\"/>\n",
       "  </svg>\n",
       "    </button>\n",
       "\n",
       "  <style>\n",
       "    .colab-df-container {\n",
       "      display:flex;\n",
       "      gap: 12px;\n",
       "    }\n",
       "\n",
       "    .colab-df-convert {\n",
       "      background-color: #E8F0FE;\n",
       "      border: none;\n",
       "      border-radius: 50%;\n",
       "      cursor: pointer;\n",
       "      display: none;\n",
       "      fill: #1967D2;\n",
       "      height: 32px;\n",
       "      padding: 0 0 0 0;\n",
       "      width: 32px;\n",
       "    }\n",
       "\n",
       "    .colab-df-convert:hover {\n",
       "      background-color: #E2EBFA;\n",
       "      box-shadow: 0px 1px 2px rgba(60, 64, 67, 0.3), 0px 1px 3px 1px rgba(60, 64, 67, 0.15);\n",
       "      fill: #174EA6;\n",
       "    }\n",
       "\n",
       "    .colab-df-buttons div {\n",
       "      margin-bottom: 4px;\n",
       "    }\n",
       "\n",
       "    [theme=dark] .colab-df-convert {\n",
       "      background-color: #3B4455;\n",
       "      fill: #D2E3FC;\n",
       "    }\n",
       "\n",
       "    [theme=dark] .colab-df-convert:hover {\n",
       "      background-color: #434B5C;\n",
       "      box-shadow: 0px 1px 3px 1px rgba(0, 0, 0, 0.15);\n",
       "      filter: drop-shadow(0px 1px 2px rgba(0, 0, 0, 0.3));\n",
       "      fill: #FFFFFF;\n",
       "    }\n",
       "  </style>\n",
       "\n",
       "    <script>\n",
       "      const buttonEl =\n",
       "        document.querySelector('#df-1bed3bdd-cd8c-4671-bdb3-f0ba864423c4 button.colab-df-convert');\n",
       "      buttonEl.style.display =\n",
       "        google.colab.kernel.accessAllowed ? 'block' : 'none';\n",
       "\n",
       "      async function convertToInteractive(key) {\n",
       "        const element = document.querySelector('#df-1bed3bdd-cd8c-4671-bdb3-f0ba864423c4');\n",
       "        const dataTable =\n",
       "          await google.colab.kernel.invokeFunction('convertToInteractive',\n",
       "                                                    [key], {});\n",
       "        if (!dataTable) return;\n",
       "\n",
       "        const docLinkHtml = 'Like what you see? Visit the ' +\n",
       "          '<a target=\"_blank\" href=https://colab.research.google.com/notebooks/data_table.ipynb>data table notebook</a>'\n",
       "          + ' to learn more about interactive tables.';\n",
       "        element.innerHTML = '';\n",
       "        dataTable['output_type'] = 'display_data';\n",
       "        await google.colab.output.renderOutput(dataTable, element);\n",
       "        const docLink = document.createElement('div');\n",
       "        docLink.innerHTML = docLinkHtml;\n",
       "        element.appendChild(docLink);\n",
       "      }\n",
       "    </script>\n",
       "  </div>\n",
       "\n",
       "\n",
       "<div id=\"df-f2ae36eb-9589-4fd4-930a-74ce867ff1b4\">\n",
       "  <button class=\"colab-df-quickchart\" onclick=\"quickchart('df-f2ae36eb-9589-4fd4-930a-74ce867ff1b4')\"\n",
       "            title=\"Suggest charts\"\n",
       "            style=\"display:none;\">\n",
       "\n",
       "<svg xmlns=\"http://www.w3.org/2000/svg\" height=\"24px\"viewBox=\"0 0 24 24\"\n",
       "     width=\"24px\">\n",
       "    <g>\n",
       "        <path d=\"M19 3H5c-1.1 0-2 .9-2 2v14c0 1.1.9 2 2 2h14c1.1 0 2-.9 2-2V5c0-1.1-.9-2-2-2zM9 17H7v-7h2v7zm4 0h-2V7h2v10zm4 0h-2v-4h2v4z\"/>\n",
       "    </g>\n",
       "</svg>\n",
       "  </button>\n",
       "\n",
       "<style>\n",
       "  .colab-df-quickchart {\n",
       "      --bg-color: #E8F0FE;\n",
       "      --fill-color: #1967D2;\n",
       "      --hover-bg-color: #E2EBFA;\n",
       "      --hover-fill-color: #174EA6;\n",
       "      --disabled-fill-color: #AAA;\n",
       "      --disabled-bg-color: #DDD;\n",
       "  }\n",
       "\n",
       "  [theme=dark] .colab-df-quickchart {\n",
       "      --bg-color: #3B4455;\n",
       "      --fill-color: #D2E3FC;\n",
       "      --hover-bg-color: #434B5C;\n",
       "      --hover-fill-color: #FFFFFF;\n",
       "      --disabled-bg-color: #3B4455;\n",
       "      --disabled-fill-color: #666;\n",
       "  }\n",
       "\n",
       "  .colab-df-quickchart {\n",
       "    background-color: var(--bg-color);\n",
       "    border: none;\n",
       "    border-radius: 50%;\n",
       "    cursor: pointer;\n",
       "    display: none;\n",
       "    fill: var(--fill-color);\n",
       "    height: 32px;\n",
       "    padding: 0;\n",
       "    width: 32px;\n",
       "  }\n",
       "\n",
       "  .colab-df-quickchart:hover {\n",
       "    background-color: var(--hover-bg-color);\n",
       "    box-shadow: 0 1px 2px rgba(60, 64, 67, 0.3), 0 1px 3px 1px rgba(60, 64, 67, 0.15);\n",
       "    fill: var(--button-hover-fill-color);\n",
       "  }\n",
       "\n",
       "  .colab-df-quickchart-complete:disabled,\n",
       "  .colab-df-quickchart-complete:disabled:hover {\n",
       "    background-color: var(--disabled-bg-color);\n",
       "    fill: var(--disabled-fill-color);\n",
       "    box-shadow: none;\n",
       "  }\n",
       "\n",
       "  .colab-df-spinner {\n",
       "    border: 2px solid var(--fill-color);\n",
       "    border-color: transparent;\n",
       "    border-bottom-color: var(--fill-color);\n",
       "    animation:\n",
       "      spin 1s steps(1) infinite;\n",
       "  }\n",
       "\n",
       "  @keyframes spin {\n",
       "    0% {\n",
       "      border-color: transparent;\n",
       "      border-bottom-color: var(--fill-color);\n",
       "      border-left-color: var(--fill-color);\n",
       "    }\n",
       "    20% {\n",
       "      border-color: transparent;\n",
       "      border-left-color: var(--fill-color);\n",
       "      border-top-color: var(--fill-color);\n",
       "    }\n",
       "    30% {\n",
       "      border-color: transparent;\n",
       "      border-left-color: var(--fill-color);\n",
       "      border-top-color: var(--fill-color);\n",
       "      border-right-color: var(--fill-color);\n",
       "    }\n",
       "    40% {\n",
       "      border-color: transparent;\n",
       "      border-right-color: var(--fill-color);\n",
       "      border-top-color: var(--fill-color);\n",
       "    }\n",
       "    60% {\n",
       "      border-color: transparent;\n",
       "      border-right-color: var(--fill-color);\n",
       "    }\n",
       "    80% {\n",
       "      border-color: transparent;\n",
       "      border-right-color: var(--fill-color);\n",
       "      border-bottom-color: var(--fill-color);\n",
       "    }\n",
       "    90% {\n",
       "      border-color: transparent;\n",
       "      border-bottom-color: var(--fill-color);\n",
       "    }\n",
       "  }\n",
       "</style>\n",
       "\n",
       "  <script>\n",
       "    async function quickchart(key) {\n",
       "      const quickchartButtonEl =\n",
       "        document.querySelector('#' + key + ' button');\n",
       "      quickchartButtonEl.disabled = true;  // To prevent multiple clicks.\n",
       "      quickchartButtonEl.classList.add('colab-df-spinner');\n",
       "      try {\n",
       "        const charts = await google.colab.kernel.invokeFunction(\n",
       "            'suggestCharts', [key], {});\n",
       "      } catch (error) {\n",
       "        console.error('Error during call to suggestCharts:', error);\n",
       "      }\n",
       "      quickchartButtonEl.classList.remove('colab-df-spinner');\n",
       "      quickchartButtonEl.classList.add('colab-df-quickchart-complete');\n",
       "    }\n",
       "    (() => {\n",
       "      let quickchartButtonEl =\n",
       "        document.querySelector('#df-f2ae36eb-9589-4fd4-930a-74ce867ff1b4 button');\n",
       "      quickchartButtonEl.style.display =\n",
       "        google.colab.kernel.accessAllowed ? 'block' : 'none';\n",
       "    })();\n",
       "  </script>\n",
       "</div>\n",
       "    </div>\n",
       "  </div>\n"
      ],
      "text/plain": [
       "   Unnamed: 0  trip_id  index      source  destination        lat        lon  \\\n",
       "0           0        0      0  4429680702   4695666788  35.771917  51.461279   \n",
       "1           0        0      1  4429680702   4695666788  35.771399  51.460806   \n",
       "2           0        0      2  4429680702   4695666788  35.770759  51.460239   \n",
       "3           0        0      3  4429680702   4695666788  35.769997  51.459603   \n",
       "4           0        0      4  4429680702   4695666788  35.769289  51.459002   \n",
       "\n",
       "   ride_speed  ride_gps_time  \n",
       "0     0.00096          0.466  \n",
       "1     0.00096          0.466  \n",
       "2     0.00096          0.466  \n",
       "3     0.00096          0.466  \n",
       "4     0.00096          0.466  "
      ]
     },
     "execution_count": 43,
     "metadata": {},
     "output_type": "execute_result"
    }
   ],
   "source": [
    "test_dataset_noisy.head()"
   ]
  },
  {
   "cell_type": "code",
   "execution_count": null,
   "metadata": {
    "colab": {
     "base_uri": "https://localhost:8080/"
    },
    "id": "8PyxEr8k6UMJ",
    "outputId": "0446c8ff-ad77-41e2-a897-01ecd8e9fd5c"
   },
   "outputs": [
    {
     "name": "stdout",
     "output_type": "stream",
     "text": [
      "Average loss: 0.0069844310939801285\n"
     ]
    }
   ],
   "source": [
    "test_rides = [[] for _ in range(test_dataset_original['trip_id'].max() + 1)]\n",
    "test_noisy_rides = [[] for _ in range(test_dataset_noisy['trip_id'].max() + 1)]\n",
    "\n",
    "for index, row in test_dataset_original.iterrows() :\n",
    "    test_rides[int(row['trip_id'])].append([row['lat'], row['lon']])\n",
    "\n",
    "for index, row in test_dataset_noisy.iterrows() :\n",
    "    test_noisy_rides[int(row['trip_id'])].append([row['lat'], row['lon']])\n",
    "\n",
    "denoised_rides = []\n",
    "for i in range(len(test_noisy_rides)) :\n",
    "    if len(test_rides[i]) != 0:\n",
    "        states = get_streets_near_evidence(test_noisy_rides[i], pasdaran_streets)\n",
    "        denoised_ride = viterbi(test_noisy_rides[i], test_rides[i], states, std, beta)\n",
    "        if denoised_ride != -1 :\n",
    "            denoised_rides.append(denoised_ride)\n",
    "\n",
    "    else :\n",
    "        denoised_rides.append([])\n",
    "\n",
    "print('Average loss:', mean_haversine_distance(denoised_rides, test_rides))"
   ]
  },
  {
   "cell_type": "code",
   "execution_count": null,
   "metadata": {
    "id": "oxpjk1H-ThZJ"
   },
   "outputs": [],
   "source": [
    "lats = []\n",
    "lons = []\n",
    "trips_id = []\n",
    "for i in range(len(denoised_rides)) :\n",
    "    for point in denoised_rides[i] :\n",
    "        lats.append(point[0])\n",
    "        lons.append(point[1])\n",
    "        trips_id.append(i)\n",
    "\n",
    "df = {\n",
    "'trip_id' : trips_id,\n",
    "'lat': lats,\n",
    "'lon': lons}\n",
    "df = pd.DataFrame(df)\n",
    "df.to_csv('/content/drive/My Drive/denoised_test_dataset.csv', index=False)"
   ]
  }
 ],
 "metadata": {
  "colab": {
   "provenance": []
  },
  "kernelspec": {
   "display_name": "Python 3 (ipykernel)",
   "language": "python",
   "name": "python3"
  },
  "language_info": {
   "codemirror_mode": {
    "name": "ipython",
    "version": 3
   },
   "file_extension": ".py",
   "mimetype": "text/x-python",
   "name": "python",
   "nbconvert_exporter": "python",
   "pygments_lexer": "ipython3",
   "version": "3.11.5"
  },
  "widgets": {
   "application/vnd.jupyter.widget-state+json": {
    "02eef125b5684276975cdfcb0035dbd7": {
     "model_module": "keplergl-jupyter",
     "model_module_version": "^0.3.2",
     "model_name": "KeplerGlModal",
     "state": {
      "_dom_classes": [],
      "_model_module": "keplergl-jupyter",
      "_model_module_version": "^0.3.2",
      "_model_name": "KeplerGlModal",
      "_view_count": null,
      "_view_module": "keplergl-jupyter",
      "_view_module_version": "^0.3.2",
      "_view_name": "KeplerGlView",
      "config": {
       "config": {
        "mapState": {
         "bearing": 0,
         "dragRotate": false,
         "isSplit": false,
         "latitude": 35.77751991306426,
         "longitude": 51.45618005404833,
         "pitch": 0,
         "zoom": 15
        },
        "mapStyle": {
         "mapStyles": {},
         "styleType": "dark",
         "threeDBuildingColor": [
          9.665468314072013,
          17.18305478057247,
          31.1442867897876
         ],
         "topLayerGroups": {},
         "visibleLayerGroups": {
          "3d building": false,
          "border": false,
          "building": true,
          "label": true,
          "land": true,
          "road": true,
          "water": true
         }
        },
        "visState": {
         "animationConfig": {
          "currentTime": null,
          "speed": 1
         },
         "filters": [],
         "interactionConfig": {
          "brush": {
           "enabled": false,
           "size": 0.5
          },
          "coordinate": {
           "enabled": false
          },
          "geocoder": {
           "enabled": false
          },
          "tooltip": {
           "compareMode": false,
           "compareType": "absolute",
           "enabled": true,
           "fieldsToShow": {
            "data": [
             {
              "format": null,
              "name": "timestamp"
             }
            ]
           }
          }
         },
         "layerBlending": "normal",
         "layers": [
          {
           "config": {
            "color": [
             18,
             147,
             154
            ],
            "columns": {
             "altitude": null,
             "lat": "lat",
             "lng": "lon"
            },
            "dataId": "data",
            "hidden": false,
            "highlightColor": [
             252,
             242,
             26,
             255
            ],
            "isVisible": true,
            "label": "Point",
            "textLabel": [
             {
              "alignment": "center",
              "anchor": "start",
              "color": [
               255,
               255,
               255
              ],
              "field": null,
              "offset": [
               0,
               0
              ],
              "size": 18
             }
            ],
            "visConfig": {
             "colorRange": {
              "category": "Uber",
              "colors": [
               "#5A1846",
               "#900C3F",
               "#C70039",
               "#E3611C",
               "#F1920E",
               "#FFC300"
              ],
              "name": "Global Warming",
              "type": "sequential"
             },
             "filled": true,
             "fixedRadius": false,
             "opacity": 0.8,
             "outline": false,
             "radius": 10,
             "radiusRange": [
              0,
              50
             ],
             "strokeColor": null,
             "strokeColorRange": {
              "category": "Uber",
              "colors": [
               "#5A1846",
               "#900C3F",
               "#C70039",
               "#E3611C",
               "#F1920E",
               "#FFC300"
              ],
              "name": "Global Warming",
              "type": "sequential"
             },
             "thickness": 2
            }
           },
           "id": "knomhs",
           "type": "point",
           "visualChannels": {
            "colorField": {
             "name": "timestamp",
             "type": "integer"
            },
            "colorScale": "quantile",
            "sizeField": null,
            "sizeScale": "linear",
            "strokeColorField": null,
            "strokeColorScale": "quantile"
           }
          }
         ],
         "splitMaps": []
        }
       },
       "version": "v1"
      },
      "data": {
       "data": {
        "columns": [
         "lat",
         "lon",
         "timestamp"
        ],
        "data": [
         [
          35.77514699169896,
          51.44789906928269,
          0
         ],
         [
          35.77552969474985,
          51.4481724386765,
          1
         ],
         [
          35.77626188327401,
          51.448265898442735,
          2
         ],
         [
          35.77664821216571,
          51.44865849697667,
          3
         ],
         [
          35.77716292059348,
          51.448990354912944,
          4
         ],
         [
          35.77754863523946,
          51.44900512620505,
          5
         ],
         [
          35.77809494192361,
          51.44923737277884,
          6
         ],
         [
          35.77820734314032,
          51.45001453247513,
          7
         ],
         [
          35.77819712672191,
          51.450638924653006,
          8
         ],
         [
          35.7782687957531,
          51.45141098687448,
          9
         ],
         [
          35.77855732506071,
          51.452079812236676,
          10
         ],
         [
          35.778453957568146,
          51.45277209592861,
          11
         ],
         [
          35.7786408046229,
          51.45330850046721,
          12
         ],
         [
          35.778567170533265,
          51.45398299500344,
          13
         ],
         [
          35.77839138932321,
          51.45471098850343,
          14
         ],
         [
          35.77836388681733,
          51.45532121200982,
          15
         ],
         [
          35.77807205464409,
          51.455988675413685,
          16
         ],
         [
          35.77795862647058,
          51.45647541139281,
          17
         ],
         [
          35.77774012033086,
          51.457251735229946,
          18
         ],
         [
          35.77760924229262,
          51.4577760989256,
          19
         ],
         [
          35.77730963043205,
          51.458372020453844,
          20
         ],
         [
          35.77729209982392,
          51.4590663214757,
          21
         ],
         [
          35.77695672732465,
          51.45975074028799,
          22
         ],
         [
          35.77750005831688,
          51.45974176568667,
          23
         ],
         [
          35.777375858023746,
          51.46020355023934,
          24
         ],
         [
          35.77745797608453,
          51.46079480976069,
          25
         ],
         [
          35.77728037651272,
          51.46149888601419,
          26
         ],
         [
          35.777041811586614,
          51.46208558758762,
          27
         ],
         [
          35.777459409458295,
          51.46244151089191,
          28
         ],
         [
          35.77809210777584,
          51.46250292145223,
          29
         ],
         [
          35.77866044599018,
          51.46261994601972,
          30
         ],
         [
          35.77861933232267,
          51.463036983666825,
          31
         ],
         [
          35.778551474126196,
          51.46352266077692,
          32
         ],
         [
          35.77857116945852,
          51.464137318075586,
          33
         ],
         [
          35.77916454575912,
          51.464282472775416,
          34
         ],
         [
          35.77968299016909,
          51.46424437748733,
          35
         ],
         [
          35.77989283442956,
          51.464461038813965,
          36
         ]
        ],
        "index": [
         0,
         1,
         2,
         3,
         4,
         5,
         6,
         7,
         8,
         9,
         10,
         11,
         12,
         13,
         14,
         15,
         16,
         17,
         18,
         19,
         20,
         21,
         22,
         23,
         24,
         25,
         26,
         27,
         28,
         29,
         30,
         31,
         32,
         33,
         34,
         35,
         36
        ]
       }
      },
      "height": 750,
      "layout": "IPY_MODEL_499f16b6d8b24e5bad46283f66c5b432",
      "value": "Hello World!"
     }
    },
    "0cbbb10cdc0542efb91432ff7fabd5d2": {
     "model_module": "keplergl-jupyter",
     "model_module_version": "^0.3.2",
     "model_name": "KeplerGlModal",
     "state": {
      "_dom_classes": [],
      "_model_module": "keplergl-jupyter",
      "_model_module_version": "^0.3.2",
      "_model_name": "KeplerGlModal",
      "_view_count": null,
      "_view_module": "keplergl-jupyter",
      "_view_module_version": "^0.3.2",
      "_view_name": "KeplerGlView",
      "config": {
       "config": {
        "mapState": {
         "bearing": 0,
         "dragRotate": false,
         "isSplit": false,
         "latitude": 35.77756026434503,
         "longitude": 51.45623055465002,
         "pitch": 0,
         "zoom": 15
        },
        "mapStyle": {
         "mapStyles": {},
         "styleType": "dark",
         "threeDBuildingColor": [
          9.665468314072013,
          17.18305478057247,
          31.1442867897876
         ],
         "topLayerGroups": {},
         "visibleLayerGroups": {
          "3d building": false,
          "border": false,
          "building": true,
          "label": true,
          "land": true,
          "road": true,
          "water": true
         }
        },
        "visState": {
         "animationConfig": {
          "currentTime": null,
          "speed": 1
         },
         "filters": [],
         "interactionConfig": {
          "brush": {
           "enabled": false,
           "size": 0.5
          },
          "coordinate": {
           "enabled": false
          },
          "geocoder": {
           "enabled": false
          },
          "tooltip": {
           "compareMode": false,
           "compareType": "absolute",
           "enabled": true,
           "fieldsToShow": {
            "data": [
             {
              "format": null,
              "name": "timestamp"
             }
            ]
           }
          }
         },
         "layerBlending": "normal",
         "layers": [
          {
           "config": {
            "color": [
             18,
             147,
             154
            ],
            "columns": {
             "altitude": null,
             "lat": "lat",
             "lng": "lon"
            },
            "dataId": "data",
            "hidden": false,
            "highlightColor": [
             252,
             242,
             26,
             255
            ],
            "isVisible": true,
            "label": "Point",
            "textLabel": [
             {
              "alignment": "center",
              "anchor": "start",
              "color": [
               255,
               255,
               255
              ],
              "field": null,
              "offset": [
               0,
               0
              ],
              "size": 18
             }
            ],
            "visConfig": {
             "colorRange": {
              "category": "Uber",
              "colors": [
               "#5A1846",
               "#900C3F",
               "#C70039",
               "#E3611C",
               "#F1920E",
               "#FFC300"
              ],
              "name": "Global Warming",
              "type": "sequential"
             },
             "filled": true,
             "fixedRadius": false,
             "opacity": 0.8,
             "outline": false,
             "radius": 10,
             "radiusRange": [
              0,
              50
             ],
             "strokeColor": null,
             "strokeColorRange": {
              "category": "Uber",
              "colors": [
               "#5A1846",
               "#900C3F",
               "#C70039",
               "#E3611C",
               "#F1920E",
               "#FFC300"
              ],
              "name": "Global Warming",
              "type": "sequential"
             },
             "thickness": 2
            }
           },
           "id": "rc8ga09",
           "type": "point",
           "visualChannels": {
            "colorField": {
             "name": "timestamp",
             "type": "integer"
            },
            "colorScale": "quantile",
            "sizeField": null,
            "sizeScale": "linear",
            "strokeColorField": null,
            "strokeColorScale": "quantile"
           }
          }
         ],
         "splitMaps": []
        }
       },
       "version": "v1"
      },
      "data": {
       "data": {
        "columns": [
         "lat",
         "lon",
         "timestamp"
        ],
        "data": [
         [
          35.775152873690494,
          51.44799626936076,
          0
         ],
         [
          35.77558358440374,
          51.448008523234165,
          1
         ],
         [
          35.77618270286632,
          51.4484432385927,
          2
         ],
         [
          35.77665008500917,
          51.448648860278006,
          3
         ],
         [
          35.77711378156916,
          51.44882639730732,
          4
         ],
         [
          35.777650044573136,
          51.44906798604769,
          5
         ],
         [
          35.7781684747808,
          51.4493476679354,
          6
         ],
         [
          35.77824479805588,
          51.450034572118795,
          7
         ],
         [
          35.778321708106105,
          51.45063207284447,
          8
         ],
         [
          35.77837645219671,
          51.45131662555119,
          9
         ],
         [
          35.77838896602104,
          51.4519350315725,
          10
         ],
         [
          35.77853302812279,
          51.45254384546401,
          11
         ],
         [
          35.778501567177315,
          51.45336891487549,
          12
         ],
         [
          35.77864062535089,
          51.45399223654482,
          13
         ],
         [
          35.77840905831393,
          51.45460981632993,
          14
         ],
         [
          35.778271948534346,
          51.455259644788946,
          15
         ],
         [
          35.77811229395416,
          51.45590297995062,
          16
         ],
         [
          35.77802658340524,
          51.45643097894064,
          17
         ],
         [
          35.777709855255345,
          51.457117673860054,
          18
         ],
         [
          35.77763497892794,
          51.45761606589028,
          19
         ],
         [
          35.77741181847348,
          51.45849095582153,
          20
         ],
         [
          35.77724141591094,
          51.459079160465855,
          21
         ],
         [
          35.77701320325063,
          51.45962257545556,
          22
         ],
         [
          35.77744840340649,
          51.459801442977984,
          23
         ],
         [
          35.77752990775165,
          51.460267321847176,
          24
         ],
         [
          35.7773899137682,
          51.460835885216206,
          25
         ],
         [
          35.77717190337183,
          51.461380013026314,
          26
         ],
         [
          35.77712985365364,
          51.462022287867406,
          27
         ],
         [
          35.77757760244451,
          51.46227079180682,
          28
         ],
         [
          35.778037898251135,
          51.46248985266823,
          29
         ],
         [
          35.77863033318324,
          51.462710166114455,
          30
         ],
         [
          35.778586448948786,
          51.46314118417463,
          31
         ],
         [
          35.77852024702526,
          51.463555329635554,
          32
         ],
         [
          35.77855798088931,
          51.464129354860205,
          33
         ],
         [
          35.7790703887119,
          51.46428522510745,
          34
         ],
         [
          35.779652132751615,
          51.4642821290255,
          35
         ],
         [
          35.77996765499956,
          51.464464839939275,
          36
         ]
        ],
        "index": [
         0,
         1,
         2,
         3,
         4,
         5,
         6,
         7,
         8,
         9,
         10,
         11,
         12,
         13,
         14,
         15,
         16,
         17,
         18,
         19,
         20,
         21,
         22,
         23,
         24,
         25,
         26,
         27,
         28,
         29,
         30,
         31,
         32,
         33,
         34,
         35,
         36
        ]
       }
      },
      "height": 750,
      "layout": "IPY_MODEL_ed4157c1611d497f8e4085c89e9c3196",
      "value": "Hello World!"
     }
    },
    "18f84be8d8e6498fb71542c36295aac0": {
     "model_module": "@jupyter-widgets/base",
     "model_module_version": "1.2.0",
     "model_name": "LayoutModel",
     "state": {
      "_model_module": "@jupyter-widgets/base",
      "_model_module_version": "1.2.0",
      "_model_name": "LayoutModel",
      "_view_count": null,
      "_view_module": "@jupyter-widgets/base",
      "_view_module_version": "1.2.0",
      "_view_name": "LayoutView",
      "align_content": null,
      "align_items": null,
      "align_self": null,
      "border": null,
      "bottom": null,
      "display": null,
      "flex": null,
      "flex_flow": null,
      "grid_area": null,
      "grid_auto_columns": null,
      "grid_auto_flow": null,
      "grid_auto_rows": null,
      "grid_column": null,
      "grid_gap": null,
      "grid_row": null,
      "grid_template_areas": null,
      "grid_template_columns": null,
      "grid_template_rows": null,
      "height": null,
      "justify_content": null,
      "justify_items": null,
      "left": null,
      "margin": null,
      "max_height": null,
      "max_width": null,
      "min_height": null,
      "min_width": null,
      "object_fit": null,
      "object_position": null,
      "order": null,
      "overflow": null,
      "overflow_x": null,
      "overflow_y": null,
      "padding": null,
      "right": null,
      "top": null,
      "visibility": null,
      "width": null
     }
    },
    "499f16b6d8b24e5bad46283f66c5b432": {
     "model_module": "@jupyter-widgets/base",
     "model_module_version": "1.2.0",
     "model_name": "LayoutModel",
     "state": {
      "_model_module": "@jupyter-widgets/base",
      "_model_module_version": "1.2.0",
      "_model_name": "LayoutModel",
      "_view_count": null,
      "_view_module": "@jupyter-widgets/base",
      "_view_module_version": "1.2.0",
      "_view_name": "LayoutView",
      "align_content": null,
      "align_items": null,
      "align_self": null,
      "border": null,
      "bottom": null,
      "display": null,
      "flex": null,
      "flex_flow": null,
      "grid_area": null,
      "grid_auto_columns": null,
      "grid_auto_flow": null,
      "grid_auto_rows": null,
      "grid_column": null,
      "grid_gap": null,
      "grid_row": null,
      "grid_template_areas": null,
      "grid_template_columns": null,
      "grid_template_rows": null,
      "height": null,
      "justify_content": null,
      "justify_items": null,
      "left": null,
      "margin": null,
      "max_height": null,
      "max_width": null,
      "min_height": null,
      "min_width": null,
      "object_fit": null,
      "object_position": null,
      "order": null,
      "overflow": null,
      "overflow_x": null,
      "overflow_y": null,
      "padding": null,
      "right": null,
      "top": null,
      "visibility": null,
      "width": null
     }
    },
    "5091dbd047e44db2b11e404aac02b7a8": {
     "model_module": "@jupyter-widgets/base",
     "model_module_version": "1.2.0",
     "model_name": "LayoutModel",
     "state": {
      "_model_module": "@jupyter-widgets/base",
      "_model_module_version": "1.2.0",
      "_model_name": "LayoutModel",
      "_view_count": null,
      "_view_module": "@jupyter-widgets/base",
      "_view_module_version": "1.2.0",
      "_view_name": "LayoutView",
      "align_content": null,
      "align_items": null,
      "align_self": null,
      "border": null,
      "bottom": null,
      "display": null,
      "flex": null,
      "flex_flow": null,
      "grid_area": null,
      "grid_auto_columns": null,
      "grid_auto_flow": null,
      "grid_auto_rows": null,
      "grid_column": null,
      "grid_gap": null,
      "grid_row": null,
      "grid_template_areas": null,
      "grid_template_columns": null,
      "grid_template_rows": null,
      "height": null,
      "justify_content": null,
      "justify_items": null,
      "left": null,
      "margin": null,
      "max_height": null,
      "max_width": null,
      "min_height": null,
      "min_width": null,
      "object_fit": null,
      "object_position": null,
      "order": null,
      "overflow": null,
      "overflow_x": null,
      "overflow_y": null,
      "padding": null,
      "right": null,
      "top": null,
      "visibility": null,
      "width": null
     }
    },
    "5f7ea6f742424131b45f160fd0781510": {
     "model_module": "@jupyter-widgets/base",
     "model_module_version": "1.2.0",
     "model_name": "LayoutModel",
     "state": {
      "_model_module": "@jupyter-widgets/base",
      "_model_module_version": "1.2.0",
      "_model_name": "LayoutModel",
      "_view_count": null,
      "_view_module": "@jupyter-widgets/base",
      "_view_module_version": "1.2.0",
      "_view_name": "LayoutView",
      "align_content": null,
      "align_items": null,
      "align_self": null,
      "border": null,
      "bottom": null,
      "display": null,
      "flex": null,
      "flex_flow": null,
      "grid_area": null,
      "grid_auto_columns": null,
      "grid_auto_flow": null,
      "grid_auto_rows": null,
      "grid_column": null,
      "grid_gap": null,
      "grid_row": null,
      "grid_template_areas": null,
      "grid_template_columns": null,
      "grid_template_rows": null,
      "height": null,
      "justify_content": null,
      "justify_items": null,
      "left": null,
      "margin": null,
      "max_height": null,
      "max_width": null,
      "min_height": null,
      "min_width": null,
      "object_fit": null,
      "object_position": null,
      "order": null,
      "overflow": null,
      "overflow_x": null,
      "overflow_y": null,
      "padding": null,
      "right": null,
      "top": null,
      "visibility": null,
      "width": null
     }
    },
    "75d8a949cd6740a3a66e03cfce99315c": {
     "model_module": "@jupyter-widgets/base",
     "model_module_version": "1.2.0",
     "model_name": "LayoutModel",
     "state": {
      "_model_module": "@jupyter-widgets/base",
      "_model_module_version": "1.2.0",
      "_model_name": "LayoutModel",
      "_view_count": null,
      "_view_module": "@jupyter-widgets/base",
      "_view_module_version": "1.2.0",
      "_view_name": "LayoutView",
      "align_content": null,
      "align_items": null,
      "align_self": null,
      "border": null,
      "bottom": null,
      "display": null,
      "flex": null,
      "flex_flow": null,
      "grid_area": null,
      "grid_auto_columns": null,
      "grid_auto_flow": null,
      "grid_auto_rows": null,
      "grid_column": null,
      "grid_gap": null,
      "grid_row": null,
      "grid_template_areas": null,
      "grid_template_columns": null,
      "grid_template_rows": null,
      "height": null,
      "justify_content": null,
      "justify_items": null,
      "left": null,
      "margin": null,
      "max_height": null,
      "max_width": null,
      "min_height": null,
      "min_width": null,
      "object_fit": null,
      "object_position": null,
      "order": null,
      "overflow": null,
      "overflow_x": null,
      "overflow_y": null,
      "padding": null,
      "right": null,
      "top": null,
      "visibility": null,
      "width": null
     }
    },
    "7eaed0a2d5e140228155db2592d84b98": {
     "model_module": "keplergl-jupyter",
     "model_module_version": "^0.3.2",
     "model_name": "KeplerGlModal",
     "state": {
      "_dom_classes": [],
      "_model_module": "keplergl-jupyter",
      "_model_module_version": "^0.3.2",
      "_model_name": "KeplerGlModal",
      "_view_count": null,
      "_view_module": "keplergl-jupyter",
      "_view_module_version": "^0.3.2",
      "_view_name": "KeplerGlView",
      "config": {
       "config": {
        "mapState": {
         "bearing": 0,
         "dragRotate": false,
         "isSplit": false,
         "latitude": 35.777498020397985,
         "longitude": 51.45621549108026,
         "pitch": 0,
         "zoom": 15
        },
        "mapStyle": {
         "mapStyles": {},
         "styleType": "dark",
         "threeDBuildingColor": [
          9.665468314072013,
          17.18305478057247,
          31.1442867897876
         ],
         "topLayerGroups": {},
         "visibleLayerGroups": {
          "3d building": false,
          "border": false,
          "building": true,
          "label": true,
          "land": true,
          "road": true,
          "water": true
         }
        },
        "visState": {
         "animationConfig": {
          "currentTime": null,
          "speed": 1
         },
         "filters": [],
         "interactionConfig": {
          "brush": {
           "enabled": false,
           "size": 0.5
          },
          "coordinate": {
           "enabled": false
          },
          "geocoder": {
           "enabled": false
          },
          "tooltip": {
           "compareMode": false,
           "compareType": "absolute",
           "enabled": true,
           "fieldsToShow": {
            "data": [
             {
              "format": null,
              "name": "timestamp"
             }
            ]
           }
          }
         },
         "layerBlending": "normal",
         "layers": [
          {
           "config": {
            "color": [
             18,
             147,
             154
            ],
            "columns": {
             "altitude": null,
             "lat": "lat",
             "lng": "lon"
            },
            "dataId": "data",
            "hidden": false,
            "highlightColor": [
             252,
             242,
             26,
             255
            ],
            "isVisible": true,
            "label": "Point",
            "textLabel": [
             {
              "alignment": "center",
              "anchor": "start",
              "color": [
               255,
               255,
               255
              ],
              "field": null,
              "offset": [
               0,
               0
              ],
              "size": 18
             }
            ],
            "visConfig": {
             "colorRange": {
              "category": "Uber",
              "colors": [
               "#5A1846",
               "#900C3F",
               "#C70039",
               "#E3611C",
               "#F1920E",
               "#FFC300"
              ],
              "name": "Global Warming",
              "type": "sequential"
             },
             "filled": true,
             "fixedRadius": false,
             "opacity": 0.8,
             "outline": false,
             "radius": 10,
             "radiusRange": [
              0,
              50
             ],
             "strokeColor": null,
             "strokeColorRange": {
              "category": "Uber",
              "colors": [
               "#5A1846",
               "#900C3F",
               "#C70039",
               "#E3611C",
               "#F1920E",
               "#FFC300"
              ],
              "name": "Global Warming",
              "type": "sequential"
             },
             "thickness": 2
            }
           },
           "id": "1g89jam",
           "type": "point",
           "visualChannels": {
            "colorField": {
             "name": "timestamp",
             "type": "integer"
            },
            "colorScale": "quantile",
            "sizeField": null,
            "sizeScale": "linear",
            "strokeColorField": null,
            "strokeColorScale": "quantile"
           }
          }
         ],
         "splitMaps": []
        }
       },
       "version": "v1"
      },
      "data": {
       "data": {
        "columns": [
         "lat",
         "lon",
         "timestamp"
        ],
        "data": [
         [
          35.77512852710689,
          51.447994897528666,
          0
         ],
         [
          35.77562736326563,
          51.44822350027811,
          1
         ],
         [
          35.77612345501362,
          51.448293666383044,
          2
         ],
         [
          35.77665075432435,
          51.44865618691353,
          3
         ],
         [
          35.77716111989839,
          51.4488783200726,
          4
         ],
         [
          35.77764206317142,
          51.44911703227425,
          5
         ],
         [
          35.77809421323705,
          51.4493755376719,
          6
         ],
         [
          35.77821775866268,
          51.4500181639561,
          7
         ],
         [
          35.778294513079835,
          51.45071015296156,
          8
         ],
         [
          35.77796661695526,
          51.45134610950734,
          9
         ],
         [
          35.778422541342934,
          51.45195625074675,
          10
         ],
         [
          35.77850243913695,
          51.452650428471664,
          11
         ],
         [
          35.77854676838546,
          51.45331757872529,
          12
         ],
         [
          35.77860350441218,
          51.45399358541627,
          13
         ],
         [
          35.77841952467866,
          51.45460704004435,
          14
         ],
         [
          35.778149419431735,
          51.45522155724113,
          15
         ],
         [
          35.77811038501892,
          51.45580865711613,
          16
         ],
         [
          35.77792027724522,
          51.45650322271171,
          17
         ],
         [
          35.77776035516034,
          51.45718162257449,
          18
         ],
         [
          35.777597288588176,
          51.45776309377631,
          19
         ],
         [
          35.77737514134938,
          51.45838847257194,
          20
         ],
         [
          35.77723151854133,
          51.45901254292583,
          21
         ],
         [
          35.77694417110614,
          51.45961050152456,
          22
         ],
         [
          35.777498294289764,
          51.459852531065884,
          23
         ],
         [
          35.7779197410174,
          51.46020136447371,
          24
         ],
         [
          35.777356978940254,
          51.460815257297824,
          25
         ],
         [
          35.77719086638314,
          51.461527495514936,
          26
         ],
         [
          35.77706290891944,
          51.46212130461902,
          27
         ],
         [
          35.777547951712265,
          51.46234955654247,
          28
         ],
         [
          35.77807396504562,
          51.46228468666464,
          29
         ],
         [
          35.778692590127804,
          51.46269449830141,
          30
         ],
         [
          35.77861110640632,
          51.463224277332586,
          31
         ],
         [
          35.778557340231316,
          51.46356687128431,
          32
         ],
         [
          35.77869875355137,
          51.464184764981106,
          33
         ],
         [
          35.779085946321324,
          51.464287248057126,
          34
         ],
         [
          35.779618514323396,
          51.464224571747096,
          35
         ],
         [
          35.779867513689084,
          51.46443608463184,
          36
         ]
        ],
        "index": [
         0,
         1,
         2,
         3,
         4,
         5,
         6,
         7,
         8,
         9,
         10,
         11,
         12,
         13,
         14,
         15,
         16,
         17,
         18,
         19,
         20,
         21,
         22,
         23,
         24,
         25,
         26,
         27,
         28,
         29,
         30,
         31,
         32,
         33,
         34,
         35,
         36
        ]
       }
      },
      "height": 750,
      "layout": "IPY_MODEL_5091dbd047e44db2b11e404aac02b7a8",
      "value": "Hello World!"
     }
    },
    "819b8694d5334f2e93e0aeb7498f0469": {
     "model_module": "keplergl-jupyter",
     "model_module_version": "^0.3.2",
     "model_name": "KeplerGlModal",
     "state": {
      "_dom_classes": [],
      "_model_module": "keplergl-jupyter",
      "_model_module_version": "^0.3.2",
      "_model_name": "KeplerGlModal",
      "_view_count": null,
      "_view_module": "keplergl-jupyter",
      "_view_module_version": "^0.3.2",
      "_view_name": "KeplerGlView",
      "config": {
       "config": {
        "mapState": {
         "bearing": 0,
         "dragRotate": false,
         "isSplit": false,
         "latitude": 35.77751859459562,
         "longitude": 51.45625436458762,
         "pitch": 0,
         "zoom": 15
        },
        "mapStyle": {
         "mapStyles": {},
         "styleType": "dark",
         "threeDBuildingColor": [
          9.665468314072013,
          17.18305478057247,
          31.1442867897876
         ],
         "topLayerGroups": {},
         "visibleLayerGroups": {
          "3d building": false,
          "border": false,
          "building": true,
          "label": true,
          "land": true,
          "road": true,
          "water": true
         }
        },
        "visState": {
         "animationConfig": {
          "currentTime": null,
          "speed": 1
         },
         "filters": [],
         "interactionConfig": {
          "brush": {
           "enabled": false,
           "size": 0.5
          },
          "coordinate": {
           "enabled": false
          },
          "geocoder": {
           "enabled": false
          },
          "tooltip": {
           "compareMode": false,
           "compareType": "absolute",
           "enabled": true,
           "fieldsToShow": {
            "data": [
             {
              "format": null,
              "name": "timestamp"
             }
            ]
           }
          }
         },
         "layerBlending": "normal",
         "layers": [
          {
           "config": {
            "color": [
             18,
             147,
             154
            ],
            "columns": {
             "altitude": null,
             "lat": "lat",
             "lng": "lon"
            },
            "dataId": "data",
            "hidden": false,
            "highlightColor": [
             252,
             242,
             26,
             255
            ],
            "isVisible": true,
            "label": "Point",
            "textLabel": [
             {
              "alignment": "center",
              "anchor": "start",
              "color": [
               255,
               255,
               255
              ],
              "field": null,
              "offset": [
               0,
               0
              ],
              "size": 18
             }
            ],
            "visConfig": {
             "colorRange": {
              "category": "Uber",
              "colors": [
               "#5A1846",
               "#900C3F",
               "#C70039",
               "#E3611C",
               "#F1920E",
               "#FFC300"
              ],
              "name": "Global Warming",
              "type": "sequential"
             },
             "filled": true,
             "fixedRadius": false,
             "opacity": 0.8,
             "outline": false,
             "radius": 10,
             "radiusRange": [
              0,
              50
             ],
             "strokeColor": null,
             "strokeColorRange": {
              "category": "Uber",
              "colors": [
               "#5A1846",
               "#900C3F",
               "#C70039",
               "#E3611C",
               "#F1920E",
               "#FFC300"
              ],
              "name": "Global Warming",
              "type": "sequential"
             },
             "thickness": 2
            }
           },
           "id": "0nppk3",
           "type": "point",
           "visualChannels": {
            "colorField": {
             "name": "timestamp",
             "type": "integer"
            },
            "colorScale": "quantile",
            "sizeField": null,
            "sizeScale": "linear",
            "strokeColorField": null,
            "strokeColorScale": "quantile"
           }
          }
         ],
         "splitMaps": []
        }
       },
       "version": "v1"
      },
      "data": {
       "data": {
        "columns": [
         "lat",
         "lon",
         "timestamp"
        ],
        "data": [
         [
          35.77514960756078,
          51.44802000665935,
          0
         ],
         [
          35.775634587056615,
          51.44827335397976,
          1
         ],
         [
          35.776148336812376,
          51.44847967979026,
          2
         ],
         [
          35.77670057309376,
          51.44871892770765,
          3
         ],
         [
          35.777198433422654,
          51.44893360652119,
          4
         ],
         [
          35.77765972528436,
          51.44912104851336,
          5
         ],
         [
          35.7782085181299,
          51.4493985665055,
          6
         ],
         [
          35.778219483983506,
          51.450054875734104,
          7
         ],
         [
          35.77829042083898,
          51.45067327196307,
          8
         ],
         [
          35.77837742821032,
          51.451338564722995,
          9
         ],
         [
          35.778424131945094,
          51.45201682608557,
          10
         ],
         [
          35.77854194720516,
          51.45266889131237,
          11
         ],
         [
          35.778566574871974,
          51.453346888939784,
          12
         ],
         [
          35.778642701824126,
          51.45399832305819,
          13
         ],
         [
          35.77849088828891,
          51.45464117877285,
          14
         ],
         [
          35.77831747825807,
          51.455285779532225,
          15
         ],
         [
          35.77812033698946,
          51.45592912778492,
          16
         ],
         [
          35.777941176532906,
          51.456539304993385,
          17
         ],
         [
          35.77778862031496,
          51.45720206823643,
          18
         ],
         [
          35.777598569197316,
          51.45779359464313,
          19
         ],
         [
          35.77742216778782,
          51.4584309594993,
          20
         ],
         [
          35.77724323134495,
          51.45906906087059,
          21
         ],
         [
          35.777028027663036,
          51.45963400507226,
          22
         ],
         [
          35.77747238146994,
          51.459823889156866,
          23
         ],
         [
          35.77755902106163,
          51.46024310172999,
          24
         ],
         [
          35.777374296996314,
          51.46086228599091,
          25
         ],
         [
          35.77722105354565,
          51.461538120476,
          26
         ],
         [
          35.777072165701625,
          51.46214259672001,
          27
         ],
         [
          35.77757674615971,
          51.46236785006342,
          28
         ],
         [
          35.77810381545219,
          51.46253952449302,
          29
         ],
         [
          35.77865368384672,
          51.4627122068848,
          30
         ],
         [
          35.77863811723119,
          51.46315818967544,
          31
         ],
         [
          35.77860787009236,
          51.46356962322978,
          32
         ],
         [
          35.778713397161,
          51.46420720971751,
          33
         ],
         [
          35.77909928873081,
          51.464362395292845,
          34
         ],
         [
          35.77965336700231,
          51.46426700488093,
          35
         ],
         [
          35.779887581630454,
          51.4644887225159,
          36
         ]
        ],
        "index": [
         0,
         1,
         2,
         3,
         4,
         5,
         6,
         7,
         8,
         9,
         10,
         11,
         12,
         13,
         14,
         15,
         16,
         17,
         18,
         19,
         20,
         21,
         22,
         23,
         24,
         25,
         26,
         27,
         28,
         29,
         30,
         31,
         32,
         33,
         34,
         35,
         36
        ]
       }
      },
      "height": 750,
      "layout": "IPY_MODEL_75d8a949cd6740a3a66e03cfce99315c",
      "value": "Hello World!"
     }
    },
    "83e91cd1ead941eea9231b5795bb0d38": {
     "model_module": "@jupyter-widgets/base",
     "model_module_version": "1.2.0",
     "model_name": "LayoutModel",
     "state": {
      "_model_module": "@jupyter-widgets/base",
      "_model_module_version": "1.2.0",
      "_model_name": "LayoutModel",
      "_view_count": null,
      "_view_module": "@jupyter-widgets/base",
      "_view_module_version": "1.2.0",
      "_view_name": "LayoutView",
      "align_content": null,
      "align_items": null,
      "align_self": null,
      "border": null,
      "bottom": null,
      "display": null,
      "flex": null,
      "flex_flow": null,
      "grid_area": null,
      "grid_auto_columns": null,
      "grid_auto_flow": null,
      "grid_auto_rows": null,
      "grid_column": null,
      "grid_gap": null,
      "grid_row": null,
      "grid_template_areas": null,
      "grid_template_columns": null,
      "grid_template_rows": null,
      "height": null,
      "justify_content": null,
      "justify_items": null,
      "left": null,
      "margin": null,
      "max_height": null,
      "max_width": null,
      "min_height": null,
      "min_width": null,
      "object_fit": null,
      "object_position": null,
      "order": null,
      "overflow": null,
      "overflow_x": null,
      "overflow_y": null,
      "padding": null,
      "right": null,
      "top": null,
      "visibility": null,
      "width": null
     }
    },
    "8d43d1fab0b44d4abeb664b7521a0c11": {
     "model_module": "keplergl-jupyter",
     "model_module_version": "^0.3.2",
     "model_name": "KeplerGlModal",
     "state": {
      "_dom_classes": [],
      "_model_module": "keplergl-jupyter",
      "_model_module_version": "^0.3.2",
      "_model_name": "KeplerGlModal",
      "_view_count": null,
      "_view_module": "keplergl-jupyter",
      "_view_module_version": "^0.3.2",
      "_view_name": "KeplerGlView",
      "config": {
       "config": {
        "mapState": {
         "bearing": 0,
         "dragRotate": false,
         "isSplit": false,
         "latitude": 35.77754591609486,
         "longitude": 51.460462180787154,
         "pitch": 0,
         "zoom": 14.663492746655267
        },
        "mapStyle": {
         "mapStyles": {},
         "styleType": "dark",
         "threeDBuildingColor": [
          9.665468314072013,
          17.18305478057247,
          31.1442867897876
         ],
         "topLayerGroups": {},
         "visibleLayerGroups": {
          "3d building": false,
          "border": false,
          "building": true,
          "label": true,
          "land": true,
          "road": true,
          "water": true
         }
        },
        "visState": {
         "animationConfig": {
          "currentTime": null,
          "speed": 1
         },
         "filters": [],
         "interactionConfig": {
          "brush": {
           "enabled": false,
           "size": 0.5
          },
          "coordinate": {
           "enabled": false
          },
          "geocoder": {
           "enabled": false
          },
          "tooltip": {
           "compareMode": false,
           "compareType": "absolute",
           "enabled": true,
           "fieldsToShow": {
            "denoised ride": [],
            "ride": []
           }
          }
         },
         "layerBlending": "normal",
         "layers": [
          {
           "config": {
            "color": [
             84,
             56,
             200
            ],
            "columns": {
             "altitude": null,
             "lat": "lat",
             "lng": "lon"
            },
            "dataId": "ride",
            "hidden": false,
            "highlightColor": [
             252,
             242,
             26,
             255
            ],
            "isVisible": true,
            "label": "Point",
            "textLabel": [
             {
              "alignment": "center",
              "anchor": "start",
              "color": [
               255,
               255,
               255
              ],
              "field": null,
              "offset": [
               0,
               0
              ],
              "size": 18
             }
            ],
            "visConfig": {
             "colorRange": {
              "category": "Uber",
              "colors": [
               "#5A1846",
               "#900C3F",
               "#C70039",
               "#E3611C",
               "#F1920E",
               "#FFC300"
              ],
              "name": "Global Warming",
              "type": "sequential"
             },
             "filled": true,
             "fixedRadius": false,
             "opacity": 0.8,
             "outline": false,
             "radius": 10,
             "radiusRange": [
              0,
              50
             ],
             "strokeColor": null,
             "strokeColorRange": {
              "category": "Uber",
              "colors": [
               "#5A1846",
               "#900C3F",
               "#C70039",
               "#E3611C",
               "#F1920E",
               "#FFC300"
              ],
              "name": "Global Warming",
              "type": "sequential"
             },
             "thickness": 2
            }
           },
           "id": "2rqz49",
           "type": "point",
           "visualChannels": {
            "colorField": null,
            "colorScale": "quantile",
            "sizeField": null,
            "sizeScale": "linear",
            "strokeColorField": null,
            "strokeColorScale": "quantile"
           }
          },
          {
           "config": {
            "color": [
             223,
             73,
             22
            ],
            "columns": {
             "altitude": null,
             "lat": "lat",
             "lng": "lon"
            },
            "dataId": "denoised ride",
            "hidden": false,
            "highlightColor": [
             252,
             242,
             26,
             255
            ],
            "isVisible": true,
            "label": "Point",
            "textLabel": [
             {
              "alignment": "center",
              "anchor": "start",
              "color": [
               255,
               255,
               255
              ],
              "field": null,
              "offset": [
               0,
               0
              ],
              "size": 18
             }
            ],
            "visConfig": {
             "colorRange": {
              "category": "Uber",
              "colors": [
               "#5A1846",
               "#900C3F",
               "#C70039",
               "#E3611C",
               "#F1920E",
               "#FFC300"
              ],
              "name": "Global Warming",
              "type": "sequential"
             },
             "filled": true,
             "fixedRadius": false,
             "opacity": 0.8,
             "outline": false,
             "radius": 10,
             "radiusRange": [
              0,
              50
             ],
             "strokeColor": null,
             "strokeColorRange": {
              "category": "Uber",
              "colors": [
               "#5A1846",
               "#900C3F",
               "#C70039",
               "#E3611C",
               "#F1920E",
               "#FFC300"
              ],
              "name": "Global Warming",
              "type": "sequential"
             },
             "thickness": 2
            }
           },
           "id": "brqsy2e",
           "type": "point",
           "visualChannels": {
            "colorField": null,
            "colorScale": "quantile",
            "sizeField": null,
            "sizeScale": "linear",
            "strokeColorField": null,
            "strokeColorScale": "quantile"
           }
          }
         ],
         "splitMaps": []
        }
       },
       "version": "v1"
      },
      "data": {
       "denoised ride": {
        "columns": [
         "lat",
         "lon"
        ],
        "data": [
         [
          35.775119781494126,
          51.447975158691406
         ],
         [
          35.77553324724602,
          51.44816050524354
         ],
         [
          35.776207187242136,
          51.44845808299144
         ],
         [
          35.77666127720545,
          51.44866486105054
         ],
         [
          35.7771908060092,
          51.44890077078927
         ],
         [
          35.77753218878772,
          51.44905926789777
         ],
         [
          35.778075098731016,
          51.44930403384552
         ],
         [
          35.77821739591619,
          51.45001299942413
         ],
         [
          35.77827950853296,
          51.45062636140084
         ],
         [
          35.77835576124015,
          51.451398244322746
         ],
         [
          35.77843365602692,
          51.45210160619118
         ],
         [
          35.778508806764,
          51.45276552832937
         ],
         [
          35.778552816568755,
          51.453319036102485
         ],
         [
          35.778590814298255,
          51.45399196156699
         ],
         [
          35.77840814532584,
          51.45471734296604
         ],
         [
          35.77837137385909,
          51.455297534302176
         ],
         [
          35.778070602128984,
          51.45598810216644
         ],
         [
          35.77794401462131,
          51.456469562123566
         ],
         [
          35.77773421430979,
          51.45724929251128
         ],
         [
          35.77758485636792,
          51.45776492231423
         ],
         [
          35.77737980640529,
          51.45840608531142
         ],
         [
          35.77718314005431,
          51.45901105155954
         ],
         [
          35.776961789837145,
          51.459644010117
         ],
         [
          35.777496161211495,
          51.4597671012194
         ],
         [
          35.777516645367406,
          51.4602609704923
         ],
         [
          35.77746958985435,
          51.46074105566383
         ],
         [
          35.77720660183633,
          51.46147141355725
         ],
         [
          35.777053638078925,
          51.46208999156484
         ],
         [
          35.77749717770693,
          51.46229434528266
         ],
         [
          35.778089790784655,
          51.462513015303514
         ],
         [
          35.778640979132966,
          51.46270435633901
         ],
         [
          35.77864245644794,
          51.463053175671554
         ],
         [
          35.77855087953092,
          51.46356832779151
         ],
         [
          35.77866825753943,
          51.464124026228895
         ],
         [
          35.779165036200126,
          51.464289014594776
         ],
         [
          35.77968148758927,
          51.464226840192936
         ],
         [
          35.77986526489258,
          51.46444320678711
         ]
        ],
        "index": [
         0,
         1,
         2,
         3,
         4,
         5,
         6,
         7,
         8,
         9,
         10,
         11,
         12,
         13,
         14,
         15,
         16,
         17,
         18,
         19,
         20,
         21,
         22,
         23,
         24,
         25,
         26,
         27,
         28,
         29,
         30,
         31,
         32,
         33,
         34,
         35,
         36
        ]
       },
       "ride": {
        "columns": [
         "lat",
         "lon"
        ],
        "data": [
         [
          35.77511978149414,
          51.447975158691406
         ],
         [
          35.77562687681527,
          51.448202477143326
         ],
         [
          35.776134751337054,
          51.44842703868589
         ],
         [
          35.776644415291905,
          51.448645466747905
         ],
         [
          35.777148980419554,
          51.44888116460721
         ],
         [
          35.77765410690363,
          51.449115038877814
         ],
         [
          35.778150303268646,
          51.44935325126417
         ],
         [
          35.77821741592872,
          51.450013197010676
         ],
         [
          35.77828425072117,
          51.45067318385095
         ],
         [
          35.778349454025175,
          51.451333414966804
         ],
         [
          35.778420903306206,
          51.451992618979794
         ],
         [
          35.778497937147634,
          51.45265091602301
         ],
         [
          35.778552306259414,
          51.453312597541355
         ],
         [
          35.77859550058828,
          51.453973352728845
         ],
         [
          35.778435539939615,
          51.454608563186675
         ],
         [
          35.778265060883754,
          51.455239376085466
         ],
         [
          35.778100792399314,
          51.45587290295374
         ],
         [
          35.77793443218248,
          51.456505611514416
         ],
         [
          35.77776503374557,
          51.457137079214924
         ],
         [
          35.7775851263254,
          51.45776403567846
         ],
         [
          35.77738730928046,
          51.45838281337384
         ],
         [
          35.777186773992995,
          51.459000263686576
         ],
         [
          35.7769976906784,
          51.45961061555368
         ],
         [
          35.77745534268614,
          51.45975764592408
         ],
         [
          35.77753034783123,
          51.460210380292764
         ],
         [
          35.77736216850331,
          51.4608423112228
         ],
         [
          35.77720484849881,
          51.461478512915185
         ],
         [
          35.77704752514366,
          51.462114712089935
         ],
         [
          35.77755675652527,
          51.46231737056076
         ],
         [
          35.778073771395,
          51.46250747769097
         ],
         [
          35.77859316193116,
          51.46268774893689
         ],
         [
          35.77861107882759,
          51.463120660037
         ],
         [
          35.7785554458483,
          51.46356841732618
         ],
         [
          35.77867099688728,
          51.464154154459735
         ],
         [
          35.77908541027821,
          51.46429800460987
         ],
         [
          35.779622521696915,
          51.46423444872278
         ],
         [
          35.77986526489258,
          51.46444320678711
         ]
        ],
        "index": [
         0,
         1,
         2,
         3,
         4,
         5,
         6,
         7,
         8,
         9,
         10,
         11,
         12,
         13,
         14,
         15,
         16,
         17,
         18,
         19,
         20,
         21,
         22,
         23,
         24,
         25,
         26,
         27,
         28,
         29,
         30,
         31,
         32,
         33,
         34,
         35,
         36
        ]
       }
      },
      "height": 750,
      "layout": "IPY_MODEL_e1217dcbd89b4d4798e9b4ccf48d2374",
      "value": "Hello World!"
     }
    },
    "920582119acc42b5a7fceaf8d2322566": {
     "model_module": "@jupyter-widgets/base",
     "model_module_version": "1.2.0",
     "model_name": "LayoutModel",
     "state": {
      "_model_module": "@jupyter-widgets/base",
      "_model_module_version": "1.2.0",
      "_model_name": "LayoutModel",
      "_view_count": null,
      "_view_module": "@jupyter-widgets/base",
      "_view_module_version": "1.2.0",
      "_view_name": "LayoutView",
      "align_content": null,
      "align_items": null,
      "align_self": null,
      "border": null,
      "bottom": null,
      "display": null,
      "flex": null,
      "flex_flow": null,
      "grid_area": null,
      "grid_auto_columns": null,
      "grid_auto_flow": null,
      "grid_auto_rows": null,
      "grid_column": null,
      "grid_gap": null,
      "grid_row": null,
      "grid_template_areas": null,
      "grid_template_columns": null,
      "grid_template_rows": null,
      "height": null,
      "justify_content": null,
      "justify_items": null,
      "left": null,
      "margin": null,
      "max_height": null,
      "max_width": null,
      "min_height": null,
      "min_width": null,
      "object_fit": null,
      "object_position": null,
      "order": null,
      "overflow": null,
      "overflow_x": null,
      "overflow_y": null,
      "padding": null,
      "right": null,
      "top": null,
      "visibility": null,
      "width": null
     }
    },
    "92d104cecc7f453b956d79b96a0b92f6": {
     "model_module": "keplergl-jupyter",
     "model_module_version": "^0.3.2",
     "model_name": "KeplerGlModal",
     "state": {
      "_dom_classes": [],
      "_model_module": "keplergl-jupyter",
      "_model_module_version": "^0.3.2",
      "_model_name": "KeplerGlModal",
      "_view_count": null,
      "_view_module": "keplergl-jupyter",
      "_view_module_version": "^0.3.2",
      "_view_name": "KeplerGlView",
      "config": {
       "config": {
        "mapState": {
         "bearing": 0,
         "dragRotate": false,
         "isSplit": false,
         "latitude": 35.77745796118965,
         "longitude": 51.456264142457655,
         "pitch": 0,
         "zoom": 15
        },
        "mapStyle": {
         "mapStyles": {},
         "styleType": "dark",
         "threeDBuildingColor": [
          9.665468314072013,
          17.18305478057247,
          31.1442867897876
         ],
         "topLayerGroups": {},
         "visibleLayerGroups": {
          "3d building": false,
          "border": false,
          "building": true,
          "label": true,
          "land": true,
          "road": true,
          "water": true
         }
        },
        "visState": {
         "animationConfig": {
          "currentTime": null,
          "speed": 1
         },
         "filters": [],
         "interactionConfig": {
          "brush": {
           "enabled": false,
           "size": 0.5
          },
          "coordinate": {
           "enabled": false
          },
          "geocoder": {
           "enabled": false
          },
          "tooltip": {
           "compareMode": false,
           "compareType": "absolute",
           "enabled": true,
           "fieldsToShow": {
            "data": [
             {
              "format": null,
              "name": "timestamp"
             }
            ]
           }
          }
         },
         "layerBlending": "normal",
         "layers": [
          {
           "config": {
            "color": [
             18,
             147,
             154
            ],
            "columns": {
             "altitude": null,
             "lat": "lat",
             "lng": "lon"
            },
            "dataId": "data",
            "hidden": false,
            "highlightColor": [
             252,
             242,
             26,
             255
            ],
            "isVisible": true,
            "label": "Point",
            "textLabel": [
             {
              "alignment": "center",
              "anchor": "start",
              "color": [
               255,
               255,
               255
              ],
              "field": null,
              "offset": [
               0,
               0
              ],
              "size": 18
             }
            ],
            "visConfig": {
             "colorRange": {
              "category": "Uber",
              "colors": [
               "#5A1846",
               "#900C3F",
               "#C70039",
               "#E3611C",
               "#F1920E",
               "#FFC300"
              ],
              "name": "Global Warming",
              "type": "sequential"
             },
             "filled": true,
             "fixedRadius": false,
             "opacity": 0.8,
             "outline": false,
             "radius": 10,
             "radiusRange": [
              0,
              50
             ],
             "strokeColor": null,
             "strokeColorRange": {
              "category": "Uber",
              "colors": [
               "#5A1846",
               "#900C3F",
               "#C70039",
               "#E3611C",
               "#F1920E",
               "#FFC300"
              ],
              "name": "Global Warming",
              "type": "sequential"
             },
             "thickness": 2
            }
           },
           "id": "awazwr",
           "type": "point",
           "visualChannels": {
            "colorField": {
             "name": "timestamp",
             "type": "integer"
            },
            "colorScale": "quantile",
            "sizeField": null,
            "sizeScale": "linear",
            "strokeColorField": null,
            "strokeColorScale": "quantile"
           }
          }
         ],
         "splitMaps": []
        }
       },
       "version": "v1"
      },
      "data": {
       "data": {
        "columns": [
         "lat",
         "lon",
         "timestamp"
        ],
        "data": [
         [
          35.77509104155111,
          51.44803833129938,
          0
         ],
         [
          35.775562049268444,
          51.44813724521829,
          1
         ],
         [
          35.776261521135254,
          51.44843909560369,
          2
         ],
         [
          35.77663046939638,
          51.44864152737023,
          3
         ],
         [
          35.77703562781412,
          51.449024610958425,
          4
         ],
         [
          35.77768424733648,
          51.449038490209766,
          5
         ],
         [
          35.77815452729993,
          51.449476474962,
          6
         ],
         [
          35.77820171668742,
          51.45000447853727,
          7
         ],
         [
          35.77835737983117,
          51.45066998741402,
          8
         ],
         [
          35.77841693450108,
          51.451460959349745,
          9
         ],
         [
          35.77837268548593,
          51.45200406865983,
          10
         ],
         [
          35.77838855339534,
          51.45265783968733,
          11
         ],
         [
          35.778577366005955,
          51.453383541242474,
          12
         ],
         [
          35.778596824460315,
          51.453747995762576,
          13
         ],
         [
          35.77840851093673,
          51.454784397711606,
          14
         ],
         [
          35.778283624008424,
          51.45525892302133,
          15
         ],
         [
          35.77809562891929,
          51.455883747608354,
          16
         ],
         [
          35.77789389109655,
          51.456418152691704,
          17
         ],
         [
          35.77775457964557,
          51.45713373657173,
          18
         ],
         [
          35.77749550887058,
          51.45798573899083,
          19
         ],
         [
          35.77739605799301,
          51.45834484975833,
          20
         ],
         [
          35.77719585436781,
          51.45900833186246,
          21
         ],
         [
          35.77705117995552,
          51.45972167511285,
          22
         ],
         [
          35.77739793519654,
          51.45975749071574,
          23
         ],
         [
          35.77770364978767,
          51.460186742658564,
          24
         ],
         [
          35.7773734646597,
          51.46078960724301,
          25
         ],
         [
          35.777145902051174,
          51.461446766901354,
          26
         ],
         [
          35.77701561762356,
          51.46205383775659,
          27
         ],
         [
          35.777505485972924,
          51.46231153111611,
          28
         ],
         [
          35.77788849835567,
          51.462580773364216,
          29
         ],
         [
          35.77854703533906,
          51.46275506433756,
          30
         ],
         [
          35.77860699276396,
          51.462980171946135,
          31
         ],
         [
          35.77832369299789,
          51.46360151053814,
          32
         ],
         [
          35.778649905181915,
          51.46416508436032,
          33
         ],
         [
          35.77906013478253,
          51.46419377311819,
          34
         ],
         [
          35.779612097342174,
          51.464263544004744,
          35
         ],
         [
          35.77982488082819,
          51.464489953615924,
          36
         ]
        ],
        "index": [
         0,
         1,
         2,
         3,
         4,
         5,
         6,
         7,
         8,
         9,
         10,
         11,
         12,
         13,
         14,
         15,
         16,
         17,
         18,
         19,
         20,
         21,
         22,
         23,
         24,
         25,
         26,
         27,
         28,
         29,
         30,
         31,
         32,
         33,
         34,
         35,
         36
        ]
       }
      },
      "height": 750,
      "layout": "IPY_MODEL_920582119acc42b5a7fceaf8d2322566",
      "value": "Hello World!"
     }
    },
    "a2c94c24834b4779b266b9a99bdd23fd": {
     "model_module": "@jupyter-widgets/base",
     "model_module_version": "1.2.0",
     "model_name": "LayoutModel",
     "state": {
      "_model_module": "@jupyter-widgets/base",
      "_model_module_version": "1.2.0",
      "_model_name": "LayoutModel",
      "_view_count": null,
      "_view_module": "@jupyter-widgets/base",
      "_view_module_version": "1.2.0",
      "_view_name": "LayoutView",
      "align_content": null,
      "align_items": null,
      "align_self": null,
      "border": null,
      "bottom": null,
      "display": null,
      "flex": null,
      "flex_flow": null,
      "grid_area": null,
      "grid_auto_columns": null,
      "grid_auto_flow": null,
      "grid_auto_rows": null,
      "grid_column": null,
      "grid_gap": null,
      "grid_row": null,
      "grid_template_areas": null,
      "grid_template_columns": null,
      "grid_template_rows": null,
      "height": null,
      "justify_content": null,
      "justify_items": null,
      "left": null,
      "margin": null,
      "max_height": null,
      "max_width": null,
      "min_height": null,
      "min_width": null,
      "object_fit": null,
      "object_position": null,
      "order": null,
      "overflow": null,
      "overflow_x": null,
      "overflow_y": null,
      "padding": null,
      "right": null,
      "top": null,
      "visibility": null,
      "width": null
     }
    },
    "a5fcb2867c664d00a451c9d048bb5cbf": {
     "model_module": "keplergl-jupyter",
     "model_module_version": "^0.3.2",
     "model_name": "KeplerGlModal",
     "state": {
      "_dom_classes": [],
      "_model_module": "keplergl-jupyter",
      "_model_module_version": "^0.3.2",
      "_model_name": "KeplerGlModal",
      "_view_count": null,
      "_view_module": "keplergl-jupyter",
      "_view_module_version": "^0.3.2",
      "_view_name": "KeplerGlView",
      "config": {
       "config": {
        "mapState": {
         "bearing": 0,
         "dragRotate": false,
         "isSplit": false,
         "latitude": 35.77749252319336,
         "longitude": 51.45620918273926,
         "pitch": 0,
         "zoom": 15
        },
        "mapStyle": {
         "mapStyles": {},
         "styleType": "dark",
         "threeDBuildingColor": [
          9.665468314072013,
          17.18305478057247,
          31.1442867897876
         ],
         "topLayerGroups": {},
         "visibleLayerGroups": {
          "3d building": false,
          "border": false,
          "building": true,
          "label": true,
          "land": true,
          "road": true,
          "water": true
         }
        },
        "visState": {
         "animationConfig": {
          "currentTime": null,
          "speed": 1
         },
         "filters": [],
         "interactionConfig": {
          "brush": {
           "enabled": false,
           "size": 0.5
          },
          "coordinate": {
           "enabled": false
          },
          "geocoder": {
           "enabled": false
          },
          "tooltip": {
           "compareMode": false,
           "compareType": "absolute",
           "enabled": true,
           "fieldsToShow": {
            "data": [
             {
              "format": null,
              "name": "timestamp"
             }
            ]
           }
          }
         },
         "layerBlending": "normal",
         "layers": [
          {
           "config": {
            "color": [
             18,
             147,
             154
            ],
            "columns": {
             "altitude": null,
             "lat": "lat",
             "lng": "lon"
            },
            "dataId": "data",
            "hidden": false,
            "highlightColor": [
             252,
             242,
             26,
             255
            ],
            "isVisible": true,
            "label": "Point",
            "textLabel": [
             {
              "alignment": "center",
              "anchor": "start",
              "color": [
               255,
               255,
               255
              ],
              "field": null,
              "offset": [
               0,
               0
              ],
              "size": 18
             }
            ],
            "visConfig": {
             "colorRange": {
              "category": "Uber",
              "colors": [
               "#5A1846",
               "#900C3F",
               "#C70039",
               "#E3611C",
               "#F1920E",
               "#FFC300"
              ],
              "name": "Global Warming",
              "type": "sequential"
             },
             "filled": true,
             "fixedRadius": false,
             "opacity": 0.8,
             "outline": false,
             "radius": 10,
             "radiusRange": [
              0,
              50
             ],
             "strokeColor": null,
             "strokeColorRange": {
              "category": "Uber",
              "colors": [
               "#5A1846",
               "#900C3F",
               "#C70039",
               "#E3611C",
               "#F1920E",
               "#FFC300"
              ],
              "name": "Global Warming",
              "type": "sequential"
             },
             "thickness": 2
            }
           },
           "id": "6q1upda",
           "type": "point",
           "visualChannels": {
            "colorField": {
             "name": "timestamp",
             "type": "integer"
            },
            "colorScale": "quantile",
            "sizeField": null,
            "sizeScale": "linear",
            "strokeColorField": null,
            "strokeColorScale": "quantile"
           }
          }
         ],
         "splitMaps": []
        }
       },
       "version": "v1"
      },
      "data": {
       "data": {
        "columns": [
         "lat",
         "lon",
         "timestamp"
        ],
        "data": [
         [
          35.77511978149414,
          51.447975158691406,
          0
         ],
         [
          35.77562687681527,
          51.448202477143326,
          1
         ],
         [
          35.776134751337054,
          51.44842703868589,
          2
         ],
         [
          35.776644415291905,
          51.448645466747905,
          3
         ],
         [
          35.777148980419554,
          51.44888116460721,
          4
         ],
         [
          35.77765410690363,
          51.449115038877814,
          5
         ],
         [
          35.778150303268646,
          51.44935325126417,
          6
         ],
         [
          35.77821741592872,
          51.450013197010676,
          7
         ],
         [
          35.77828425072117,
          51.45067318385095,
          8
         ],
         [
          35.778349454025175,
          51.451333414966804,
          9
         ],
         [
          35.778420903306206,
          51.451992618979794,
          10
         ],
         [
          35.778497937147634,
          51.45265091602301,
          11
         ],
         [
          35.778552306259414,
          51.453312597541355,
          12
         ],
         [
          35.77859550058828,
          51.453973352728845,
          13
         ],
         [
          35.778435539939615,
          51.454608563186675,
          14
         ],
         [
          35.778265060883754,
          51.455239376085466,
          15
         ],
         [
          35.778100792399314,
          51.45587290295374,
          16
         ],
         [
          35.77793443218248,
          51.456505611514416,
          17
         ],
         [
          35.77776503374557,
          51.457137079214924,
          18
         ],
         [
          35.7775851263254,
          51.45776403567846,
          19
         ],
         [
          35.77738730928046,
          51.45838281337384,
          20
         ],
         [
          35.777186773992995,
          51.459000263686576,
          21
         ],
         [
          35.7769976906784,
          51.45961061555368,
          22
         ],
         [
          35.77745534268614,
          51.45975764592408,
          23
         ],
         [
          35.77753034783123,
          51.460210380292764,
          24
         ],
         [
          35.77736216850331,
          51.4608423112228,
          25
         ],
         [
          35.77720484849881,
          51.461478512915185,
          26
         ],
         [
          35.77704752514366,
          51.462114712089935,
          27
         ],
         [
          35.77755675652527,
          51.46231737056076,
          28
         ],
         [
          35.778073771395,
          51.46250747769097,
          29
         ],
         [
          35.77859316193116,
          51.46268774893689,
          30
         ],
         [
          35.77861107882759,
          51.463120660037,
          31
         ],
         [
          35.7785554458483,
          51.46356841732618,
          32
         ],
         [
          35.77867099688728,
          51.464154154459735,
          33
         ],
         [
          35.77908541027821,
          51.46429800460987,
          34
         ],
         [
          35.779622521696915,
          51.46423444872278,
          35
         ],
         [
          35.77986526489258,
          51.46444320678711,
          36
         ]
        ],
        "index": [
         0,
         1,
         2,
         3,
         4,
         5,
         6,
         7,
         8,
         9,
         10,
         11,
         12,
         13,
         14,
         15,
         16,
         17,
         18,
         19,
         20,
         21,
         22,
         23,
         24,
         25,
         26,
         27,
         28,
         29,
         30,
         31,
         32,
         33,
         34,
         35,
         36
        ]
       }
      },
      "height": 750,
      "layout": "IPY_MODEL_a2c94c24834b4779b266b9a99bdd23fd",
      "value": "Hello World!"
     }
    },
    "a8e1f8123d97492a90e5b31c91314963": {
     "model_module": "keplergl-jupyter",
     "model_module_version": "^0.3.2",
     "model_name": "KeplerGlModal",
     "state": {
      "_dom_classes": [],
      "_model_module": "keplergl-jupyter",
      "_model_module_version": "^0.3.2",
      "_model_name": "KeplerGlModal",
      "_view_count": null,
      "_view_module": "keplergl-jupyter",
      "_view_module_version": "^0.3.2",
      "_view_name": "KeplerGlView",
      "config": {
       "config": {
        "mapState": {
         "bearing": 0,
         "dragRotate": false,
         "isSplit": false,
         "latitude": 35.770992279052734,
         "longitude": 51.452999114990234,
         "pitch": 0,
         "zoom": 14
        },
        "mapStyle": {
         "mapStyles": {},
         "styleType": "dark",
         "threeDBuildingColor": [
          9.665468314072013,
          17.18305478057247,
          31.1442867897876
         ],
         "topLayerGroups": {},
         "visibleLayerGroups": {
          "3d building": false,
          "border": false,
          "building": true,
          "label": true,
          "land": true,
          "road": true,
          "water": true
         }
        },
        "visState": {
         "animationConfig": {
          "currentTime": null,
          "speed": 1
         },
         "filters": [],
         "interactionConfig": {
          "brush": {
           "enabled": false,
           "size": 0.5
          },
          "coordinate": {
           "enabled": false
          },
          "geocoder": {
           "enabled": false
          },
          "tooltip": {
           "compareMode": false,
           "compareType": "absolute",
           "enabled": true,
           "fieldsToShow": {
            "Tehran": [
             {
              "format": null,
              "name": "id"
             }
            ]
           }
          }
         },
         "layerBlending": "normal",
         "layers": [
          {
           "config": {
            "color": [
             18,
             147,
             154
            ],
            "columns": {
             "altitude": null,
             "lat": "lat",
             "lng": "lon"
            },
            "dataId": "Tehran",
            "hidden": false,
            "highlightColor": [
             252,
             242,
             26,
             255
            ],
            "isVisible": true,
            "label": "Point",
            "textLabel": [
             {
              "alignment": "center",
              "anchor": "start",
              "color": [
               255,
               255,
               255
              ],
              "field": null,
              "offset": [
               0,
               0
              ],
              "size": 18
             }
            ],
            "visConfig": {
             "colorRange": {
              "category": "Uber",
              "colors": [
               "#5A1846",
               "#900C3F",
               "#C70039",
               "#E3611C",
               "#F1920E",
               "#FFC300"
              ],
              "name": "Global Warming",
              "type": "sequential"
             },
             "filled": true,
             "fixedRadius": false,
             "opacity": 0.8,
             "outline": false,
             "radius": 10,
             "radiusRange": [
              0,
              50
             ],
             "strokeColor": null,
             "strokeColorRange": {
              "category": "Uber",
              "colors": [
               "#5A1846",
               "#900C3F",
               "#C70039",
               "#E3611C",
               "#F1920E",
               "#FFC300"
              ],
              "name": "Global Warming",
              "type": "sequential"
             },
             "thickness": 2
            }
           },
           "id": "h5yj6h",
           "type": "point",
           "visualChannels": {
            "colorField": null,
            "colorScale": "quantile",
            "sizeField": null,
            "sizeScale": "linear",
            "strokeColorField": null,
            "strokeColorScale": "quantile"
           }
          }
         ],
         "splitMaps": []
        }
       },
       "version": "v1"
      },
      "data": {
       "Tehran": {
        "columns": [
         "id",
         "lat",
         "lon"
        ],
        "data": [
         [
          423833948,
          35.77241897583008,
          51.46565246582031
         ],
         [
          423793584,
          35.77174758911133,
          51.46508407592773
         ],
         [
          177536927,
          35.77622985839844,
          51.46503448486328
         ],
         [
          177540293,
          35.771034240722656,
          51.46446228027344
         ],
         [
          423832815,
          35.77217483520508,
          51.46149444580078
         ],
         [
          4316456842,
          35.774864196777344,
          51.45629119873047
         ],
         [
          4316456836,
          35.77397537231445,
          51.45588684082031
         ],
         [
          423832593,
          35.77321243286133,
          51.45553970336914
         ],
         [
          4695969093,
          35.77308654785156,
          51.45548248291016
         ],
         [
          4695924428,
          35.772605895996094,
          51.45526123046875
         ],
         [
          4695969091,
          35.77205276489258,
          51.45500946044922
         ],
         [
          4695924438,
          35.77192687988281,
          51.45495223999024
         ],
         [
          4695924440,
          35.77153778076172,
          51.45477294921875
         ],
         [
          423832592,
          35.77053451538086,
          51.45431518554688
         ],
         [
          281195833,
          35.76242446899414,
          51.44197082519531
         ],
         [
          4998084446,
          35.763710021972656,
          51.4554328918457
         ],
         [
          9512321115,
          35.76319885253906,
          51.456764221191406
         ],
         [
          33238927,
          35.76271057128906,
          51.45804214477539
         ],
         [
          423793590,
          35.77430725097656,
          51.4633903503418
         ],
         [
          423793586,
          35.769622802734375,
          51.46323013305664
         ],
         [
          423793593,
          35.77075958251953,
          51.46023941040039
         ],
         [
          423793587,
          35.7689208984375,
          51.46261596679688
         ],
         [
          423793620,
          35.767765045166016,
          51.465576171875
         ],
         [
          423793628,
          35.7643928527832,
          51.45301818847656
         ],
         [
          4695818020,
          35.76469802856445,
          51.45316696166992
         ],
         [
          5257384708,
          35.76482391357422,
          51.45322799682617
         ],
         [
          4695667407,
          35.765560150146484,
          51.45358657836914
         ],
         [
          4695667401,
          35.766117095947266,
          51.45383834838867
         ],
         [
          4695818018,
          35.76726150512695,
          51.4543571472168
         ],
         [
          4695818016,
          35.76739883422852,
          51.45441818237305
         ],
         [
          4695818013,
          35.76789474487305,
          51.45464324951172
         ],
         [
          4879764419,
          35.76837539672852,
          51.454856872558594
         ],
         [
          4695882304,
          35.76919937133789,
          51.45524215698242
         ],
         [
          4695882301,
          35.76923370361328,
          51.45525741577149
         ],
         [
          4695924450,
          35.769962310791016,
          51.45559310913086
         ],
         [
          1864300705,
          35.77011489868164,
          51.45566177368164
         ],
         [
          4695924446,
          35.77068328857422,
          51.4559211730957
         ],
         [
          4695924443,
          35.77082443237305,
          51.45598602294922
         ],
         [
          4695924442,
          35.77109146118164,
          51.45610809326172
         ],
         [
          4695924436,
          35.77115249633789,
          51.45613479614258
         ],
         [
          4695924430,
          35.77235412597656,
          51.45668411254883
         ],
         [
          423793625,
          35.7726936340332,
          51.45683670043945
         ],
         [
          4695924423,
          35.772884368896484,
          51.45692825317383
         ],
         [
          4695924416,
          35.77301788330078,
          51.45698928833008
         ],
         [
          4695924419,
          35.773555755615234,
          51.45724105834961
         ],
         [
          4316456839,
          35.77447509765625,
          51.45767211914063
         ],
         [
          4695924412,
          35.7746467590332,
          51.45774841308594
         ],
         [
          4695969106,
          35.77534866333008,
          51.45808029174805
         ],
         [
          4695969108,
          35.775569915771484,
          51.45818328857422
         ],
         [
          4695924400,
          35.77606201171875,
          51.45841217041016
         ],
         [
          4695924403,
          35.7763786315918,
          51.45856094360352
         ],
         [
          423793624,
          35.7772216796875,
          51.45889663696289
         ],
         [
          9339973930,
          35.77145767211914,
          51.46086502075195
         ],
         [
          423793585,
          35.77031707763672,
          51.46383285522461
         ],
         [
          423793656,
          35.76783752441406,
          51.456634521484375
         ],
         [
          423793655,
          35.768821716308594,
          51.45701599121094
         ],
         [
          423793654,
          35.76957702636719,
          51.45745468139648
         ],
         [
          4429680696,
          35.770267486572266,
          51.458045959472656
         ],
         [
          423832803,
          35.770931243896484,
          51.458621978759766
         ],
         [
          423832797,
          35.771705627441406,
          51.45929718017578
         ],
         [
          4429680701,
          35.77253723144531,
          51.46001815795898
         ],
         [
          423793653,
          35.773292541503906,
          51.46067428588867
         ],
         [
          423793649,
          35.76551055908203,
          51.464111328125
         ],
         [
          423816409,
          35.765892028808594,
          51.450870513916016
         ],
         [
          4695667391,
          35.76615524291992,
          51.45100021362305
         ],
         [
          4695666779,
          35.76675796508789,
          51.4512939453125
         ],
         [
          4695667389,
          35.7668571472168,
          51.45133972167969
         ],
         [
          4379726016,
          35.76731872558594,
          51.4515495300293
         ],
         [
          4379726017,
          35.767578125,
          51.45166778564453
         ],
         [
          806589535,
          35.76787185668945,
          51.451805114746094
         ],
         [
          4695666782,
          35.76834487915039,
          51.45201873779297
         ],
         [
          423816032,
          35.769142150878906,
          51.4523811340332
         ],
         [
          2813223401,
          35.769981384277344,
          51.45276641845703
         ],
         [
          5289254243,
          35.77088928222656,
          51.45317840576172
         ],
         [
          4695968787,
          35.7713508605957,
          51.453392028808594
         ],
         [
          9033986795,
          35.77168655395508,
          51.45354461669922
         ],
         [
          4695968785,
          35.77170181274414,
          51.45355224609375
         ],
         [
          4695969089,
          35.772056579589844,
          51.453712463378906
         ],
         [
          4695969090,
          35.77244186401367,
          51.453887939453125
         ],
         [
          4695975727,
          35.77276611328125,
          51.45403671264648
         ],
         [
          4695975725,
          35.77320098876953,
          51.4542350769043
         ],
         [
          4695969094,
          35.77341842651367,
          51.4543342590332
         ],
         [
          423793660,
          35.77419662475586,
          51.454689025878906
         ],
         [
          4316456838,
          35.774314880371094,
          51.45474243164063
         ],
         [
          4316456840,
          35.77471923828125,
          51.454925537109375
         ],
         [
          4316456845,
          35.77518844604492,
          51.45514297485352
         ],
         [
          4695969100,
          35.775630950927734,
          51.455345153808594
         ],
         [
          4695975715,
          35.77641677856445,
          51.45570373535156
         ],
         [
          4316456855,
          35.77652740478516,
          51.455753326416016
         ],
         [
          4316456857,
          35.77686309814453,
          51.45590591430664
         ],
         [
          4695978676,
          35.77712631225586,
          51.45602798461914
         ],
         [
          423793661,
          35.77797317504883,
          51.45635986328125
         ],
         [
          4698544216,
          35.7786979675293,
          51.45674896240234
         ],
         [
          4698557165,
          35.778892517089844,
          51.45684051513672
         ],
         [
          1721683043,
          35.77900314331055,
          51.45689010620117
         ],
         [
          4698557167,
          35.779232025146484,
          51.456993103027344
         ],
         [
          4698546824,
          35.77977752685547,
          51.45724487304688
         ],
         [
          4450610059,
          35.77180480957031,
          51.44065475463867
         ],
         [
          4698344869,
          35.771976470947266,
          51.44136047363281
         ],
         [
          7152200398,
          35.772064208984375,
          51.44171905517578
         ],
         [
          4695866630,
          35.772220611572266,
          51.442359924316406
         ],
         [
          423816741,
          35.77224349975586,
          51.44244766235352
         ],
         [
          3405484875,
          35.77225112915039,
          51.44248580932617
         ],
         [
          423813731,
          35.77243423461914,
          51.44321823120117
         ],
         [
          1721683023,
          35.77545547485352,
          51.45302963256836
         ],
         [
          7009844821,
          35.775447845458984,
          51.45302581787109
         ],
         [
          7009847467,
          35.77544021606445,
          51.45302200317383
         ],
         [
          423815686,
          35.77533721923828,
          51.45297622680664
         ],
         [
          4316456841,
          35.774845123291016,
          51.45275115966797
         ],
         [
          423816014,
          35.77462387084961,
          51.45265197753906
         ],
         [
          423816010,
          35.77384948730469,
          51.45230102539063
         ],
         [
          423816008,
          35.77292251586914,
          51.451881408691406
         ],
         [
          4695975729,
          35.772422790527344,
          51.45165252685547
         ],
         [
          423816003,
          35.772056579589844,
          51.45148849487305
         ],
         [
          1864300686,
          35.7714958190918,
          51.45123291015625
         ],
         [
          2861503344,
          35.77130508422852,
          51.45114517211914
         ],
         [
          423813735,
          35.771263122558594,
          51.45112609863281
         ],
         [
          2861503340,
          35.770782470703125,
          51.45090866088867
         ],
         [
          423816026,
          35.770484924316406,
          51.450775146484375
         ],
         [
          2861503342,
          35.770259857177734,
          51.4506721496582
         ],
         [
          423815684,
          35.76974105834961,
          51.45043563842773
         ],
         [
          423816034,
          35.76902389526367,
          51.45011138916016
         ],
         [
          423816037,
          35.768409729003906,
          51.449832916259766
         ],
         [
          4379726018,
          35.768157958984375,
          51.4497184753418
         ],
         [
          423816039,
          35.767845153808594,
          51.44957733154297
         ],
         [
          4695666772,
          35.76729202270508,
          51.44932556152344
         ],
         [
          4695666777,
          35.766963958740234,
          51.44917678833008
         ],
         [
          423816408,
          35.76681900024414,
          51.44911193847656
         ],
         [
          1762129786,
          35.768165588378906,
          51.447044372558594
         ],
         [
          1762129788,
          35.76850891113281,
          51.44720077514648
         ],
         [
          1762129792,
          35.76909637451172,
          51.44746398925781
         ],
         [
          1762129796,
          35.76971435546875,
          51.44774627685547
         ],
         [
          423816031,
          35.770469665527344,
          51.44808578491211
         ],
         [
          1762129803,
          35.77119827270508,
          51.44841766357422
         ],
         [
          423815689,
          35.771968841552734,
          51.44876480102539
         ],
         [
          1762129807,
          35.772743225097656,
          51.44911575317383
         ],
         [
          1721875820,
          35.7734489440918,
          51.44943237304688
         ],
         [
          423815692,
          35.778377532958984,
          51.451622009277344
         ],
         [
          4698536184,
          35.7783088684082,
          51.4509162902832
         ],
         [
          423815694,
          35.77821731567383,
          51.45001220703125
         ],
         [
          423815693,
          35.77814865112305,
          51.449337005615234
         ],
         [
          1762129778,
          35.7669677734375,
          51.44844818115234
         ],
         [
          3405484864,
          35.76700210571289,
          51.44811630249024
         ],
         [
          3405484866,
          35.76702117919922,
          51.448036193847656
         ],
         [
          4695737209,
          35.76763153076172,
          51.447509765625
         ],
         [
          4695666775,
          35.76774215698242,
          51.447410583496094
         ],
         [
          423815687,
          35.76822280883789,
          51.44699478149414
         ],
         [
          423815707,
          35.771183013916016,
          51.44378280639648
         ],
         [
          4696009400,
          35.771480560302734,
          51.44364929199219
         ],
         [
          423815715,
          35.77528762817383,
          51.44651412963867
         ],
         [
          4316456843,
          35.77488708496094,
          51.447872161865234
         ],
         [
          423816006,
          35.77423477172852,
          51.44757843017578
         ],
         [
          1721875824,
          35.7736701965332,
          51.449405670166016
         ],
         [
          423815690,
          35.77452850341797,
          51.44992065429688
         ],
         [
          423816018,
          35.7758903503418,
          51.44832229614258
         ],
         [
          423816016,
          35.77531433105469,
          51.45026779174805
         ],
         [
          423816022,
          35.77603912353516,
          51.45058822631836
         ],
         [
          423816019,
          35.77666473388672,
          51.44865417480469
         ],
         [
          4695998353,
          35.776878356933594,
          51.44804763793945
         ],
         [
          423816025,
          35.77709197998047,
          51.44731140136719
         ],
         [
          423816030,
          35.77106475830078,
          51.44615173339844
         ],
         [
          4695666787,
          35.76934814453125,
          51.45171356201172
         ],
         [
          2860485036,
          35.76896667480469,
          51.45294952392578
         ],
         [
          423832591,
          35.768798828125,
          51.4534912109375
         ],
         [
          423815688,
          35.76971435546875,
          51.44775390625
         ],
         [
          423816033,
          35.77028274536133,
          51.44580078125
         ],
         [
          1762129790,
          35.768680572509766,
          51.4488639831543
         ],
         [
          1762129779,
          35.76811599731445,
          51.4486083984375
         ],
         [
          3844136667,
          35.76804733276367,
          51.44147491455078
         ],
         [
          2170381701,
          35.7684326171875,
          51.44135665893555
         ],
         [
          2170382317,
          35.76852798461914,
          51.44132614135742
         ],
         [
          2170381978,
          35.76898193359375,
          51.441200256347656
         ],
         [
          4683382419,
          35.769309997558594,
          51.44107818603516
         ],
         [
          423816401,
          35.76968002319336,
          51.44092178344727
         ],
         [
          4695837547,
          35.76990509033203,
          51.44078826904297
         ],
         [
          4695837549,
          35.77012252807617,
          51.44065856933594
         ],
         [
          4683382423,
          35.77042770385742,
          51.44048309326172
         ],
         [
          4683382420,
          35.77100372314453,
          51.44011688232422
         ],
         [
          3405484852,
          35.766727447509766,
          51.44848251342773
         ],
         [
          4692533035,
          35.766700744628906,
          51.447731018066406
         ],
         [
          3405484865,
          35.7667350769043,
          51.44758605957031
         ],
         [
          423816747,
          35.766990661621094,
          51.44710922241211
         ],
         [
          4695737210,
          35.7673225402832,
          51.44620132446289
         ],
         [
          4683382443,
          35.767364501953125,
          51.44577407836914
         ],
         [
          4695837565,
          35.76738739013672,
          51.44536972045898
         ],
         [
          423816406,
          35.76747131347656,
          51.443809509277344
         ],
         [
          4692533034,
          35.76746368408203,
          51.44366836547852
         ],
         [
          9357300681,
          35.76744079589844,
          51.44355392456055
         ],
         [
          423816405,
          35.76740646362305,
          51.44342803955078
         ],
         [
          4403810838,
          35.76723861694336,
          51.442962646484375
         ],
         [
          423816404,
          35.76713180541992,
          51.44269561767578
         ],
         [
          10286634511,
          35.766937255859375,
          51.442195892333984
         ],
         [
          2170381752,
          35.76691436767578,
          51.44213485717773
         ],
         [
          423821036,
          35.77576446533203,
          51.44242477416992
         ],
         [
          4698380174,
          35.776241302490234,
          51.44225692749024
         ],
         [
          4698380176,
          35.77665328979492,
          51.442115783691406
         ],
         [
          423821041,
          35.776851654052734,
          51.44204711914063
         ],
         [
          423821030,
          35.777034759521484,
          51.44196701049805
         ],
         [
          423821054,
          35.77751922607422,
          51.44269943237305
         ],
         [
          423821055,
          35.77725982666016,
          51.44293975830078
         ],
         [
          423821057,
          35.7771110534668,
          51.44329071044922
         ],
         [
          4513930724,
          35.77705383300781,
          51.44344329833984
         ],
         [
          4698502247,
          35.77702713012695,
          51.44358825683594
         ],
         [
          4698502249,
          35.77695083618164,
          51.443965911865234
         ],
         [
          423821059,
          35.77692031860352,
          51.44412612915039
         ],
         [
          4698502268,
          35.77687454223633,
          51.44447708129883
         ],
         [
          4593950806,
          35.7768669128418,
          51.44453430175781
         ],
         [
          423821062,
          35.77680969238281,
          51.444969177246094
         ],
         [
          4698502256,
          35.77676010131836,
          51.44524002075195
         ],
         [
          3965305162,
          35.77674102783203,
          51.44533157348633
         ],
         [
          4698502260,
          35.7767219543457,
          51.44538879394531
         ],
         [
          423821064,
          35.77664566040039,
          51.445613861083984
         ],
         [
          3965305168,
          35.7765007019043,
          51.44595336914063
         ],
         [
          4698502276,
          35.77642059326172,
          51.44618988037109
         ],
         [
          4705343072,
          35.7796630859375,
          51.44007110595703
         ],
         [
          4705343077,
          35.77937698364258,
          51.44013977050781
         ],
         [
          4705343079,
          35.77914810180664,
          51.44019317626953
         ],
         [
          423821129,
          35.77891540527344,
          51.44024658203125
         ],
         [
          423821086,
          35.77907943725586,
          51.4445915222168
         ],
         [
          423821094,
          35.779781341552734,
          51.444580078125
         ],
         [
          423821103,
          35.7799072265625,
          51.4436149597168
         ],
         [
          423813740,
          35.77953338623047,
          51.44660568237305
         ],
         [
          4705474456,
          35.77960968017578,
          51.446754455566406
         ],
         [
          423821146,
          35.77973175048828,
          51.446998596191406
         ],
         [
          423832798,
          35.772518157958984,
          51.4579963684082
         ],
         [
          423832796,
          35.77098846435547,
          51.460445404052734
         ],
         [
          423832802,
          35.77021026611328,
          51.45978164672852
         ],
         [
          4429680699,
          35.77131271362305,
          51.458003997802734
         ],
         [
          423832804,
          35.77161407470703,
          51.4575080871582
         ],
         [
          423832941,
          35.77815246582031,
          51.464317321777344
         ],
         [
          423832817,
          35.777374267578125,
          51.46415710449219
         ],
         [
          423832942,
          35.77662658691406,
          51.46377182006836
         ],
         [
          4482481112,
          35.776161193847656,
          51.4635124206543
         ],
         [
          423832943,
          35.77569580078125,
          51.46326446533203
         ],
         [
          4695969112,
          35.77491760253906,
          51.46297073364258
         ],
         [
          423832944,
          35.77452850341797,
          51.46282577514648
         ],
         [
          2106802326,
          35.774017333984375,
          51.46267318725586
         ],
         [
          423832945,
          35.77372360229492,
          51.46255111694336
         ],
         [
          423832946,
          35.77336883544922,
          51.4625358581543
         ],
         [
          4696632853,
          35.77998352050781,
          51.46158981323242
         ],
         [
          4696632851,
          35.77973937988281,
          51.46150970458984
         ],
         [
          423832952,
          35.7794303894043,
          51.461402893066406
         ],
         [
          4698557150,
          35.77901840209961,
          51.46125030517578
         ],
         [
          423832811,
          35.77819061279297,
          51.460975646972656
         ],
         [
          423833953,
          35.77739334106445,
          51.460716247558594
         ],
         [
          4429692927,
          35.77651596069336,
          51.46044921875
         ],
         [
          4698557148,
          35.776309967041016,
          51.46037292480469
         ],
         [
          423832810,
          35.776058197021484,
          51.46028137207031
         ],
         [
          4695924410,
          35.775390625,
          51.45997619628906
         ],
         [
          4695924408,
          35.77531051635742,
          51.459938049316406
         ],
         [
          2106802319,
          35.77470779418945,
          51.45966339111328
         ],
         [
          423832809,
          35.77410888671875,
          51.45940399169922
         ],
         [
          4429684145,
          35.7740592956543,
          51.45937347412109
         ],
         [
          423832808,
          35.773616790771484,
          51.45903015136719
         ],
         [
          4429680700,
          35.77329635620117,
          51.458740234375
         ],
         [
          4695924421,
          35.77308654785156,
          51.45854187011719
         ],
         [
          4695924426,
          35.77245330810547,
          51.45793151855469
         ],
         [
          423832807,
          35.772274017333984,
          51.45775604248047
         ],
         [
          4695924432,
          35.77138137817383,
          51.45742034912109
         ],
         [
          4429680698,
          35.7706298828125,
          51.4571418762207
         ],
         [
          423832806,
          35.76976013183594,
          51.456825256347656
         ],
         [
          4695924448,
          35.76972579956055,
          51.456809997558594
         ],
         [
          4379726030,
          35.76893997192383,
          51.4564323425293
         ],
         [
          4695882300,
          35.768890380859375,
          51.45641326904297
         ],
         [
          423832805,
          35.76799774169922,
          51.45606994628906
         ],
         [
          4654632492,
          35.7781982421875,
          51.46569442749024
         ],
         [
          423833046,
          35.77821350097656,
          51.46559143066406
         ],
         [
          423833040,
          35.77819061279297,
          51.46487808227539
         ],
         [
          423833947,
          35.773624420166016,
          51.4627571105957
         ],
         [
          423833951,
          35.774932861328125,
          51.46392440795898
         ],
         [
          2193982049,
          35.77704620361328,
          51.46212005615234
         ],
         [
          4221838199,
          35.76353454589844,
          51.44407653808594
         ],
         [
          424058126,
          35.764286041259766,
          51.44614410400391
         ],
         [
          423793631,
          35.76325607299805,
          51.45032501220703
         ],
         [
          4683436115,
          35.76368713378906,
          51.44913864135742
         ],
         [
          4268219995,
          35.763824462890625,
          51.44873809814453
         ],
         [
          424055339,
          35.763919830322266,
          51.44845962524414
         ],
         [
          4412258447,
          35.76419448852539,
          51.44758605957031
         ],
         [
          424055336,
          35.76420593261719,
          51.44755554199219
         ],
         [
          424055334,
          35.764259338378906,
          51.44737243652344
         ],
         [
          424055331,
          35.76428985595703,
          51.447227478027344
         ],
         [
          424055328,
          35.764278411865234,
          51.447113037109375
         ],
         [
          4268219996,
          35.76411056518555,
          51.4466438293457
         ],
         [
          11158587866,
          35.76329040527344,
          51.444366455078125
         ],
         [
          10860186807,
          35.763240814208984,
          51.44423294067383
         ],
         [
          4221864293,
          35.762298583984375,
          51.44477462768555
         ],
         [
          424055384,
          35.762699127197266,
          51.44581604003906
         ],
         [
          424055373,
          35.76317596435547,
          51.447113037109375
         ],
         [
          4268219990,
          35.762813568115234,
          51.44732284545898
         ],
         [
          424055390,
          35.762542724609375,
          51.44747924804688
         ],
         [
          424055389,
          35.762046813964844,
          51.44619369506836
         ],
         [
          4268219991,
          35.76291275024414,
          51.44841003417969
         ],
         [
          424055394,
          35.76300430297852,
          51.44866561889648
         ],
         [
          424055398,
          35.763023376464844,
          51.44880294799805
         ],
         [
          424055401,
          35.76301574707031,
          51.44907379150391
         ],
         [
          4268219388,
          35.762672424316406,
          51.45013427734375
         ],
         [
          424058122,
          35.76612854003906,
          51.444129943847656
         ],
         [
          4683382445,
          35.76664733886719,
          51.44385147094727
         ],
         [
          424058123,
          35.76641845703125,
          51.4450569152832
         ],
         [
          4695622374,
          35.76642990112305,
          51.44518661499024
         ],
         [
          4695622381,
          35.766456604003906,
          51.44545364379883
         ],
         [
          4683382444,
          35.766475677490234,
          51.44574737548828
         ],
         [
          424058124,
          35.76652526855469,
          51.44629669189453
         ],
         [
          424058134,
          35.76506042480469,
          51.44573974609375
         ],
         [
          424058120,
          35.765750885009766,
          51.44535827636719
         ],
         [
          424058128,
          35.764583587646484,
          51.44698333740234
         ],
         [
          4695611093,
          35.764801025390625,
          51.44686126708984
         ],
         [
          4695611091,
          35.76496887207031,
          51.4467658996582
         ],
         [
          4695611089,
          35.76528549194336,
          51.446590423583984
         ],
         [
          424058130,
          35.765342712402344,
          51.44655990600586
         ],
         [
          4695610687,
          35.7656364440918,
          51.44647979736328
         ],
         [
          424058132,
          35.76572036743164,
          51.44645690917969
         ],
         [
          4683436107,
          35.766014099121094,
          51.446414947509766
         ],
         [
          6638516672,
          35.76610565185547,
          51.44639205932617
         ],
         [
          424058121,
          35.76611328125,
          51.44637298583984
         ],
         [
          424065287,
          35.76249694824219,
          51.442081451416016
         ],
         [
          2170381755,
          35.762535095214844,
          51.44210052490234
         ],
         [
          2170382251,
          35.762577056884766,
          51.44210433959961
         ],
         [
          424065289,
          35.76261520385742,
          51.44209289550781
         ],
         [
          3373639187,
          35.762657165527344,
          51.44207000732422
         ],
         [
          2170381949,
          35.76268768310547,
          51.44203186035156
         ],
         [
          424065292,
          35.7627067565918,
          51.441986083984375
         ],
         [
          2170381807,
          35.762718200683594,
          51.441932678222656
         ],
         [
          424065294,
          35.76271438598633,
          51.44187545776367
         ],
         [
          2170381533,
          35.762691497802734,
          51.44181823730469
         ],
         [
          424065296,
          35.762657165527344,
          51.4417724609375
         ],
         [
          2170381993,
          35.76261520385742,
          51.44174575805664
         ],
         [
          2170381588,
          35.7625617980957,
          51.44173431396485
         ],
         [
          424065298,
          35.76251220703125,
          51.44174957275391
         ],
         [
          2170382256,
          35.762474060058594,
          51.441776275634766
         ],
         [
          424065300,
          35.762447357177734,
          51.44181442260742
         ],
         [
          2170381999,
          35.76242446899414,
          51.44186401367188
         ],
         [
          3373639188,
          35.76241683959961,
          51.4419174194336
         ],
         [
          2170382227,
          35.7624397277832,
          51.4420166015625
         ],
         [
          2170381628,
          35.76246643066406,
          51.44205474853516
         ],
         [
          424068095,
          35.76493453979492,
          51.44010925292969
         ],
         [
          424068113,
          35.76287078857422,
          51.44184494018555
         ],
         [
          424068117,
          35.76231002807617,
          51.44142532348633
         ],
         [
          424065302,
          35.76407241821289,
          51.44163513183594
         ],
         [
          423793635,
          35.76373291015625,
          51.441688537597656
         ],
         [
          2170382258,
          35.76799392700195,
          51.44139862060547
         ],
         [
          424084811,
          35.76502227783203,
          51.44126129150391
         ],
         [
          424084822,
          35.7657585144043,
          51.440956115722656
         ],
         [
          987580145,
          35.76594161987305,
          51.440879821777344
         ],
         [
          424084812,
          35.76622009277344,
          51.44076156616211
         ],
         [
          424084810,
          35.766510009765625,
          51.44063568115234
         ],
         [
          4708539712,
          35.76646423339844,
          51.440528869628906
         ],
         [
          4708539709,
          35.7663688659668,
          51.4403190612793
         ],
         [
          4708539707,
          35.76627731323242,
          51.44011306762695
         ],
         [
          4708539714,
          35.766624450683594,
          51.441890716552734
         ],
         [
          2170381826,
          35.76624298095703,
          51.4424057006836
         ],
         [
          429412560,
          35.76207733154297,
          51.45772171020508
         ],
         [
          5024815123,
          35.76213455200195,
          51.45771789550781
         ],
         [
          5024815124,
          35.762184143066406,
          51.45773696899414
         ],
         [
          429412533,
          35.76237487792969,
          51.46206665039063
         ],
         [
          443319976,
          35.76210021972656,
          51.46278381347656
         ],
         [
          429412488,
          35.76581954956055,
          51.45606994628906
         ],
         [
          33238925,
          35.76472091674805,
          51.45902633666992
         ],
         [
          731507423,
          35.76544952392578,
          51.4595832824707
         ],
         [
          429412487,
          35.76651763916016,
          51.45662689208984
         ],
         [
          429412524,
          35.766136169433594,
          51.46018600463867
         ],
         [
          423793648,
          35.7647819519043,
          51.46363830566406
         ],
         [
          30772620,
          35.76861953735352,
          51.45845413208008
         ],
         [
          429412523,
          35.76750183105469,
          51.46137619018555
         ],
         [
          429412536,
          35.76628494262695,
          51.46461486816406
         ],
         [
          429412537,
          35.76701354980469,
          51.465087890625
         ],
         [
          443319995,
          35.76424789428711,
          51.45894241333008
         ],
         [
          8932572871,
          35.76541519165039,
          51.45589065551758
         ],
         [
          443319997,
          35.765419006347656,
          51.45588302612305
         ],
         [
          443319996,
          35.763404846191406,
          51.45845031738281
         ],
         [
          9512328919,
          35.763763427734375,
          51.45753860473633
         ],
         [
          9512328922,
          35.76399612426758,
          51.45695114135742
         ],
         [
          9512321116,
          35.76445770263672,
          51.45578384399414
         ],
         [
          443319998,
          35.764530181884766,
          51.455657958984375
         ],
         [
          712608500,
          35.77579116821289,
          51.46464157104492
         ],
         [
          429412535,
          35.764041900634766,
          51.46313095092773
         ],
         [
          2170381811,
          35.765621185302734,
          51.442867279052734
         ],
         [
          2170381569,
          35.765586853027344,
          51.44277191162109
         ],
         [
          806589358,
          35.76752853393555,
          51.45288848876953
         ],
         [
          423816889,
          35.77547836303711,
          51.44029998779297
         ],
         [
          987522481,
          35.77067565917969,
          51.444114685058594
         ],
         [
          423815704,
          35.77092361450195,
          51.44488525390625
         ],
         [
          987522492,
          35.77142333984375,
          51.44545364379883
         ],
         [
          987522495,
          35.77145004272461,
          51.44454956054688
         ],
         [
          987543368,
          35.767852783203125,
          51.440059661865234
         ],
         [
          2170382310,
          35.76832962036133,
          51.44117736816406
         ],
         [
          423793664,
          35.77675247192383,
          51.45962905883789
         ],
         [
          6096557786,
          35.7769660949707,
          51.45964431762695
         ],
         [
          6434310435,
          35.77764129638672,
          51.45980072021485
         ],
         [
          6434310436,
          35.777687072753906,
          51.45981216430664
         ],
         [
          4698557156,
          35.778343200683594,
          51.46001434326172
         ],
         [
          423793665,
          35.77845001220703,
          51.46004867553711
         ],
         [
          423793666,
          35.77895736694336,
          51.46011734008789
         ],
         [
          4698557154,
          35.77928161621094,
          51.460105895996094
         ],
         [
          4698557152,
          35.77934646606445,
          51.46010208129883
         ],
         [
          1707151218,
          35.77993392944336,
          51.46524429321289
         ],
         [
          1707151179,
          35.778160095214844,
          51.464481353759766
         ],
         [
          4657953836,
          35.77772521972656,
          51.46525192260742
         ],
         [
          1707151173,
          35.777278900146484,
          51.46597290039063
         ],
         [
          423833041,
          35.778564453125,
          51.46511459350586
         ],
         [
          10701289868,
          35.778785705566406,
          51.46448516845703
         ],
         [
          4696632856,
          35.77983093261719,
          51.46237182617188
         ],
         [
          4696632858,
          35.77960586547852,
          51.46238327026367
         ],
         [
          4696632861,
          35.779441833496094,
          51.4623908996582
         ],
         [
          4696632863,
          35.77912139892578,
          51.46240234375
         ],
         [
          1707151184,
          35.77893829345703,
          51.46240997314453
         ],
         [
          1707151217,
          35.779884338378906,
          51.45899200439453
         ],
         [
          4698557163,
          35.779109954833984,
          51.45863342285156
         ],
         [
          4698557160,
          35.778160095214844,
          51.45819854736328
         ],
         [
          6434310437,
          35.778114318847656,
          51.45817565917969
         ],
         [
          1707151175,
          35.777557373046875,
          51.457855224609375
         ],
         [
          1707151190,
          35.77936935424805,
          51.46598434448242
         ],
         [
          423833042,
          35.77896881103516,
          51.46515655517578
         ],
         [
          4696627048,
          35.779937744140625,
          51.46304702758789
         ],
         [
          4696627046,
          35.77980422973633,
          51.46307373046875
         ],
         [
          4696627044,
          35.7794303894043,
          51.46315002441406
         ],
         [
          4696627042,
          35.779266357421875,
          51.46318435668945
         ],
         [
          1707151185,
          35.77912902832031,
          51.46321105957031
         ],
         [
          1707151181,
          35.77850341796875,
          51.46335220336914
         ],
         [
          4696607307,
          35.77980041503906,
          51.46492004394531
         ],
         [
          1707151212,
          35.77952194213867,
          51.464988708496094
         ],
         [
          4696607310,
          35.779441833496094,
          51.46503829956055
         ],
         [
          1721683060,
          35.779632568359375,
          51.45547866821289
         ],
         [
          1721683053,
          35.77956008911133,
          51.45610427856445
         ],
         [
          1721683045,
          35.77903747558594,
          51.44984436035156
         ],
         [
          5667400227,
          35.779029846191406,
          51.44994354248047
         ],
         [
          4698536185,
          35.77912521362305,
          51.450801849365234
         ],
         [
          1864321886,
          35.7793083190918,
          51.45259094238281
         ],
         [
          1721683049,
          35.77941131591797,
          51.4537353515625
         ],
         [
          1721683074,
          35.77970504760742,
          51.45359802246094
         ],
         [
          1721683057,
          35.77968215942383,
          51.45441818237305
         ],
         [
          4698544223,
          35.779483795166016,
          51.4551010131836
         ],
         [
          1721683081,
          35.77997589111328,
          51.45353698730469
         ],
         [
          1721683076,
          35.77989196777344,
          51.45307159423828
         ],
         [
          4698536187,
          35.77986145019531,
          51.45297622680664
         ],
         [
          1721683075,
          35.779815673828125,
          51.45232009887695
         ],
         [
          5186264957,
          35.779781341552734,
          51.45209503173828
         ],
         [
          5186264958,
          35.77971267700195,
          51.45188903808594
         ],
         [
          4698536190,
          35.779563903808594,
          51.45144271850586
         ],
         [
          4698536191,
          35.77949523925781,
          51.45098876953125
         ],
         [
          4698536189,
          35.77930450439453,
          51.45044708251953
         ],
         [
          4698536188,
          35.77911758422852,
          51.44994735717773
         ],
         [
          1721683079,
          35.77989959716797,
          51.45354461669922
         ],
         [
          4698536186,
          35.779014587402344,
          51.45387268066406
         ],
         [
          423832812,
          35.778602600097656,
          51.45394515991211
         ],
         [
          1864300717,
          35.778289794921875,
          51.45392608642578
         ],
         [
          1721683041,
          35.77815628051758,
          51.4540901184082
         ],
         [
          1864300678,
          35.77789688110352,
          51.4540901184082
         ],
         [
          1721683038,
          35.77740478515625,
          51.454078674316406
         ],
         [
          4695987410,
          35.7773323059082,
          51.45405197143555
         ],
         [
          1721683025,
          35.77680206298828,
          51.45387649536133
         ],
         [
          4695975717,
          35.776615142822266,
          51.45381164550781
         ],
         [
          4695975719,
          35.776092529296875,
          51.45362091064453
         ],
         [
          4316456852,
          35.77602005004883,
          51.45359420776367
         ],
         [
          1721683021,
          35.775489807128906,
          51.45340347290039
         ],
         [
          4316456848,
          35.775386810302734,
          51.45333862304688
         ],
         [
          7009847468,
          35.77545928955078,
          51.45305633544922
         ],
         [
          7009844822,
          35.77545928955078,
          51.45304107666016
         ],
         [
          1721683047,
          35.77945327758789,
          51.45540618896485
         ],
         [
          423815695,
          35.77850341796875,
          51.45269775390625
         ],
         [
          423832813,
          35.77833938598633,
          51.45499038696289
         ],
         [
          4698544220,
          35.778263092041016,
          51.45524597167969
         ],
         [
          4698544218,
          35.77815246582031,
          51.45566940307617
         ],
         [
          4695975713,
          35.77811813354492,
          51.45580673217773
         ],
         [
          4695969098,
          35.77781295776367,
          51.45696258544922
         ],
         [
          806589258,
          35.77766418457031,
          51.45750427246094
         ],
         [
          6096557785,
          35.777099609375,
          51.459259033203125
         ],
         [
          1721875823,
          35.77358627319336,
          51.44968032836914
         ],
         [
          1721875827,
          35.773765563964844,
          51.44948959350586
         ],
         [
          4557856613,
          35.77373123168945,
          51.44944763183594
         ],
         [
          4557856610,
          35.77362823486328,
          51.44938659667969
         ],
         [
          4557856609,
          35.77357864379883,
          51.44937133789063
         ],
         [
          4557856608,
          35.77353286743164,
          51.44937515258789
         ],
         [
          1721875822,
          35.77349090576172,
          51.44939422607422
         ],
         [
          1721875821,
          35.773433685302734,
          51.44949722290039
         ],
         [
          4557856606,
          35.7734489440918,
          51.44955062866211
         ],
         [
          4557856605,
          35.77348327636719,
          51.44960784912109
         ],
         [
          4557856607,
          35.77353286743164,
          51.449649810791016
         ],
         [
          4557856614,
          35.77365493774414,
          51.44968795776367
         ],
         [
          1721875825,
          35.773704528808594,
          51.44968795776367
         ],
         [
          4692090681,
          35.77374649047852,
          51.44967651367188
         ],
         [
          4557856611,
          35.773773193359375,
          51.44965744018555
         ],
         [
          423816007,
          35.773799896240234,
          51.4495964050293
         ],
         [
          4557856612,
          35.7737922668457,
          51.44954681396485
         ],
         [
          4316456856,
          35.77681350708008,
          51.450927734375
         ],
         [
          423815691,
          35.77757263183594,
          51.451263427734375
         ],
         [
          1725215766,
          35.779273986816406,
          51.441654205322266
         ],
         [
          1725215768,
          35.7793083190918,
          51.44122314453125
         ],
         [
          1725215760,
          35.77898025512695,
          51.44377899169922
         ],
         [
          1725215769,
          35.77931213378906,
          51.44384765625
         ],
         [
          1725215776,
          35.779563903808594,
          51.44301986694336
         ],
         [
          1725215779,
          35.77962112426758,
          51.44248580932617
         ],
         [
          1725215732,
          35.777320861816406,
          51.44136428833008
         ],
         [
          1725215731,
          35.77730941772461,
          51.44112014770508
         ],
         [
          1725215733,
          35.777591705322266,
          51.44012451171875
         ],
         [
          423821081,
          35.77895736694336,
          51.44279479980469
         ],
         [
          1725215765,
          35.77911376953125,
          51.44280242919922
         ],
         [
          1725215767,
          35.77928924560547,
          51.4428596496582
         ],
         [
          4705388831,
          35.779754638671875,
          51.44313049316406
         ],
         [
          1725215783,
          35.77985382080078,
          51.44318771362305
         ],
         [
          423821078,
          35.77869415283203,
          51.441184997558594
         ],
         [
          1725215742,
          35.77823638916016,
          51.44122695922852
         ],
         [
          1725215735,
          35.777732849121094,
          51.44129943847656
         ],
         [
          4705330057,
          35.7769775390625,
          51.44148635864258
         ],
         [
          1725415330,
          35.76313781738281,
          51.45066452026367
         ],
         [
          5621242686,
          35.76314163208008,
          51.45078659057617
         ],
         [
          9750712276,
          35.76315689086914,
          51.45084381103516
         ],
         [
          3405485397,
          35.76316452026367,
          51.45086669921875
         ],
         [
          3405485398,
          35.763214111328125,
          51.450927734375
         ],
         [
          5621242687,
          35.76327896118164,
          51.45097351074219
         ],
         [
          1725415333,
          35.76333999633789,
          51.45099258422852
         ],
         [
          1725415336,
          35.7636604309082,
          51.45094680786133
         ],
         [
          1725415349,
          35.76372528076172,
          51.45088958740234
         ],
         [
          5621242684,
          35.763755798339844,
          51.45082092285156
         ],
         [
          5621242685,
          35.76376724243164,
          51.45073699951172
         ],
         [
          1725415351,
          35.763755798339844,
          51.45066452026367
         ],
         [
          1725415347,
          35.76373672485352,
          51.45059585571289
         ],
         [
          6049896585,
          35.76205825805664,
          51.4599494934082
         ],
         [
          7266382968,
          35.762088775634766,
          51.45987319946289
         ],
         [
          4450941429,
          35.76274871826172,
          51.45807266235352
         ],
         [
          9751562375,
          35.76299285888672,
          51.45107650756836
         ],
         [
          9441587469,
          35.76324462890625,
          51.45101547241211
         ],
         [
          9900349188,
          35.76377487182617,
          51.45093536376953
         ],
         [
          9441587429,
          35.76381301879883,
          51.450931549072266
         ],
         [
          9569441698,
          35.76393127441406,
          51.45094299316406
         ],
         [
          3405485399,
          35.7640380859375,
          51.45096206665039
         ],
         [
          5243625250,
          35.76419448852539,
          51.45100402832031
         ],
         [
          1725415353,
          35.76434326171875,
          51.45106887817383
         ],
         [
          9649752359,
          35.765140533447266,
          51.45151519775391
         ],
         [
          1725415355,
          35.76548767089844,
          51.45170974731445
         ],
         [
          1739324377,
          35.77775573730469,
          51.454734802246094
         ],
         [
          2022634074,
          35.763362884521484,
          51.459468841552734
         ],
         [
          429412527,
          35.76369094848633,
          51.4586181640625
         ],
         [
          423816029,
          35.77177047729492,
          51.44646835327149
         ],
         [
          4695666773,
          35.767578125,
          51.4483757019043
         ],
         [
          1864300682,
          35.763954162597656,
          51.45256805419922
         ],
         [
          1864300725,
          35.76369094848633,
          51.45312881469727
         ],
         [
          9649752361,
          35.765167236328125,
          51.45156478881836
         ],
         [
          9649752360,
          35.76518249511719,
          51.45163345336914
         ],
         [
          5250611788,
          35.76518630981445,
          51.45169448852539
         ],
         [
          3405484860,
          35.765045166015625,
          51.45195388793945
         ],
         [
          3405484859,
          35.764835357666016,
          51.45207595825195
         ],
         [
          3405484858,
          35.76462173461914,
          51.45246505737305
         ],
         [
          1864300681,
          35.777984619140625,
          51.45314407348633
         ],
         [
          2022634080,
          35.76214599609375,
          51.46079254150391
         ],
         [
          2022634157,
          35.76261138916016,
          51.45971298217773
         ],
         [
          2022634063,
          35.762840270996094,
          51.45915222167969
         ],
         [
          3043244927,
          35.76308059692383,
          51.45855712890625
         ],
         [
          2022634168,
          35.76211166381836,
          51.46089553833008
         ],
         [
          2022634167,
          35.76219177246094,
          51.46067428588867
         ],
         [
          2022634096,
          35.762210845947266,
          51.46137619018555
         ],
         [
          4695969116,
          35.77428436279297,
          51.46159744262695
         ],
         [
          2106802324,
          35.77440643310547,
          51.46110153198242
         ],
         [
          4429684147,
          35.77497100830078,
          51.45880126953125
         ],
         [
          2106802328,
          35.77425765991211,
          51.46104431152344
         ],
         [
          423832814,
          35.77508544921875,
          51.46137237548828
         ],
         [
          4695969111,
          35.775638580322266,
          51.46158218383789
         ],
         [
          4429692926,
          35.776161193847656,
          51.46177291870117
         ],
         [
          2193982051,
          35.777835845947266,
          51.4624252319336
         ],
         [
          4698562498,
          35.77814483642578,
          51.46253204345703
         ],
         [
          2106802321,
          35.77878189086914,
          51.46275329589844
         ],
         [
          4695924405,
          35.77570724487305,
          51.46062850952149
         ],
         [
          11194352482,
          35.764122009277344,
          51.44183349609375
         ],
         [
          11194352481,
          35.76408767700195,
          51.44173049926758
         ],
         [
          1863667682,
          35.762882232666016,
          51.465938568115234
         ],
         [
          1863667614,
          35.7630500793457,
          51.46553421020508
         ],
         [
          4813621597,
          35.76319885253906,
          51.46516418457031
         ],
         [
          443319982,
          35.76326370239258,
          51.46500015258789
         ],
         [
          443320011,
          35.76279067993164,
          51.46549606323242
         ],
         [
          4466971380,
          35.76226806640625,
          51.46541595458984
         ],
         [
          2795047865,
          35.76327133178711,
          51.45281600952149
         ],
         [
          2795047866,
          35.76350021362305,
          51.45229721069336
         ],
         [
          2860485034,
          35.77017593383789,
          51.45210647583008
         ],
         [
          2813223402,
          35.77037048339844,
          51.45146942138672
         ],
         [
          423793594,
          35.77002716064453,
          51.45963287353516
         ],
         [
          2860485035,
          35.77109146118164,
          51.4525260925293
         ],
         [
          423832793,
          35.767539978027344,
          51.45750045776367
         ],
         [
          2861503341,
          35.77065658569336,
          51.45130157470703
         ],
         [
          2861503343,
          35.770103454589844,
          51.45112228393555
         ],
         [
          2861503345,
          35.7711181640625,
          51.45172500610352
         ],
         [
          423815710,
          35.774044036865234,
          51.441368103027344
         ],
         [
          423816890,
          35.77447891235352,
          51.44099044799805
         ],
         [
          4698367363,
          35.77455139160156,
          51.44094467163086
         ],
         [
          5726748645,
          35.77483367919922,
          51.44076919555664
         ],
         [
          4698367368,
          35.77505111694336,
          51.44063186645508
         ],
         [
          4698367369,
          35.77524948120117,
          51.44050598144531
         ],
         [
          4698367370,
          35.77577209472656,
          51.44017028808594
         ],
         [
          423816888,
          35.77588653564453,
          51.44012069702149
         ],
         [
          8243063383,
          35.77622604370117,
          51.44015121459961
         ],
         [
          4692318259,
          35.776248931884766,
          51.44015121459961
         ],
         [
          423830747,
          35.778892517089844,
          51.44012451171875
         ],
         [
          423821076,
          35.778743743896484,
          51.44043731689453
         ],
         [
          423821077,
          35.77869415283203,
          51.44071578979492
         ],
         [
          1725215746,
          35.77872848510742,
          51.44145202636719
         ],
         [
          1725215753,
          35.77879333496094,
          51.44183349609375
         ],
         [
          423821052,
          35.77879333496094,
          51.44195938110352
         ],
         [
          1725215751,
          35.7787971496582,
          51.4420166015625
         ],
         [
          1725215749,
          35.77872848510742,
          51.442325592041016
         ],
         [
          423821079,
          35.77873611450195,
          51.44243240356445
         ],
         [
          4705388832,
          35.77897262573242,
          51.44306945800781
         ],
         [
          423821083,
          35.77899932861328,
          51.44350814819336
         ],
         [
          4513930720,
          35.77894973754883,
          51.44441604614258
         ],
         [
          4692318251,
          35.77630615234375,
          51.44015884399414
         ],
         [
          1725215725,
          35.77663803100586,
          51.440185546875
         ],
         [
          423830745,
          35.776893615722656,
          51.44017028808594
         ],
         [
          4705330059,
          35.7769889831543,
          51.440162658691406
         ],
         [
          4705330056,
          35.77793502807617,
          51.44013214111328
         ],
         [
          1725215743,
          35.778316497802734,
          51.44009780883789
         ],
         [
          4698523036,
          35.77942657470703,
          51.44693756103516
         ],
         [
          4493669624,
          35.77934646606445,
          51.44725036621094
         ],
         [
          4698523043,
          35.779258728027344,
          51.44765853881836
         ],
         [
          3798184981,
          35.77919006347656,
          51.448001861572266
         ],
         [
          2918357569,
          35.77914810180664,
          51.448219299316406
         ],
         [
          5667400230,
          35.778865814208984,
          51.44964599609375
         ],
         [
          1864300702,
          35.76251220703125,
          51.45223236083984
         ],
         [
          4695567374,
          35.76283264160156,
          51.45249176025391
         ],
         [
          4695567373,
          35.76317596435547,
          51.4527473449707
         ],
         [
          1864300666,
          35.76417922973633,
          51.453495025634766
         ],
         [
          4696627055,
          35.779842376708984,
          51.463504791259766
         ],
         [
          3187458844,
          35.77994918823242,
          51.46394348144531
         ],
         [
          4705509188,
          35.76435852050781,
          51.4413948059082
         ],
         [
          1864271565,
          35.76487350463867,
          51.440826416015625
         ],
         [
          4707057902,
          35.76485061645508,
          51.44070053100586
         ],
         [
          987586338,
          35.76271438598633,
          51.442413330078125
         ],
         [
          11194352485,
          35.76408386230469,
          51.44170379638672
         ],
         [
          4482283396,
          35.7673454284668,
          51.45583724975586
         ],
         [
          1721875799,
          35.76639175415039,
          51.45551681518555
         ],
         [
          4695667411,
          35.765560150146484,
          51.45534896850586
         ],
         [
          1721875798,
          35.76472091674805,
          51.45528793334961
         ],
         [
          4695667413,
          35.764400482177734,
          51.455345153808594
         ],
         [
          4695667412,
          35.764129638671875,
          51.455413818359375
         ],
         [
          1721875797,
          35.7639045715332,
          51.45548629760742
         ],
         [
          4412258440,
          35.766475677490234,
          51.44917297363281
         ],
         [
          3405484850,
          35.76616668701172,
          51.44985961914063
         ],
         [
          4695567367,
          35.765316009521484,
          51.45149230957031
         ],
         [
          1864300712,
          35.76399612426758,
          51.45390319824219
         ],
         [
          4695667409,
          35.7643928527832,
          51.45407485961914
         ],
         [
          4695667410,
          35.76505661010742,
          51.45438003540039
         ],
         [
          1864300723,
          35.76806640625,
          51.45577621459961
         ],
         [
          3602007657,
          35.7694206237793,
          51.4404296875
         ],
         [
          3798184980,
          35.77970886230469,
          51.448184967041016
         ],
         [
          424055426,
          35.762176513671875,
          51.448577880859375
         ],
         [
          424068093,
          35.76542282104492,
          51.440086364746094
         ],
         [
          4763812258,
          35.763519287109375,
          51.446807861328125
         ],
         [
          4086140998,
          35.762691497802734,
          51.44455337524414
         ],
         [
          4551688565,
          35.778038024902344,
          51.44928741455078
         ],
         [
          4695998355,
          35.77775573730469,
          51.449161529541016
         ],
         [
          4316456858,
          35.77739715576172,
          51.448997497558594
         ],
         [
          4316456851,
          35.775672912597656,
          51.44822311401367
         ],
         [
          423816012,
          35.77511978149414,
          51.447975158691406
         ],
         [
          4695998346,
          35.774452209472656,
          51.44767379760742
         ],
         [
          4316456835,
          35.77373504638672,
          51.44735336303711
         ],
         [
          423816005,
          35.77333450317383,
          51.447174072265625
         ],
         [
          423813742,
          35.77254867553711,
          51.44681930541992
         ],
         [
          4695866620,
          35.77199935913086,
          51.446571350097656
         ],
         [
          4695866618,
          35.77149963378906,
          51.44634628295898
         ],
         [
          423813741,
          35.76999282836914,
          51.44567108154297
         ],
         [
          2170382009,
          35.7633056640625,
          51.44419479370117
         ],
         [
          4695567377,
          35.763404846191406,
          51.44855880737305
         ],
         [
          4683382508,
          35.76324462890625,
          51.448490142822266
         ],
         [
          4268219993,
          35.76312255859375,
          51.44843292236328
         ],
         [
          4268219992,
          35.762996673583984,
          51.44840621948242
         ],
         [
          2170388943,
          35.762088775634766,
          51.44303894042969
         ],
         [
          4634769067,
          35.762229919433594,
          51.44294357299805
         ],
         [
          2170388933,
          35.762779235839844,
          51.44260787963867
         ],
         [
          4695975712,
          35.77704620361328,
          51.45528030395508
         ],
         [
          4316456854,
          35.776206970214844,
          51.45690536499024
         ],
         [
          4695998344,
          35.773895263671875,
          51.44681930541992
         ],
         [
          4316456837,
          35.774147033691406,
          51.44599151611328
         ],
         [
          4316456853,
          35.776058197021484,
          51.44685363769531
         ],
         [
          4695969092,
          35.77406692504883,
          51.45561599731445
         ],
         [
          5289114994,
          35.76305389404297,
          51.45521545410156
         ],
         [
          4658772356,
          35.7627067565918,
          51.45508193969727
         ],
         [
          429412268,
          35.76237869262695,
          51.45493316650391
         ],
         [
          4558114534,
          35.76226806640625,
          51.45487976074219
         ],
         [
          423813728,
          35.77677154541016,
          51.44158554077149
         ],
         [
          8186666625,
          35.776763916015625,
          51.44153594970703
         ],
         [
          8172489033,
          35.7767448425293,
          51.44150161743164
         ],
         [
          4705330062,
          35.7766227722168,
          51.44126892089844
         ],
         [
          8186666624,
          35.77647399902344,
          51.4409294128418
         ],
         [
          4705330064,
          35.77645492553711,
          51.44088363647461
         ],
         [
          4705330063,
          35.7763557434082,
          51.44053268432617
         ],
         [
          4695667393,
          35.76698684692383,
          51.45262908935547
         ],
         [
          4379726029,
          35.76886749267578,
          51.45865631103516
         ],
         [
          4695666786,
          35.76777648925781,
          51.45098876953125
         ],
         [
          4379726019,
          35.76820755004883,
          51.45807647705078
         ],
         [
          429412522,
          35.76824951171875,
          51.46202850341797
         ],
         [
          429412485,
          35.769317626953125,
          51.45903015136719
         ],
         [
          423793588,
          35.76680374145508,
          51.46076583862305
         ],
         [
          423793595,
          35.7679443359375,
          51.45783996582031
         ],
         [
          4403803545,
          35.76723098754883,
          51.44194793701172
         ],
         [
          4403803546,
          35.76753616333008,
          51.44272232055664
         ],
         [
          4403803547,
          35.76727294921875,
          51.44181823730469
         ],
         [
          4403803548,
          35.766868591308594,
          51.44063949584961
         ],
         [
          4403810839,
          35.766441345214844,
          51.44343566894531
         ],
         [
          4403810841,
          35.76667785644531,
          51.44329452514648
         ],
         [
          4403810840,
          35.76634979248047,
          51.44246292114258
         ],
         [
          4221838196,
          35.76527786254883,
          51.44306945800781
         ],
         [
          4403834595,
          35.76564025878906,
          51.44404602050781
         ],
         [
          2170381542,
          35.76530075073242,
          51.44293212890625
         ],
         [
          4403834962,
          35.76483154296875,
          51.4415283203125
         ],
         [
          4403845341,
          35.76229476928711,
          51.449100494384766
         ],
         [
          6757664502,
          35.76237106323242,
          51.44865036010742
         ],
         [
          4268219387,
          35.76237106323242,
          51.44862747192383
         ],
         [
          4404038812,
          35.76557540893555,
          51.44009017944336
         ],
         [
          4412258441,
          35.76590347290039,
          51.44875717163086
         ],
         [
          4412258444,
          35.76483154296875,
          51.45121765136719
         ],
         [
          4695611098,
          35.76544189453125,
          51.449954986572266
         ],
         [
          4695611099,
          35.765438079833984,
          51.449825286865234
         ],
         [
          4695611104,
          35.76455307006836,
          51.44878387451172
         ],
         [
          4695611107,
          35.764896392822266,
          51.4489631652832
         ],
         [
          4412258445,
          35.765079498291016,
          51.44905853271485
         ],
         [
          4412258446,
          35.76519012451172,
          51.44877243041992
         ],
         [
          4412258448,
          35.76544570922852,
          51.4482421875
         ],
         [
          4695611102,
          35.76517105102539,
          51.44809722900391
         ],
         [
          9288662427,
          35.76483917236328,
          51.44792556762695
         ],
         [
          4412258453,
          35.76357650756836,
          51.4441032409668
         ],
         [
          4412258454,
          35.76362609863281,
          51.44416427612305
         ],
         [
          4412258455,
          35.763694763183594,
          51.444183349609375
         ],
         [
          4692533039,
          35.76377487182617,
          51.44422149658203
         ],
         [
          4692533040,
          35.76388931274414,
          51.44416427612305
         ],
         [
          4412258458,
          35.76390838623047,
          51.44411087036133
         ],
         [
          4412258459,
          35.76390075683594,
          51.443946838378906
         ],
         [
          4221838198,
          35.763919830322266,
          51.44385147094727
         ],
         [
          4429680695,
          35.76953887939453,
          51.45921325683594
         ],
         [
          4429680697,
          35.77050018310547,
          51.457664489746094
         ],
         [
          4429680702,
          35.77181625366211,
          51.46117782592773
         ],
         [
          4429684146,
          35.77431869506836,
          51.45855712890625
         ],
         [
          4429692924,
          35.77489471435547,
          51.46194839477539
         ],
         [
          4695969114,
          35.77482986450195,
          51.46200180053711
         ],
         [
          4695969113,
          35.775238037109375,
          51.46208572387695
         ],
         [
          4429692923,
          35.77603912353516,
          51.46240997314453
         ],
         [
          4696632866,
          35.7786865234375,
          51.46432495117188
         ],
         [
          1707151183,
          35.77883529663086,
          51.46432876586914
         ],
         [
          4696632871,
          35.779083251953125,
          51.464298248291016
         ],
         [
          4696627041,
          35.779319763183594,
          51.46427154541016
         ],
         [
          423832940,
          35.77945327758789,
          51.46425628662109
         ],
         [
          4696627040,
          35.779808044433594,
          51.46421051025391
         ],
         [
          4657965378,
          35.778358459472656,
          51.46500778198242
         ],
         [
          4696632873,
          35.77916717529297,
          51.465145111083984
         ],
         [
          4698562496,
          35.77928161621094,
          51.46513748168945
         ],
         [
          6089414139,
          35.77939987182617,
          51.465118408203125
         ],
         [
          6638516671,
          35.766109466552734,
          51.44634628295898
         ],
         [
          423813733,
          35.77294158935547,
          51.445438385009766
         ],
         [
          4695998342,
          35.7733039855957,
          51.44560241699219
         ],
         [
          4698385298,
          35.77383041381836,
          51.44584655761719
         ],
         [
          4695998348,
          35.77640151977539,
          51.44700622558594
         ],
         [
          4698510544,
          35.776607513427734,
          51.44709777832031
         ],
         [
          4698510542,
          35.777183532714844,
          51.44735336303711
         ],
         [
          4551688588,
          35.77767562866211,
          51.447566986083984
         ],
         [
          4698523063,
          35.77793502807617,
          51.44768142700195
         ],
         [
          4695998356,
          35.778194427490234,
          51.44779968261719
         ],
         [
          4698523061,
          35.778221130371094,
          51.44781112670898
         ],
         [
          423813736,
          35.778438568115234,
          51.44790649414063
         ],
         [
          4695998358,
          35.77888488769531,
          51.44810104370117
         ],
         [
          423813737,
          35.779747009277344,
          51.448486328125
         ],
         [
          423815709,
          35.7743034362793,
          51.44243240356445
         ],
         [
          4698380301,
          35.774269104003906,
          51.44230270385742
         ],
         [
          4698380304,
          35.774166107177734,
          51.4419174194336
         ],
         [
          4450610060,
          35.772274017333984,
          51.44041061401367
         ],
         [
          4698344872,
          35.77271270751953,
          51.44019317626953
         ],
         [
          4450610061,
          35.77273941040039,
          51.44017028808594
         ],
         [
          7288879559,
          35.772735595703125,
          51.44013977050781
         ],
         [
          4818292273,
          35.762569427490234,
          51.45839691162109
         ],
         [
          4818292275,
          35.76240158081055,
          51.45882415771485
         ],
         [
          443320010,
          35.76289367675781,
          51.46415710449219
         ],
         [
          443320006,
          35.76283645629883,
          51.46493911743164
         ],
         [
          4813610982,
          35.76223373413086,
          51.4658432006836
         ],
         [
          4466971381,
          35.7623291015625,
          51.46487045288086
         ],
         [
          2123565064,
          35.762359619140625,
          51.46445846557617
         ],
         [
          9577168331,
          35.76242446899414,
          51.46360778808594
         ],
         [
          4482283394,
          35.766990661621094,
          51.45703887939453
         ],
         [
          4482283395,
          35.76722717285156,
          51.45626449584961
         ],
         [
          4482283393,
          35.76666641235352,
          51.45605850219727
         ],
         [
          4482283392,
          35.76633071899414,
          51.455963134765625
         ],
         [
          4482283391,
          35.76589584350586,
          51.45586395263672
         ],
         [
          4482283390,
          35.76573944091797,
          51.45586013793945
         ],
         [
          4482283389,
          35.765602111816406,
          51.45594787597656
         ],
         [
          4482481111,
          35.77556610107422,
          51.46445083618164
         ],
         [
          10178099384,
          35.7757453918457,
          51.464168548583984
         ],
         [
          423832816,
          35.77660369873047,
          51.46537399291992
         ],
         [
          429412534,
          35.763301849365234,
          51.462669372558594
         ],
         [
          4493669605,
          35.77935791015625,
          51.44524002075195
         ],
         [
          4493669606,
          35.77979278564453,
          51.44525909423828
         ],
         [
          423813739,
          35.779319763183594,
          51.44512176513672
         ],
         [
          4698523057,
          35.778934478759766,
          51.44524765014648
         ],
         [
          4698523045,
          35.77864456176758,
          51.44533920288086
         ],
         [
          4493669607,
          35.778404235839844,
          51.445411682128906
         ],
         [
          4493669608,
          35.778289794921875,
          51.4454231262207
         ],
         [
          4551688593,
          35.77799606323242,
          51.44544219970703
         ],
         [
          4698510524,
          35.7779655456543,
          51.4455451965332
         ],
         [
          9652783565,
          35.77788543701172,
          51.44585418701172
         ],
         [
          4551688592,
          35.77783203125,
          51.446067810058594
         ],
         [
          4698510529,
          35.77781677246094,
          51.446102142333984
         ],
         [
          4551688591,
          35.77769470214844,
          51.44637680053711
         ],
         [
          4493669609,
          35.779441833496094,
          51.44559860229492
         ],
         [
          4493669615,
          35.77897262573242,
          51.44562149047852
         ],
         [
          4493669610,
          35.778648376464844,
          51.44563293457031
         ],
         [
          4548912076,
          35.777313232421875,
          51.44196701049805
         ],
         [
          4705330051,
          35.77750015258789,
          51.44194412231445
         ],
         [
          423821044,
          35.777732849121094,
          51.4419059753418
         ],
         [
          423821050,
          35.7780647277832,
          51.44191360473633
         ],
         [
          4705330047,
          35.77813720703125,
          51.4419174194336
         ],
         [
          423813738,
          35.77948760986328,
          51.44601821899414
         ],
         [
          4493669614,
          35.77921295166016,
          51.44602966308594
         ],
         [
          4698523039,
          35.778846740722656,
          51.44702911376953
         ],
         [
          4493669623,
          35.77911376953125,
          51.4471435546875
         ],
         [
          4493669625,
          35.7775764465332,
          51.44277191162109
         ],
         [
          4493669627,
          35.7777214050293,
          51.44258499145508
         ],
         [
          4548912074,
          35.77828598022461,
          51.442684173583984
         ],
         [
          4493669628,
          35.77690505981445,
          51.44060134887695
         ],
         [
          423815697,
          35.777008056640625,
          51.453216552734375
         ],
         [
          4511786871,
          35.77670669555664,
          51.45421600341797
         ],
         [
          4698510523,
          35.77887725830078,
          51.4444580078125
         ],
         [
          4513930721,
          35.77867126464844,
          51.4444694519043
         ],
         [
          4513930722,
          35.77855682373047,
          51.44392776489258
         ],
         [
          4513930723,
          35.77861404418945,
          51.44331741333008
         ],
         [
          4429692925,
          35.77516174316406,
          51.464115142822266
         ],
         [
          4539093043,
          35.775184631347656,
          51.46406936645508
         ],
         [
          4539093044,
          35.77519989013672,
          51.464012145996094
         ],
         [
          4539093045,
          35.775203704833984,
          51.46397399902344
         ],
         [
          4539093046,
          35.77519226074219,
          51.46393966674805
         ],
         [
          4539093047,
          35.775177001953125,
          51.46391677856445
         ],
         [
          4539093048,
          35.77516174316406,
          51.46390151977539
         ],
         [
          4539093049,
          35.77507781982422,
          51.46381378173828
         ],
         [
          4539093050,
          35.77504348754883,
          51.46380233764648
         ],
         [
          4539093051,
          35.77500534057617,
          51.463809967041016
         ],
         [
          4539093052,
          35.77497482299805,
          51.4638557434082
         ],
         [
          4548912079,
          35.773040771484375,
          51.44294357299805
         ],
         [
          4548912086,
          35.77376174926758,
          51.442649841308594
         ],
         [
          4548912082,
          35.77355194091797,
          51.44371032714844
         ],
         [
          9307444641,
          35.77384567260742,
          51.444183349609375
         ],
         [
          4548912080,
          35.77384185791016,
          51.44421005249024
         ],
         [
          9307444640,
          35.773826599121094,
          51.44422149658203
         ],
         [
          4698385304,
          35.7730712890625,
          51.44450759887695
         ],
         [
          4548912081,
          35.772789001464844,
          51.44460678100586
         ],
         [
          4698385308,
          35.77323532104492,
          51.44382095336914
         ],
         [
          4698385306,
          35.77318572998047,
          51.44384002685547
         ],
         [
          4548912083,
          35.772640228271484,
          51.44403076171875
         ],
         [
          4548912084,
          35.77288055419922,
          51.44496154785156
         ],
         [
          4698385300,
          35.773250579833984,
          51.44480895996094
         ],
         [
          4698385302,
          35.77372741699219,
          51.444610595703125
         ],
         [
          4698385294,
          35.77389907836914,
          51.44453811645508
         ],
         [
          4698385296,
          35.774349212646484,
          51.44450378417969
         ],
         [
          9307444639,
          35.77445983886719,
          51.44484329223633
         ],
         [
          4548912087,
          35.77445983886719,
          51.444862365722656
         ],
         [
          4705330049,
          35.7773323059082,
          51.44209671020508
         ],
         [
          4705330048,
          35.777442932128906,
          51.44229507446289
         ],
         [
          4551682245,
          35.7774543762207,
          51.44244003295898
         ],
         [
          9838990637,
          35.777496337890625,
          51.44256591796875
         ],
         [
          4513930725,
          35.77655792236328,
          51.44344329833984
         ],
         [
          4698380184,
          35.77652740478516,
          51.443546295166016
         ],
         [
          4551688566,
          35.7764892578125,
          51.44363021850586
         ],
         [
          4698380185,
          35.77642059326172,
          51.4437255859375
         ],
         [
          4551688567,
          35.776390075683594,
          51.44381332397461
         ],
         [
          4698502266,
          35.776363372802734,
          51.443939208984375
         ],
         [
          4551688568,
          35.77632141113281,
          51.444114685058594
         ],
         [
          4698502262,
          35.77628326416016,
          51.44426727294922
         ],
         [
          4551688569,
          35.7762451171875,
          51.444435119628906
         ],
         [
          4698502264,
          35.776214599609375,
          51.44467544555664
         ],
         [
          4551688570,
          35.77619171142578,
          51.44486618041992
         ],
         [
          4551688571,
          35.776161193847656,
          51.445072174072266
         ],
         [
          4551688572,
          35.77617645263672,
          51.44531631469727
         ],
         [
          4551688573,
          35.77619171142578,
          51.44585418701172
         ],
         [
          4551688575,
          35.77621078491211,
          51.44597244262695
         ],
         [
          4513930728,
          35.776031494140625,
          51.44359588623047
         ],
         [
          4698502285,
          35.7760124206543,
          51.443695068359375
         ],
         [
          4551688579,
          35.775962829589844,
          51.44400024414063
         ],
         [
          4551688580,
          35.77592468261719,
          51.444183349609375
         ],
         [
          4551688581,
          35.77591323852539,
          51.44422912597656
         ],
         [
          4551688582,
          35.775787353515625,
          51.44422149658203
         ],
         [
          4551688583,
          35.77569961547852,
          51.444217681884766
         ],
         [
          5024815125,
          35.76203155517578,
          51.45774459838867
         ],
         [
          1864300683,
          35.7632942199707,
          51.45398712158203
         ],
         [
          4658772355,
          35.76300048828125,
          51.45402145385742
         ],
         [
          1864300696,
          35.762447357177734,
          51.454078674316406
         ],
         [
          4664780472,
          35.762550354003906,
          51.45111846923828
         ],
         [
          4683382421,
          35.771697998046875,
          51.44261169433594
         ],
         [
          4683382422,
          35.7711067199707,
          51.44291687011719
         ],
         [
          4683382428,
          35.77103042602539,
          51.44264602661133
         ],
         [
          4683382424,
          35.77061080932617,
          51.44114303588867
         ],
         [
          4683382425,
          35.77009963989258,
          51.44175720214844
         ],
         [
          4695837550,
          35.76997756958008,
          51.44189453125
         ],
         [
          4683382426,
          35.76979446411133,
          51.44210815429688
         ],
         [
          4683382442,
          35.76958465576172,
          51.44224548339844
         ],
         [
          4695837551,
          35.76935195922852,
          51.44242477416992
         ],
         [
          4683382427,
          35.76948547363281,
          51.44297790527344
         ],
         [
          4695817996,
          35.77048110961914,
          51.442867279052734
         ],
         [
          4683382429,
          35.76986312866211,
          51.443115234375
         ],
         [
          4683382430,
          35.77293014526367,
          51.44549179077149
         ],
         [
          4695866624,
          35.7723388671875,
          51.44560241699219
         ],
         [
          4683382431,
          35.7723388671875,
          51.44573974609375
         ],
         [
          4695622380,
          35.76691436767578,
          51.445762634277344
         ],
         [
          4695622378,
          35.766727447509766,
          51.44575500488281
         ],
         [
          4683382446,
          35.76687240600586,
          51.44450759887695
         ],
         [
          424055369,
          35.76324462890625,
          51.4472770690918
         ],
         [
          4683382477,
          35.76336669921875,
          51.448089599609375
         ],
         [
          4683436109,
          35.76652908325195,
          51.44746017456055
         ],
         [
          4683436111,
          35.76628494262695,
          51.44731903076172
         ],
         [
          4683436113,
          35.76618194580078,
          51.44725799560547
         ],
         [
          4683436105,
          35.76588821411133,
          51.44708633422852
         ],
         [
          424055346,
          35.76569366455078,
          51.44759750366211
         ],
         [
          4683436110,
          35.766807556152344,
          51.44667816162109
         ],
         [
          4683436112,
          35.76654052734375,
          51.44664001464844
         ],
         [
          4683436114,
          35.766021728515625,
          51.447696685791016
         ],
         [
          4695611108,
          35.76425552368164,
          51.44945526123047
         ],
         [
          4683436116,
          35.76466369628906,
          51.44967651367188
         ],
         [
          30772626,
          35.776275634765625,
          51.44049453735352
         ],
         [
          1725215721,
          35.776344299316406,
          51.44077682495117
         ],
         [
          4698380180,
          35.77641296386719,
          51.44097900390625
         ],
         [
          423821034,
          35.77643966674805,
          51.44107437133789
         ],
         [
          1725215723,
          35.77656555175781,
          51.44137954711914
         ],
         [
          4698523058,
          35.776702880859375,
          51.44154357910156
         ],
         [
          8186666626,
          35.7767333984375,
          51.44156265258789
         ],
         [
          4695216248,
          35.773887634277344,
          51.44102096557617
         ],
         [
          7288879554,
          35.773868560791016,
          51.44101333618164
         ],
         [
          4695216249,
          35.77383041381836,
          51.441017150878906
         ],
         [
          7288879557,
          35.77359771728516,
          51.44110870361328
         ],
         [
          4695216250,
          35.773563385009766,
          51.44110870361328
         ],
         [
          7288879558,
          35.773536682128906,
          51.441062927246094
         ],
         [
          4695216251,
          35.77323532104492,
          51.44031524658203
         ],
         [
          4695529109,
          35.763206481933594,
          51.44263458251953
         ],
         [
          4695529108,
          35.7634391784668,
          51.44331741333008
         ],
         [
          4695529111,
          35.76361846923828,
          51.44240951538086
         ],
         [
          4763812259,
          35.763999938964844,
          51.44353485107422
         ],
         [
          4695529114,
          35.764644622802734,
          51.44182205200195
         ],
         [
          4695529113,
          35.76420974731445,
          51.44208526611328
         ],
         [
          4695529112,
          35.76285552978516,
          51.44282913208008
         ],
         [
          4695529116,
          35.762481689453125,
          51.44454193115234
         ],
         [
          4695529115,
          35.762107849121094,
          51.443485260009766
         ],
         [
          4695567371,
          35.76223373413086,
          51.45110702514648
         ],
         [
          4695529119,
          35.76219940185547,
          51.45186614990234
         ],
         [
          4695529122,
          35.76200485229492,
          51.45245742797852
         ],
         [
          4695567366,
          35.763710021972656,
          51.45001602172852
         ],
         [
          4695567365,
          35.763526916503906,
          51.450477600097656
         ],
         [
          5244624163,
          35.76552963256836,
          51.45161437988281
         ],
         [
          9569441693,
          35.76393508911133,
          51.4507064819336
         ],
         [
          9847389529,
          35.76389694213867,
          51.45068359375
         ],
         [
          9900349192,
          35.76385498046875,
          51.45066452026367
         ],
         [
          4695567370,
          35.762882232666016,
          51.45104217529297
         ],
         [
          4695567372,
          35.76279830932617,
          51.45352554321289
         ],
         [
          4695567375,
          35.76310348510742,
          51.45187759399414
         ],
         [
          4695567376,
          35.763275146484375,
          51.44894409179688
         ],
         [
          4695610686,
          35.76567459106445,
          51.44681930541992
         ],
         [
          4695610688,
          35.765342712402344,
          51.44697189331055
         ],
         [
          4695611090,
          35.7650260925293,
          51.44706344604492
         ],
         [
          4695611092,
          35.764835357666016,
          51.447044372558594
         ],
         [
          4695611094,
          35.7647590637207,
          51.44483947753906
         ],
         [
          4695611097,
          35.764488220214844,
          51.44353866577149
         ],
         [
          4695611096,
          35.7648811340332,
          51.444602966308594
         ],
         [
          4695611101,
          35.76504135131836,
          51.4484748840332
         ],
         [
          4695611105,
          35.76465606689453,
          51.4484748840332
         ],
         [
          4695611103,
          35.76445388793945,
          51.44905853271485
         ],
         [
          4695611106,
          35.764774322509766,
          51.44926452636719
         ],
         [
          4695611109,
          35.764347076416016,
          51.44925308227539
         ],
         [
          4695622373,
          35.766822814941406,
          51.44500350952149
         ],
         [
          4695622375,
          35.766971588134766,
          51.44514465332031
         ],
         [
          4695622376,
          35.76694107055664,
          51.445411682128906
         ],
         [
          4695622377,
          35.7667350769043,
          51.44560623168945
         ],
         [
          4695622379,
          35.76695251464844,
          51.44615173339844
         ],
         [
          4695666769,
          35.76738357543945,
          51.44796752929688
         ],
         [
          4695666770,
          35.76777267456055,
          51.44773483276367
         ],
         [
          4695666771,
          35.76810073852539,
          51.447547912597656
         ],
         [
          8285436004,
          35.76771926879883,
          51.44791412353516
         ],
         [
          4695666774,
          35.767822265625,
          51.44757843017578
         ],
         [
          4695666776,
          35.76689529418945,
          51.44942855834961
         ],
         [
          4695666780,
          35.7669792175293,
          51.45059585571289
         ],
         [
          4695666784,
          35.76874542236328,
          51.4506721496582
         ],
         [
          4695666783,
          35.76853942871094,
          51.45134735107422
         ],
         [
          8390414204,
          35.767208099365234,
          51.45071029663086
         ],
         [
          4695666788,
          35.7666130065918,
          51.45200729370117
         ],
         [
          4695667390,
          35.76602935791016,
          51.451358795166016
         ],
         [
          4695667392,
          35.76674270629883,
          51.45338439941406
         ],
         [
          4695667396,
          35.76637268066406,
          51.45206069946289
         ],
         [
          4695667395,
          35.766292572021484,
          51.45230102539063
         ],
         [
          4695667398,
          35.76583480834961,
          51.451805114746094
         ],
         [
          4695667397,
          35.76573944091797,
          51.4520378112793
         ],
         [
          4695667406,
          35.76545333862305,
          51.453880310058594
         ],
         [
          4695667400,
          35.765960693359375,
          51.45429229736328
         ],
         [
          4695667403,
          35.76537322998047,
          51.45384216308594
         ],
         [
          4695667402,
          35.76531982421875,
          51.45400238037109
         ],
         [
          4695667405,
          35.76568603515625,
          51.4539909362793
         ],
         [
          4695667404,
          35.76519775390625,
          51.45376586914063
         ],
         [
          4695667399,
          35.76599884033203,
          51.4521598815918
         ],
         [
          4695667408,
          35.7641487121582,
          51.4547233581543
         ],
         [
          4695737204,
          35.76761245727539,
          51.44608688354492
         ],
         [
          4695735772,
          35.76838302612305,
          51.44499206542969
         ],
         [
          4695737199,
          35.76839828491211,
          51.44505310058594
         ],
         [
          9357300679,
          35.76864242553711,
          51.44224548339844
         ],
         [
          9357300680,
          35.76866149902344,
          51.44234848022461
         ],
         [
          423816752,
          35.76866912841797,
          51.44242858886719
         ],
         [
          423816753,
          35.768680572509766,
          51.44303131103516
         ],
         [
          987527838,
          35.76871490478516,
          51.44334411621094
         ],
         [
          987527854,
          35.76908874511719,
          51.44329833984375
         ],
         [
          4695735774,
          35.76927185058594,
          51.444183349609375
         ],
         [
          4695735780,
          35.76848602294922,
          51.44498825073242
         ],
         [
          4695735771,
          35.768978118896484,
          51.44440841674805
         ],
         [
          423816750,
          35.7692985534668,
          51.44427490234375
         ],
         [
          4695735779,
          35.76960372924805,
          51.44415664672852
         ],
         [
          4695818003,
          35.77000427246094,
          51.44387435913086
         ],
         [
          4695735783,
          35.768917083740234,
          51.44683837890625
         ],
         [
          4695735782,
          35.76866149902344,
          51.44660949707031
         ],
         [
          4695735786,
          35.7690544128418,
          51.44664764404297
         ],
         [
          4695735785,
          35.768821716308594,
          51.44697570800781
         ],
         [
          4695735784,
          35.76874542236328,
          51.446922302246094
         ],
         [
          4695735788,
          35.76847839355469,
          51.445343017578125
         ],
         [
          4695735787,
          35.76810073852539,
          51.44549560546875
         ],
         [
          4695737190,
          35.76924514770508,
          51.44546890258789
         ],
         [
          4695737189,
          35.769287109375,
          51.44564056396485
         ],
         [
          4695737192,
          35.76895523071289,
          51.445579528808594
         ],
         [
          4695737191,
          35.76905059814453,
          51.445945739746094
         ],
         [
          4695737194,
          35.768428802490234,
          51.445777893066406
         ],
         [
          7740294322,
          35.7685546875,
          51.446250915527344
         ],
         [
          4695737195,
          35.76858139038086,
          51.44572067260742
         ],
         [
          4695737196,
          35.768043518066406,
          51.4459228515625
         ],
         [
          4695737202,
          35.76792907714844,
          51.44550323486328
         ],
         [
          4695737198,
          35.76797866821289,
          51.44594955444336
         ],
         [
          4695737197,
          35.76811981201172,
          51.4464225769043
         ],
         [
          4695737208,
          35.76727294921875,
          51.44688034057617
         ],
         [
          4695737212,
          35.76773452758789,
          51.44660949707031
         ],
         [
          4695737211,
          35.76748275756836,
          51.44648742675781
         ],
         [
          4695790500,
          35.76961135864258,
          51.444374084472656
         ],
         [
          7611533840,
          35.7696418762207,
          51.44452667236328
         ],
         [
          4695735781,
          35.769386291503906,
          51.44463348388672
         ],
         [
          4695817995,
          35.77032470703125,
          51.44227600097656
         ],
         [
          4695817998,
          35.77006530761719,
          51.442665100097656
         ],
         [
          4695817997,
          35.769775390625,
          51.44279098510742
         ],
         [
          4695818001,
          35.76997756958008,
          51.443790435791016
         ],
         [
          4695818002,
          35.770076751708984,
          51.44417572021485
         ],
         [
          4695818005,
          35.7702522277832,
          51.44369888305664
         ],
         [
          4695818004,
          35.77033996582031,
          51.44400405883789
         ],
         [
          4695818007,
          35.77052688598633,
          51.44514465332031
         ],
         [
          4695818006,
          35.77058410644531,
          51.44540023803711
         ],
         [
          987522473,
          35.77043151855469,
          51.44520950317383
         ],
         [
          4695818008,
          35.770164489746094,
          51.44428253173828
         ],
         [
          4695818010,
          35.767860412597656,
          51.45304489135742
         ],
         [
          4695818009,
          35.76764297485352,
          51.45379257202149
         ],
         [
          4695818012,
          35.768211364746094,
          51.45299911499024
         ],
         [
          4695818011,
          35.76814651489258,
          51.45318222045898
         ],
         [
          4695818014,
          35.7680549621582,
          51.45409393310547
         ],
         [
          6322941660,
          35.767330169677734,
          51.454627990722656
         ],
         [
          4695818015,
          35.76728820800781,
          51.45476531982422
         ],
         [
          4695818017,
          35.76737594604492,
          51.45397567749024
         ],
         [
          4695818019,
          35.76453399658203,
          51.453643798828125
         ],
         [
          4695837543,
          35.7698860168457,
          51.44155883789063
         ],
         [
          4695837544,
          35.769710540771484,
          51.4418830871582
         ],
         [
          4695837545,
          35.76985168457031,
          51.44147491455078
         ],
         [
          4695837546,
          35.770118713378906,
          51.44128036499024
         ],
         [
          4695837548,
          35.770286560058594,
          51.44100189208984
         ],
         [
          4695837553,
          35.769439697265625,
          51.44160842895508
         ],
         [
          4695837552,
          35.76951217651367,
          51.44194030761719
         ],
         [
          4695837555,
          35.76859664916992,
          51.444732666015625
         ],
         [
          4695837554,
          35.76839828491211,
          51.44444274902344
         ],
         [
          4695837557,
          35.768348693847656,
          51.44509506225586
         ],
         [
          6322941668,
          35.76833724975586,
          51.44507598876953
         ],
         [
          4695837559,
          35.76786422729492,
          51.44291687011719
         ],
         [
          4695837558,
          35.7678337097168,
          51.44316482543945
         ],
         [
          4695837569,
          35.76808166503906,
          51.44296646118164
         ],
         [
          4695837560,
          35.767696380615234,
          51.44287490844727
         ],
         [
          4695837562,
          35.76836013793945,
          51.44319152832031
         ],
         [
          4695837561,
          35.76805877685547,
          51.44313430786133
         ],
         [
          4695837564,
          35.768096923828125,
          51.444580078125
         ],
         [
          4695837563,
          35.76789474487305,
          51.44450759887695
         ],
         [
          2170381783,
          35.7679328918457,
          51.44154357910156
         ],
         [
          4695837571,
          35.768123626708984,
          51.44228363037109
         ],
         [
          9357300678,
          35.76814270019531,
          51.44239044189453
         ],
         [
          4695837570,
          35.76814651489258,
          51.442501068115234
         ],
         [
          4695837568,
          35.768043518066406,
          51.44328308105469
         ],
         [
          9357300677,
          35.76805114746094,
          51.44354248046875
         ],
         [
          4695837567,
          35.768035888671875,
          51.44369125366211
         ],
         [
          4695837566,
          35.76775360107422,
          51.44541931152344
         ],
         [
          4695735773,
          35.768943786621094,
          51.444313049316406
         ],
         [
          4695866617,
          35.77162551879883,
          51.44598388671875
         ],
         [
          4695866619,
          35.7720947265625,
          51.44629287719727
         ],
         [
          4695866623,
          35.77274703979492,
          51.44615936279297
         ],
         [
          4695866622,
          35.772315979003906,
          51.44596862792969
         ],
         [
          4695866621,
          35.77229309082031,
          51.44606399536133
         ],
         [
          4695866626,
          35.77290725708008,
          51.44510269165039
         ],
         [
          4695866625,
          35.77254867553711,
          51.4452018737793
         ],
         [
          4695866628,
          35.77281188964844,
          51.44469451904297
         ],
         [
          4695866627,
          35.77225112915039,
          51.44485092163086
         ],
         [
          9766894901,
          35.77213668823242,
          51.44239807128906
         ],
         [
          4695882299,
          35.769020080566406,
          51.456050872802734
         ],
         [
          4695882302,
          35.76938247680664,
          51.45475769042969
         ],
         [
          4695882303,
          35.76907730102539,
          51.45561599731445
         ],
         [
          4695882306,
          35.76935958862305,
          51.453758239746094
         ],
         [
          4695882305,
          35.76925277709961,
          51.45414352416992
         ],
         [
          4695882307,
          35.76831817626953,
          51.45012283325195
         ],
         [
          4695924401,
          35.77619171142578,
          51.45801162719727
         ],
         [
          4695924402,
          35.77622985839844,
          51.45904159545898
         ],
         [
          4695924404,
          35.776268005371094,
          51.45939254760742
         ],
         [
          4695924406,
          35.775901794433594,
          51.460716247558594
         ],
         [
          4695924407,
          35.77559280395508,
          51.45907974243164
         ],
         [
          4695924409,
          35.7752685546875,
          51.46034240722656
         ],
         [
          4429684144,
          35.77263641357422,
          51.461891174316406
         ],
         [
          4695924411,
          35.774513244628906,
          51.45811462402344
         ],
         [
          4695924413,
          35.77382278442383,
          51.4564094543457
         ],
         [
          4695924414,
          35.77387619018555,
          51.458255767822266
         ],
         [
          4695924415,
          35.772884368896484,
          51.45742416381836
         ],
         [
          4695924417,
          35.773651123046875,
          51.4568977355957
         ],
         [
          4695924418,
          35.7734489440918,
          51.45757675170898
         ],
         [
          4695924420,
          35.77326202392578,
          51.45794677734375
         ],
         [
          4695924422,
          35.77303695678711,
          51.4561653137207
         ],
         [
          4695924424,
          35.77303695678711,
          51.456424713134766
         ],
         [
          4695924425,
          35.772560119628906,
          51.45767974853516
         ],
         [
          4695924427,
          35.77240753173828,
          51.45583724975586
         ],
         [
          4695924429,
          35.772212982177734,
          51.45712661743164
         ],
         [
          4695924431,
          35.7714729309082,
          51.4571533203125
         ],
         [
          4695924434,
          35.770729064941406,
          51.45678329467773
         ],
         [
          4695924433,
          35.77068328857422,
          51.45701217651367
         ],
         [
          4695924435,
          35.77124786376953,
          51.45580673217773
         ],
         [
          4695924437,
          35.771759033203125,
          51.45548248291016
         ],
         [
          4695924439,
          35.771339416503906,
          51.45544052124024
         ],
         [
          4695924441,
          35.77093505859375,
          51.45659255981445
         ],
         [
          4695924444,
          35.770938873291016,
          51.455604553222656
         ],
         [
          4695924445,
          35.770565032958984,
          51.45634841918945
         ],
         [
          4695924447,
          35.769874572753906,
          51.45640182495117
         ],
         [
          4695924449,
          35.76982879638672,
          51.45605850219727
         ],
         [
          4695968784,
          35.7720947265625,
          51.452266693115234
         ],
         [
          2860485037,
          35.77070617675781,
          51.453758239746094
         ],
         [
          9033986794,
          35.771244049072266,
          51.4537467956543
         ],
         [
          4695968786,
          35.77119445800781,
          51.45390319824219
         ],
         [
          4695968788,
          35.771907806396484,
          51.45415115356445
         ],
         [
          4695969096,
          35.774658203125,
          51.45696258544922
         ],
         [
          4695969095,
          35.77467727661133,
          51.45704650878906
         ],
         [
          4695969097,
          35.77737045288086,
          51.45680236816406
         ],
         [
          4695969102,
          35.775291442871094,
          51.45648956298828
         ],
         [
          4695969101,
          35.775047302246094,
          51.45724487304688
         ],
         [
          4695969104,
          35.77589797973633,
          51.456764221191406
         ],
         [
          4695969103,
          35.77578353881836,
          51.45711135864258
         ],
         [
          4695969105,
          35.77547073364258,
          51.45772933959961
         ],
         [
          4695969107,
          35.77573776245117,
          51.45766830444336
         ],
         [
          4695969109,
          35.775978088378906,
          51.45767593383789
         ],
         [
          4695969110,
          35.775508880615234,
          51.462059020996094
         ],
         [
          4695969117,
          35.774627685546875,
          51.46174240112305
         ],
         [
          4695978672,
          35.777225494384766,
          51.45537185668945
         ],
         [
          4695978677,
          35.77732849121094,
          51.45542526245117
         ],
         [
          4695978674,
          35.777366638183594,
          51.45544052124024
         ],
         [
          4695978680,
          35.77764129638672,
          51.4555778503418
         ],
         [
          4695978684,
          35.77784729003906,
          51.45568084716797
         ],
         [
          4695978682,
          35.77788162231445,
          51.4556999206543
         ],
         [
          4695975714,
          35.77680587768555,
          51.45449066162109
         ],
         [
          4695975716,
          35.77655029296875,
          51.45407485961914
         ],
         [
          4695975718,
          35.776031494140625,
          51.45386505126953
         ],
         [
          4695975721,
          35.7758674621582,
          51.4546012878418
         ],
         [
          4695975720,
          35.77615737915039,
          51.45475387573242
         ],
         [
          4695975722,
          35.77603530883789,
          51.454063415527344
         ],
         [
          7009847469,
          35.77520751953125,
          51.45341491699219
         ],
         [
          7009847471,
          35.77522277832031,
          51.45339584350586
         ],
         [
          4695975723,
          35.775230407714844,
          51.45338439941406
         ],
         [
          7009847470,
          35.77525329589844,
          51.45337677001953
         ],
         [
          7009847473,
          35.77527618408203,
          51.45336532592773
         ],
         [
          7009847472,
          35.77531433105469,
          51.4533576965332
         ],
         [
          4695975724,
          35.77363586425781,
          51.45294952392578
         ],
         [
          4695975726,
          35.7732048034668,
          51.45271301269531
         ],
         [
          4695975728,
          35.772247314453125,
          51.45222473144531
         ],
         [
          4695975730,
          35.7718505859375,
          51.45216751098633
         ],
         [
          4695978673,
          35.77736282348633,
          51.4549674987793
         ],
         [
          4695978675,
          35.77749252319336,
          51.455055236816406
         ],
         [
          4695978678,
          35.77774810791016,
          51.45521545410156
         ],
         [
          4695978679,
          35.777549743652344,
          51.45585250854492
         ],
         [
          4695978681,
          35.77796173095703,
          51.455474853515625
         ],
         [
          4695978683,
          35.777767181396484,
          51.45590972900391
         ],
         [
          4695978686,
          35.77783203125,
          51.45452499389648
         ],
         [
          4695978685,
          35.77769470214844,
          51.45492935180664
         ],
         [
          4695987409,
          35.77738571166992,
          51.45386505126953
         ],
         [
          4695987411,
          35.77789306640625,
          51.45381546020508
         ],
         [
          4695987412,
          35.778076171875,
          51.45442199707031
         ],
         [
          4695998341,
          35.77320098876953,
          51.44597244262695
         ],
         [
          4695998343,
          35.77362060546875,
          51.44669723510742
         ],
         [
          9652746954,
          35.77452850341797,
          51.447452545166016
         ],
         [
          4695998345,
          35.77458953857422,
          51.44726943969727
         ],
         [
          4695998347,
          35.77620315551758,
          51.44769287109375
         ],
         [
          4695998350,
          35.777366638183594,
          51.44827651977539
         ],
         [
          4695998349,
          35.777252197265625,
          51.44860076904297
         ],
         [
          4695998352,
          35.77758026123047,
          51.4483757019043
         ],
         [
          4695998351,
          35.77766799926758,
          51.44811248779297
         ],
         [
          4695998354,
          35.7779541015625,
          51.44855499267578
         ],
         [
          4695998357,
          35.7787971496582,
          51.448429107666016
         ],
         [
          4696009399,
          35.77138137817383,
          51.4433479309082
         ],
         [
          4696607306,
          35.77976989746094,
          51.46475982666016
         ],
         [
          4696627039,
          35.77986526489258,
          51.46444320678711
         ],
         [
          4696632869,
          35.77928161621094,
          51.46345901489258
         ],
         [
          4696627043,
          35.779396057128906,
          51.4627571105957
         ],
         [
          4696627045,
          35.77973556518555,
          51.46270751953125
         ],
         [
          4696627047,
          35.77992630004883,
          51.46330642700195
         ],
         [
          4696632850,
          35.77967071533203,
          51.46177673339844
         ],
         [
          4696632852,
          35.77991485595703,
          51.46112823486328
         ],
         [
          4696632855,
          35.77988815307617,
          51.46207046508789
         ],
         [
          4696632854,
          35.77976608276367,
          51.4619255065918
         ],
         [
          4696632857,
          35.77960586547852,
          51.46256637573242
         ],
         [
          4696632859,
          35.77943420410156,
          51.462162017822266
         ],
         [
          4696632860,
          35.77943801879883,
          51.46271133422852
         ],
         [
          4696632862,
          35.77912139892578,
          51.46271896362305
         ],
         [
          4696632864,
          35.77901840209961,
          51.462738037109375
         ],
         [
          4696632865,
          35.77911376953125,
          51.46286010742188
         ],
         [
          4696632868,
          35.77861785888672,
          51.46356964111328
         ],
         [
          4696632867,
          35.77842330932617,
          51.463565826416016
         ],
         [
          4696632870,
          35.7790641784668,
          51.46395492553711
         ],
         [
          4696632872,
          35.779327392578125,
          51.4647331237793
         ],
         [
          4696632874,
          35.77938461303711,
          51.464454650878906
         ],
         [
          4698344871,
          35.77268600463867,
          51.44073867797852
         ],
         [
          7288879560,
          35.77273941040039,
          51.44093322753906
         ],
         [
          4698344870,
          35.77273941040039,
          51.44096374511719
         ],
         [
          7288879561,
          35.77271270751953,
          51.44098281860352
         ],
         [
          7288879543,
          35.77428436279297,
          51.44001388549805
         ],
         [
          4698355451,
          35.7742805480957,
          51.440032958984375
         ],
         [
          7288879544,
          35.774288177490234,
          51.44004821777344
         ],
         [
          4698355450,
          35.7744255065918,
          51.44026184082031
         ],
         [
          4698367358,
          35.774322509765625,
          51.440616607666016
         ],
         [
          4698367361,
          35.7746467590332,
          51.441287994384766
         ],
         [
          4698367360,
          35.77445602416992,
          51.44142150878906
         ],
         [
          4698367359,
          35.77437973022461,
          51.44147872924805
         ],
         [
          4698367362,
          35.77473449707031,
          51.44159698486328
         ],
         [
          4698367364,
          35.77537536621094,
          51.44085693359375
         ],
         [
          4698367367,
          35.77519607543945,
          51.44133758544922
         ],
         [
          4698367366,
          35.77521514892578,
          51.44142532348633
         ],
         [
          4698367365,
          35.7752571105957,
          51.44172286987305
         ],
         [
          4698367371,
          35.77589416503906,
          51.44060134887695
         ],
         [
          4698380170,
          35.777156829833984,
          51.44271087646485
         ],
         [
          4698380168,
          35.777076721191406,
          51.44272232055664
         ],
         [
          4698380171,
          35.775840759277344,
          51.44289779663086
         ],
         [
          4698380173,
          35.776100158691406,
          51.44172286987305
         ],
         [
          4698380175,
          35.77658462524414,
          51.44255447387695
         ],
         [
          4698380178,
          35.77569961547852,
          51.44102096557617
         ],
         [
          4698380179,
          35.77582931518555,
          51.44132614135742
         ],
         [
          4698380177,
          35.775917053222656,
          51.441551208496094
         ],
         [
          4698380167,
          35.77564239501953,
          51.443946838378906
         ],
         [
          4698380182,
          35.77568435668945,
          51.44362258911133
         ],
         [
          4698380183,
          35.77634048461914,
          51.44312286376953
         ],
         [
          4698380290,
          35.776458740234375,
          51.44352340698242
         ],
         [
          4698380292,
          35.77523422241211,
          51.44303512573242
         ],
         [
          4698380291,
          35.774566650390625,
          51.44322204589844
         ],
         [
          4698380294,
          35.774925231933594,
          51.44285202026367
         ],
         [
          4698380293,
          35.77489471435547,
          51.44272232055664
         ],
         [
          4698380296,
          35.77531433105469,
          51.4427490234375
         ],
         [
          4513930737,
          35.77448654174805,
          51.442970275878906
         ],
         [
          4698380298,
          35.7752571105957,
          51.44248962402344
         ],
         [
          4698380297,
          35.77536392211914,
          51.4429931640625
         ],
         [
          4698380300,
          35.77446746826172,
          51.441890716552734
         ],
         [
          4698380299,
          35.77455520629883,
          51.44219970703125
         ],
         [
          4698380303,
          35.77476119995117,
          51.441673278808594
         ],
         [
          7288874073,
          35.774871826171875,
          51.44203186035156
         ],
         [
          4698380302,
          35.774871826171875,
          51.44207000732422
         ],
         [
          7288874074,
          35.77484893798828,
          51.44209289550781
         ],
         [
          4698380305,
          35.77446746826172,
          51.44174575805664
         ],
         [
          7288879556,
          35.77374649047852,
          51.44077301025391
         ],
         [
          4698381180,
          35.77374649047852,
          51.44073867797852
         ],
         [
          7288879555,
          35.77375793457031,
          51.44071578979492
         ],
         [
          4698381179,
          35.77391815185547,
          51.44062042236328
         ],
         [
          4698385295,
          35.77408218383789,
          51.444637298583984
         ],
         [
          9307444638,
          35.774452209472656,
          51.44486999511719
         ],
         [
          4548912088,
          35.77395248413086,
          51.445098876953125
         ],
         [
          4698385297,
          35.773895263671875,
          51.44521713256836
         ],
         [
          4698385299,
          35.7733039855957,
          51.44501876831055
         ],
         [
          9652746948,
          35.77375030517578,
          51.444705963134766
         ],
         [
          4698385301,
          35.77383041381836,
          51.44501495361328
         ],
         [
          4698385303,
          35.77303695678711,
          51.4443244934082
         ],
         [
          4698385307,
          35.773292541503906,
          51.4439697265625
         ],
         [
          4698502248,
          35.77739334106445,
          51.44368362426758
         ],
         [
          4698502250,
          35.777278900146484,
          51.44403839111328
         ],
         [
          4698502253,
          35.77720642089844,
          51.44459533691406
         ],
         [
          4698502255,
          35.77726364135742,
          51.4442253112793
         ],
         [
          4698502254,
          35.77714920043945,
          51.44497299194336
         ],
         [
          4698502270,
          35.777099609375,
          51.445926666259766
         ],
         [
          4698502258,
          35.777099609375,
          51.4453353881836
         ],
         [
          4698502257,
          35.77708053588867,
          51.44540023803711
         ],
         [
          4698502259,
          35.7763671875,
          51.4453239440918
         ],
         [
          4698502261,
          35.77605056762695,
          51.44422149658203
         ],
         [
          4698502263,
          35.77599334716797,
          51.444637298583984
         ],
         [
          4698502265,
          35.776145935058594,
          51.44390869140625
         ],
         [
          4698502267,
          35.77580261230469,
          51.44591522216797
         ],
         [
          4551688587,
          35.77506637573242,
          51.44585800170898
         ],
         [
          4698502275,
          35.77821350097656,
          51.44352340698242
         ],
         [
          4698502274,
          35.77800750732422,
          51.44424819946289
         ],
         [
          4698502273,
          35.777687072753906,
          51.445072174072266
         ],
         [
          4698502272,
          35.77754592895508,
          51.44538497924805
         ],
         [
          4698510530,
          35.77740859985352,
          51.44558334350586
         ],
         [
          4698502271,
          35.77724838256836,
          51.4458122253418
         ],
         [
          4698510532,
          35.7767448425293,
          51.44625854492188
         ],
         [
          423821073,
          35.776641845703125,
          51.44635391235352
         ],
         [
          4698502269,
          35.776485443115234,
          51.44627380371094
         ],
         [
          7606040476,
          35.77518844604492,
          51.44621658325195
         ],
         [
          4698502278,
          35.77581024169922,
          51.44623565673828
         ],
         [
          4698502281,
          35.77555847167969,
          51.44555282592773
         ],
         [
          4698502280,
          35.77555084228516,
          51.44575119018555
         ],
         [
          4698502279,
          35.775020599365234,
          51.44572448730469
         ],
         [
          4698502283,
          35.77555847167969,
          51.445125579833984
         ],
         [
          4513930730,
          35.77500534057617,
          51.445091247558594
         ],
         [
          4698502284,
          35.77571487426758,
          51.44514465332031
         ],
         [
          4698502282,
          35.775569915771484,
          51.444602966308594
         ],
         [
          4698502288,
          35.77570724487305,
          51.44407653808594
         ],
         [
          4698502286,
          35.77568817138672,
          51.44439697265625
         ],
         [
          4698502289,
          35.77587127685547,
          51.444461822509766
         ],
         [
          4698504525,
          35.77730941772461,
          51.44388961791992
         ],
         [
          4698504524,
          35.77726364135742,
          51.44413375854492
         ],
         [
          4698510522,
          35.77783966064453,
          51.44681930541992
         ],
         [
          4698510521,
          35.77762222290039,
          51.446739196777344
         ],
         [
          4698510527,
          35.77843475341797,
          51.445091247558594
         ],
         [
          4698510526,
          35.77790451049805,
          51.44511032104492
         ],
         [
          4698510525,
          35.77783203125,
          51.445068359375
         ],
         [
          4551688589,
          35.77793884277344,
          51.44636535644531
         ],
         [
          4698510531,
          35.77774810791016,
          51.445762634277344
         ],
         [
          4698510534,
          35.7773323059082,
          51.4466552734375
         ],
         [
          4698510533,
          35.77714920043945,
          51.446537017822266
         ],
         [
          4698510536,
          35.77742385864258,
          51.44590759277344
         ],
         [
          4698510535,
          35.77703094482422,
          51.446815490722656
         ],
         [
          4698510528,
          35.77760696411133,
          51.44599533081055
         ],
         [
          4698510537,
          35.777252197265625,
          51.44685363769531
         ],
         [
          4698510539,
          35.77692413330078,
          51.44679641723633
         ],
         [
          4698510543,
          35.77726745605469,
          51.44693756103516
         ],
         [
          4698510545,
          35.77674102783203,
          51.44662857055664
         ],
         [
          4698510546,
          35.7765007019043,
          51.44659423828125
         ],
         [
          9577103234,
          35.779239654541016,
          51.44654846191406
         ],
         [
          4698523055,
          35.77873992919922,
          51.44644927978516
         ],
         [
          4698523035,
          35.77894973754883,
          51.44671630859375
         ],
         [
          4698523038,
          35.77880096435547,
          51.44718933105469
         ],
         [
          4698523037,
          35.77888488769531,
          51.44723129272461
         ],
         [
          4493669622,
          35.778663635253906,
          51.44694900512695
         ],
         [
          4698523041,
          35.77860641479492,
          51.44711685180664
         ],
         [
          4698523042,
          35.77892303466797,
          51.4475212097168
         ],
         [
          4698523044,
          35.77858352661133,
          51.44612121582031
         ],
         [
          4698523047,
          35.77852249145508,
          51.44629287719727
         ],
         [
          4698523048,
          35.7784309387207,
          51.44650268554688
         ],
         [
          4698523046,
          35.77832794189453,
          51.4466667175293
         ],
         [
          4698523054,
          35.77862930297852,
          51.44664001464844
         ],
         [
          4698523052,
          35.77839279174805,
          51.44701766967773
         ],
         [
          4698523051,
          35.778160095214844,
          51.44684982299805
         ],
         [
          4698523050,
          35.77806091308594,
          51.44696807861328
         ],
         [
          4493669620,
          35.77848434448242,
          51.44684982299805
         ],
         [
          4698523049,
          35.77843475341797,
          51.44694137573242
         ],
         [
          4698523053,
          35.77833557128906,
          51.44712448120117
         ],
         [
          4698523056,
          35.77891540527344,
          51.44602584838867
         ],
         [
          4698523059,
          35.778526306152344,
          51.447364807128906
         ],
         [
          4698523060,
          35.77827072143555,
          51.447547912597656
         ],
         [
          4698523062,
          35.778018951416016,
          51.447208404541016
         ],
         [
          4698523065,
          35.7784309387207,
          51.4459114074707
         ],
         [
          4698523064,
          35.77832794189453,
          51.44621658325195
         ],
         [
          4698536183,
          35.77956008911133,
          51.452247619628906
         ],
         [
          4698536182,
          35.77958679199219,
          51.45251083374024
         ],
         [
          4698544217,
          35.77878189086914,
          51.45644378662109
         ],
         [
          4698544219,
          35.77857971191406,
          51.45587921142578
         ],
         [
          4698544221,
          35.77882385253906,
          51.45551300048828
         ],
         [
          4698546823,
          35.77950668334961,
          51.45816040039063
         ],
         [
          4698557147,
          35.77621841430664,
          51.46074295043945
         ],
         [
          4698557149,
          35.7791862487793,
          51.460693359375
         ],
         [
          4698557151,
          35.77946472167969,
          51.45949172973633
         ],
         [
          4698557153,
          35.77915573120117,
          51.460548400878906
         ],
         [
          4698557155,
          35.77851486206055,
          51.45904159545898
         ],
         [
          4698557158,
          35.77790069580078,
          51.45856857299805
         ],
         [
          4698557161,
          35.77829360961914,
          51.457740783691406
         ],
         [
          4698557162,
          35.77919006347656,
          51.45841979980469
         ],
         [
          4698557164,
          35.77878189086914,
          51.45722198486328
         ],
         [
          4698557166,
          35.77908706665039,
          51.45750045776367
         ],
         [
          4698562495,
          35.77936553955078,
          51.46540451049805
         ],
         [
          4698562497,
          35.778038024902344,
          51.46297454833984
         ],
         [
          4705330046,
          35.778079986572266,
          51.44223785400391
         ],
         [
          4705330050,
          35.777496337890625,
          51.44176864624024
         ],
         [
          4705330052,
          35.77828598022461,
          51.44041442871094
         ],
         [
          4705330053,
          35.7778434753418,
          51.44092178344727
         ],
         [
          4705330055,
          35.7779426574707,
          51.44033432006836
         ],
         [
          4705330054,
          35.77786636352539,
          51.440650939941406
         ],
         [
          4705330058,
          35.776912689208984,
          51.44112014770508
         ],
         [
          5481054972,
          35.77997589111328,
          51.44981384277344
         ],
         [
          30772668,
          35.77994537353516,
          51.449668884277344
         ],
         [
          1725215797,
          35.779869079589844,
          51.4412727355957
         ],
         [
          6312836312,
          35.779842376708984,
          51.44173431396485
         ],
         [
          4705343058,
          35.77980422973633,
          51.44247055053711
         ],
         [
          4705343064,
          35.77980422973633,
          51.44087600708008
         ],
         [
          4705343063,
          35.77978515625,
          51.44126510620117
         ],
         [
          4705343069,
          35.779903411865234,
          51.44033432006836
         ],
         [
          4705343068,
          35.77972412109375,
          51.44038772583008
         ],
         [
          4705343071,
          35.77977752685547,
          51.44064712524414
         ],
         [
          4705343076,
          35.77946090698242,
          51.4405403137207
         ],
         [
          4705343075,
          35.779483795166016,
          51.44077301025391
         ],
         [
          4705343078,
          35.779136657714844,
          51.44089126586914
         ],
         [
          4705343331,
          35.779083251953125,
          51.44204711914063
         ],
         [
          4705343330,
          35.77909469604492,
          51.44210052490234
         ],
         [
          4705343329,
          35.779563903808594,
          51.442138671875
         ],
         [
          4705343328,
          35.77960205078125,
          51.44171905517578
         ],
         [
          1725215778,
          35.77960205078125,
          51.44124984741211
         ],
         [
          4705365261,
          35.77954864501953,
          51.44230651855469
         ],
         [
          4705365262,
          35.779075622558594,
          51.442230224609375
         ],
         [
          4705365263,
          35.77907943725586,
          51.44176483154297
         ],
         [
          4705388830,
          35.779571533203125,
          51.44367599487305
         ],
         [
          4705388833,
          35.77933883666992,
          51.4431266784668
         ],
         [
          987586345,
          35.7620849609375,
          51.44281005859375
         ],
         [
          4705509289,
          35.76443099975586,
          51.440677642822266
         ],
         [
          4403839382,
          35.76506423950195,
          51.44306945800781
         ],
         [
          4705509290,
          35.764835357666016,
          51.44233322143555
         ],
         [
          4705509291,
          35.76224136352539,
          51.44323348999024
         ],
         [
          4707057901,
          35.76519012451172,
          51.44062805175781
         ],
         [
          4707057900,
          35.765254974365234,
          51.44082260131836
         ],
         [
          10199523987,
          35.76664733886719,
          51.44012069702149
         ],
         [
          4708539711,
          35.766639709472656,
          51.44060897827149
         ],
         [
          4708539713,
          35.76668167114258,
          51.44038391113281
         ],
         [
          2170381511,
          35.76973342895508,
          51.440208435058594
         ],
         [
          429412486,
          35.7672119140625,
          51.45722961425781
         ],
         [
          4711042623,
          35.77750015258789,
          51.44502258300781
         ],
         [
          4711042624,
          35.77775192260742,
          51.44415283203125
         ],
         [
          4752577812,
          35.76651763916016,
          51.4492416381836
         ],
         [
          4752577813,
          35.766563415527344,
          51.44927978515625
         ],
         [
          4752577814,
          35.766624450683594,
          51.44929504394531
         ],
         [
          4752577815,
          35.7667121887207,
          51.449310302734375
         ],
         [
          423815705,
          35.771751403808594,
          51.44431686401367
         ],
         [
          987522525,
          35.772090911865234,
          51.444129943847656
         ],
         [
          423815701,
          35.76890563964844,
          51.44643020629883
         ],
         [
          3405484867,
          35.76927947998047,
          51.44633483886719
         ],
         [
          423815702,
          35.76947021484375,
          51.44621276855469
         ],
         [
          9645503552,
          35.769710540771484,
          51.44595718383789
         ],
         [
          423816751,
          35.76973342895508,
          51.4459342956543
         ],
         [
          4278550131,
          35.762882232666016,
          51.442901611328125
         ],
         [
          2170381717,
          35.76327133178711,
          51.444091796875
         ],
         [
          4813610983,
          35.76283645629883,
          51.462379455566406
         ],
         [
          443319978,
          35.762451171875,
          51.46323776245117
         ],
         [
          4813621598,
          35.763671875,
          51.46541976928711
         ],
         [
          4818292274,
          35.762298583984375,
          51.45822525024414
         ],
         [
          4818292277,
          35.76213073730469,
          51.458438873291016
         ],
         [
          4955340824,
          35.76207733154297,
          51.45856857299805
         ],
         [
          4818292276,
          35.76206588745117,
          51.4586181640625
         ],
         [
          4404038815,
          35.764930725097656,
          51.44099044799805
         ],
         [
          4955340825,
          35.7620849609375,
          51.45864868164063
         ],
         [
          10882786110,
          35.76829147338867,
          51.45503616333008
         ],
         [
          10882786107,
          35.76802444458008,
          51.45590591430664
         ],
         [
          4998084444,
          35.76344299316406,
          51.45536422729492
         ],
         [
          1864300721,
          35.763771057128906,
          51.45452880859375
         ],
         [
          3405485396,
          35.76387023925781,
          51.45428085327149
         ],
         [
          1725215771,
          35.779415130615234,
          51.4454460144043
         ],
         [
          423821169,
          35.779510498046875,
          51.44633102416992
         ],
         [
          5371311601,
          35.77958679199219,
          51.44710540771485
         ],
         [
          5481054973,
          35.779876708984375,
          51.44943618774414
         ],
         [
          355617111,
          35.77989959716797,
          51.44956588745117
         ],
         [
          5254232803,
          35.765411376953125,
          51.451881408691406
         ],
         [
          423793659,
          35.7708740234375,
          51.453224182128906
         ],
         [
          5258869797,
          35.7662467956543,
          51.4501838684082
         ],
         [
          4695666785,
          35.766258239746094,
          51.45016098022461
         ],
         [
          5257384709,
          35.765411376953125,
          51.45183944702149
         ],
         [
          5257384710,
          35.765403747558594,
          51.451805114746094
         ],
         [
          5257384711,
          35.7653923034668,
          51.451759338378906
         ],
         [
          5257384712,
          35.765380859375,
          51.45172119140625
         ],
         [
          5257384713,
          35.76535415649414,
          51.4516830444336
         ],
         [
          5257384714,
          35.76531982421875,
          51.451656341552734
         ],
         [
          5257384715,
          35.76528549194336,
          51.4516487121582
         ],
         [
          5257384716,
          35.7652587890625,
          51.45165252685547
         ],
         [
          5257384717,
          35.765235900878906,
          51.45166015625
         ],
         [
          5257384718,
          35.76520538330078,
          51.45167922973633
         ],
         [
          4374606770,
          35.76227569580078,
          51.457061767578125
         ],
         [
          4698380186,
          35.774757385253906,
          51.44382858276367
         ],
         [
          4513930736,
          35.77477264404297,
          51.443878173828125
         ],
         [
          423815712,
          35.77494430541992,
          51.44443130493164
         ],
         [
          423815713,
          35.775028228759766,
          51.44487762451172
         ],
         [
          423815714,
          35.774959564208984,
          51.44554138183594
         ],
         [
          4551688585,
          35.77519607543945,
          51.44623947143555
         ],
         [
          424055324,
          35.76462936401367,
          51.447113037109375
         ],
         [
          3405484874,
          35.77113723754883,
          51.44303512573242
         ],
         [
          5667400228,
          35.77898025512695,
          51.44969177246094
         ],
         [
          423813744,
          35.779029846191406,
          51.44975662231445
         ],
         [
          1725215788,
          35.77977752685547,
          51.44976806640625
         ],
         [
          5371311600,
          35.77985382080078,
          51.44974136352539
         ],
         [
          6112621133,
          35.7798957824707,
          51.44970703125
         ],
         [
          1725215786,
          35.779808044433594,
          51.44962692260742
         ],
         [
          5371311599,
          35.77974319458008,
          51.449649810791016
         ],
         [
          5667400229,
          35.77903366088867,
          51.44964599609375
         ],
         [
          9357300682,
          35.76639938354492,
          51.4449577331543
         ],
         [
          4695622382,
          35.76637268066406,
          51.444862365722656
         ],
         [
          6638516673,
          35.76554870605469,
          51.44444274902344
         ],
         [
          5726748644,
          35.77454376220703,
          51.4402961730957
         ],
         [
          423813732,
          35.772926330566406,
          51.445220947265625
         ],
         [
          423813734,
          35.77289581298828,
          51.44565582275391
         ],
         [
          8972405557,
          35.762001037597656,
          51.4600944519043
         ],
         [
          6089414134,
          35.779483795166016,
          51.46503829956055
         ],
         [
          6089414135,
          35.77946472167969,
          51.46503448486328
         ],
         [
          6089414136,
          35.779422760009766,
          51.46505355834961
         ],
         [
          6089414137,
          35.77941131591797,
          51.46506881713867
         ],
         [
          6089414138,
          35.77939987182617,
          51.46509552001953
         ],
         [
          6089414123,
          35.77940368652344,
          51.465145111083984
         ],
         [
          6089414124,
          35.779415130615234,
          51.46516799926758
         ],
         [
          6089414125,
          35.77943420410156,
          51.46518707275391
         ],
         [
          6089414130,
          35.77945327758789,
          51.46519470214844
         ],
         [
          6089414131,
          35.779476165771484,
          51.46519470214844
         ],
         [
          6089414132,
          35.77949523925781,
          51.46518707275391
         ],
         [
          6089414133,
          35.77951431274414,
          51.46516799926758
         ],
         [
          6089414140,
          35.77952575683594,
          51.465145111083984
         ],
         [
          6089414126,
          35.7795295715332,
          51.465118408203125
         ],
         [
          6089414127,
          35.77952575683594,
          51.465091705322266
         ],
         [
          6089414128,
          35.779518127441406,
          51.46506881713867
         ],
         [
          6089414129,
          35.779502868652344,
          51.46505355834961
         ],
         [
          10922701618,
          35.77702331542969,
          51.4595832824707
         ],
         [
          10922701619,
          35.777061462402344,
          51.45951461791992
         ],
         [
          10922701617,
          35.77707290649414,
          51.459449768066406
         ],
         [
          4695837556,
          35.7681999206543,
          51.44485855102539
         ],
         [
          4698557157,
          35.77800750732422,
          51.458534240722656
         ],
         [
          4955340827,
          35.764892578125,
          51.459075927734375
         ],
         [
          6442059345,
          35.76480865478516,
          51.45903778076172
         ],
         [
          4955340829,
          35.7646598815918,
          51.45908737182617
         ],
         [
          4955340828,
          35.76460266113281,
          51.4591064453125
         ],
         [
          3375288617,
          35.764522552490234,
          51.45909881591797
         ],
         [
          9512328917,
          35.7634391784668,
          51.45846939086914
         ],
         [
          423793591,
          35.77287292480469,
          51.46209716796875
         ],
         [
          4695818000,
          35.76982879638672,
          51.44319915771485
         ],
         [
          4695817999,
          35.76975631713867,
          51.44272994995117
         ],
         [
          9097167169,
          35.76927185058594,
          51.44418716430664
         ],
         [
          6865486378,
          35.769813537597656,
          51.44390106201172
         ],
         [
          6865486382,
          35.769561767578125,
          51.44406509399414
         ],
         [
          4086140997,
          35.76354217529297,
          51.44687271118164
         ],
         [
          4698380188,
          35.77550506591797,
          51.443634033203125
         ],
         [
          4698380187,
          35.775169372558594,
          51.44367980957031
         ],
         [
          7064170065,
          35.770606994628906,
          51.45729446411133
         ],
         [
          7266382969,
          35.76237869262695,
          51.46004867553711
         ],
         [
          9645503551,
          35.76956558227539,
          51.44536209106445
         ],
         [
          7606688919,
          35.768314361572266,
          51.44513320922852
         ],
         [
          7606688922,
          35.767730712890625,
          51.44654083251953
         ],
         [
          443320009,
          35.7623291015625,
          51.463157653808594
         ],
         [
          429412562,
          35.76280212402344,
          51.463844299316406
         ],
         [
          7710025069,
          35.7632942199707,
          51.46566390991211
         ],
         [
          7710025071,
          35.76242446899414,
          51.45993041992188
         ],
         [
          7710025072,
          35.7623291015625,
          51.46017456054688
         ],
         [
          7710509730,
          35.76253128051758,
          51.46588516235352
         ],
         [
          7710509731,
          35.762550354003906,
          51.46567916870117
         ],
         [
          4683436106,
          35.765987396240234,
          51.446815490722656
         ],
         [
          7740418860,
          35.77595901489258,
          51.44316101074219
         ],
         [
          7915981207,
          35.77590560913086,
          51.44618225097656
         ],
         [
          4698502277,
          35.775970458984375,
          51.446048736572266
         ],
         [
          6638516674,
          35.76548385620117,
          51.44458770751953
         ],
         [
          8285436001,
          35.779823303222656,
          51.45949172973633
         ],
         [
          8285436002,
          35.76803207397461,
          51.4478759765625
         ],
         [
          8285436003,
          35.76798629760742,
          51.44802474975586
         ],
         [
          4695666781,
          35.76716232299805,
          51.45000076293945
         ],
         [
          9512321112,
          35.76381301879883,
          51.45546340942383
         ],
         [
          4998084448,
          35.76375961303711,
          51.455448150634766
         ],
         [
          4998084443,
          35.763240814208984,
          51.455299377441406
         ],
         [
          4695567369,
          35.76288604736328,
          51.45112609863281
         ],
         [
          4698380172,
          35.77570343017578,
          51.442115783691406
         ],
         [
          8718482651,
          35.77375411987305,
          51.44610595703125
         ],
         [
          10860195962,
          35.763206481933594,
          51.444129943847656
         ],
         [
          2170381732,
          35.76318359375,
          51.44414520263672
         ],
         [
          2170381651,
          35.764530181884766,
          51.44351577758789
         ],
         [
          10286634512,
          35.766883850097656,
          51.44215393066406
         ],
         [
          4221838195,
          35.767364501953125,
          51.44187545776367
         ],
         [
          4692533041,
          35.76837921142578,
          51.44126510620117
         ],
         [
          4221838194,
          35.76884460449219,
          51.440948486328125
         ],
         [
          4221838192,
          35.769229888916016,
          51.44069290161133
         ],
         [
          4221838191,
          35.769649505615234,
          51.44040298461914
         ],
         [
          4836572838,
          35.769737243652344,
          51.44034194946289
         ],
         [
          4221838190,
          35.770118713378906,
          51.44008255004883
         ],
         [
          9156575441,
          35.76386260986328,
          51.45449066162109
         ],
         [
          9156575443,
          35.76401901245117,
          51.4540901184082
         ],
         [
          9156575444,
          35.763702392578125,
          51.45441055297852
         ],
         [
          9156575445,
          35.76382064819336,
          51.45410537719727
         ],
         [
          423833952,
          35.77599334716797,
          51.46481323242188
         ],
         [
          6084502293,
          35.77423095703125,
          51.46331787109375
         ],
         [
          4836572839,
          35.76968765258789,
          51.44023895263672
         ],
         [
          2170381661,
          35.76906967163086,
          51.4406623840332
         ],
         [
          9767680732,
          35.76789855957031,
          51.44145584106445
         ],
         [
          2170381966,
          35.76774597167969,
          51.44154739379883
         ],
         [
          2170382319,
          35.76742935180664,
          51.44173049926758
         ],
         [
          4692533038,
          35.76688003540039,
          51.442039489746094
         ],
         [
          2170382093,
          35.76670837402344,
          51.44213485717773
         ],
         [
          4561610032,
          35.76466751098633,
          51.44329452514648
         ],
         [
          2170382075,
          35.76449966430664,
          51.443389892578125
         ],
         [
          4695529110,
          35.7640380859375,
          51.44365310668945
         ],
         [
          9512321114,
          35.763240814208984,
          51.456787109375
         ],
         [
          9512321113,
          35.762786865234375,
          51.45796203613281
         ],
         [
          9512328920,
          35.763797760009766,
          51.45756530761719
         ],
         [
          9512328921,
          35.764034271240234,
          51.45697784423828
         ],
         [
          9512328918,
          35.764495849609375,
          51.455814361572266
         ],
         [
          4698510541,
          35.77748107910156,
          51.4469108581543
         ],
         [
          4698510540,
          35.777427673339844,
          51.44688415527344
         ],
         [
          4412258442,
          35.76629638671875,
          51.44794845581055
         ],
         [
          4412258443,
          35.76627731323242,
          51.44805145263672
         ],
         [
          4695611100,
          35.76610565185547,
          51.44843292236328
         ],
         [
          9577103236,
          35.762298583984375,
          51.45417022705078
         ],
         [
          3405485394,
          35.76214599609375,
          51.45426559448242
         ],
         [
          3405484889,
          35.762447357177734,
          51.45418548583984
         ],
         [
          30772621,
          35.76598358154297,
          51.45618438720703
         ],
         [
          6467846742,
          35.764122009277344,
          51.45553970336914
         ],
         [
          4763812260,
          35.76462173461914,
          51.44317626953125
         ],
         [
          9740001182,
          35.77587890625,
          51.44622421264648
         ],
         [
          11158587870,
          35.76791763305664,
          51.441497802734375
         ],
         [
          423793598,
          35.762020111083984,
          51.46004867553711
         ],
         [
          9900349191,
          35.76383590698242,
          51.450714111328125
         ],
         [
          9900349193,
          35.76381301879883,
          51.45075988769531
         ],
         [
          9900349190,
          35.76380157470703,
          51.4508171081543
         ],
         [
          9900349189,
          35.763797760009766,
          51.45087814331055
         ],
         [
          2170388945,
          35.76351547241211,
          51.44223785400391
         ],
         [
          2170388946,
          35.76404571533203,
          51.44196319580078
         ],
         [
          11194352484,
          35.762718200683594,
          51.442420959472656
         ],
         [
          10882786109,
          35.768089294433594,
          51.45592880249024
         ],
         [
          10882786108,
          35.76836013793945,
          51.455055236816406
         ],
         [
          10922701611,
          35.77692413330078,
          51.45952987670898
         ],
         [
          10922701608,
          35.77693176269531,
          51.4595832824707
         ],
         [
          10922701607,
          35.77694320678711,
          51.45961380004883
         ],
         [
          10922701615,
          35.77702713012695,
          51.45940399169922
         ],
         [
          10922701614,
          35.777000427246094,
          51.45944213867188
         ],
         [
          10922701616,
          35.776973724365234,
          51.45948028564453
         ],
         [
          10922701613,
          35.7768440246582,
          51.45956039428711
         ],
         [
          10922701609,
          35.776790618896484,
          51.45957565307617
         ],
         [
          10922701612,
          35.77677154541016,
          51.45958709716797
         ],
         [
          10922701610,
          35.77676010131836,
          51.4596061706543
         ],
         [
          6757664503,
          35.762359619140625,
          51.448612213134766
         ],
         [
          11158587867,
          35.76328659057617,
          51.44427490234375
         ],
         [
          11158587869,
          35.76329040527344,
          51.44425201416016
         ],
         [
          11158587868,
          35.7632942199707,
          51.44423294067383
         ],
         [
          11194352478,
          35.76487350463867,
          51.44083023071289
         ],
         [
          11194352483,
          35.76276397705078,
          51.44255447387695
         ]
        ],
        "index": [
         0,
         1,
         2,
         3,
         4,
         5,
         6,
         7,
         8,
         9,
         10,
         11,
         12,
         13,
         14,
         15,
         16,
         17,
         18,
         19,
         20,
         21,
         22,
         23,
         24,
         25,
         26,
         27,
         28,
         29,
         30,
         31,
         32,
         33,
         34,
         35,
         36,
         37,
         38,
         39,
         40,
         41,
         42,
         43,
         44,
         45,
         46,
         47,
         48,
         49,
         50,
         51,
         52,
         53,
         54,
         55,
         56,
         57,
         58,
         59,
         60,
         61,
         62,
         63,
         64,
         65,
         66,
         67,
         68,
         69,
         70,
         71,
         72,
         73,
         74,
         75,
         76,
         77,
         78,
         79,
         80,
         81,
         82,
         83,
         84,
         85,
         86,
         87,
         88,
         89,
         90,
         91,
         92,
         93,
         94,
         95,
         96,
         97,
         98,
         99,
         100,
         101,
         102,
         103,
         104,
         105,
         106,
         107,
         108,
         109,
         110,
         111,
         112,
         113,
         114,
         115,
         116,
         117,
         118,
         119,
         120,
         121,
         122,
         123,
         124,
         125,
         126,
         127,
         128,
         129,
         130,
         131,
         132,
         133,
         134,
         135,
         136,
         137,
         138,
         139,
         140,
         141,
         142,
         143,
         144,
         145,
         146,
         147,
         148,
         149,
         150,
         151,
         152,
         153,
         154,
         155,
         156,
         157,
         158,
         159,
         160,
         161,
         162,
         163,
         164,
         165,
         166,
         167,
         168,
         169,
         170,
         171,
         172,
         173,
         174,
         175,
         176,
         177,
         178,
         179,
         180,
         181,
         182,
         183,
         184,
         185,
         186,
         187,
         188,
         189,
         190,
         191,
         192,
         193,
         194,
         195,
         196,
         197,
         198,
         199,
         200,
         201,
         202,
         203,
         204,
         205,
         206,
         207,
         208,
         209,
         210,
         211,
         212,
         213,
         214,
         215,
         216,
         217,
         218,
         219,
         220,
         221,
         222,
         223,
         224,
         225,
         226,
         227,
         228,
         229,
         230,
         231,
         232,
         233,
         234,
         235,
         236,
         237,
         238,
         239,
         240,
         241,
         242,
         243,
         244,
         245,
         246,
         247,
         248,
         249,
         250,
         251,
         252,
         253,
         254,
         255,
         256,
         257,
         258,
         259,
         260,
         261,
         262,
         263,
         264,
         265,
         266,
         267,
         268,
         269,
         270,
         271,
         272,
         273,
         274,
         275,
         276,
         277,
         278,
         279,
         280,
         281,
         282,
         283,
         284,
         285,
         286,
         287,
         288,
         289,
         290,
         291,
         292,
         293,
         294,
         295,
         296,
         297,
         298,
         299,
         300,
         301,
         302,
         303,
         304,
         305,
         306,
         307,
         308,
         309,
         310,
         311,
         312,
         313,
         314,
         315,
         316,
         317,
         318,
         319,
         320,
         321,
         322,
         323,
         324,
         325,
         326,
         327,
         328,
         329,
         330,
         331,
         332,
         333,
         334,
         335,
         336,
         337,
         338,
         339,
         340,
         341,
         342,
         343,
         344,
         345,
         346,
         347,
         348,
         349,
         350,
         351,
         352,
         353,
         354,
         355,
         356,
         357,
         358,
         359,
         360,
         361,
         362,
         363,
         364,
         365,
         366,
         367,
         368,
         369,
         370,
         371,
         372,
         373,
         374,
         375,
         376,
         377,
         378,
         379,
         380,
         381,
         382,
         383,
         384,
         385,
         386,
         387,
         388,
         389,
         390,
         391,
         392,
         393,
         394,
         395,
         396,
         397,
         398,
         399,
         400,
         401,
         402,
         403,
         404,
         405,
         406,
         407,
         408,
         409,
         410,
         411,
         412,
         413,
         414,
         415,
         416,
         417,
         418,
         419,
         420,
         421,
         422,
         423,
         424,
         425,
         426,
         427,
         428,
         429,
         430,
         431,
         432,
         433,
         434,
         435,
         436,
         437,
         438,
         439,
         440,
         441,
         442,
         443,
         444,
         445,
         446,
         447,
         448,
         449,
         450,
         451,
         452,
         453,
         454,
         455,
         456,
         457,
         458,
         459,
         460,
         461,
         462,
         463,
         464,
         465,
         466,
         467,
         468,
         469,
         470,
         471,
         472,
         473,
         474,
         475,
         476,
         477,
         478,
         479,
         480,
         481,
         482,
         483,
         484,
         485,
         486,
         487,
         488,
         489,
         490,
         491,
         492,
         493,
         494,
         495,
         496,
         497,
         498,
         499,
         500,
         501,
         502,
         503,
         504,
         505,
         506,
         507,
         508,
         509,
         510,
         511,
         512,
         513,
         514,
         515,
         516,
         517,
         518,
         519,
         520,
         521,
         522,
         523,
         524,
         525,
         526,
         527,
         528,
         529,
         530,
         531,
         532,
         533,
         534,
         535,
         536,
         537,
         538,
         539,
         540,
         541,
         542,
         543,
         544,
         545,
         546,
         547,
         548,
         549,
         550,
         551,
         552,
         553,
         554,
         555,
         556,
         557,
         558,
         559,
         560,
         561,
         562,
         563,
         564,
         565,
         566,
         567,
         568,
         569,
         570,
         571,
         572,
         573,
         574,
         575,
         576,
         577,
         578,
         579,
         580,
         581,
         582,
         583,
         584,
         585,
         586,
         587,
         588,
         589,
         590,
         591,
         592,
         593,
         594,
         595,
         596,
         597,
         598,
         599,
         600,
         601,
         602,
         603,
         604,
         605,
         606,
         607,
         608,
         609,
         610,
         611,
         612,
         613,
         614,
         615,
         616,
         617,
         618,
         619,
         620,
         621,
         622,
         623,
         624,
         625,
         626,
         627,
         628,
         629,
         630,
         631,
         632,
         633,
         634,
         635,
         636,
         637,
         638,
         639,
         640,
         641,
         642,
         643,
         644,
         645,
         646,
         647,
         648,
         649,
         650,
         651,
         652,
         653,
         654,
         655,
         656,
         657,
         658,
         659,
         660,
         661,
         662,
         663,
         664,
         665,
         666,
         667,
         668,
         669,
         670,
         671,
         672,
         673,
         674,
         675,
         676,
         677,
         678,
         679,
         680,
         681,
         682,
         683,
         684,
         685,
         686,
         687,
         688,
         689,
         690,
         691,
         692,
         693,
         694,
         695,
         696,
         697,
         698,
         699,
         700,
         701,
         702,
         703,
         704,
         705,
         706,
         707,
         708,
         709,
         710,
         711,
         712,
         713,
         714,
         715,
         716,
         717,
         718,
         719,
         720,
         721,
         722,
         723,
         724,
         725,
         726,
         727,
         728,
         729,
         730,
         731,
         732,
         733,
         734,
         735,
         736,
         737,
         738,
         739,
         740,
         741,
         742,
         743,
         744,
         745,
         746,
         747,
         748,
         749,
         750,
         751,
         752,
         753,
         754,
         755,
         756,
         757,
         758,
         759,
         760,
         761,
         762,
         763,
         764,
         765,
         766,
         767,
         768,
         769,
         770,
         771,
         772,
         773,
         774,
         775,
         776,
         777,
         778,
         779,
         780,
         781,
         782,
         783,
         784,
         785,
         786,
         787,
         788,
         789,
         790,
         791,
         792,
         793,
         794,
         795,
         796,
         797,
         798,
         799,
         800,
         801,
         802,
         803,
         804,
         805,
         806,
         807,
         808,
         809,
         810,
         811,
         812,
         813,
         814,
         815,
         816,
         817,
         818,
         819,
         820,
         821,
         822,
         823,
         824,
         825,
         826,
         827,
         828,
         829,
         830,
         831,
         832,
         833,
         834,
         835,
         836,
         837,
         838,
         839,
         840,
         841,
         842,
         843,
         844,
         845,
         846,
         847,
         848,
         849,
         850,
         851,
         852,
         853,
         854,
         855,
         856,
         857,
         858,
         859,
         860,
         861,
         862,
         863,
         864,
         865,
         866,
         867,
         868,
         869,
         870,
         871,
         872,
         873,
         874,
         875,
         876,
         877,
         878,
         879,
         880,
         881,
         882,
         883,
         884,
         885,
         886,
         887,
         888,
         889,
         890,
         891,
         892,
         893,
         894,
         895,
         896,
         897,
         898,
         899,
         900,
         901,
         902,
         903,
         904,
         905,
         906,
         907,
         908,
         909,
         910,
         911,
         912,
         913,
         914,
         915,
         916,
         917,
         918,
         919,
         920,
         921,
         922,
         923,
         924,
         925,
         926,
         927,
         928,
         929,
         930,
         931,
         932,
         933,
         934,
         935,
         936,
         937,
         938,
         939,
         940,
         941,
         942,
         943,
         944,
         945,
         946,
         947,
         948,
         949,
         950,
         951,
         952,
         953,
         954,
         955,
         956,
         957,
         958,
         959,
         960,
         961,
         962,
         963,
         964,
         965,
         966,
         967,
         968,
         969,
         970,
         971,
         972,
         973,
         974,
         975,
         976,
         977,
         978,
         979,
         980,
         981,
         982,
         983,
         984,
         985,
         986,
         987,
         988,
         989,
         990,
         991,
         992,
         993,
         994,
         995,
         996,
         997,
         998,
         999,
         1000,
         1001,
         1002,
         1003,
         1004,
         1005,
         1006,
         1007,
         1008,
         1009,
         1010,
         1011,
         1012,
         1013,
         1014,
         1015,
         1016,
         1017,
         1018,
         1019,
         1020,
         1021,
         1022,
         1023,
         1024,
         1025,
         1026,
         1027,
         1028,
         1029,
         1030,
         1031,
         1032,
         1033,
         1034,
         1035,
         1036,
         1037,
         1038,
         1039,
         1040,
         1041,
         1042,
         1043,
         1044,
         1045,
         1046,
         1047,
         1048,
         1049,
         1050,
         1051,
         1052,
         1053,
         1054,
         1055,
         1056,
         1057,
         1058,
         1059,
         1060,
         1061,
         1062,
         1063,
         1064,
         1065,
         1066,
         1067,
         1068,
         1069,
         1070,
         1071,
         1072,
         1073,
         1074,
         1075,
         1076,
         1077,
         1078,
         1079,
         1080,
         1081,
         1082,
         1083,
         1084,
         1085,
         1086,
         1087,
         1088,
         1089,
         1090,
         1091,
         1092,
         1093,
         1094,
         1095,
         1096,
         1097,
         1098,
         1099,
         1100,
         1101,
         1102,
         1103,
         1104,
         1105,
         1106,
         1107,
         1108,
         1109,
         1110,
         1111,
         1112,
         1113,
         1114,
         1115,
         1116,
         1117,
         1118,
         1119,
         1120,
         1121,
         1122,
         1123,
         1124,
         1125,
         1126,
         1127,
         1128,
         1129,
         1130,
         1131,
         1132,
         1133,
         1134,
         1135,
         1136,
         1137,
         1138,
         1139,
         1140,
         1141,
         1142,
         1143,
         1144,
         1145,
         1146,
         1147,
         1148,
         1149,
         1150,
         1151,
         1152,
         1153,
         1154,
         1155,
         1156,
         1157,
         1158,
         1159,
         1160,
         1161,
         1162,
         1163,
         1164,
         1165,
         1166,
         1167,
         1168,
         1169,
         1170,
         1171,
         1172,
         1173,
         1174,
         1175,
         1176,
         1177,
         1178,
         1179,
         1180,
         1181,
         1182,
         1183,
         1184,
         1185,
         1186,
         1187,
         1188,
         1189,
         1190,
         1191,
         1192,
         1193,
         1194,
         1195,
         1196,
         1197,
         1198,
         1199,
         1200,
         1201,
         1202,
         1203,
         1204,
         1205,
         1206,
         1207,
         1208,
         1209,
         1210,
         1211,
         1212,
         1213,
         1214,
         1215,
         1216,
         1217,
         1218,
         1219,
         1220,
         1221,
         1222,
         1223,
         1224,
         1225,
         1226,
         1227,
         1228,
         1229,
         1230,
         1231,
         1232,
         1233,
         1234,
         1235,
         1236,
         1237,
         1238,
         1239,
         1240,
         1241,
         1242,
         1243,
         1244,
         1245,
         1246,
         1247,
         1248,
         1249,
         1250,
         1251,
         1252,
         1253,
         1254,
         1255,
         1256,
         1257,
         1258,
         1259,
         1260,
         1261,
         1262,
         1263,
         1264,
         1265,
         1266,
         1267,
         1268,
         1269,
         1270,
         1271,
         1272,
         1273,
         1274,
         1275,
         1276,
         1277,
         1278,
         1279,
         1280,
         1281,
         1282,
         1283,
         1284,
         1285,
         1286,
         1287,
         1288,
         1289,
         1290,
         1291,
         1292,
         1293,
         1294,
         1295,
         1296,
         1297,
         1298,
         1299,
         1300,
         1301,
         1302,
         1303,
         1304,
         1305,
         1306,
         1307,
         1308,
         1309,
         1310,
         1311,
         1312,
         1313,
         1314,
         1315,
         1316,
         1317,
         1318,
         1319,
         1320,
         1321,
         1322,
         1323,
         1324,
         1325,
         1326,
         1327,
         1328,
         1329,
         1330,
         1331,
         1332,
         1333,
         1334,
         1335,
         1336,
         1337,
         1338,
         1339,
         1340,
         1341,
         1342,
         1343,
         1344,
         1345,
         1346,
         1347,
         1348,
         1349,
         1350,
         1351,
         1352,
         1353,
         1354,
         1355,
         1356,
         1357,
         1358,
         1359,
         1360,
         1361,
         1362,
         1363,
         1364,
         1365,
         1366,
         1367,
         1368,
         1369,
         1370,
         1371,
         1372,
         1373,
         1374,
         1375,
         1376,
         1377,
         1378,
         1379,
         1380,
         1381,
         1382,
         1383,
         1384,
         1385,
         1386,
         1387,
         1388,
         1389,
         1390,
         1391,
         1392,
         1393,
         1394,
         1395,
         1396,
         1397,
         1398,
         1399,
         1400,
         1401,
         1402,
         1403,
         1404,
         1405,
         1406,
         1407,
         1408,
         1409,
         1410,
         1411,
         1412,
         1413,
         1414,
         1415,
         1416,
         1417,
         1418,
         1419,
         1420,
         1421,
         1422,
         1423,
         1424,
         1425,
         1426,
         1427,
         1428,
         1429,
         1430,
         1431,
         1432,
         1433,
         1434,
         1435,
         1436,
         1437,
         1438,
         1439,
         1440,
         1441,
         1442,
         1443,
         1444,
         1445,
         1446,
         1447,
         1448,
         1449,
         1450,
         1451,
         1452,
         1453,
         1454,
         1455,
         1456,
         1457,
         1458,
         1459,
         1460,
         1461,
         1462,
         1463,
         1464,
         1465,
         1466,
         1467,
         1468,
         1469,
         1470,
         1471,
         1472,
         1473,
         1474,
         1475,
         1476,
         1477,
         1478,
         1479,
         1480,
         1481,
         1482,
         1483,
         1484,
         1485,
         1486,
         1487,
         1488,
         1489,
         1490,
         1491,
         1492,
         1493,
         1494,
         1495,
         1496,
         1497,
         1498,
         1499,
         1500,
         1501,
         1502,
         1503,
         1504,
         1505,
         1506,
         1507,
         1508,
         1509,
         1510,
         1511,
         1512,
         1513,
         1514,
         1515,
         1516,
         1517,
         1518,
         1519,
         1520,
         1521,
         1522,
         1523,
         1524,
         1525,
         1526,
         1527,
         1528,
         1529,
         1530,
         1531,
         1532,
         1533,
         1534,
         1535,
         1536,
         1537,
         1538,
         1539,
         1540,
         1541,
         1542,
         1543,
         1544,
         1545,
         1546,
         1547,
         1548,
         1549,
         1550,
         1551,
         1552,
         1553,
         1554,
         1555,
         1556,
         1557,
         1558,
         1559,
         1560,
         1561,
         1562,
         1563,
         1564,
         1565,
         1566,
         1567,
         1568,
         1569,
         1570,
         1571,
         1572,
         1573,
         1574,
         1575,
         1576,
         1577,
         1578,
         1579,
         1580,
         1581,
         1582,
         1583,
         1584,
         1585,
         1586,
         1587,
         1588,
         1589,
         1590,
         1591,
         1592,
         1593,
         1594,
         1595,
         1596,
         1597,
         1598,
         1599,
         1600,
         1601,
         1602,
         1603,
         1604
        ]
       }
      },
      "height": 600,
      "layout": "IPY_MODEL_5f7ea6f742424131b45f160fd0781510",
      "value": "Hello World!"
     }
    },
    "b675ba2e139143c3800b8717c7fd44a3": {
     "model_module": "keplergl-jupyter",
     "model_module_version": "^0.3.2",
     "model_name": "KeplerGlModal",
     "state": {
      "_dom_classes": [],
      "_model_module": "keplergl-jupyter",
      "_model_module_version": "^0.3.2",
      "_model_name": "KeplerGlModal",
      "_view_count": null,
      "_view_module": "keplergl-jupyter",
      "_view_module_version": "^0.3.2",
      "_view_name": "KeplerGlView",
      "config": {
       "config": {
        "mapState": {
         "bearing": 0,
         "dragRotate": false,
         "isSplit": false,
         "latitude": 35.77749252319336,
         "longitude": 51.45620918273926,
         "pitch": 0,
         "zoom": 15
        },
        "mapStyle": {
         "mapStyles": {},
         "styleType": "dark",
         "threeDBuildingColor": [
          9.665468314072013,
          17.18305478057247,
          31.1442867897876
         ],
         "topLayerGroups": {},
         "visibleLayerGroups": {
          "3d building": false,
          "border": false,
          "building": true,
          "label": true,
          "land": true,
          "road": true,
          "water": true
         }
        },
        "visState": {
         "animationConfig": {
          "currentTime": null,
          "speed": 1
         },
         "filters": [],
         "interactionConfig": {
          "brush": {
           "enabled": false,
           "size": 0.5
          },
          "coordinate": {
           "enabled": false
          },
          "geocoder": {
           "enabled": false
          },
          "tooltip": {
           "compareMode": false,
           "compareType": "absolute",
           "enabled": true,
           "fieldsToShow": {
            "Tehran": [
             {
              "format": null,
              "name": "id"
             },
             {
              "format": null,
              "name": "timestep"
             }
            ]
           }
          }
         },
         "layerBlending": "normal",
         "layers": [
          {
           "config": {
            "color": [
             18,
             147,
             154
            ],
            "columns": {
             "altitude": null,
             "lat": "lat",
             "lng": "lon"
            },
            "dataId": "Tehran",
            "hidden": false,
            "highlightColor": [
             252,
             242,
             26,
             255
            ],
            "isVisible": true,
            "label": "Point",
            "textLabel": [
             {
              "alignment": "center",
              "anchor": "start",
              "color": [
               255,
               255,
               255
              ],
              "field": null,
              "offset": [
               0,
               0
              ],
              "size": 18
             }
            ],
            "visConfig": {
             "colorRange": {
              "category": "Uber",
              "colors": [
               "#5A1846",
               "#900C3F",
               "#C70039",
               "#E3611C",
               "#F1920E",
               "#FFC300"
              ],
              "name": "Global Warming",
              "type": "sequential"
             },
             "filled": true,
             "fixedRadius": false,
             "opacity": 0.8,
             "outline": false,
             "radius": 10,
             "radiusRange": [
              0,
              50
             ],
             "strokeColor": null,
             "strokeColorRange": {
              "category": "Uber",
              "colors": [
               "#5A1846",
               "#900C3F",
               "#C70039",
               "#E3611C",
               "#F1920E",
               "#FFC300"
              ],
              "name": "Global Warming",
              "type": "sequential"
             },
             "thickness": 2
            }
           },
           "id": "2ti7o68",
           "type": "point",
           "visualChannels": {
            "colorField": {
             "name": "timestep",
             "type": "integer"
            },
            "colorScale": "quantile",
            "sizeField": null,
            "sizeScale": "linear",
            "strokeColorField": null,
            "strokeColorScale": "quantile"
           }
          }
         ],
         "splitMaps": []
        }
       },
       "version": "v1"
      },
      "data": {
       "Tehran": {
        "columns": [
         "id",
         "lat",
         "lon",
         "timestep"
        ],
        "data": [
         [
          423816012,
          35.77511978149414,
          51.447975158691406,
          0
         ],
         [
          4316456851,
          35.775672912597656,
          51.44822311401367,
          1
         ],
         [
          423816018,
          35.7758903503418,
          51.44832229614258,
          2
         ],
         [
          423816019,
          35.77666473388672,
          51.44865417480469,
          3
         ],
         [
          4316456858,
          35.77739715576172,
          51.448997497558594,
          4
         ],
         [
          4695998355,
          35.77775573730469,
          51.449161529541016,
          5
         ],
         [
          4551688565,
          35.778038024902344,
          51.44928741455078,
          6
         ],
         [
          423815693,
          35.77814865112305,
          51.449337005615234,
          7
         ],
         [
          423815694,
          35.77821731567383,
          51.45001220703125,
          8
         ],
         [
          4698536184,
          35.7783088684082,
          51.4509162902832,
          9
         ],
         [
          423815692,
          35.778377532958984,
          51.451622009277344,
          10
         ],
         [
          423815695,
          35.77850341796875,
          51.45269775390625,
          11
         ],
         [
          423832812,
          35.778602600097656,
          51.45394515991211,
          12
         ],
         [
          423832813,
          35.77833938598633,
          51.45499038696289,
          13
         ],
         [
          4698544220,
          35.778263092041016,
          51.45524597167969,
          14
         ],
         [
          4698544218,
          35.77815246582031,
          51.45566940307617,
          15
         ],
         [
          4695975713,
          35.77811813354492,
          51.45580673217773,
          16
         ],
         [
          423793661,
          35.77797317504883,
          51.45635986328125,
          17
         ],
         [
          4695969098,
          35.77781295776367,
          51.45696258544922,
          18
         ],
         [
          806589258,
          35.77766418457031,
          51.45750427246094,
          19
         ],
         [
          1707151175,
          35.777557373046875,
          51.457855224609375,
          20
         ],
         [
          423793624,
          35.7772216796875,
          51.45889663696289,
          21
         ],
         [
          6096557785,
          35.777099609375,
          51.459259033203125,
          22
         ],
         [
          10922701617,
          35.77707290649414,
          51.459449768066406,
          23
         ],
         [
          10922701619,
          35.777061462402344,
          51.45951461791992,
          24
         ],
         [
          10922701618,
          35.77702331542969,
          51.4595832824707,
          25
         ],
         [
          6096557786,
          35.7769660949707,
          51.45964431762695,
          26
         ],
         [
          6434310435,
          35.77764129638672,
          51.45980072021485,
          27
         ],
         [
          423833953,
          35.77739334106445,
          51.460716247558594,
          28
         ],
         [
          2193982049,
          35.77704620361328,
          51.46212005615234,
          29
         ],
         [
          2193982051,
          35.777835845947266,
          51.4624252319336,
          30
         ],
         [
          4698562498,
          35.77814483642578,
          51.46253204345703,
          31
         ],
         [
          2106802321,
          35.77878189086914,
          51.46275329589844,
          32
         ],
         [
          1707151181,
          35.77850341796875,
          51.46335220336914,
          33
         ],
         [
          4696632867,
          35.77842330932617,
          51.463565826416016,
          34
         ],
         [
          4696632868,
          35.77861785888672,
          51.46356964111328,
          35
         ],
         [
          4696632866,
          35.7786865234375,
          51.46432495117188,
          36
         ],
         [
          1707151183,
          35.77883529663086,
          51.46432876586914,
          37
         ],
         [
          4696632871,
          35.779083251953125,
          51.464298248291016,
          38
         ],
         [
          4696627041,
          35.779319763183594,
          51.46427154541016,
          39
         ],
         [
          423832940,
          35.77945327758789,
          51.46425628662109,
          40
         ],
         [
          4696627040,
          35.779808044433594,
          51.46421051025391,
          41
         ],
         [
          4696627039,
          35.77986526489258,
          51.46444320678711,
          42
         ]
        ],
        "index": [
         649,
         648,
         154,
         157,
         647,
         646,
         645,
         140,
         139,
         138,
         137,
         459,
         444,
         460,
         461,
         462,
         463,
         91,
         464,
         465,
         410,
         51,
         466,
         1489,
         1488,
         1487,
         387,
         388,
         244,
         270,
         558,
         559,
         560,
         418,
         1197,
         1196,
         732,
         733,
         734,
         735,
         736,
         737,
         1181
        ]
       }
      },
      "height": 750,
      "layout": "IPY_MODEL_83e91cd1ead941eea9231b5795bb0d38",
      "value": "Hello World!"
     }
    },
    "c04e492c1124480da8861615d65d7e10": {
     "model_module": "keplergl-jupyter",
     "model_module_version": "^0.3.2",
     "model_name": "KeplerGlModal",
     "state": {
      "_dom_classes": [],
      "_model_module": "keplergl-jupyter",
      "_model_module_version": "^0.3.2",
      "_model_name": "KeplerGlModal",
      "_view_count": null,
      "_view_module": "keplergl-jupyter",
      "_view_module_version": "^0.3.2",
      "_view_name": "KeplerGlView",
      "config": {
       "config": {
        "mapState": {
         "bearing": 0,
         "dragRotate": false,
         "isSplit": false,
         "latitude": 35.77750630796185,
         "longitude": 51.45618005404833,
         "pitch": 0,
         "zoom": 15
        },
        "mapStyle": {
         "mapStyles": {},
         "styleType": "dark",
         "threeDBuildingColor": [
          9.665468314072013,
          17.18305478057247,
          31.1442867897876
         ],
         "topLayerGroups": {},
         "visibleLayerGroups": {
          "3d building": false,
          "border": false,
          "building": true,
          "label": true,
          "land": true,
          "road": true,
          "water": true
         }
        },
        "visState": {
         "animationConfig": {
          "currentTime": null,
          "speed": 1
         },
         "filters": [],
         "interactionConfig": {
          "brush": {
           "enabled": false,
           "size": 0.5
          },
          "coordinate": {
           "enabled": false
          },
          "geocoder": {
           "enabled": false
          },
          "tooltip": {
           "compareMode": false,
           "compareType": "absolute",
           "enabled": true,
           "fieldsToShow": {
            "noisy ride": [
             {
              "format": null,
              "name": "timestamp"
             }
            ],
            "ride": [
             {
              "format": null,
              "name": "timestamp"
             }
            ]
           }
          }
         },
         "layerBlending": "normal",
         "layers": [
          {
           "config": {
            "color": [
             18,
             147,
             154
            ],
            "columns": {
             "altitude": null,
             "lat": "lat",
             "lng": "lon"
            },
            "dataId": "ride",
            "hidden": false,
            "highlightColor": [
             252,
             242,
             26,
             255
            ],
            "isVisible": true,
            "label": "Point",
            "textLabel": [
             {
              "alignment": "center",
              "anchor": "start",
              "color": [
               255,
               255,
               255
              ],
              "field": null,
              "offset": [
               0,
               0
              ],
              "size": 18
             }
            ],
            "visConfig": {
             "colorRange": {
              "category": "Uber",
              "colors": [
               "#5A1846",
               "#900C3F",
               "#C70039",
               "#E3611C",
               "#F1920E",
               "#FFC300"
              ],
              "name": "Global Warming",
              "type": "sequential"
             },
             "filled": true,
             "fixedRadius": false,
             "opacity": 0.8,
             "outline": false,
             "radius": 10,
             "radiusRange": [
              0,
              50
             ],
             "strokeColor": null,
             "strokeColorRange": {
              "category": "Uber",
              "colors": [
               "#5A1846",
               "#900C3F",
               "#C70039",
               "#E3611C",
               "#F1920E",
               "#FFC300"
              ],
              "name": "Global Warming",
              "type": "sequential"
             },
             "thickness": 2
            }
           },
           "id": "2yt8as",
           "type": "point",
           "visualChannels": {
            "colorField": {
             "name": "timestamp",
             "type": "integer"
            },
            "colorScale": "quantile",
            "sizeField": null,
            "sizeScale": "linear",
            "strokeColorField": null,
            "strokeColorScale": "quantile"
           }
          },
          {
           "config": {
            "color": [
             221,
             178,
             124
            ],
            "columns": {
             "altitude": null,
             "lat": "lat",
             "lng": "lon"
            },
            "dataId": "noisy ride",
            "hidden": false,
            "highlightColor": [
             252,
             242,
             26,
             255
            ],
            "isVisible": true,
            "label": "Point",
            "textLabel": [
             {
              "alignment": "center",
              "anchor": "start",
              "color": [
               255,
               255,
               255
              ],
              "field": null,
              "offset": [
               0,
               0
              ],
              "size": 18
             }
            ],
            "visConfig": {
             "colorRange": {
              "category": "Uber",
              "colors": [
               "#E6FAFA",
               "#C1E5E6",
               "#9DD0D4",
               "#75BBC1",
               "#4BA7AF",
               "#00939C"
              ],
              "name": "Uber Viz Sequential 4",
              "type": "sequential"
             },
             "filled": true,
             "fixedRadius": false,
             "opacity": 0.8,
             "outline": false,
             "radius": 10,
             "radiusRange": [
              0,
              50
             ],
             "strokeColor": null,
             "strokeColorRange": {
              "category": "Uber",
              "colors": [
               "#5A1846",
               "#900C3F",
               "#C70039",
               "#E3611C",
               "#F1920E",
               "#FFC300"
              ],
              "name": "Global Warming",
              "type": "sequential"
             },
             "thickness": 2
            }
           },
           "id": "car511p",
           "type": "point",
           "visualChannels": {
            "colorField": {
             "name": "timestamp",
             "type": "integer"
            },
            "colorScale": "quantile",
            "sizeField": null,
            "sizeScale": "linear",
            "strokeColorField": null,
            "strokeColorScale": "quantile"
           }
          }
         ],
         "splitMaps": []
        }
       },
       "version": "v1"
      },
      "data": {
       "noisy ride": {
        "columns": [
         "lat",
         "lon",
         "timestamp"
        ],
        "data": [
         [
          35.77514699169896,
          51.44789906928269,
          0
         ],
         [
          35.77552969474985,
          51.4481724386765,
          1
         ],
         [
          35.77626188327401,
          51.448265898442735,
          2
         ],
         [
          35.77664821216571,
          51.44865849697667,
          3
         ],
         [
          35.77716292059348,
          51.448990354912944,
          4
         ],
         [
          35.77754863523946,
          51.44900512620505,
          5
         ],
         [
          35.77809494192361,
          51.44923737277884,
          6
         ],
         [
          35.77820734314032,
          51.45001453247513,
          7
         ],
         [
          35.77819712672191,
          51.450638924653006,
          8
         ],
         [
          35.7782687957531,
          51.45141098687448,
          9
         ],
         [
          35.77855732506071,
          51.452079812236676,
          10
         ],
         [
          35.778453957568146,
          51.45277209592861,
          11
         ],
         [
          35.7786408046229,
          51.45330850046721,
          12
         ],
         [
          35.778567170533265,
          51.45398299500344,
          13
         ],
         [
          35.77839138932321,
          51.45471098850343,
          14
         ],
         [
          35.77836388681733,
          51.45532121200982,
          15
         ],
         [
          35.77807205464409,
          51.455988675413685,
          16
         ],
         [
          35.77795862647058,
          51.45647541139281,
          17
         ],
         [
          35.77774012033086,
          51.457251735229946,
          18
         ],
         [
          35.77760924229262,
          51.4577760989256,
          19
         ],
         [
          35.77730963043205,
          51.458372020453844,
          20
         ],
         [
          35.77729209982392,
          51.4590663214757,
          21
         ],
         [
          35.77695672732465,
          51.45975074028799,
          22
         ],
         [
          35.77750005831688,
          51.45974176568667,
          23
         ],
         [
          35.777375858023746,
          51.46020355023934,
          24
         ],
         [
          35.77745797608453,
          51.46079480976069,
          25
         ],
         [
          35.77728037651272,
          51.46149888601419,
          26
         ],
         [
          35.777041811586614,
          51.46208558758762,
          27
         ],
         [
          35.777459409458295,
          51.46244151089191,
          28
         ],
         [
          35.77809210777584,
          51.46250292145223,
          29
         ],
         [
          35.77866044599018,
          51.46261994601972,
          30
         ],
         [
          35.77861933232267,
          51.463036983666825,
          31
         ],
         [
          35.778551474126196,
          51.46352266077692,
          32
         ],
         [
          35.77857116945852,
          51.464137318075586,
          33
         ],
         [
          35.77916454575912,
          51.464282472775416,
          34
         ],
         [
          35.77968299016909,
          51.46424437748733,
          35
         ],
         [
          35.77989283442956,
          51.464461038813965,
          36
         ]
        ],
        "index": [
         0,
         1,
         2,
         3,
         4,
         5,
         6,
         7,
         8,
         9,
         10,
         11,
         12,
         13,
         14,
         15,
         16,
         17,
         18,
         19,
         20,
         21,
         22,
         23,
         24,
         25,
         26,
         27,
         28,
         29,
         30,
         31,
         32,
         33,
         34,
         35,
         36
        ]
       },
       "ride": {
        "columns": [
         "lat",
         "lon",
         "timestamp"
        ],
        "data": [
         [
          35.77511978149414,
          51.447975158691406,
          0
         ],
         [
          35.77562687681527,
          51.448202477143326,
          1
         ],
         [
          35.776134751337054,
          51.44842703868589,
          2
         ],
         [
          35.776644415291905,
          51.448645466747905,
          3
         ],
         [
          35.777148980419554,
          51.44888116460721,
          4
         ],
         [
          35.77765410690363,
          51.449115038877814,
          5
         ],
         [
          35.778150303268646,
          51.44935325126417,
          6
         ],
         [
          35.77821741592872,
          51.450013197010676,
          7
         ],
         [
          35.77828425072117,
          51.45067318385095,
          8
         ],
         [
          35.778349454025175,
          51.451333414966804,
          9
         ],
         [
          35.778420903306206,
          51.451992618979794,
          10
         ],
         [
          35.778497937147634,
          51.45265091602301,
          11
         ],
         [
          35.778552306259414,
          51.453312597541355,
          12
         ],
         [
          35.77859550058828,
          51.453973352728845,
          13
         ],
         [
          35.778435539939615,
          51.454608563186675,
          14
         ],
         [
          35.778265060883754,
          51.455239376085466,
          15
         ],
         [
          35.778100792399314,
          51.45587290295374,
          16
         ],
         [
          35.77793443218248,
          51.456505611514416,
          17
         ],
         [
          35.77776503374557,
          51.457137079214924,
          18
         ],
         [
          35.7775851263254,
          51.45776403567846,
          19
         ],
         [
          35.77738730928046,
          51.45838281337384,
          20
         ],
         [
          35.777186773992995,
          51.459000263686576,
          21
         ],
         [
          35.7769976906784,
          51.45961061555368,
          22
         ],
         [
          35.77745534268614,
          51.45975764592408,
          23
         ],
         [
          35.77753034783123,
          51.460210380292764,
          24
         ],
         [
          35.77736216850331,
          51.4608423112228,
          25
         ],
         [
          35.77720484849881,
          51.461478512915185,
          26
         ],
         [
          35.77704752514366,
          51.462114712089935,
          27
         ],
         [
          35.77755675652527,
          51.46231737056076,
          28
         ],
         [
          35.778073771395,
          51.46250747769097,
          29
         ],
         [
          35.77859316193116,
          51.46268774893689,
          30
         ],
         [
          35.77861107882759,
          51.463120660037,
          31
         ],
         [
          35.7785554458483,
          51.46356841732618,
          32
         ],
         [
          35.77867099688728,
          51.464154154459735,
          33
         ],
         [
          35.77908541027821,
          51.46429800460987,
          34
         ],
         [
          35.779622521696915,
          51.46423444872278,
          35
         ],
         [
          35.77986526489258,
          51.46444320678711,
          36
         ]
        ],
        "index": [
         0,
         1,
         2,
         3,
         4,
         5,
         6,
         7,
         8,
         9,
         10,
         11,
         12,
         13,
         14,
         15,
         16,
         17,
         18,
         19,
         20,
         21,
         22,
         23,
         24,
         25,
         26,
         27,
         28,
         29,
         30,
         31,
         32,
         33,
         34,
         35,
         36
        ]
       }
      },
      "height": 750,
      "layout": "IPY_MODEL_18f84be8d8e6498fb71542c36295aac0",
      "value": "Hello World!"
     }
    },
    "e1217dcbd89b4d4798e9b4ccf48d2374": {
     "model_module": "@jupyter-widgets/base",
     "model_module_version": "1.2.0",
     "model_name": "LayoutModel",
     "state": {
      "_model_module": "@jupyter-widgets/base",
      "_model_module_version": "1.2.0",
      "_model_name": "LayoutModel",
      "_view_count": null,
      "_view_module": "@jupyter-widgets/base",
      "_view_module_version": "1.2.0",
      "_view_name": "LayoutView",
      "align_content": null,
      "align_items": null,
      "align_self": null,
      "border": null,
      "bottom": null,
      "display": null,
      "flex": null,
      "flex_flow": null,
      "grid_area": null,
      "grid_auto_columns": null,
      "grid_auto_flow": null,
      "grid_auto_rows": null,
      "grid_column": null,
      "grid_gap": null,
      "grid_row": null,
      "grid_template_areas": null,
      "grid_template_columns": null,
      "grid_template_rows": null,
      "height": null,
      "justify_content": null,
      "justify_items": null,
      "left": null,
      "margin": null,
      "max_height": null,
      "max_width": null,
      "min_height": null,
      "min_width": null,
      "object_fit": null,
      "object_position": null,
      "order": null,
      "overflow": null,
      "overflow_x": null,
      "overflow_y": null,
      "padding": null,
      "right": null,
      "top": null,
      "visibility": null,
      "width": null
     }
    },
    "ed4157c1611d497f8e4085c89e9c3196": {
     "model_module": "@jupyter-widgets/base",
     "model_module_version": "1.2.0",
     "model_name": "LayoutModel",
     "state": {
      "_model_module": "@jupyter-widgets/base",
      "_model_module_version": "1.2.0",
      "_model_name": "LayoutModel",
      "_view_count": null,
      "_view_module": "@jupyter-widgets/base",
      "_view_module_version": "1.2.0",
      "_view_name": "LayoutView",
      "align_content": null,
      "align_items": null,
      "align_self": null,
      "border": null,
      "bottom": null,
      "display": null,
      "flex": null,
      "flex_flow": null,
      "grid_area": null,
      "grid_auto_columns": null,
      "grid_auto_flow": null,
      "grid_auto_rows": null,
      "grid_column": null,
      "grid_gap": null,
      "grid_row": null,
      "grid_template_areas": null,
      "grid_template_columns": null,
      "grid_template_rows": null,
      "height": null,
      "justify_content": null,
      "justify_items": null,
      "left": null,
      "margin": null,
      "max_height": null,
      "max_width": null,
      "min_height": null,
      "min_width": null,
      "object_fit": null,
      "object_position": null,
      "order": null,
      "overflow": null,
      "overflow_x": null,
      "overflow_y": null,
      "padding": null,
      "right": null,
      "top": null,
      "visibility": null,
      "width": null
     }
    }
   }
  }
 },
 "nbformat": 4,
 "nbformat_minor": 4
}
